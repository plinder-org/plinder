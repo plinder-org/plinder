{
 "cells": [
  {
   "cell_type": "markdown",
   "id": "57dc35c4-61ab-4f80-aede-059307a58f36",
   "metadata": {},
   "source": [
    "# Dataset tutorial\n",
    "\n",
    "## Getting the data\n",
    "\n",
    ":::{todo}\n",
    "- link the data location\n",
    "- explain what a bucket is\n",
    "- reference installation guide of `gsutil`\n",
    "- give CLI commands for getting the the parquet file\n",
    ":::\n",
    "\n",
    "## Understanding the directory structure\n",
    "\n",
    "The directory downloaded from the bucket has the following structure:\n",
    "\n",
    "```bash\n",
    "2024-04/                     # the \"`plinder` release\" (`PLINDER_RELEASE`)\n",
    "|-- v1                       # the \"`plinder` iteration\" (`PLINDER_ITERATION`)\n",
    "|   |-- clusters             # pre-calculated cluster labels derived from the protein similarity dataset\n",
    "|   |-- dbs                  # TSVs containing the raw files and IDs in the foldseek and mmseqs sub-databases\n",
    "|   |-- entries              # raw annotations prior to consolidation (split by `two_char_code` and zipped)\n",
    "|   |-- fingerprints         # index mapping files for the ligand similarity dataset\n",
    "|   |-- index                # consolidated tabular annotations\n",
    "|   |-- leakage              # leakage results\n",
    "|   |-- ligand_scores        # ligand similarity parquet dataset\n",
    "|   |-- ligands              # ligand data expanded from entries for computing similarity\n",
    "|   |-- mmp                  # MMP and MMS data\n",
    "|   |-- scores               # protein similarity parquet dataset\n",
    "|   |-- splits               # split files and the configs used to generate them (if available)\n",
    "|   |-- systems              # structure files for all systems (split by `two_char_code` and zipped)\n",
    "```\n",
    "\n",
    ":::{todo}\n",
    "- explain most important parts of directory structure\n",
    "- explain split into subdirectories of chunks\n",
    "- mention location of central `.parquet` file\n",
    ":::\n",
    "\n",
    "## Interpreting the table\n",
    "\n",
    ":::{todo}\n",
    "- explain what a parquet file is and link to parquet reference\n",
    "- explain how to open it (pandas and maybe some CLI tool?)\n",
    "- show an excerpt of it (most important columns, e.g. the system name column, must be included)\n",
    "- explain how to to interpret the columns in general\n",
    ":::\n",
    "\n",
    "## Inspecting the entries\n",
    "\n",
    ":::{todo}\n",
    "- transition from system name in table to structure entries\n",
    "- mention where the structure files are\n",
    "- mention available formats\n",
    "- show prominent excerpt of structure file?\n",
    ":::"
   ]
  },
  {
   "cell_type": "code",
   "execution_count": null,
   "id": "b94ae102-a17f-45fa-9819-8e2e39917523",
   "metadata": {},
   "outputs": [],
   "source": [
    "import plinder.core.utils.config\n",
    "\n",
    "cfg = plinder.core.utils.config.get_config()\n",
    "print(f\"\"\"\n",
    "local cache directory: {cfg.data.plinder_dir}\n",
    "remote data directory: {cfg.data.plinder_remote}\n",
    "\"\"\")"
   ]
  }
 ],
 "metadata": {
  "kernelspec": {
   "display_name": "Python 3 (ipykernel)",
   "language": "python",
   "name": "python3"
  },
  "language_info": {
   "codemirror_mode": {
    "name": "ipython",
    "version": 3
   },
   "file_extension": ".py",
   "mimetype": "text/x-python",
   "name": "python",
   "nbconvert_exporter": "python",
   "pygments_lexer": "ipython3",
   "version": "3.9.19"
  }
 },
 "nbformat": 4,
 "nbformat_minor": 5
}
