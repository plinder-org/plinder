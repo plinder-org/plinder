{
 "cells": [
  {
   "cell_type": "markdown",
   "metadata": {},
   "source": [
    "# Structure abstraction"
   ]
  },
  {
   "cell_type": "code",
   "execution_count": 1,
   "metadata": {},
   "outputs": [],
   "source": [
    "from rdkit.Chem.Draw import IPythonConsole\n",
    "\n",
    "IPythonConsole.drawOptions.addAtomIndices = True"
   ]
  },
  {
   "cell_type": "markdown",
   "metadata": {},
   "source": [
    "To enable using systems and linked structure files in training deep learning models, we've implemented a number of useful functions to align, mask, and featurize proteins and ligands.\n",
    "\n",
    "For this, we convert our `PlinderSystem` to a `Structure` object."
   ]
  },
  {
   "cell_type": "code",
   "execution_count": 2,
   "metadata": {},
   "outputs": [
    {
     "name": "stderr",
     "output_type": "stream",
     "text": [
      "2024-11-27 10:09:04,553 | plinder.core.utils.cpl.download_paths:24 | INFO : runtime succeeded: 0.00s\n",
      "2024-11-27 10:09:04,553 | plinder.core.utils.cpl.download_paths:24 | INFO : runtime succeeded: 0.00s\n",
      "2024-11-27 10:09:04,701 | plinder.core.utils.cpl.download_paths:24 | INFO : runtime succeeded: 0.00s\n",
      "2024-11-27 10:09:04,701 | plinder.core.utils.cpl.download_paths:24 | INFO : runtime succeeded: 0.00s\n",
      "2024-11-27 10:09:04,702 | plinder.core.index.utils:148 | INFO : loading entries from 1 zips\n",
      "2024-11-27 10:09:04,708 | plinder.core.index.utils:163 | INFO : loaded 1 entries\n",
      "2024-11-27 10:09:04,708 | plinder.core.index.utils.load_entries:24 | INFO : runtime succeeded: 0.15s\n"
     ]
    }
   ],
   "source": [
    "from plinder.core import PlinderSystem\n",
    "\n",
    "plinder_system = PlinderSystem(system_id=\"4agi__1__1.C__1.W\")\n",
    "\n",
    "system_structure = plinder_system.holo_structure"
   ]
  },
  {
   "cell_type": "markdown",
   "metadata": {},
   "source": [
    "- We list all fields and their `FieldInfo` to show which ones are required. `id`, `protein_path` and `protein_sequence` are required. Everything else is optional.\n",
    "Particularly worth mentioning is the decision to make `list_ligand_sdf_and_input_smiles` optional; this is because ligand will not be availbale in apo and predicted structures.\n",
    "- Out of these field `ligand_mols` and `protein_atom_array` is computed within the object if set to default. \n",
    "- `ligand_mols` returns a chain-mapped dictionary of of the form:\n",
    "    ```\n",
    "    {\n",
    "        \"<instance_id>.<chain_id>\": (\n",
    "            RDKit 2D mol from template SMILES of type `Chem.Mol`,\n",
    "            RDKit mol from template SMILES with random 3D conformer of type `Chem.Mol`,\n",
    "            RDKit mol of solved (holo) ligand structure of type `Chem.Mol`,\n",
    "            paired stacked arrays (template vs holo) mapping atom order by index of type `tuple[NDArray.int_, NDArray.int_]`\n",
    "        )\n",
    "\n",
    "    }\n",
    "    ```\n",
    "- While `protein_atom_array` returns [biotite AtomArray](https://www.biotite-python.org/latest/apidoc/biotite.structure.AtomArray.html) of the receptor protein structure.\n",
    "- `add_ligand_hydrogens` specifies whether to add explicit hydrogens to the ligand input structures\n",
    "- `structure_type`: could be `\"holo\"`, `\"apo\"` or `\"pred\"`"
   ]
  },
  {
   "cell_type": "code",
   "execution_count": 3,
   "metadata": {},
   "outputs": [
    {
     "data": {
      "text/plain": [
       "{'id': FieldInfo(annotation=str, required=True),\n",
       " 'protein_path': FieldInfo(annotation=Path, required=True),\n",
       " 'protein_sequence': FieldInfo(annotation=Union[dict[str, str], NoneType], required=False, default=None),\n",
       " 'ligand_sdfs': FieldInfo(annotation=Union[dict[str, str], NoneType], required=False, default=None),\n",
       " 'ligand_smiles': FieldInfo(annotation=Union[dict[str, str], NoneType], required=False, default=None),\n",
       " 'protein_atom_array': FieldInfo(annotation=Union[AtomArray, NoneType], required=False, default=None),\n",
       " 'ligand_mols': FieldInfo(annotation=Union[dict[str, tuple[Mol, Mol, Mol, tuple[ndarray[Any, dtype[+_ScalarType_co]], ndarray[Any, dtype[+_ScalarType_co]]]]], NoneType], required=False, default=None),\n",
       " 'add_ligand_hydrogens': FieldInfo(annotation=bool, required=False, default=False),\n",
       " 'structure_type': FieldInfo(annotation=str, required=False, default='holo')}"
      ]
     },
     "execution_count": 3,
     "metadata": {},
     "output_type": "execute_result"
    }
   ],
   "source": [
    "system_structure.model_fields"
   ]
  },
  {
   "cell_type": "markdown",
   "metadata": {},
   "source": [
    "## Ligand"
   ]
  },
  {
   "cell_type": "markdown",
   "metadata": {},
   "source": [
    "The ligands are information is provided using dictionaries.\n",
    "\n",
    "These dictionaries contain information for each ligand using chain tag key:\n",
    "- `input_ligand_templates`: 2D RDKit mols generated from the RDKit canonical SMILES\n",
    "- `input_ligand_conformers`: 3D (random) conformers generated for each input mol\n",
    "- `input_ligand_conformers_atom_array`: biotite atom array object for each input mol\n",
    "- `input_ligand_conformers_coords`: positional coordintates for 3D conformers\n",
    "- `resolved_ligand_mols`: RDKit mols of resolved (holo) ligand structures\n",
    "- `resolved_ligand_mols_atom_array`: biotite atom array object for each resolved mol\n",
    "- `resolved_ligand_mols_coords`: positional coordintates for holo ligand structures\n",
    "- `ligand_template2resolved_atom_order_stacks`: paired stacked arrays (template vs holo) mapping atom order by index\n",
    "\n",
    "Additional property provided as an ordered list\n",
    "- `ligand_chain_ordered`: ordered list of all ligands by their chain tag keys"
   ]
  },
  {
   "cell_type": "code",
   "execution_count": 4,
   "metadata": {},
   "outputs": [
    {
     "name": "stdout",
     "output_type": "stream",
     "text": [
      "input_ligand_conformers\n",
      "input_ligand_conformers_atom_array\n",
      "input_ligand_conformers_coords\n",
      "input_ligand_templates\n",
      "ligand_chain_ordered\n",
      "ligand_template2resolved_atom_order_stacks\n",
      "resolved_ligand_mols\n",
      "resolved_ligand_mols_atom_array\n",
      "resolved_ligand_mols_coords\n"
     ]
    }
   ],
   "source": [
    "for name in system_structure.get_properties():\n",
    "    if \"ligand\" in name:\n",
    "        print(name)"
   ]
  },
  {
   "cell_type": "markdown",
   "metadata": {},
   "source": [
    "### Ligand atom id mapping mapping\n",
    "\n",
    "Unlike the protein sequence - there is no canonical order to ligand atoms in the molecule.\n",
    "It can be further complicated by automorphisms present in the structure due to symmetry, i.e. there is more than one match that is possible between the structures.\n",
    "\n",
    "This is important when calculating ligand structure loss, as the most optimal atom order can change between the different inference results. Typically, it is accepted to take the atom ordering resulting in the best objective score and use that for the loss calculation.\n",
    "\n",
    "Occasionally, futher ambiguity arises to to part of the ligand structure being unresolved in the holo structure - this can lead to multiple available matches. We use RascalMCES algorithm from RDKit to provide all the possible matches between the atom order in the input structure (from SMILES) to the resolved holo structure.\n",
    "\n",
    "This is provided as stacks of atom order arrays that reorder the template and holo indices to provide matches. Each stack is a unique order transformation and should be iterated."
   ]
  },
  {
   "cell_type": "code",
   "execution_count": 5,
   "metadata": {},
   "outputs": [
    {
     "data": {
      "image/png": "[encoded data removed]",
      "text/plain": [
       "<rdkit.Chem.rdchem.Mol at 0x1398ce0a0>"
      ]
     },
     "execution_count": 5,
     "metadata": {},
     "output_type": "execute_result"
    }
   ],
   "source": [
    "system_structure.input_ligand_templates[system_structure.ligand_chain_ordered[0]]"
   ]
  },
  {
   "cell_type": "code",
   "execution_count": 6,
   "metadata": {},
   "outputs": [
    {
     "data": {
      "image/png": "[encoded data removed]",
      "text/plain": [
       "<rdkit.Chem.rdchem.Mol at 0x14d366260>"
      ]
     },
     "execution_count": 6,
     "metadata": {},
     "output_type": "execute_result"
    }
   ],
   "source": [
    "system_structure.input_ligand_conformers[system_structure.ligand_chain_ordered[0]]"
   ]
  },
  {
   "cell_type": "code",
   "execution_count": 7,
   "metadata": {},
   "outputs": [
    {
     "data": {
      "image/png": "[encoded data removed]",
      "text/plain": [
       "<rdkit.Chem.rdchem.Mol at 0x1398cf530>"
      ]
     },
     "execution_count": 7,
     "metadata": {},
     "output_type": "execute_result"
    }
   ],
   "source": [
    "system_structure.resolved_ligand_mols[system_structure.ligand_chain_ordered[0]]"
   ]
  },
  {
   "cell_type": "markdown",
   "metadata": {},
   "source": [
    "### Ligand conformer coordinates\n",
    "\n",
    "As you can tell, the input 2D and 3D conformer indices match, but the resolved ligand is different.\n",
    "Thus to perform a correct comparison for their coordinates one should use atom order stacks.\n"
   ]
  },
  {
   "cell_type": "code",
   "execution_count": 8,
   "metadata": {},
   "outputs": [
    {
     "data": {
      "text/plain": [
       "(array([[ 2, 10,  8,  6,  4,  5, 11,  9,  7,  3,  0,  1]]),\n",
       " array([[ 0,  1,  2,  3,  4,  5,  6,  7,  8,  9, 10, 11]]))"
      ]
     },
     "execution_count": 8,
     "metadata": {},
     "output_type": "execute_result"
    }
   ],
   "source": [
    "(\n",
    "    input_atom_order_stack,\n",
    "    holo_atom_order_stack,\n",
    ") = system_structure.ligand_template2resolved_atom_order_stacks[\n",
    "    system_structure.ligand_chain_ordered[0]\n",
    "]\n",
    "input_atom_order_stack, holo_atom_order_stack"
   ]
  },
  {
   "cell_type": "code",
   "execution_count": 9,
   "metadata": {},
   "outputs": [
    {
     "data": {
      "text/plain": [
       "array([[[-0.41258365, -1.47247022,  0.19190594],\n",
       "        [ 1.04999734, -1.31344674,  0.34536287],\n",
       "        [ 1.50924512, -0.06954471,  1.01688023],\n",
       "        [ 0.4414304 ,  1.02662908,  1.03100725],\n",
       "        [-0.3494052 ,  0.75274865, -0.25509704],\n",
       "        [-1.06483789,  1.95295446, -0.7530481 ],\n",
       "        [ 1.71111848, -1.47775582, -0.89392989],\n",
       "        [ 2.00933227, -0.2610022 ,  2.29662695],\n",
       "        [-0.39876476,  0.72847291,  2.10418674],\n",
       "        [-1.13885328, -0.33293265,  0.02358181],\n",
       "        [-2.14780406, -1.84614112, -2.48741362],\n",
       "        [-0.8344732 , -2.66267578, -1.31015471]]])"
      ]
     },
     "execution_count": 9,
     "metadata": {},
     "output_type": "execute_result"
    }
   ],
   "source": [
    "system_structure.input_ligand_conformers_coords[\n",
    "    system_structure.ligand_chain_ordered[0]\n",
    "][input_atom_order_stack]"
   ]
  },
  {
   "cell_type": "code",
   "execution_count": 10,
   "metadata": {},
   "outputs": [
    {
     "data": {
      "text/plain": [
       "array([[[-0.41258365, -1.47247022,  0.19190594],\n",
       "        [ 1.04999734, -1.31344674,  0.34536287],\n",
       "        [ 1.50924512, -0.06954471,  1.01688023],\n",
       "        [ 0.4414304 ,  1.02662908,  1.03100725],\n",
       "        [-0.3494052 ,  0.75274865, -0.25509704],\n",
       "        [-1.06483789,  1.95295446, -0.7530481 ],\n",
       "        [ 1.71111848, -1.47775582, -0.89392989],\n",
       "        [ 2.00933227, -0.2610022 ,  2.29662695],\n",
       "        [-0.39876476,  0.72847291,  2.10418674],\n",
       "        [-1.13885328, -0.33293265,  0.02358181],\n",
       "        [-2.14780406, -1.84614112, -2.48741362],\n",
       "        [-0.8344732 , -2.66267578, -1.31015471]]])"
      ]
     },
     "execution_count": 10,
     "metadata": {},
     "output_type": "execute_result"
    }
   ],
   "source": [
    "system_structure.input_ligand_conformers_coords[\n",
    "    system_structure.ligand_chain_ordered[0]\n",
    "][input_atom_order_stack]"
   ]
  },
  {
   "cell_type": "code",
   "execution_count": 11,
   "metadata": {},
   "outputs": [
    {
     "data": {
      "text/plain": [
       "array([[[48.954, 28.186, 62.068],\n",
       "        [48.681, 29.643, 61.777],\n",
       "        [48.556, 29.933, 60.282],\n",
       "        [47.499, 28.988, 59.699],\n",
       "        [47.948, 27.56 , 59.939],\n",
       "        [46.992, 26.503, 59.374],\n",
       "        [49.72 , 30.41 , 62.383],\n",
       "        [48.255, 31.352, 60.148],\n",
       "        [46.262, 29.193, 60.366],\n",
       "        [48.031, 27.383, 61.339],\n",
       "        [50.647, 25.895, 62.426],\n",
       "        [50.853, 27.716, 61.696]]])"
      ]
     },
     "execution_count": 11,
     "metadata": {},
     "output_type": "execute_result"
    }
   ],
   "source": [
    "system_structure.resolved_ligand_mols_coords[system_structure.ligand_chain_ordered[0]][\n",
    "    holo_atom_order_stack\n",
    "]"
   ]
  },
  {
   "cell_type": "markdown",
   "metadata": {},
   "source": [
    "Similar can be achieved for biotite atom arrays"
   ]
  },
  {
   "cell_type": "code",
   "execution_count": 12,
   "metadata": {},
   "outputs": [
    {
     "data": {
      "text/plain": [
       "array([[Atom(np.array([-0.4126, -1.4725,  0.1919], dtype=float32), chain_id=\"\", res_id=0, ins_code=\"\", res_name=\"\", hetero=False, atom_name=\"\", element=\"C\"),\n",
       "        Atom(np.array([ 1.05  , -1.3134,  0.3454], dtype=float32), chain_id=\"\", res_id=0, ins_code=\"\", res_name=\"\", hetero=False, atom_name=\"\", element=\"C\"),\n",
       "        Atom(np.array([ 1.5092, -0.0695,  1.0169], dtype=float32), chain_id=\"\", res_id=0, ins_code=\"\", res_name=\"\", hetero=False, atom_name=\"\", element=\"C\"),\n",
       "        Atom(np.array([0.4414, 1.0266, 1.031 ], dtype=float32), chain_id=\"\", res_id=0, ins_code=\"\", res_name=\"\", hetero=False, atom_name=\"\", element=\"C\"),\n",
       "        Atom(np.array([-0.3494,  0.7527, -0.2551], dtype=float32), chain_id=\"\", res_id=0, ins_code=\"\", res_name=\"\", hetero=False, atom_name=\"\", element=\"C\"),\n",
       "        Atom(np.array([-1.0648,  1.953 , -0.753 ], dtype=float32), chain_id=\"\", res_id=0, ins_code=\"\", res_name=\"\", hetero=False, atom_name=\"\", element=\"C\"),\n",
       "        Atom(np.array([ 1.7111, -1.4778, -0.8939], dtype=float32), chain_id=\"\", res_id=0, ins_code=\"\", res_name=\"\", hetero=False, atom_name=\"\", element=\"O\"),\n",
       "        Atom(np.array([ 2.0093, -0.261 ,  2.2966], dtype=float32), chain_id=\"\", res_id=0, ins_code=\"\", res_name=\"\", hetero=False, atom_name=\"\", element=\"O\"),\n",
       "        Atom(np.array([-0.3988,  0.7285,  2.1042], dtype=float32), chain_id=\"\", res_id=0, ins_code=\"\", res_name=\"\", hetero=False, atom_name=\"\", element=\"O\"),\n",
       "        Atom(np.array([-1.1389, -0.3329,  0.0236], dtype=float32), chain_id=\"\", res_id=0, ins_code=\"\", res_name=\"\", hetero=False, atom_name=\"\", element=\"O\"),\n",
       "        Atom(np.array([-2.1478, -1.8461, -2.4874], dtype=float32), chain_id=\"\", res_id=0, ins_code=\"\", res_name=\"\", hetero=False, atom_name=\"\", element=\"C\"),\n",
       "        Atom(np.array([-0.8345, -2.6627, -1.3102], dtype=float32), chain_id=\"\", res_id=0, ins_code=\"\", res_name=\"\", hetero=False, atom_name=\"\", element=\"SE\")]],\n",
       "      dtype=object)"
      ]
     },
     "execution_count": 12,
     "metadata": {},
     "output_type": "execute_result"
    }
   ],
   "source": [
    "import numpy as np\n",
    "\n",
    "np.array(\n",
    "    system_structure.input_ligand_conformers_atom_array[\n",
    "        system_structure.ligand_chain_ordered[0]\n",
    "        ]\n",
    ")[input_atom_order_stack]"
   ]
  },
  {
   "cell_type": "markdown",
   "metadata": {},
   "source": [
    "### More complicated examples"
   ]
  },
  {
   "cell_type": "markdown",
   "metadata": {},
   "source": [
    "Symmetry in ligand (automorphism) - two ways of pairwise mapping the atom order of the phtalimide ring"
   ]
  },
  {
   "cell_type": "code",
   "execution_count": 13,
   "metadata": {},
   "outputs": [
    {
     "name": "stderr",
     "output_type": "stream",
     "text": [
      "2024-11-27 10:09:10,130 | plinder.core.utils.cpl.download_paths:24 | INFO : runtime succeeded: 4.57s\n",
      "2024-11-27 10:09:10,284 | plinder.core.utils.cpl.download_paths:24 | INFO : runtime succeeded: 0.15s\n",
      "2024-11-27 10:09:13,717 | plinder.core.utils.cpl.download_paths:24 | INFO : runtime succeeded: 0.58s\n",
      "2024-11-27 10:09:13,820 | plinder.core.utils.cpl.download_paths:24 | INFO : runtime succeeded: 0.10s\n",
      "2024-11-27 10:09:13,821 | plinder.core.index.utils:148 | INFO : loading entries from 1 zips\n",
      "2024-11-27 10:09:13,824 | plinder.core.index.utils:163 | INFO : loaded 1 entries\n",
      "2024-11-27 10:09:13,825 | plinder.core.index.utils.load_entries:24 | INFO : runtime succeeded: 0.83s\n"
     ]
    },
    {
     "data": {
      "image/png": "[encoded data removed]",
      "text/plain": [
       "<rdkit.Chem.rdchem.Mol at 0x14d24f610>"
      ]
     },
     "execution_count": 13,
     "metadata": {},
     "output_type": "execute_result"
    }
   ],
   "source": [
    "structure_with_symmetry_in_ligand = PlinderSystem(\n",
    "    system_id=\"4v2y__1__1.A__1.E\"\n",
    ").holo_structure\n",
    "structure_with_symmetry_in_ligand.input_ligand_templates[\n",
    "    structure_with_symmetry_in_ligand.ligand_chain_ordered[0]\n",
    "]"
   ]
  },
  {
   "cell_type": "code",
   "execution_count": 14,
   "metadata": {},
   "outputs": [
    {
     "data": {
      "image/png": "[encoded data removed]",
      "text/plain": [
       "<rdkit.Chem.rdchem.Mol at 0x14d24e8f0>"
      ]
     },
     "execution_count": 14,
     "metadata": {},
     "output_type": "execute_result"
    }
   ],
   "source": [
    "structure_with_symmetry_in_ligand.resolved_ligand_mols[\n",
    "    structure_with_symmetry_in_ligand.ligand_chain_ordered[0]\n",
    "]"
   ]
  },
  {
   "cell_type": "code",
   "execution_count": 15,
   "metadata": {},
   "outputs": [
    {
     "data": {
      "text/plain": [
       "(array([[17, 16, 18,  1,  0,  2,  3,  4,  5, 10,  9,  8, 13,  7, 15, 12,\n",
       "         11, 14,  6],\n",
       "        [17, 16, 18,  1,  0,  2,  3,  4,  5, 11, 12, 13,  8, 15,  7,  9,\n",
       "         10,  6, 14]]),\n",
       " array([[ 0,  1,  2,  3,  4,  5,  6,  7,  8,  9, 10, 11, 12, 13, 14, 15,\n",
       "         16, 17, 18],\n",
       "        [ 0,  1,  2,  3,  4,  5,  6,  7,  8,  9, 10, 11, 12, 13, 14, 15,\n",
       "         16, 17, 18]]))"
      ]
     },
     "execution_count": 15,
     "metadata": {},
     "output_type": "execute_result"
    }
   ],
   "source": [
    "structure_with_symmetry_in_ligand.ligand_template2resolved_atom_order_stacks[\n",
    "    structure_with_symmetry_in_ligand.ligand_chain_ordered[0]\n",
    "]"
   ]
  },
  {
   "cell_type": "markdown",
   "metadata": {},
   "source": [
    "Symmetry arises due to ligand being partially resolved - there are three template pieces that can be mapped to the resolved ground truth."
   ]
  },
  {
   "cell_type": "code",
   "execution_count": 16,
   "metadata": {},
   "outputs": [
    {
     "name": "stderr",
     "output_type": "stream",
     "text": [
      "2024-11-27 10:09:21,587 | plinder.core.utils.cpl.download_paths:24 | INFO : runtime succeeded: 7.48s\n",
      "2024-11-27 10:09:21,681 | plinder.core.utils.cpl.download_paths:24 | INFO : runtime succeeded: 0.09s\n",
      "2024-11-27 10:09:26,625 | plinder.core.utils.cpl.download_paths:24 | INFO : runtime succeeded: 0.62s\n",
      "2024-11-27 10:09:26,718 | plinder.core.utils.cpl.download_paths:24 | INFO : runtime succeeded: 0.09s\n",
      "2024-11-27 10:09:26,719 | plinder.core.index.utils:148 | INFO : loading entries from 1 zips\n",
      "2024-11-27 10:09:26,721 | plinder.core.index.utils:163 | INFO : loaded 1 entries\n",
      "2024-11-27 10:09:26,721 | plinder.core.index.utils.load_entries:24 | INFO : runtime succeeded: 0.81s\n"
     ]
    },
    {
     "data": {
      "image/png": "[encoded data removed]",
      "text/plain": [
       "<rdkit.Chem.rdchem.Mol at 0x14d24eea0>"
      ]
     },
     "execution_count": 16,
     "metadata": {},
     "output_type": "execute_result"
    }
   ],
   "source": [
    "structure_with_partly_resolved_ligand = PlinderSystem(\n",
    "    system_id=\"1ngx__1__1.A_1.B__1.E\"\n",
    ").holo_structure\n",
    "structure_with_partly_resolved_ligand.input_ligand_templates[\n",
    "    structure_with_partly_resolved_ligand.ligand_chain_ordered[0]\n",
    "]"
   ]
  },
  {
   "cell_type": "code",
   "execution_count": 17,
   "metadata": {},
   "outputs": [
    {
     "data": {
      "image/png": "[encoded data removed]",
      "text/plain": [
       "<rdkit.Chem.rdchem.Mol at 0x14d24f3e0>"
      ]
     },
     "execution_count": 17,
     "metadata": {},
     "output_type": "execute_result"
    }
   ],
   "source": [
    "structure_with_partly_resolved_ligand.resolved_ligand_mols[\n",
    "    structure_with_partly_resolved_ligand.ligand_chain_ordered[0]\n",
    "]"
   ]
  },
  {
   "cell_type": "code",
   "execution_count": 18,
   "metadata": {},
   "outputs": [
    {
     "data": {
      "text/plain": [
       "(array([[ 9, 11, 12, 13, 14, 15, 16, 17, 18, 19, 20, 21, 22, 23, 24, 25,\n",
       "         26, 27, 28, 29, 30, 31, 32, 33, 34, 35, 36, 37],\n",
       "        [ 2,  3,  4,  5,  6,  7,  8,  9, 10, 11, 12, 13, 14, 15, 16, 17,\n",
       "         18, 19, 20, 21, 22, 23, 24, 25, 26, 27, 28, 29],\n",
       "        [ 5,  7,  8,  9, 10, 11, 12, 13, 14, 15, 16, 17, 18, 19, 20, 21,\n",
       "         22, 23, 24, 25, 26, 27, 28, 29, 30, 31, 32, 33]]),\n",
       " array([[ 0,  1,  2,  3,  4,  5,  6,  7,  8,  9, 10, 11, 12, 13, 14, 15,\n",
       "         16, 17, 18, 19, 20, 21, 22, 23, 24, 25, 26, 27],\n",
       "        [ 0,  1,  2,  3,  4,  5,  6,  7,  8,  9, 10, 11, 12, 13, 14, 15,\n",
       "         16, 17, 18, 19, 20, 21, 22, 23, 24, 25, 26, 27],\n",
       "        [ 0,  1,  2,  3,  4,  5,  6,  7,  8,  9, 10, 11, 12, 13, 14, 15,\n",
       "         16, 17, 18, 19, 20, 21, 22, 23, 24, 25, 26, 27]]))"
      ]
     },
     "execution_count": 18,
     "metadata": {},
     "output_type": "execute_result"
    }
   ],
   "source": [
    "structure_with_partly_resolved_ligand.ligand_template2resolved_atom_order_stacks[\n",
    "    structure_with_partly_resolved_ligand.ligand_chain_ordered[0]\n",
    "]"
   ]
  },
  {
   "cell_type": "markdown",
   "metadata": {},
   "source": [
    "## Protein [ WIP ]"
   ]
  },
  {
   "cell_type": "markdown",
   "metadata": {},
   "source": [
    "The protein information is provided with properties.\n",
    "\n",
    "#### General properties:\n",
    "- `protein_chains`: list of all protein chains\n",
    "- `protein_chain_ordered`: ordered list of all protein chains by their chain tag keys\n",
    "- `protein_n_atoms`: total number of atoms in protein structure\n",
    "- `protein_coords`: an array of atomic positions for each protein atom in the structure\n",
    "- `protein_structure_b_factor`: an array of B-factors for each protein atom in the structure\n",
    "- `protein_sequence_from_structure`: residue sequence derived from structure\n",
    "\n",
    "\n",
    "protein_backbone_mask\n",
    "protein_calpha_mask\n",
    "protein_calpha_coords\n",
    "protein_chains\n",
    "protein_coords\n",
    "protein_n_atoms\n",
    "protein_sequence_from_structure\n",
    "protein_structure_b_factor\n",
    "protein_structure_tokenized_sequence\n",
    "protein_unique_atom_names\n",
    "protein_unique_residue_ids\n",
    "protein_unique_residue_names\n",
    "\n",
    "#### Masking\n",
    "\n",
    "The properties `protein_backbone_mask` and `protein_calpha_mask` are boolean masks that can be used to select backbone or calpha atoms from biotite `AtomArray`. The indices of `True` corresponds to backbone or calpha indices.\n"
   ]
  },
  {
   "cell_type": "code",
   "execution_count": 19,
   "metadata": {},
   "outputs": [
    {
     "data": {
      "text/plain": [
       "()"
      ]
     },
     "execution_count": 19,
     "metadata": {},
     "output_type": "execute_result"
    }
   ],
   "source": [
    "np.shape(system_structure.protein_calpha_mask)"
   ]
  },
  {
   "cell_type": "code",
   "execution_count": 24,
   "metadata": {},
   "outputs": [
    {
     "data": {
      "text/plain": [
       "array([[ True,  True,  True],\n",
       "       [ True,  True,  True],\n",
       "       [ True,  True,  True],\n",
       "       [ True,  True,  True],\n",
       "       [ True,  True,  True],\n",
       "       [ True,  True,  True],\n",
       "       [ True,  True,  True],\n",
       "       [ True,  True,  True],\n",
       "       [ True,  True,  True],\n",
       "       [ True,  True,  True],\n",
       "       [ True,  True,  True],\n",
       "       [ True,  True,  True],\n",
       "       [ True,  True,  True],\n",
       "       [ True,  True,  True],\n",
       "       [ True,  True,  True],\n",
       "       [ True,  True,  True],\n",
       "       [ True,  True,  True],\n",
       "       [ True,  True,  True],\n",
       "       [ True,  True,  True],\n",
       "       [ True,  True,  True],\n",
       "       [ True,  True,  True],\n",
       "       [ True,  True,  True],\n",
       "       [ True,  True,  True],\n",
       "       [ True,  True,  True],\n",
       "       [ True,  True,  True],\n",
       "       [ True,  True,  True],\n",
       "       [ True,  True,  True],\n",
       "       [ True,  True,  True],\n",
       "       [ True,  True,  True],\n",
       "       [ True,  True,  True],\n",
       "       [ True,  True,  True],\n",
       "       [ True,  True,  True],\n",
       "       [ True,  True,  True],\n",
       "       [ True,  True,  True],\n",
       "       [ True,  True,  True],\n",
       "       [ True,  True,  True],\n",
       "       [ True,  True,  True],\n",
       "       [ True,  True,  True],\n",
       "       [ True,  True,  True],\n",
       "       [ True,  True,  True],\n",
       "       [ True,  True,  True],\n",
       "       [ True,  True,  True],\n",
       "       [ True,  True,  True],\n",
       "       [ True,  True,  True],\n",
       "       [ True,  True,  True],\n",
       "       [ True,  True,  True],\n",
       "       [ True,  True,  True],\n",
       "       [ True,  True,  True],\n",
       "       [ True,  True,  True],\n",
       "       [ True,  True,  True],\n",
       "       [ True,  True,  True],\n",
       "       [ True,  True,  True],\n",
       "       [ True,  True,  True],\n",
       "       [ True,  True,  True],\n",
       "       [ True,  True,  True],\n",
       "       [ True,  True,  True],\n",
       "       [ True,  True,  True],\n",
       "       [ True,  True,  True],\n",
       "       [ True,  True,  True],\n",
       "       [ True,  True,  True],\n",
       "       [ True,  True,  True],\n",
       "       [ True,  True,  True],\n",
       "       [ True,  True,  True],\n",
       "       [ True,  True,  True],\n",
       "       [ True,  True,  True],\n",
       "       [ True,  True,  True],\n",
       "       [ True,  True,  True],\n",
       "       [ True,  True,  True],\n",
       "       [ True,  True,  True],\n",
       "       [ True,  True,  True],\n",
       "       [ True,  True,  True],\n",
       "       [ True,  True,  True],\n",
       "       [ True,  True,  True],\n",
       "       [ True,  True,  True],\n",
       "       [ True,  True,  True],\n",
       "       [ True,  True,  True],\n",
       "       [ True,  True,  True],\n",
       "       [ True,  True,  True],\n",
       "       [ True,  True,  True],\n",
       "       [ True,  True,  True],\n",
       "       [ True,  True,  True],\n",
       "       [ True,  True,  True],\n",
       "       [ True,  True,  True],\n",
       "       [ True,  True,  True],\n",
       "       [ True,  True,  True],\n",
       "       [ True,  True,  True],\n",
       "       [ True,  True,  True],\n",
       "       [ True,  True,  True],\n",
       "       [ True,  True,  True],\n",
       "       [ True,  True,  True],\n",
       "       [ True,  True,  True],\n",
       "       [ True,  True,  True],\n",
       "       [ True,  True,  True],\n",
       "       [ True,  True,  True],\n",
       "       [ True,  True,  True],\n",
       "       [ True,  True,  True],\n",
       "       [ True,  True,  True],\n",
       "       [ True,  True,  True],\n",
       "       [ True,  True,  True],\n",
       "       [ True,  True,  True],\n",
       "       [ True,  True,  True],\n",
       "       [ True,  True,  True],\n",
       "       [ True,  True,  True],\n",
       "       [ True,  True,  True],\n",
       "       [ True,  True,  True],\n",
       "       [ True,  True,  True],\n",
       "       [ True,  True,  True],\n",
       "       [ True,  True,  True],\n",
       "       [ True,  True,  True],\n",
       "       [ True,  True,  True],\n",
       "       [ True,  True,  True],\n",
       "       [ True,  True,  True],\n",
       "       [ True,  True,  True],\n",
       "       [ True,  True,  True],\n",
       "       [ True,  True,  True],\n",
       "       [ True,  True,  True],\n",
       "       [ True,  True,  True],\n",
       "       [ True,  True,  True],\n",
       "       [ True,  True,  True],\n",
       "       [ True,  True,  True],\n",
       "       [ True,  True,  True],\n",
       "       [ True,  True,  True],\n",
       "       [ True,  True,  True],\n",
       "       [ True,  True,  True],\n",
       "       [ True,  True,  True],\n",
       "       [ True,  True,  True],\n",
       "       [ True,  True,  True],\n",
       "       [ True,  True,  True],\n",
       "       [ True,  True,  True],\n",
       "       [ True,  True,  True],\n",
       "       [ True,  True,  True],\n",
       "       [ True,  True,  True],\n",
       "       [ True,  True,  True],\n",
       "       [ True,  True,  True],\n",
       "       [ True,  True,  True],\n",
       "       [ True,  True,  True],\n",
       "       [ True,  True,  True],\n",
       "       [ True,  True,  True],\n",
       "       [ True,  True,  True],\n",
       "       [ True,  True,  True],\n",
       "       [ True,  True,  True],\n",
       "       [ True,  True,  True],\n",
       "       [ True,  True,  True],\n",
       "       [ True,  True,  True],\n",
       "       [ True,  True,  True],\n",
       "       [ True,  True,  True],\n",
       "       [ True,  True,  True],\n",
       "       [ True,  True,  True],\n",
       "       [ True,  True,  True],\n",
       "       [ True,  True,  True],\n",
       "       [ True,  True,  True],\n",
       "       [ True,  True,  True],\n",
       "       [ True,  True,  True],\n",
       "       [ True,  True,  True],\n",
       "       [ True,  True,  True],\n",
       "       [ True,  True,  True],\n",
       "       [ True,  True,  True],\n",
       "       [ True,  True,  True],\n",
       "       [ True,  True,  True],\n",
       "       [ True,  True,  True],\n",
       "       [ True,  True,  True],\n",
       "       [ True,  True,  True],\n",
       "       [ True,  True,  True],\n",
       "       [ True,  True,  True],\n",
       "       [ True,  True,  True],\n",
       "       [ True,  True,  True],\n",
       "       [ True,  True,  True],\n",
       "       [ True,  True,  True],\n",
       "       [ True,  True,  True],\n",
       "       [ True,  True,  True],\n",
       "       [ True,  True,  True],\n",
       "       [ True,  True,  True],\n",
       "       [ True,  True,  True],\n",
       "       [ True,  True,  True],\n",
       "       [ True,  True,  True],\n",
       "       [ True,  True,  True],\n",
       "       [ True,  True,  True],\n",
       "       [ True,  True,  True],\n",
       "       [ True,  True,  True],\n",
       "       [ True,  True,  True],\n",
       "       [ True,  True,  True],\n",
       "       [ True,  True,  True],\n",
       "       [ True,  True,  True],\n",
       "       [ True,  True,  True],\n",
       "       [ True,  True,  True],\n",
       "       [ True,  True,  True],\n",
       "       [ True,  True,  True],\n",
       "       [ True,  True,  True],\n",
       "       [ True,  True,  True],\n",
       "       [ True,  True,  True],\n",
       "       [ True,  True,  True],\n",
       "       [ True,  True,  True],\n",
       "       [ True,  True,  True],\n",
       "       [ True,  True,  True],\n",
       "       [ True,  True,  True],\n",
       "       [ True,  True,  True],\n",
       "       [ True,  True,  True],\n",
       "       [ True,  True,  True],\n",
       "       [ True,  True,  True],\n",
       "       [ True,  True,  True],\n",
       "       [ True,  True,  True],\n",
       "       [ True,  True,  True],\n",
       "       [ True,  True,  True],\n",
       "       [ True,  True,  True],\n",
       "       [ True,  True,  True],\n",
       "       [ True,  True,  True],\n",
       "       [ True,  True,  True],\n",
       "       [ True,  True,  True],\n",
       "       [ True,  True,  True],\n",
       "       [ True,  True,  True],\n",
       "       [ True,  True,  True],\n",
       "       [ True,  True,  True],\n",
       "       [ True,  True,  True],\n",
       "       [ True,  True,  True],\n",
       "       [ True,  True,  True],\n",
       "       [ True,  True,  True],\n",
       "       [ True,  True,  True],\n",
       "       [ True,  True,  True],\n",
       "       [ True,  True,  True],\n",
       "       [ True,  True,  True],\n",
       "       [ True,  True,  True],\n",
       "       [ True,  True,  True],\n",
       "       [ True,  True,  True],\n",
       "       [ True,  True,  True],\n",
       "       [ True,  True,  True],\n",
       "       [ True,  True,  True],\n",
       "       [ True,  True,  True],\n",
       "       [ True,  True,  True],\n",
       "       [ True,  True,  True],\n",
       "       [ True,  True,  True],\n",
       "       [ True,  True,  True],\n",
       "       [ True,  True,  True],\n",
       "       [ True,  True,  True],\n",
       "       [ True,  True,  True],\n",
       "       [ True,  True,  True],\n",
       "       [ True,  True,  True],\n",
       "       [ True,  True,  True],\n",
       "       [ True,  True,  True],\n",
       "       [ True,  True,  True],\n",
       "       [ True,  True,  True],\n",
       "       [ True,  True,  True],\n",
       "       [ True,  True,  True],\n",
       "       [ True,  True,  True],\n",
       "       [ True,  True,  True],\n",
       "       [ True,  True,  True],\n",
       "       [ True,  True,  True],\n",
       "       [ True,  True,  True],\n",
       "       [ True,  True,  True],\n",
       "       [ True,  True,  True],\n",
       "       [ True,  True,  True],\n",
       "       [ True,  True,  True],\n",
       "       [ True,  True,  True],\n",
       "       [ True,  True,  True],\n",
       "       [ True,  True,  True],\n",
       "       [ True,  True,  True],\n",
       "       [ True,  True,  True],\n",
       "       [ True,  True,  True],\n",
       "       [ True,  True,  True],\n",
       "       [ True,  True,  True],\n",
       "       [ True,  True,  True],\n",
       "       [ True,  True,  True],\n",
       "       [ True,  True,  True],\n",
       "       [ True,  True,  True],\n",
       "       [ True,  True,  True],\n",
       "       [ True,  True,  True],\n",
       "       [ True,  True,  True],\n",
       "       [ True,  True,  True],\n",
       "       [ True,  True,  True],\n",
       "       [ True,  True,  True],\n",
       "       [ True,  True,  True],\n",
       "       [ True,  True,  True],\n",
       "       [ True,  True,  True],\n",
       "       [ True,  True,  True],\n",
       "       [ True,  True,  True],\n",
       "       [ True,  True,  True],\n",
       "       [ True,  True,  True],\n",
       "       [ True,  True,  True],\n",
       "       [ True,  True,  True],\n",
       "       [ True,  True,  True],\n",
       "       [ True,  True,  True],\n",
       "       [ True,  True,  True],\n",
       "       [ True,  True,  True],\n",
       "       [ True,  True,  True],\n",
       "       [ True,  True,  True],\n",
       "       [ True,  True,  True],\n",
       "       [ True,  True,  True],\n",
       "       [ True,  True,  True],\n",
       "       [ True,  True,  True],\n",
       "       [ True,  True,  True],\n",
       "       [ True,  True,  True],\n",
       "       [ True,  True,  True],\n",
       "       [ True,  True,  True],\n",
       "       [ True,  True,  True],\n",
       "       [ True,  True,  True],\n",
       "       [ True,  True,  True],\n",
       "       [ True,  True,  True],\n",
       "       [ True,  True,  True],\n",
       "       [ True,  True,  True],\n",
       "       [ True,  True,  True],\n",
       "       [ True,  True,  True],\n",
       "       [ True,  True,  True],\n",
       "       [ True,  True,  True],\n",
       "       [ True,  True,  True],\n",
       "       [ True,  True,  True],\n",
       "       [ True,  True,  True],\n",
       "       [ True,  True,  True],\n",
       "       [ True,  True,  True],\n",
       "       [ True,  True,  True],\n",
       "       [ True,  True,  True],\n",
       "       [ True,  True,  True],\n",
       "       [ True,  True,  True],\n",
       "       [ True,  True,  True],\n",
       "       [ True,  True,  True],\n",
       "       [ True,  True,  True]])"
      ]
     },
     "execution_count": 24,
     "metadata": {},
     "output_type": "execute_result"
    }
   ],
   "source": [
    "system_structure.protein_coords[0][list(system_structure.protein_calpha_mask.values())[0]] == system_structure.protein_calpha_coords[0]"
   ]
  },
  {
   "cell_type": "code",
   "execution_count": 25,
   "metadata": {},
   "outputs": [
    {
     "data": {
      "text/plain": [
       "(1, 1)"
      ]
     },
     "execution_count": 25,
     "metadata": {},
     "output_type": "execute_result"
    }
   ],
   "source": [
    "len(system_structure.protein_calpha_coords), len(system_structure.protein_calpha_coords)"
   ]
  },
  {
   "cell_type": "code",
   "execution_count": 26,
   "metadata": {},
   "outputs": [
    {
     "name": "stdout",
     "output_type": "stream",
     "text": [
      "protein_backbone_mask\n",
      "protein_calpha_coords\n",
      "protein_calpha_mask\n",
      "protein_chain_ordered\n",
      "protein_coords\n",
      "protein_n_atoms\n",
      "protein_sequence_from_structure\n"
     ]
    }
   ],
   "source": [
    "for name in system_structure.get_properties():\n",
    "    if \"protein\" in name:\n",
    "        print(name)"
   ]
  },
  {
   "cell_type": "markdown",
   "metadata": {},
   "source": [
    "### Masking\n"
   ]
  },
  {
   "cell_type": "code",
   "execution_count": 31,
   "metadata": {},
   "outputs": [
    {
     "name": "stdout",
     "output_type": "stream",
     "text": [
      "Total number of atoms: 2443\n",
      "Number of backbone atoms: 942\n",
      "Number of calpha atoms: 314\n"
     ]
    }
   ],
   "source": [
    "print(\n",
    "    \"Total number of atoms:\",\n",
    "    len(system_structure.protein_atom_array),\n",
    ")\n",
    "print(\"Number of backbone atoms:\", sum([b for ch in list(system_structure.protein_backbone_mask.values()) for b in ch]))\n",
    "print(\n",
    "    \"Number of calpha atoms:\",\n",
    "    sum([b for ch in list(system_structure.protein_calpha_mask.values()) for b in ch]))"
   ]
  },
  {
   "cell_type": "code",
   "execution_count": 35,
   "metadata": {},
   "outputs": [
    {
     "data": {
      "text/plain": [
       "array([\n",
       "\tAtom(np.array([48.178, 50.968, 57.827], dtype=float32), chain_id=\"1.C\", res_id=2, ins_code=\"\", res_name=\"SER\", hetero=False, atom_name=\"CA\", element=\"C\"),\n",
       "\tAtom(np.array([49.525, 49.561, 54.51 ], dtype=float32), chain_id=\"1.C\", res_id=3, ins_code=\"\", res_name=\"THR\", hetero=False, atom_name=\"CA\", element=\"C\"),\n",
       "\tAtom(np.array([48.243, 50.024, 50.922], dtype=float32), chain_id=\"1.C\", res_id=4, ins_code=\"\", res_name=\"PRO\", hetero=False, atom_name=\"CA\", element=\"C\"),\n",
       "\tAtom(np.array([47.043, 46.432, 50.946], dtype=float32), chain_id=\"1.C\", res_id=5, ins_code=\"\", res_name=\"GLY\", hetero=False, atom_name=\"CA\", element=\"C\"),\n",
       "\tAtom(np.array([45.205, 46.746, 54.3  ], dtype=float32), chain_id=\"1.C\", res_id=6, ins_code=\"\", res_name=\"ALA\", hetero=False, atom_name=\"CA\", element=\"C\"),\n",
       "\tAtom(np.array([43.543, 49.915, 52.959], dtype=float32), chain_id=\"1.C\", res_id=7, ins_code=\"\", res_name=\"GLN\", hetero=False, atom_name=\"CA\", element=\"C\"),\n",
       "\tAtom(np.array([41.978, 47.864, 50.152], dtype=float32), chain_id=\"1.C\", res_id=8, ins_code=\"\", res_name=\"GLN\", hetero=False, atom_name=\"CA\", element=\"C\"),\n",
       "\tAtom(np.array([40.046, 45.702, 52.669], dtype=float32), chain_id=\"1.C\", res_id=9, ins_code=\"\", res_name=\"VAL\", hetero=False, atom_name=\"CA\", element=\"C\"),\n",
       "\tAtom(np.array([36.526, 47.068, 53.377], dtype=float32), chain_id=\"1.C\", res_id=10, ins_code=\"\", res_name=\"LEU\", hetero=False, atom_name=\"CA\", element=\"C\"),\n",
       "\tAtom(np.array([36.091, 48.088, 57.045], dtype=float32), chain_id=\"1.C\", res_id=11, ins_code=\"\", res_name=\"PHE\", hetero=False, atom_name=\"CA\", element=\"C\"),\n",
       "\tAtom(np.array([33.373, 45.769, 58.383], dtype=float32), chain_id=\"1.C\", res_id=12, ins_code=\"\", res_name=\"ARG\", hetero=False, atom_name=\"CA\", element=\"C\"),\n",
       "\tAtom(np.array([33.73 , 43.546, 55.354], dtype=float32), chain_id=\"1.C\", res_id=13, ins_code=\"\", res_name=\"THR\", hetero=False, atom_name=\"CA\", element=\"C\"),\n",
       "\tAtom(np.array([31.793, 40.336, 55.226], dtype=float32), chain_id=\"1.C\", res_id=14, ins_code=\"\", res_name=\"GLY\", hetero=False, atom_name=\"CA\", element=\"C\"),\n",
       "\tAtom(np.array([34.125, 37.419, 55.863], dtype=float32), chain_id=\"1.C\", res_id=15, ins_code=\"\", res_name=\"ILE\", hetero=False, atom_name=\"CA\", element=\"C\"),\n",
       "\tAtom(np.array([33.962, 33.707, 54.991], dtype=float32), chain_id=\"1.C\", res_id=16, ins_code=\"\", res_name=\"ALA\", hetero=False, atom_name=\"CA\", element=\"C\"),\n",
       "\tAtom(np.array([36.425, 30.858, 55.06 ], dtype=float32), chain_id=\"1.C\", res_id=17, ins_code=\"\", res_name=\"ALA\", hetero=False, atom_name=\"CA\", element=\"C\"),\n",
       "\tAtom(np.array([36.731, 27.283, 53.803], dtype=float32), chain_id=\"1.C\", res_id=18, ins_code=\"\", res_name=\"VAL\", hetero=False, atom_name=\"CA\", element=\"C\"),\n",
       "\tAtom(np.array([39.349, 24.61 , 54.193], dtype=float32), chain_id=\"1.C\", res_id=19, ins_code=\"\", res_name=\"ASN\", hetero=False, atom_name=\"CA\", element=\"C\"),\n",
       "\tAtom(np.array([40.656, 21.107, 53.682], dtype=float32), chain_id=\"1.C\", res_id=20, ins_code=\"\", res_name=\"SER\", hetero=False, atom_name=\"CA\", element=\"C\"),\n",
       "\tAtom(np.array([42.424, 20.471, 56.993], dtype=float32), chain_id=\"1.C\", res_id=21, ins_code=\"\", res_name=\"THR\", hetero=False, atom_name=\"CA\", element=\"C\"),\n",
       "\tAtom(np.array([45.184, 23.078, 57.089], dtype=float32), chain_id=\"1.C\", res_id=22, ins_code=\"\", res_name=\"ASN\", hetero=False, atom_name=\"CA\", element=\"C\"),\n",
       "\tAtom(np.array([44.75 , 24.251, 53.478], dtype=float32), chain_id=\"1.C\", res_id=23, ins_code=\"\", res_name=\"HIS\", hetero=False, atom_name=\"CA\", element=\"C\"),\n",
       "\tAtom(np.array([42.777, 27.484, 53.918], dtype=float32), chain_id=\"1.C\", res_id=24, ins_code=\"\", res_name=\"LEU\", hetero=False, atom_name=\"CA\", element=\"C\"),\n",
       "\tAtom(np.array([40.904, 30.038, 51.9  ], dtype=float32), chain_id=\"1.C\", res_id=25, ins_code=\"\", res_name=\"ARG\", hetero=False, atom_name=\"CA\", element=\"C\"),\n",
       "\tAtom(np.array([39.457, 33.297, 53.215], dtype=float32), chain_id=\"1.C\", res_id=26, ins_code=\"\", res_name=\"VAL\", hetero=False, atom_name=\"CA\", element=\"C\"),\n",
       "\tAtom(np.array([36.989, 35.535, 51.309], dtype=float32), chain_id=\"1.C\", res_id=27, ins_code=\"\", res_name=\"TYR\", hetero=False, atom_name=\"CA\", element=\"C\"),\n",
       "\tAtom(np.array([36.342, 39.203, 51.867], dtype=float32), chain_id=\"1.C\", res_id=28, ins_code=\"\", res_name=\"PHE\", hetero=False, atom_name=\"CA\", element=\"C\"),\n",
       "\tAtom(np.array([35.17 , 42.352, 50.114], dtype=float32), chain_id=\"1.C\", res_id=29, ins_code=\"\", res_name=\"GLN\", hetero=False, atom_name=\"CA\", element=\"C\"),\n",
       "\tAtom(np.array([37.459, 45.16 , 48.959], dtype=float32), chain_id=\"1.C\", res_id=30, ins_code=\"\", res_name=\"ASP\", hetero=False, atom_name=\"CA\", element=\"C\"),\n",
       "\tAtom(np.array([36.572, 48.83 , 49.116], dtype=float32), chain_id=\"1.C\", res_id=31, ins_code=\"\", res_name=\"VAL\", hetero=False, atom_name=\"CA\", element=\"C\"),\n",
       "\tAtom(np.array([35.426, 48.695, 45.451], dtype=float32), chain_id=\"1.C\", res_id=32, ins_code=\"\", res_name=\"TYR\", hetero=False, atom_name=\"CA\", element=\"C\"),\n",
       "\tAtom(np.array([32.956, 45.848, 46.046], dtype=float32), chain_id=\"1.C\", res_id=33, ins_code=\"\", res_name=\"GLY\", hetero=False, atom_name=\"CA\", element=\"C\"),\n",
       "\tAtom(np.array([35.027, 43.026, 44.582], dtype=float32), chain_id=\"1.C\", res_id=34, ins_code=\"\", res_name=\"SER\", hetero=False, atom_name=\"CA\", element=\"C\"),\n",
       "\tAtom(np.array([35.16 , 39.747, 46.429], dtype=float32), chain_id=\"1.C\", res_id=35, ins_code=\"\", res_name=\"ILE\", hetero=False, atom_name=\"CA\", element=\"C\"),\n",
       "\tAtom(np.array([38.718, 38.497, 46.89 ], dtype=float32), chain_id=\"1.C\", res_id=36, ins_code=\"\", res_name=\"ARG\", hetero=False, atom_name=\"CA\", element=\"C\"),\n",
       "\tAtom(np.array([40.379, 35.292, 48.005], dtype=float32), chain_id=\"1.C\", res_id=37, ins_code=\"\", res_name=\"GLU\", hetero=False, atom_name=\"CA\", element=\"C\"),\n",
       "\tAtom(np.array([43.34 , 34.949, 50.278], dtype=float32), chain_id=\"1.C\", res_id=38, ins_code=\"\", res_name=\"SER\", hetero=False, atom_name=\"CA\", element=\"C\"),\n",
       "\tAtom(np.array([45.001, 31.562, 50.691], dtype=float32), chain_id=\"1.C\", res_id=39, ins_code=\"\", res_name=\"LEU\", hetero=False, atom_name=\"CA\", element=\"C\"),\n",
       "\tAtom(np.array([47.128, 29.485, 52.997], dtype=float32), chain_id=\"1.C\", res_id=40, ins_code=\"\", res_name=\"TYR\", hetero=False, atom_name=\"CA\", element=\"C\"),\n",
       "\tAtom(np.array([49.109, 26.664, 51.464], dtype=float32), chain_id=\"1.C\", res_id=41, ins_code=\"\", res_name=\"GLU\", hetero=False, atom_name=\"CA\", element=\"C\"),\n",
       "\tAtom(np.array([51.918, 26.3  , 53.961], dtype=float32), chain_id=\"1.C\", res_id=42, ins_code=\"\", res_name=\"GLY\", hetero=False, atom_name=\"CA\", element=\"C\"),\n",
       "\tAtom(np.array([52.103, 30.121, 53.958], dtype=float32), chain_id=\"1.C\", res_id=43, ins_code=\"\", res_name=\"SER\", hetero=False, atom_name=\"CA\", element=\"C\"),\n",
       "\tAtom(np.array([49.823, 33.125, 53.341], dtype=float32), chain_id=\"1.C\", res_id=44, ins_code=\"\", res_name=\"TRP\", hetero=False, atom_name=\"CA\", element=\"C\"),\n",
       "\tAtom(np.array([49.35 , 34.608, 49.947], dtype=float32), chain_id=\"1.C\", res_id=45, ins_code=\"\", res_name=\"ALA\", hetero=False, atom_name=\"CA\", element=\"C\"),\n",
       "\tAtom(np.array([47.019, 36.396, 47.513], dtype=float32), chain_id=\"1.C\", res_id=46, ins_code=\"\", res_name=\"ASN\", hetero=False, atom_name=\"CA\", element=\"C\"),\n",
       "\tAtom(np.array([44.057, 38.629, 48.445], dtype=float32), chain_id=\"1.C\", res_id=47, ins_code=\"\", res_name=\"GLY\", hetero=False, atom_name=\"CA\", element=\"C\"),\n",
       "\tAtom(np.array([45.209, 41.081, 45.722], dtype=float32), chain_id=\"1.C\", res_id=48, ins_code=\"\", res_name=\"THR\", hetero=False, atom_name=\"CA\", element=\"C\"),\n",
       "\tAtom(np.array([43.528, 42.588, 42.651], dtype=float32), chain_id=\"1.C\", res_id=49, ins_code=\"\", res_name=\"GLU\", hetero=False, atom_name=\"CA\", element=\"C\"),\n",
       "\tAtom(np.array([44.743, 39.413, 40.931], dtype=float32), chain_id=\"1.C\", res_id=50, ins_code=\"\", res_name=\"LYS\", hetero=False, atom_name=\"CA\", element=\"C\"),\n",
       "\tAtom(np.array([42.57 , 37.294, 43.258], dtype=float32), chain_id=\"1.C\", res_id=51, ins_code=\"\", res_name=\"ASN\", hetero=False, atom_name=\"CA\", element=\"C\"),\n",
       "\tAtom(np.array([39.094, 38.716, 42.505], dtype=float32), chain_id=\"1.C\", res_id=52, ins_code=\"\", res_name=\"VAL\", hetero=False, atom_name=\"CA\", element=\"C\"),\n",
       "\tAtom(np.array([36.363, 36.056, 42.133], dtype=float32), chain_id=\"1.C\", res_id=53, ins_code=\"\", res_name=\"ILE\", hetero=False, atom_name=\"CA\", element=\"C\"),\n",
       "\tAtom(np.array([33.433, 38.397, 41.363], dtype=float32), chain_id=\"1.C\", res_id=54, ins_code=\"\", res_name=\"GLY\", hetero=False, atom_name=\"CA\", element=\"C\"),\n",
       "\tAtom(np.array([31.554, 41.496, 42.428], dtype=float32), chain_id=\"1.C\", res_id=55, ins_code=\"\", res_name=\"ASN\", hetero=False, atom_name=\"CA\", element=\"C\"),\n",
       "\tAtom(np.array([28.787, 42.179, 44.911], dtype=float32), chain_id=\"1.C\", res_id=56, ins_code=\"\", res_name=\"ALA\", hetero=False, atom_name=\"CA\", element=\"C\"),\n",
       "\tAtom(np.array([26.905, 45.113, 46.343], dtype=float32), chain_id=\"1.C\", res_id=57, ins_code=\"\", res_name=\"LYS\", hetero=False, atom_name=\"CA\", element=\"C\"),\n",
       "\tAtom(np.array([29.015, 47.207, 48.725], dtype=float32), chain_id=\"1.C\", res_id=58, ins_code=\"\", res_name=\"LEU\", hetero=False, atom_name=\"CA\", element=\"C\"),\n",
       "\tAtom(np.array([28.613, 45.877, 52.229], dtype=float32), chain_id=\"1.C\", res_id=59, ins_code=\"\", res_name=\"GLY\", hetero=False, atom_name=\"CA\", element=\"C\"),\n",
       "\tAtom(np.array([27.229, 42.54 , 51.045], dtype=float32), chain_id=\"1.C\", res_id=60, ins_code=\"\", res_name=\"SER\", hetero=False, atom_name=\"CA\", element=\"C\"),\n",
       "\tAtom(np.array([27.145, 39.534, 53.276], dtype=float32), chain_id=\"1.C\", res_id=61, ins_code=\"\", res_name=\"PRO\", hetero=False, atom_name=\"CA\", element=\"C\"),\n",
       "\tAtom(np.array([29.797, 37.007, 52.311], dtype=float32), chain_id=\"1.C\", res_id=62, ins_code=\"\", res_name=\"VAL\", hetero=False, atom_name=\"CA\", element=\"C\"),\n",
       "\tAtom(np.array([29.276, 33.303, 52.971], dtype=float32), chain_id=\"1.C\", res_id=63, ins_code=\"\", res_name=\"ALA\", hetero=False, atom_name=\"CA\", element=\"C\"),\n",
       "\tAtom(np.array([31.129, 30.271, 51.746], dtype=float32), chain_id=\"1.C\", res_id=64, ins_code=\"\", res_name=\"ALA\", hetero=False, atom_name=\"CA\", element=\"C\"),\n",
       "\tAtom(np.array([31.097, 26.475, 51.985], dtype=float32), chain_id=\"1.C\", res_id=65, ins_code=\"\", res_name=\"THR\", hetero=False, atom_name=\"CA\", element=\"C\"),\n",
       "\tAtom(np.array([33.165, 23.682, 50.466], dtype=float32), chain_id=\"1.C\", res_id=66, ins_code=\"\", res_name=\"SER\", hetero=False, atom_name=\"CA\", element=\"C\"),\n",
       "\tAtom(np.array([33.755, 20.02 , 49.907], dtype=float32), chain_id=\"1.C\", res_id=67, ins_code=\"\", res_name=\"LYS\", hetero=False, atom_name=\"CA\", element=\"C\"),\n",
       "\tAtom(np.array([37.423, 20.062, 50.923], dtype=float32), chain_id=\"1.C\", res_id=68, ins_code=\"\", res_name=\"GLU\", hetero=False, atom_name=\"CA\", element=\"C\"),\n",
       "\tAtom(np.array([39.006, 22.349, 48.293], dtype=float32), chain_id=\"1.C\", res_id=69, ins_code=\"\", res_name=\"LEU\", hetero=False, atom_name=\"CA\", element=\"C\"),\n",
       "\tAtom(np.array([37.58 , 20.391, 45.335], dtype=float32), chain_id=\"1.C\", res_id=70, ins_code=\"\", res_name=\"LYS\", hetero=False, atom_name=\"CA\", element=\"C\"),\n",
       "\tAtom(np.array([34.258, 22.369, 45.302], dtype=float32), chain_id=\"1.C\", res_id=71, ins_code=\"\", res_name=\"HIS\", hetero=False, atom_name=\"CA\", element=\"C\"),\n",
       "\tAtom(np.array([33.929, 25.855, 46.791], dtype=float32), chain_id=\"1.C\", res_id=72, ins_code=\"\", res_name=\"ILE\", hetero=False, atom_name=\"CA\", element=\"C\"),\n",
       "\tAtom(np.array([30.809, 28.097, 46.634], dtype=float32), chain_id=\"1.C\", res_id=73, ins_code=\"\", res_name=\"ARG\", hetero=False, atom_name=\"CA\", element=\"C\"),\n",
       "\tAtom(np.array([30.746, 31.74 , 47.745], dtype=float32), chain_id=\"1.C\", res_id=74, ins_code=\"\", res_name=\"VAL\", hetero=False, atom_name=\"CA\", element=\"C\"),\n",
       "\tAtom(np.array([27.423, 33.569, 48.302], dtype=float32), chain_id=\"1.C\", res_id=75, ins_code=\"\", res_name=\"TYR\", hetero=False, atom_name=\"CA\", element=\"C\"),\n",
       "\tAtom(np.array([26.78 , 37.331, 48.237], dtype=float32), chain_id=\"1.C\", res_id=76, ins_code=\"\", res_name=\"THR\", hetero=False, atom_name=\"CA\", element=\"C\"),\n",
       "\tAtom(np.array([24.045, 39.803, 47.162], dtype=float32), chain_id=\"1.C\", res_id=77, ins_code=\"\", res_name=\"LEU\", hetero=False, atom_name=\"CA\", element=\"C\"),\n",
       "\tAtom(np.array([23.776, 41.558, 43.833], dtype=float32), chain_id=\"1.C\", res_id=78, ins_code=\"\", res_name=\"THR\", hetero=False, atom_name=\"CA\", element=\"C\"),\n",
       "\tAtom(np.array([22.96 , 45.276, 43.615], dtype=float32), chain_id=\"1.C\", res_id=79, ins_code=\"\", res_name=\"GLU\", hetero=False, atom_name=\"CA\", element=\"C\"),\n",
       "\tAtom(np.array([19.38 , 44.094, 43.048], dtype=float32), chain_id=\"1.C\", res_id=80, ins_code=\"\", res_name=\"GLY\", hetero=False, atom_name=\"CA\", element=\"C\"),\n",
       "\tAtom(np.array([19.243, 42.241, 46.35 ], dtype=float32), chain_id=\"1.C\", res_id=81, ins_code=\"\", res_name=\"ASN\", hetero=False, atom_name=\"CA\", element=\"C\"),\n",
       "\tAtom(np.array([19.132, 38.785, 44.809], dtype=float32), chain_id=\"1.C\", res_id=82, ins_code=\"\", res_name=\"THR\", hetero=False, atom_name=\"CA\", element=\"C\"),\n",
       "\tAtom(np.array([21.296, 35.884, 45.952], dtype=float32), chain_id=\"1.C\", res_id=83, ins_code=\"\", res_name=\"LEU\", hetero=False, atom_name=\"CA\", element=\"C\"),\n",
       "\tAtom(np.array([24.263, 35.052, 43.756], dtype=float32), chain_id=\"1.C\", res_id=84, ins_code=\"\", res_name=\"GLN\", hetero=False, atom_name=\"CA\", element=\"C\"),\n",
       "\tAtom(np.array([27.001, 32.43 , 43.769], dtype=float32), chain_id=\"1.C\", res_id=85, ins_code=\"\", res_name=\"GLU\", hetero=False, atom_name=\"CA\", element=\"C\"),\n",
       "\tAtom(np.array([30.617, 32.232, 42.703], dtype=float32), chain_id=\"1.C\", res_id=86, ins_code=\"\", res_name=\"PHE\", hetero=False, atom_name=\"CA\", element=\"C\"),\n",
       "\tAtom(np.array([31.602, 28.607, 42.139], dtype=float32), chain_id=\"1.C\", res_id=87, ins_code=\"\", res_name=\"ALA\", hetero=False, atom_name=\"CA\", element=\"C\"),\n",
       "\tAtom(np.array([34.952, 26.835, 42.027], dtype=float32), chain_id=\"1.C\", res_id=88, ins_code=\"\", res_name=\"TYR\", hetero=False, atom_name=\"CA\", element=\"C\"),\n",
       "\tAtom(np.array([35.409, 23.229, 40.881], dtype=float32), chain_id=\"1.C\", res_id=89, ins_code=\"\", res_name=\"ASP\", hetero=False, atom_name=\"CA\", element=\"C\"),\n",
       "\tAtom(np.array([38.828, 21.565, 40.492], dtype=float32), chain_id=\"1.C\", res_id=90, ins_code=\"\", res_name=\"SER\", hetero=False, atom_name=\"CA\", element=\"C\"),\n",
       "\tAtom(np.array([39.747, 21.718, 36.807], dtype=float32), chain_id=\"1.C\", res_id=91, ins_code=\"\", res_name=\"GLY\", hetero=False, atom_name=\"CA\", element=\"C\"),\n",
       "\tAtom(np.array([37.026, 24.195, 35.907], dtype=float32), chain_id=\"1.C\", res_id=92, ins_code=\"\", res_name=\"THR\", hetero=False, atom_name=\"CA\", element=\"C\"),\n",
       "\tAtom(np.array([38.199, 27.055, 38.038], dtype=float32), chain_id=\"1.C\", res_id=93, ins_code=\"\", res_name=\"GLY\", hetero=False, atom_name=\"CA\", element=\"C\"),\n",
       "\tAtom(np.array([35.847, 29.91 , 39.003], dtype=float32), chain_id=\"1.C\", res_id=94, ins_code=\"\", res_name=\"TRP\", hetero=False, atom_name=\"CA\", element=\"C\"),\n",
       "\tAtom(np.array([32.578, 30.549, 37.328], dtype=float32), chain_id=\"1.C\", res_id=95, ins_code=\"\", res_name=\"TYR\", hetero=False, atom_name=\"CA\", element=\"C\"),\n",
       "\tAtom(np.array([29.245, 32.271, 37.883], dtype=float32), chain_id=\"1.C\", res_id=96, ins_code=\"\", res_name=\"ASN\", hetero=False, atom_name=\"CA\", element=\"C\"),\n",
       "\tAtom(np.array([27.07 , 29.688, 39.597], dtype=float32), chain_id=\"1.C\", res_id=97, ins_code=\"\", res_name=\"GLY\", hetero=False, atom_name=\"CA\", element=\"C\"),\n",
       "\tAtom(np.array([23.45 , 28.889, 38.841], dtype=float32), chain_id=\"1.C\", res_id=98, ins_code=\"\", res_name=\"GLY\", hetero=False, atom_name=\"CA\", element=\"C\"),\n",
       "\tAtom(np.array([21.963, 30.506, 41.938], dtype=float32), chain_id=\"1.C\", res_id=99, ins_code=\"\", res_name=\"LEU\", hetero=False, atom_name=\"CA\", element=\"C\"),\n",
       "\tAtom(np.array([21.82 , 34.007, 40.392], dtype=float32), chain_id=\"1.C\", res_id=100, ins_code=\"\", res_name=\"GLY\", hetero=False, atom_name=\"CA\", element=\"C\"),\n",
       "\tAtom(np.array([19.555, 32.763, 37.623], dtype=float32), chain_id=\"1.C\", res_id=101, ins_code=\"\", res_name=\"GLY\", hetero=False, atom_name=\"CA\", element=\"C\"),\n",
       "\tAtom(np.array([16.79 , 31.952, 40.105], dtype=float32), chain_id=\"1.C\", res_id=102, ins_code=\"\", res_name=\"ALA\", hetero=False, atom_name=\"CA\", element=\"C\"),\n",
       "\tAtom(np.array([16.643, 35.647, 41.091], dtype=float32), chain_id=\"1.C\", res_id=103, ins_code=\"\", res_name=\"LYS\", hetero=False, atom_name=\"CA\", element=\"C\"),\n",
       "\tAtom(np.array([15.734, 34.949, 44.691], dtype=float32), chain_id=\"1.C\", res_id=104, ins_code=\"\", res_name=\"PHE\", hetero=False, atom_name=\"CA\", element=\"C\"),\n",
       "\tAtom(np.array([14.869, 38.363, 46.158], dtype=float32), chain_id=\"1.C\", res_id=105, ins_code=\"\", res_name=\"GLN\", hetero=False, atom_name=\"CA\", element=\"C\"),\n",
       "\tAtom(np.array([15.887, 38.931, 49.736], dtype=float32), chain_id=\"1.C\", res_id=106, ins_code=\"\", res_name=\"VAL\", hetero=False, atom_name=\"CA\", element=\"C\"),\n",
       "\tAtom(np.array([15.695, 41.881, 52.2  ], dtype=float32), chain_id=\"1.C\", res_id=107, ins_code=\"\", res_name=\"ALA\", hetero=False, atom_name=\"CA\", element=\"C\"),\n",
       "\tAtom(np.array([18.41 , 44.412, 51.385], dtype=float32), chain_id=\"1.C\", res_id=108, ins_code=\"\", res_name=\"PRO\", hetero=False, atom_name=\"CA\", element=\"C\"),\n",
       "\tAtom(np.array([19.779, 43.943, 54.905], dtype=float32), chain_id=\"1.C\", res_id=109, ins_code=\"\", res_name=\"TYR\", hetero=False, atom_name=\"CA\", element=\"C\"),\n",
       "\tAtom(np.array([19.784, 40.112, 54.691], dtype=float32), chain_id=\"1.C\", res_id=110, ins_code=\"\", res_name=\"SER\", hetero=False, atom_name=\"CA\", element=\"C\"),\n",
       "\tAtom(np.array([22.657, 38.031, 55.82 ], dtype=float32), chain_id=\"1.C\", res_id=111, ins_code=\"\", res_name=\"CSK\", hetero=True, atom_name=\"CA\", element=\"C\"),\n",
       "\tAtom(np.array([23.586, 34.664, 54.178], dtype=float32), chain_id=\"1.C\", res_id=112, ins_code=\"\", res_name=\"ILE\", hetero=False, atom_name=\"CA\", element=\"C\"),\n",
       "\tAtom(np.array([24.654, 31.27 , 55.531], dtype=float32), chain_id=\"1.C\", res_id=113, ins_code=\"\", res_name=\"ALA\", hetero=False, atom_name=\"CA\", element=\"C\"),\n",
       "\tAtom(np.array([25.579, 28.238, 53.353], dtype=float32), chain_id=\"1.C\", res_id=114, ins_code=\"\", res_name=\"ALA\", hetero=False, atom_name=\"CA\", element=\"C\"),\n",
       "\tAtom(np.array([26.359, 24.553, 53.847], dtype=float32), chain_id=\"1.C\", res_id=115, ins_code=\"\", res_name=\"VAL\", hetero=False, atom_name=\"CA\", element=\"C\"),\n",
       "\tAtom(np.array([27.08 , 21.51 , 51.754], dtype=float32), chain_id=\"1.C\", res_id=116, ins_code=\"\", res_name=\"PHE\", hetero=False, atom_name=\"CA\", element=\"C\"),\n",
       "\tAtom(np.array([25.166, 18.737, 53.414], dtype=float32), chain_id=\"1.C\", res_id=117, ins_code=\"\", res_name=\"LEU\", hetero=False, atom_name=\"CA\", element=\"C\"),\n",
       "\tAtom(np.array([27.495, 16.395, 55.389], dtype=float32), chain_id=\"1.C\", res_id=118, ins_code=\"\", res_name=\"ALA\", hetero=False, atom_name=\"CA\", element=\"C\"),\n",
       "\tAtom(np.array([28.209, 12.722, 54.823], dtype=float32), chain_id=\"1.C\", res_id=119, ins_code=\"\", res_name=\"GLY\", hetero=False, atom_name=\"CA\", element=\"C\"),\n",
       "\tAtom(np.array([27.621, 12.438, 51.119], dtype=float32), chain_id=\"1.C\", res_id=120, ins_code=\"\", res_name=\"THR\", hetero=False, atom_name=\"CA\", element=\"C\"),\n",
       "\tAtom(np.array([29.661, 12.733, 47.991], dtype=float32), chain_id=\"1.C\", res_id=121, ins_code=\"\", res_name=\"ASP\", hetero=False, atom_name=\"CA\", element=\"C\"),\n",
       "\tAtom(np.array([26.685, 14.305, 46.211], dtype=float32), chain_id=\"1.C\", res_id=122, ins_code=\"\", res_name=\"ALA\", hetero=False, atom_name=\"CA\", element=\"C\"),\n",
       "\tAtom(np.array([26.784, 18.082, 45.912], dtype=float32), chain_id=\"1.C\", res_id=123, ins_code=\"\", res_name=\"LEU\", hetero=False, atom_name=\"CA\", element=\"C\"),\n",
       "\tAtom(np.array([23.739, 19.128, 47.981], dtype=float32), chain_id=\"1.C\", res_id=124, ins_code=\"\", res_name=\"GLN\", hetero=False, atom_name=\"CA\", element=\"C\"),\n",
       "\tAtom(np.array([23.557, 22.765, 49.178], dtype=float32), chain_id=\"1.C\", res_id=125, ins_code=\"\", res_name=\"LEU\", hetero=False, atom_name=\"CA\", element=\"C\"),\n",
       "\tAtom(np.array([21.391, 24.6  , 51.679], dtype=float32), chain_id=\"1.C\", res_id=126, ins_code=\"\", res_name=\"ARG\", hetero=False, atom_name=\"CA\", element=\"C\"),\n",
       "\tAtom(np.array([21.528, 28.408, 51.676], dtype=float32), chain_id=\"1.C\", res_id=127, ins_code=\"\", res_name=\"ILE\", hetero=False, atom_name=\"CA\", element=\"C\"),\n",
       "\tAtom(np.array([19.795, 30.545, 54.345], dtype=float32), chain_id=\"1.C\", res_id=128, ins_code=\"\", res_name=\"TYR\", hetero=False, atom_name=\"CA\", element=\"C\"),\n",
       "\tAtom(np.array([18.8  , 34.209, 53.938], dtype=float32), chain_id=\"1.C\", res_id=129, ins_code=\"\", res_name=\"ALA\", hetero=False, atom_name=\"CA\", element=\"C\"),\n",
       "\tAtom(np.array([16.092, 36.636, 55.063], dtype=float32), chain_id=\"1.C\", res_id=130, ins_code=\"\", res_name=\"GLN\", hetero=False, atom_name=\"CA\", element=\"C\"),\n",
       "\tAtom(np.array([13.129, 37.606, 52.906], dtype=float32), chain_id=\"1.C\", res_id=131, ins_code=\"\", res_name=\"LYS\", hetero=False, atom_name=\"CA\", element=\"C\"),\n",
       "\tAtom(np.array([11.576, 41.062, 52.885], dtype=float32), chain_id=\"1.C\", res_id=132, ins_code=\"\", res_name=\"PRO\", hetero=False, atom_name=\"CA\", element=\"C\"),\n",
       "\tAtom(np.array([ 8.958, 39.833, 55.378], dtype=float32), chain_id=\"1.C\", res_id=133, ins_code=\"\", res_name=\"ASP\", hetero=False, atom_name=\"CA\", element=\"C\"),\n",
       "\tAtom(np.array([11.866, 39.045, 57.757], dtype=float32), chain_id=\"1.C\", res_id=134, ins_code=\"\", res_name=\"ASN\", hetero=False, atom_name=\"CA\", element=\"C\"),\n",
       "\tAtom(np.array([11.411, 35.324, 57.69 ], dtype=float32), chain_id=\"1.C\", res_id=135, ins_code=\"\", res_name=\"THR\", hetero=False, atom_name=\"CA\", element=\"C\"),\n",
       "\tAtom(np.array([14.411, 33.041, 57.304], dtype=float32), chain_id=\"1.C\", res_id=136, ins_code=\"\", res_name=\"ILE\", hetero=False, atom_name=\"CA\", element=\"C\"),\n",
       "\tAtom(np.array([14.208, 31.125, 54.02 ], dtype=float32), chain_id=\"1.C\", res_id=137, ins_code=\"\", res_name=\"GLN\", hetero=False, atom_name=\"CA\", element=\"C\"),\n",
       "\tAtom(np.array([16.164, 28.022, 53.028], dtype=float32), chain_id=\"1.C\", res_id=138, ins_code=\"\", res_name=\"GLU\", hetero=False, atom_name=\"CA\", element=\"C\"),\n",
       "\tAtom(np.array([17.168, 27.611, 49.355], dtype=float32), chain_id=\"1.C\", res_id=139, ins_code=\"\", res_name=\"TYR\", hetero=False, atom_name=\"CA\", element=\"C\"),\n",
       "\tAtom(np.array([18.153, 24.136, 48.073], dtype=float32), chain_id=\"1.C\", res_id=140, ins_code=\"\", res_name=\"MET\", hetero=False, atom_name=\"CA\", element=\"C\"),\n",
       "\tAtom(np.array([20.271, 22.579, 45.375], dtype=float32), chain_id=\"1.C\", res_id=141, ins_code=\"\", res_name=\"TRP\", hetero=False, atom_name=\"CA\", element=\"C\"),\n",
       "\tAtom(np.array([19.89 , 18.801, 44.939], dtype=float32), chain_id=\"1.C\", res_id=142, ins_code=\"\", res_name=\"ASN\", hetero=False, atom_name=\"CA\", element=\"C\"),\n",
       "\tAtom(np.array([21.219, 18.437, 41.4  ], dtype=float32), chain_id=\"1.C\", res_id=143, ins_code=\"\", res_name=\"GLY\", hetero=False, atom_name=\"CA\", element=\"C\"),\n",
       "\tAtom(np.array([18.135, 19.568, 39.505], dtype=float32), chain_id=\"1.C\", res_id=144, ins_code=\"\", res_name=\"ASP\", hetero=False, atom_name=\"CA\", element=\"C\"),\n",
       "\tAtom(np.array([17.968, 23.314, 39.879], dtype=float32), chain_id=\"1.C\", res_id=145, ins_code=\"\", res_name=\"GLY\", hetero=False, atom_name=\"CA\", element=\"C\"),\n",
       "\tAtom(np.array([17.554, 25.773, 42.722], dtype=float32), chain_id=\"1.C\", res_id=146, ins_code=\"\", res_name=\"TRP\", hetero=False, atom_name=\"CA\", element=\"C\"),\n",
       "\tAtom(np.array([14.331, 25.598, 44.686], dtype=float32), chain_id=\"1.C\", res_id=147, ins_code=\"\", res_name=\"LYS\", hetero=False, atom_name=\"CA\", element=\"C\"),\n",
       "\tAtom(np.array([12.911, 27.042, 47.867], dtype=float32), chain_id=\"1.C\", res_id=148, ins_code=\"\", res_name=\"GLU\", hetero=False, atom_name=\"CA\", element=\"C\"),\n",
       "\tAtom(np.array([13.157, 24.765, 50.822], dtype=float32), chain_id=\"1.C\", res_id=149, ins_code=\"\", res_name=\"GLY\", hetero=False, atom_name=\"CA\", element=\"C\"),\n",
       "\tAtom(np.array([11.808, 25.155, 54.348], dtype=float32), chain_id=\"1.C\", res_id=150, ins_code=\"\", res_name=\"THR\", hetero=False, atom_name=\"CA\", element=\"C\"),\n",
       "\tAtom(np.array([10.887, 28.572, 55.76 ], dtype=float32), chain_id=\"1.C\", res_id=151, ins_code=\"\", res_name=\"ASN\", hetero=False, atom_name=\"CA\", element=\"C\"),\n",
       "\tAtom(np.array([12.064, 28.854, 59.334], dtype=float32), chain_id=\"1.C\", res_id=152, ins_code=\"\", res_name=\"LEU\", hetero=False, atom_name=\"CA\", element=\"C\"),\n",
       "\tAtom(np.array([ 9.946, 31.735, 60.52 ], dtype=float32), chain_id=\"1.C\", res_id=153, ins_code=\"\", res_name=\"GLY\", hetero=False, atom_name=\"CA\", element=\"C\"),\n",
       "\tAtom(np.array([10.542, 35.294, 61.687], dtype=float32), chain_id=\"1.C\", res_id=154, ins_code=\"\", res_name=\"GLY\", hetero=False, atom_name=\"CA\", element=\"C\"),\n",
       "\tAtom(np.array([13.834, 36.746, 62.824], dtype=float32), chain_id=\"1.C\", res_id=155, ins_code=\"\", res_name=\"ALA\", hetero=False, atom_name=\"CA\", element=\"C\"),\n",
       "\tAtom(np.array([15.222, 40.162, 63.736], dtype=float32), chain_id=\"1.C\", res_id=156, ins_code=\"\", res_name=\"LEU\", hetero=False, atom_name=\"CA\", element=\"C\"),\n",
       "\tAtom(np.array([15.557, 42.243, 60.568], dtype=float32), chain_id=\"1.C\", res_id=157, ins_code=\"\", res_name=\"PRO\", hetero=False, atom_name=\"CA\", element=\"C\"),\n",
       "\tAtom(np.array([19.208, 42.031, 59.538], dtype=float32), chain_id=\"1.C\", res_id=158, ins_code=\"\", res_name=\"GLY\", hetero=False, atom_name=\"CA\", element=\"C\"),\n",
       "\tAtom(np.array([19.959, 39.084, 61.789], dtype=float32), chain_id=\"1.C\", res_id=159, ins_code=\"\", res_name=\"THR\", hetero=False, atom_name=\"CA\", element=\"C\"),\n",
       "\tAtom(np.array([23.249, 37.318, 61.43 ], dtype=float32), chain_id=\"1.C\", res_id=160, ins_code=\"\", res_name=\"GLY\", hetero=False, atom_name=\"CA\", element=\"C\"),\n",
       "\tAtom(np.array([22.877, 33.683, 60.339], dtype=float32), chain_id=\"1.C\", res_id=161, ins_code=\"\", res_name=\"ILE\", hetero=False, atom_name=\"CA\", element=\"C\"),\n",
       "\tAtom(np.array([25.23 , 30.867, 61.333], dtype=float32), chain_id=\"1.C\", res_id=162, ins_code=\"\", res_name=\"GLY\", hetero=False, atom_name=\"CA\", element=\"C\"),\n",
       "\tAtom(np.array([24.9  , 27.331, 59.855], dtype=float32), chain_id=\"1.C\", res_id=163, ins_code=\"\", res_name=\"ALA\", hetero=False, atom_name=\"CA\", element=\"C\"),\n",
       "\tAtom(np.array([26.586, 23.93 , 60.055], dtype=float32), chain_id=\"1.C\", res_id=164, ins_code=\"\", res_name=\"THR\", hetero=False, atom_name=\"CA\", element=\"C\"),\n",
       "\tAtom(np.array([25.888, 20.448, 58.72 ], dtype=float32), chain_id=\"1.C\", res_id=165, ins_code=\"\", res_name=\"SER\", hetero=False, atom_name=\"CA\", element=\"C\"),\n",
       "\tAtom(np.array([27.218, 17.233, 60.209], dtype=float32), chain_id=\"1.C\", res_id=166, ins_code=\"\", res_name=\"PHE\", hetero=False, atom_name=\"CA\", element=\"C\"),\n",
       "\tAtom(np.array([26.321, 13.526, 59.884], dtype=float32), chain_id=\"1.C\", res_id=167, ins_code=\"\", res_name=\"ARG\", hetero=False, atom_name=\"CA\", element=\"C\"),\n",
       "\tAtom(np.array([26.187, 11.386, 62.989], dtype=float32), chain_id=\"1.C\", res_id=168, ins_code=\"\", res_name=\"TYR\", hetero=False, atom_name=\"CA\", element=\"C\"),\n",
       "\tAtom(np.array([27.957,  8.072, 62.285], dtype=float32), chain_id=\"1.C\", res_id=169, ins_code=\"\", res_name=\"THR\", hetero=False, atom_name=\"CA\", element=\"C\"),\n",
       "\tAtom(np.array([24.804,  6.126, 63.354], dtype=float32), chain_id=\"1.C\", res_id=170, ins_code=\"\", res_name=\"ASP\", hetero=False, atom_name=\"CA\", element=\"C\"),\n",
       "\tAtom(np.array([22.478,  8.159, 61.086], dtype=float32), chain_id=\"1.C\", res_id=171, ins_code=\"\", res_name=\"TYR\", hetero=False, atom_name=\"CA\", element=\"C\"),\n",
       "\tAtom(np.array([21.552,  7.589, 57.485], dtype=float32), chain_id=\"1.C\", res_id=172, ins_code=\"\", res_name=\"ASN\", hetero=False, atom_name=\"CA\", element=\"C\"),\n",
       "\tAtom(np.array([21.374, 11.231, 56.488], dtype=float32), chain_id=\"1.C\", res_id=173, ins_code=\"\", res_name=\"GLY\", hetero=False, atom_name=\"CA\", element=\"C\"),\n",
       "\tAtom(np.array([22.624, 14.731, 57.341], dtype=float32), chain_id=\"1.C\", res_id=174, ins_code=\"\", res_name=\"PRO\", hetero=False, atom_name=\"CA\", element=\"C\"),\n",
       "\tAtom(np.array([21.765, 17.011, 60.219], dtype=float32), chain_id=\"1.C\", res_id=175, ins_code=\"\", res_name=\"SER\", hetero=False, atom_name=\"CA\", element=\"C\"),\n",
       "\tAtom(np.array([21.637, 20.8  , 60.006], dtype=float32), chain_id=\"1.C\", res_id=176, ins_code=\"\", res_name=\"ILE\", hetero=False, atom_name=\"CA\", element=\"C\"),\n",
       "\tAtom(np.array([21.901, 23.397, 62.78 ], dtype=float32), chain_id=\"1.C\", res_id=177, ins_code=\"\", res_name=\"ARG\", hetero=False, atom_name=\"CA\", element=\"C\"),\n",
       "\tAtom(np.array([21.259, 27.132, 62.182], dtype=float32), chain_id=\"1.C\", res_id=178, ins_code=\"\", res_name=\"ILE\", hetero=False, atom_name=\"CA\", element=\"C\"),\n",
       "\tAtom(np.array([21.503, 30.099, 64.596], dtype=float32), chain_id=\"1.C\", res_id=179, ins_code=\"\", res_name=\"TRP\", hetero=False, atom_name=\"CA\", element=\"C\"),\n",
       "\tAtom(np.array([20.007, 33.574, 64.31 ], dtype=float32), chain_id=\"1.C\", res_id=180, ins_code=\"\", res_name=\"PHE\", hetero=False, atom_name=\"CA\", element=\"C\"),\n",
       "\tAtom(np.array([18.629, 36.432, 66.401], dtype=float32), chain_id=\"1.C\", res_id=181, ins_code=\"\", res_name=\"GLN\", hetero=False, atom_name=\"CA\", element=\"C\"),\n",
       "\tAtom(np.array([15.009, 37.04 , 67.219], dtype=float32), chain_id=\"1.C\", res_id=182, ins_code=\"\", res_name=\"THR\", hetero=False, atom_name=\"CA\", element=\"C\"),\n",
       "\tAtom(np.array([13.231, 40.372, 67.74 ], dtype=float32), chain_id=\"1.C\", res_id=183, ins_code=\"\", res_name=\"ASP\", hetero=False, atom_name=\"CA\", element=\"C\"),\n",
       "\tAtom(np.array([13.819, 40.207, 71.511], dtype=float32), chain_id=\"1.C\", res_id=184, ins_code=\"\", res_name=\"ASP\", hetero=False, atom_name=\"CA\", element=\"C\"),\n",
       "\tAtom(np.array([17.57 , 40.218, 70.762], dtype=float32), chain_id=\"1.C\", res_id=185, ins_code=\"\", res_name=\"LEU\", hetero=False, atom_name=\"CA\", element=\"C\"),\n",
       "\tAtom(np.array([18.162, 36.63 , 71.97 ], dtype=float32), chain_id=\"1.C\", res_id=186, ins_code=\"\", res_name=\"LYS\", hetero=False, atom_name=\"CA\", element=\"C\"),\n",
       "\tAtom(np.array([20.309, 34.271, 69.879], dtype=float32), chain_id=\"1.C\", res_id=187, ins_code=\"\", res_name=\"LEU\", hetero=False, atom_name=\"CA\", element=\"C\"),\n",
       "\tAtom(np.array([18.516, 30.973, 69.077], dtype=float32), chain_id=\"1.C\", res_id=188, ins_code=\"\", res_name=\"VAL\", hetero=False, atom_name=\"CA\", element=\"C\"),\n",
       "\tAtom(np.array([19.192, 27.671, 67.417], dtype=float32), chain_id=\"1.C\", res_id=189, ins_code=\"\", res_name=\"GLN\", hetero=False, atom_name=\"CA\", element=\"C\"),\n",
       "\tAtom(np.array([16.964, 25.818, 65.006], dtype=float32), chain_id=\"1.C\", res_id=190, ins_code=\"\", res_name=\"ARG\", hetero=False, atom_name=\"CA\", element=\"C\"),\n",
       "\tAtom(np.array([17.678, 22.196, 64.215], dtype=float32), chain_id=\"1.C\", res_id=191, ins_code=\"\", res_name=\"ALA\", hetero=False, atom_name=\"CA\", element=\"C\"),\n",
       "\tAtom(np.array([17.092, 19.672, 61.459], dtype=float32), chain_id=\"1.C\", res_id=192, ins_code=\"\", res_name=\"TYR\", hetero=False, atom_name=\"CA\", element=\"C\"),\n",
       "\tAtom(np.array([17.516, 15.899, 61.897], dtype=float32), chain_id=\"1.C\", res_id=193, ins_code=\"\", res_name=\"ASP\", hetero=False, atom_name=\"CA\", element=\"C\"),\n",
       "\tAtom(np.array([16.273, 13.271, 59.397], dtype=float32), chain_id=\"1.C\", res_id=194, ins_code=\"\", res_name=\"PRO\", hetero=False, atom_name=\"CA\", element=\"C\"),\n",
       "\tAtom(np.array([13.773, 11.686, 61.849], dtype=float32), chain_id=\"1.C\", res_id=195, ins_code=\"\", res_name=\"HIS\", hetero=False, atom_name=\"CA\", element=\"C\"),\n",
       "\tAtom(np.array([12.208, 14.882, 63.027], dtype=float32), chain_id=\"1.C\", res_id=196, ins_code=\"\", res_name=\"LYS\", hetero=False, atom_name=\"CA\", element=\"C\"),\n",
       "\tAtom(np.array([12.725, 17.287, 60.196], dtype=float32), chain_id=\"1.C\", res_id=197, ins_code=\"\", res_name=\"GLY\", hetero=False, atom_name=\"CA\", element=\"C\"),\n",
       "\tAtom(np.array([12.951, 20.794, 61.594], dtype=float32), chain_id=\"1.C\", res_id=198, ins_code=\"\", res_name=\"TRP\", hetero=False, atom_name=\"CA\", element=\"C\"),\n",
       "\tAtom(np.array([12.362, 20.635, 65.308], dtype=float32), chain_id=\"1.C\", res_id=199, ins_code=\"\", res_name=\"TYR\", hetero=False, atom_name=\"CA\", element=\"C\"),\n",
       "\tAtom(np.array([ 9.398, 22.84 , 66.296], dtype=float32), chain_id=\"1.C\", res_id=200, ins_code=\"\", res_name=\"PRO\", hetero=False, atom_name=\"CA\", element=\"C\"),\n",
       "\tAtom(np.array([11.24 , 24.656, 69.136], dtype=float32), chain_id=\"1.C\", res_id=201, ins_code=\"\", res_name=\"ASP\", hetero=False, atom_name=\"CA\", element=\"C\"),\n",
       "\tAtom(np.array([13.825, 27.475, 69.073], dtype=float32), chain_id=\"1.C\", res_id=202, ins_code=\"\", res_name=\"LEU\", hetero=False, atom_name=\"CA\", element=\"C\"),\n",
       "\tAtom(np.array([16.605, 26.809, 71.591], dtype=float32), chain_id=\"1.C\", res_id=203, ins_code=\"\", res_name=\"VAL\", hetero=False, atom_name=\"CA\", element=\"C\"),\n",
       "\tAtom(np.array([18.107, 29.965, 73.225], dtype=float32), chain_id=\"1.C\", res_id=204, ins_code=\"\", res_name=\"THR\", hetero=False, atom_name=\"CA\", element=\"C\"),\n",
       "\tAtom(np.array([21.879, 30.012, 73.189], dtype=float32), chain_id=\"1.C\", res_id=205, ins_code=\"\", res_name=\"ILE\", hetero=False, atom_name=\"CA\", element=\"C\"),\n",
       "\tAtom(np.array([22.4  , 33.588, 74.442], dtype=float32), chain_id=\"1.C\", res_id=206, ins_code=\"\", res_name=\"PHE\", hetero=False, atom_name=\"CA\", element=\"C\"),\n",
       "\tAtom(np.array([19.969, 35.798, 76.3  ], dtype=float32), chain_id=\"1.C\", res_id=207, ins_code=\"\", res_name=\"ASP\", hetero=False, atom_name=\"CA\", element=\"C\"),\n",
       "\tAtom(np.array([20.713, 39.213, 74.756], dtype=float32), chain_id=\"1.C\", res_id=208, ins_code=\"\", res_name=\"ARG\", hetero=False, atom_name=\"CA\", element=\"C\"),\n",
       "\tAtom(np.array([23.154, 40.213, 71.999], dtype=float32), chain_id=\"1.C\", res_id=209, ins_code=\"\", res_name=\"ALA\", hetero=False, atom_name=\"CA\", element=\"C\"),\n",
       "\tAtom(np.array([23.736, 43.437, 70.089], dtype=float32), chain_id=\"1.C\", res_id=210, ins_code=\"\", res_name=\"PRO\", hetero=False, atom_name=\"CA\", element=\"C\"),\n",
       "\tAtom(np.array([21.218, 44.048, 67.296], dtype=float32), chain_id=\"1.C\", res_id=211, ins_code=\"\", res_name=\"PRO\", hetero=False, atom_name=\"CA\", element=\"C\"),\n",
       "\tAtom(np.array([22.435, 42.581, 64.029], dtype=float32), chain_id=\"1.C\", res_id=212, ins_code=\"\", res_name=\"ARG\", hetero=False, atom_name=\"CA\", element=\"C\"),\n",
       "\tAtom(np.array([25.505, 41.056, 65.628], dtype=float32), chain_id=\"1.C\", res_id=213, ins_code=\"\", res_name=\"THR\", hetero=False, atom_name=\"CA\", element=\"C\"),\n",
       "\tAtom(np.array([27.584, 38.765, 63.402], dtype=float32), chain_id=\"1.C\", res_id=214, ins_code=\"\", res_name=\"ALA\", hetero=False, atom_name=\"CA\", element=\"C\"),\n",
       "\tAtom(np.array([26.978, 35.04 , 63.992], dtype=float32), chain_id=\"1.C\", res_id=215, ins_code=\"\", res_name=\"ILE\", hetero=False, atom_name=\"CA\", element=\"C\"),\n",
       "\tAtom(np.array([29.182, 32.206, 62.729], dtype=float32), chain_id=\"1.C\", res_id=216, ins_code=\"\", res_name=\"ALA\", hetero=False, atom_name=\"CA\", element=\"C\"),\n",
       "\tAtom(np.array([29.221, 28.492, 63.545], dtype=float32), chain_id=\"1.C\", res_id=217, ins_code=\"\", res_name=\"ALA\", hetero=False, atom_name=\"CA\", element=\"C\"),\n",
       "\tAtom(np.array([31.13 , 25.268, 63.09 ], dtype=float32), chain_id=\"1.C\", res_id=218, ins_code=\"\", res_name=\"THR\", hetero=False, atom_name=\"CA\", element=\"C\"),\n",
       "\tAtom(np.array([30.872, 21.629, 64.18 ], dtype=float32), chain_id=\"1.C\", res_id=219, ins_code=\"\", res_name=\"SER\", hetero=False, atom_name=\"CA\", element=\"C\"),\n",
       "\tAtom(np.array([33.38 , 18.795, 64.405], dtype=float32), chain_id=\"1.C\", res_id=220, ins_code=\"\", res_name=\"PHE\", hetero=False, atom_name=\"CA\", element=\"C\"),\n",
       "\tAtom(np.array([33.927, 15.329, 65.773], dtype=float32), chain_id=\"1.C\", res_id=221, ins_code=\"\", res_name=\"GLY\", hetero=False, atom_name=\"CA\", element=\"C\"),\n",
       "\tAtom(np.array([30.683, 13.611, 64.715], dtype=float32), chain_id=\"1.C\", res_id=222, ins_code=\"\", res_name=\"ALA\", hetero=False, atom_name=\"CA\", element=\"C\"),\n",
       "\tAtom(np.array([30.193, 10.154, 66.232], dtype=float32), chain_id=\"1.C\", res_id=223, ins_code=\"\", res_name=\"GLY\", hetero=False, atom_name=\"CA\", element=\"C\"),\n",
       "\tAtom(np.array([27.302,  7.976, 67.259], dtype=float32), chain_id=\"1.C\", res_id=224, ins_code=\"\", res_name=\"ASN\", hetero=False, atom_name=\"CA\", element=\"C\"),\n",
       "\tAtom(np.array([24.57 , 10.428, 68.183], dtype=float32), chain_id=\"1.C\", res_id=225, ins_code=\"\", res_name=\"SER\", hetero=False, atom_name=\"CA\", element=\"C\"),\n",
       "\tAtom(np.array([27.391, 12.784, 69.269], dtype=float32), chain_id=\"1.C\", res_id=226, ins_code=\"\", res_name=\"SER\", hetero=False, atom_name=\"CA\", element=\"C\"),\n",
       "\tAtom(np.array([28.716, 16.117, 67.981], dtype=float32), chain_id=\"1.C\", res_id=227, ins_code=\"\", res_name=\"ILE\", hetero=False, atom_name=\"CA\", element=\"C\"),\n",
       "\tAtom(np.array([30.701, 19.192, 69.124], dtype=float32), chain_id=\"1.C\", res_id=228, ins_code=\"\", res_name=\"TYR\", hetero=False, atom_name=\"CA\", element=\"C\"),\n",
       "\tAtom(np.array([29.62 , 22.667, 68.009], dtype=float32), chain_id=\"1.C\", res_id=229, ins_code=\"\", res_name=\"MET\", hetero=False, atom_name=\"CA\", element=\"C\"),\n",
       "\tAtom(np.array([30.928, 26.193, 68.412], dtype=float32), chain_id=\"1.C\", res_id=230, ins_code=\"\", res_name=\"ARG\", hetero=False, atom_name=\"CA\", element=\"C\"),\n",
       "\tAtom(np.array([29.026, 29.409, 67.78 ], dtype=float32), chain_id=\"1.C\", res_id=231, ins_code=\"\", res_name=\"ILE\", hetero=False, atom_name=\"CA\", element=\"C\"),\n",
       "\tAtom(np.array([30.61 , 32.868, 67.689], dtype=float32), chain_id=\"1.C\", res_id=232, ins_code=\"\", res_name=\"TYR\", hetero=False, atom_name=\"CA\", element=\"C\"),\n",
       "\tAtom(np.array([29.075, 36.325, 67.854], dtype=float32), chain_id=\"1.C\", res_id=233, ins_code=\"\", res_name=\"PHE\", hetero=False, atom_name=\"CA\", element=\"C\"),\n",
       "\tAtom(np.array([30.165, 39.864, 68.646], dtype=float32), chain_id=\"1.C\", res_id=234, ins_code=\"\", res_name=\"VAL\", hetero=False, atom_name=\"CA\", element=\"C\"),\n",
       "\tAtom(np.array([29.046, 40.927, 72.063], dtype=float32), chain_id=\"1.C\", res_id=235, ins_code=\"\", res_name=\"ASN\", hetero=False, atom_name=\"CA\", element=\"C\"),\n",
       "\tAtom(np.array([28.386, 44.358, 73.569], dtype=float32), chain_id=\"1.C\", res_id=236, ins_code=\"\", res_name=\"SER\", hetero=False, atom_name=\"CA\", element=\"C\"),\n",
       "\tAtom(np.array([31.951, 44.422, 74.943], dtype=float32), chain_id=\"1.C\", res_id=237, ins_code=\"\", res_name=\"ASP\", hetero=False, atom_name=\"CA\", element=\"C\"),\n",
       "\tAtom(np.array([33.341, 44.568, 71.393], dtype=float32), chain_id=\"1.C\", res_id=238, ins_code=\"\", res_name=\"ASN\", hetero=False, atom_name=\"CA\", element=\"C\"),\n",
       "\tAtom(np.array([34.754, 41.048, 71.6  ], dtype=float32), chain_id=\"1.C\", res_id=239, ins_code=\"\", res_name=\"THR\", hetero=False, atom_name=\"CA\", element=\"C\"),\n",
       "\tAtom(np.array([33.927, 37.755, 69.915], dtype=float32), chain_id=\"1.C\", res_id=240, ins_code=\"\", res_name=\"ILE\", hetero=False, atom_name=\"CA\", element=\"C\"),\n",
       "\tAtom(np.array([32.209, 35.414, 72.325], dtype=float32), chain_id=\"1.C\", res_id=241, ins_code=\"\", res_name=\"TRP\", hetero=False, atom_name=\"CA\", element=\"C\"),\n",
       "\tAtom(np.array([32.048, 31.688, 71.906], dtype=float32), chain_id=\"1.C\", res_id=242, ins_code=\"\", res_name=\"GLN\", hetero=False, atom_name=\"CA\", element=\"C\"),\n",
       "\tAtom(np.array([29.167, 29.34 , 72.83 ], dtype=float32), chain_id=\"1.C\", res_id=243, ins_code=\"\", res_name=\"VAL\", hetero=False, atom_name=\"CA\", element=\"C\"),\n",
       "\tAtom(np.array([30.053, 25.646, 73.341], dtype=float32), chain_id=\"1.C\", res_id=244, ins_code=\"\", res_name=\"CSD\", hetero=True, atom_name=\"CA\", element=\"C\"),\n",
       "\tAtom(np.array([28.068, 22.515, 72.656], dtype=float32), chain_id=\"1.C\", res_id=245, ins_code=\"\", res_name=\"TRP\", hetero=False, atom_name=\"CA\", element=\"C\"),\n",
       "\tAtom(np.array([30.098, 19.504, 73.799], dtype=float32), chain_id=\"1.C\", res_id=246, ins_code=\"\", res_name=\"ASP\", hetero=False, atom_name=\"CA\", element=\"C\"),\n",
       "\tAtom(np.array([28.765, 15.966, 73.685], dtype=float32), chain_id=\"1.C\", res_id=247, ins_code=\"\", res_name=\"HIS\", hetero=False, atom_name=\"CA\", element=\"C\"),\n",
       "\tAtom(np.array([27.653, 14.773, 77.119], dtype=float32), chain_id=\"1.C\", res_id=248, ins_code=\"\", res_name=\"GLY\", hetero=False, atom_name=\"CA\", element=\"C\"),\n",
       "\tAtom(np.array([27.289, 18.341, 78.446], dtype=float32), chain_id=\"1.C\", res_id=249, ins_code=\"\", res_name=\"LYS\", hetero=False, atom_name=\"CA\", element=\"C\"),\n",
       "\tAtom(np.array([25.142, 20.136, 75.878], dtype=float32), chain_id=\"1.C\", res_id=250, ins_code=\"\", res_name=\"GLY\", hetero=False, atom_name=\"CA\", element=\"C\"),\n",
       "\tAtom(np.array([25.202, 23.925, 75.82 ], dtype=float32), chain_id=\"1.C\", res_id=251, ins_code=\"\", res_name=\"TYR\", hetero=False, atom_name=\"CA\", element=\"C\"),\n",
       "\tAtom(np.array([27.284, 24.241, 78.981], dtype=float32), chain_id=\"1.C\", res_id=252, ins_code=\"\", res_name=\"HIS\", hetero=False, atom_name=\"CA\", element=\"C\"),\n",
       "\tAtom(np.array([29.672, 27.18 , 78.559], dtype=float32), chain_id=\"1.C\", res_id=253, ins_code=\"\", res_name=\"ASP\", hetero=False, atom_name=\"CA\", element=\"C\"),\n",
       "\tAtom(np.array([30.303, 30.475, 76.843], dtype=float32), chain_id=\"1.C\", res_id=254, ins_code=\"\", res_name=\"LYS\", hetero=False, atom_name=\"CA\", element=\"C\"),\n",
       "\tAtom(np.array([32.706, 33.377, 77.106], dtype=float32), chain_id=\"1.C\", res_id=255, ins_code=\"\", res_name=\"GLY\", hetero=False, atom_name=\"CA\", element=\"C\"),\n",
       "\tAtom(np.array([34.938, 35.947, 75.469], dtype=float32), chain_id=\"1.C\", res_id=256, ins_code=\"\", res_name=\"THR\", hetero=False, atom_name=\"CA\", element=\"C\"),\n",
       "\tAtom(np.array([37.594, 34.96 , 72.957], dtype=float32), chain_id=\"1.C\", res_id=257, ins_code=\"\", res_name=\"ILE\", hetero=False, atom_name=\"CA\", element=\"C\"),\n",
       "\tAtom(np.array([39.254, 38.034, 71.463], dtype=float32), chain_id=\"1.C\", res_id=258, ins_code=\"\", res_name=\"THR\", hetero=False, atom_name=\"CA\", element=\"C\"),\n",
       "\tAtom(np.array([38.664, 41.805, 70.99 ], dtype=float32), chain_id=\"1.C\", res_id=259, ins_code=\"\", res_name=\"PRO\", hetero=False, atom_name=\"CA\", element=\"C\"),\n",
       "\tAtom(np.array([37.343, 43.1  , 67.63 ], dtype=float32), chain_id=\"1.C\", res_id=260, ins_code=\"\", res_name=\"VAL\", hetero=False, atom_name=\"CA\", element=\"C\"),\n",
       "\tAtom(np.array([36.424, 46.395, 66.037], dtype=float32), chain_id=\"1.C\", res_id=261, ins_code=\"\", res_name=\"ILE\", hetero=False, atom_name=\"CA\", element=\"C\"),\n",
       "\tAtom(np.array([32.9  , 47.663, 66.697], dtype=float32), chain_id=\"1.C\", res_id=262, ins_code=\"\", res_name=\"GLN\", hetero=False, atom_name=\"CA\", element=\"C\"),\n",
       "\tAtom(np.array([30.635, 45.751, 64.26 ], dtype=float32), chain_id=\"1.C\", res_id=263, ins_code=\"\", res_name=\"GLY\", hetero=False, atom_name=\"CA\", element=\"C\"),\n",
       "\tAtom(np.array([33.28 , 43.276, 63.008], dtype=float32), chain_id=\"1.C\", res_id=264, ins_code=\"\", res_name=\"SER\", hetero=False, atom_name=\"CA\", element=\"C\"),\n",
       "\tAtom(np.array([32.091, 40.342, 61.027], dtype=float32), chain_id=\"1.C\", res_id=265, ins_code=\"\", res_name=\"GLU\", hetero=False, atom_name=\"CA\", element=\"C\"),\n",
       "\tAtom(np.array([33.338, 36.853, 61.843], dtype=float32), chain_id=\"1.C\", res_id=266, ins_code=\"\", res_name=\"VAL\", hetero=False, atom_name=\"CA\", element=\"C\"),\n",
       "\tAtom(np.array([34.187, 33.555, 60.092], dtype=float32), chain_id=\"1.C\", res_id=267, ins_code=\"\", res_name=\"ALA\", hetero=False, atom_name=\"CA\", element=\"C\"),\n",
       "\tAtom(np.array([35.076, 30.172, 61.599], dtype=float32), chain_id=\"1.C\", res_id=268, ins_code=\"\", res_name=\"ILE\", hetero=False, atom_name=\"CA\", element=\"C\"),\n",
       "\tAtom(np.array([36.617, 26.986, 60.126], dtype=float32), chain_id=\"1.C\", res_id=269, ins_code=\"\", res_name=\"ILE\", hetero=False, atom_name=\"CA\", element=\"C\"),\n",
       "\tAtom(np.array([37.575, 23.784, 61.903], dtype=float32), chain_id=\"1.C\", res_id=270, ins_code=\"\", res_name=\"SER\", hetero=False, atom_name=\"CA\", element=\"C\"),\n",
       "\tAtom(np.array([39.012, 20.34 , 61.298], dtype=float32), chain_id=\"1.C\", res_id=271, ins_code=\"\", res_name=\"TRP\", hetero=False, atom_name=\"CA\", element=\"C\"),\n",
       "\tAtom(np.array([39.945, 17.286, 63.313], dtype=float32), chain_id=\"1.C\", res_id=272, ins_code=\"\", res_name=\"GLY\", hetero=False, atom_name=\"CA\", element=\"C\"),\n",
       "\tAtom(np.array([38.578, 16.194, 66.67 ], dtype=float32), chain_id=\"1.C\", res_id=273, ins_code=\"\", res_name=\"SER\", hetero=False, atom_name=\"CA\", element=\"C\"),\n",
       "\tAtom(np.array([39.244, 15.782, 70.356], dtype=float32), chain_id=\"1.C\", res_id=274, ins_code=\"\", res_name=\"PHE\", hetero=False, atom_name=\"CA\", element=\"C\"),\n",
       "\tAtom(np.array([39.706, 12.051, 69.787], dtype=float32), chain_id=\"1.C\", res_id=275, ins_code=\"\", res_name=\"ALA\", hetero=False, atom_name=\"CA\", element=\"C\"),\n",
       "\tAtom(np.array([42.471, 12.568, 67.222], dtype=float32), chain_id=\"1.C\", res_id=276, ins_code=\"\", res_name=\"ASN\", hetero=False, atom_name=\"CA\", element=\"C\"),\n",
       "\tAtom(np.array([44.648, 15.257, 68.88 ], dtype=float32), chain_id=\"1.C\", res_id=277, ins_code=\"\", res_name=\"ASN\", hetero=False, atom_name=\"CA\", element=\"C\"),\n",
       "\tAtom(np.array([42.486, 18.171, 67.705], dtype=float32), chain_id=\"1.C\", res_id=278, ins_code=\"\", res_name=\"GLY\", hetero=False, atom_name=\"CA\", element=\"C\"),\n",
       "\tAtom(np.array([40.354, 19.947, 66.807], dtype=float32), chain_id=\"1.C\", res_id=279, ins_code=\"\", res_name=\"PRO\", hetero=False, atom_name=\"CA\", element=\"C\"),\n",
       "\tAtom(np.array([41.922, 22.891, 65.034], dtype=float32), chain_id=\"1.C\", res_id=280, ins_code=\"\", res_name=\"ASP\", hetero=False, atom_name=\"CA\", element=\"C\"),\n",
       "\tAtom(np.array([39.872, 26.131, 64.933], dtype=float32), chain_id=\"1.C\", res_id=281, ins_code=\"\", res_name=\"LEU\", hetero=False, atom_name=\"CA\", element=\"C\"),\n",
       "\tAtom(np.array([40.569, 29.293, 63.008], dtype=float32), chain_id=\"1.C\", res_id=282, ins_code=\"\", res_name=\"ARG\", hetero=False, atom_name=\"CA\", element=\"C\"),\n",
       "\tAtom(np.array([38.584, 32.522, 63.403], dtype=float32), chain_id=\"1.C\", res_id=283, ins_code=\"\", res_name=\"LEU\", hetero=False, atom_name=\"CA\", element=\"C\"),\n",
       "\tAtom(np.array([38.778, 35.493, 61.058], dtype=float32), chain_id=\"1.C\", res_id=284, ins_code=\"\", res_name=\"TYR\", hetero=False, atom_name=\"CA\", element=\"C\"),\n",
       "\tAtom(np.array([37.594, 38.992, 62.008], dtype=float32), chain_id=\"1.C\", res_id=285, ins_code=\"\", res_name=\"PHE\", hetero=False, atom_name=\"CA\", element=\"C\"),\n",
       "\tAtom(np.array([38.818, 42.618, 62.143], dtype=float32), chain_id=\"1.C\", res_id=286, ins_code=\"\", res_name=\"GLN\", hetero=False, atom_name=\"CA\", element=\"C\"),\n",
       "\tAtom(np.array([40.439, 43.865, 65.314], dtype=float32), chain_id=\"1.C\", res_id=287, ins_code=\"\", res_name=\"ASN\", hetero=False, atom_name=\"CA\", element=\"C\"),\n",
       "\tAtom(np.array([42.099, 47.056, 64.049], dtype=float32), chain_id=\"1.C\", res_id=288, ins_code=\"\", res_name=\"GLY\", hetero=False, atom_name=\"CA\", element=\"C\"),\n",
       "\tAtom(np.array([45.355, 45.616, 62.828], dtype=float32), chain_id=\"1.C\", res_id=289, ins_code=\"\", res_name=\"THR\", hetero=False, atom_name=\"CA\", element=\"C\"),\n",
       "\tAtom(np.array([46.634, 48.049, 60.195], dtype=float32), chain_id=\"1.C\", res_id=290, ins_code=\"\", res_name=\"TYR\", hetero=False, atom_name=\"CA\", element=\"C\"),\n",
       "\tAtom(np.array([43.217, 49.69 , 60.802], dtype=float32), chain_id=\"1.C\", res_id=291, ins_code=\"\", res_name=\"ILE\", hetero=False, atom_name=\"CA\", element=\"C\"),\n",
       "\tAtom(np.array([41.315, 47.512, 58.297], dtype=float32), chain_id=\"1.C\", res_id=292, ins_code=\"\", res_name=\"SER\", hetero=False, atom_name=\"CA\", element=\"C\"),\n",
       "\tAtom(np.array([43.241, 44.254, 57.92 ], dtype=float32), chain_id=\"1.C\", res_id=293, ins_code=\"\", res_name=\"ALA\", hetero=False, atom_name=\"CA\", element=\"C\"),\n",
       "\tAtom(np.array([41.642, 40.899, 58.604], dtype=float32), chain_id=\"1.C\", res_id=294, ins_code=\"\", res_name=\"VAL\", hetero=False, atom_name=\"CA\", element=\"C\"),\n",
       "\tAtom(np.array([43.225, 38.997, 61.562], dtype=float32), chain_id=\"1.C\", res_id=295, ins_code=\"\", res_name=\"SER\", hetero=False, atom_name=\"CA\", element=\"C\"),\n",
       "\tAtom(np.array([43.223, 35.354, 62.655], dtype=float32), chain_id=\"1.C\", res_id=296, ins_code=\"\", res_name=\"GLU\", hetero=False, atom_name=\"CA\", element=\"C\"),\n",
       "\tAtom(np.array([42.762, 33.544, 65.958], dtype=float32), chain_id=\"1.C\", res_id=297, ins_code=\"\", res_name=\"TRP\", hetero=False, atom_name=\"CA\", element=\"C\"),\n",
       "\tAtom(np.array([43.927, 29.962, 66.475], dtype=float32), chain_id=\"1.C\", res_id=298, ins_code=\"\", res_name=\"VAL\", hetero=False, atom_name=\"CA\", element=\"C\"),\n",
       "\tAtom(np.array([42.877, 27.15 , 68.728], dtype=float32), chain_id=\"1.C\", res_id=299, ins_code=\"\", res_name=\"TRP\", hetero=False, atom_name=\"CA\", element=\"C\"),\n",
       "\tAtom(np.array([44.807, 23.896, 68.768], dtype=float32), chain_id=\"1.C\", res_id=300, ins_code=\"\", res_name=\"ASN\", hetero=False, atom_name=\"CA\", element=\"C\"),\n",
       "\tAtom(np.array([45.873, 21.187, 71.218], dtype=float32), chain_id=\"1.C\", res_id=301, ins_code=\"\", res_name=\"ARG\", hetero=False, atom_name=\"CA\", element=\"C\"),\n",
       "\tAtom(np.array([49.536, 22.203, 71.185], dtype=float32), chain_id=\"1.C\", res_id=302, ins_code=\"\", res_name=\"ALA\", hetero=False, atom_name=\"CA\", element=\"C\"),\n",
       "\tAtom(np.array([49.042, 25.799, 72.488], dtype=float32), chain_id=\"1.C\", res_id=303, ins_code=\"\", res_name=\"HIS\", hetero=False, atom_name=\"CA\", element=\"C\"),\n",
       "\tAtom(np.array([45.294, 26.37 , 73.032], dtype=float32), chain_id=\"1.C\", res_id=304, ins_code=\"\", res_name=\"GLY\", hetero=False, atom_name=\"CA\", element=\"C\"),\n",
       "\tAtom(np.array([44.029, 29.898, 72.351], dtype=float32), chain_id=\"1.C\", res_id=305, ins_code=\"\", res_name=\"SER\", hetero=False, atom_name=\"CA\", element=\"C\"),\n",
       "\tAtom(np.array([46.497, 32.157, 70.449], dtype=float32), chain_id=\"1.C\", res_id=306, ins_code=\"\", res_name=\"GLN\", hetero=False, atom_name=\"CA\", element=\"C\"),\n",
       "\tAtom(np.array([46.396, 34.978, 67.94 ], dtype=float32), chain_id=\"1.C\", res_id=307, ins_code=\"\", res_name=\"LEU\", hetero=False, atom_name=\"CA\", element=\"C\"),\n",
       "\tAtom(np.array([47.458, 33.723, 64.538], dtype=float32), chain_id=\"1.C\", res_id=308, ins_code=\"\", res_name=\"GLY\", hetero=False, atom_name=\"CA\", element=\"C\"),\n",
       "\tAtom(np.array([48.264, 35.732, 61.452], dtype=float32), chain_id=\"1.C\", res_id=309, ins_code=\"\", res_name=\"ARG\", hetero=False, atom_name=\"CA\", element=\"C\"),\n",
       "\tAtom(np.array([48.208, 39.343, 62.504], dtype=float32), chain_id=\"1.C\", res_id=310, ins_code=\"\", res_name=\"SER\", hetero=False, atom_name=\"CA\", element=\"C\"),\n",
       "\tAtom(np.array([47.214, 40.715, 59.093], dtype=float32), chain_id=\"1.C\", res_id=311, ins_code=\"\", res_name=\"ALA\", hetero=False, atom_name=\"CA\", element=\"C\"),\n",
       "\tAtom(np.array([46.048, 38.514, 56.263], dtype=float32), chain_id=\"1.C\", res_id=312, ins_code=\"\", res_name=\"LEU\", hetero=False, atom_name=\"CA\", element=\"C\"),\n",
       "\tAtom(np.array([47.07 , 39.134, 52.685], dtype=float32), chain_id=\"1.C\", res_id=313, ins_code=\"\", res_name=\"PRO\", hetero=False, atom_name=\"CA\", element=\"C\"),\n",
       "\tAtom(np.array([46.856, 41.655, 50.991], dtype=float32), chain_id=\"1.C\", res_id=314, ins_code=\"\", res_name=\"PRO\", hetero=False, atom_name=\"CA\", element=\"C\"),\n",
       "\tAtom(np.array([47.911, 43.592, 54.139], dtype=float32), chain_id=\"1.C\", res_id=315, ins_code=\"\", res_name=\"ALA\", hetero=False, atom_name=\"CA\", element=\"C\")\n",
       "])"
      ]
     },
     "execution_count": 35,
     "metadata": {},
     "output_type": "execute_result"
    }
   ],
   "source": [
    "calpha_atom_array = system_structure.protein_atom_array[\n",
    "    list(system_structure.protein_calpha_mask.values())[0]\n",
    "]\n",
    "calpha_atom_array"
   ]
  },
  {
   "cell_type": "markdown",
   "metadata": {},
   "source": [
    "You can also filter by arbitrary properties of the `AtomArray` using the `filter` method. This returns a new `Structure` object."
   ]
  },
  {
   "cell_type": "code",
   "execution_count": 36,
   "metadata": {},
   "outputs": [],
   "source": [
    "calpha_structure = system_structure.filter(\n",
    "    property=\"atom_name\",\n",
    "    mask=\"CA\",\n",
    ")"
   ]
  },
  {
   "cell_type": "code",
   "execution_count": 37,
   "metadata": {},
   "outputs": [
    {
     "data": {
      "text/plain": [
       "(314, 3)"
      ]
     },
     "execution_count": 37,
     "metadata": {},
     "output_type": "execute_result"
    }
   ],
   "source": [
    "calpha_structure.protein_atom_array.coord.shape"
   ]
  },
  {
   "cell_type": "markdown",
   "metadata": {},
   "source": [
    "### Get protein chain ordered\n",
    "This gives a list of protein chains ordered by how they are in the structure"
   ]
  },
  {
   "cell_type": "code",
   "execution_count": 38,
   "metadata": {},
   "outputs": [
    {
     "data": {
      "text/plain": [
       "['1.C']"
      ]
     },
     "execution_count": 38,
     "metadata": {},
     "output_type": "execute_result"
    }
   ],
   "source": [
    "system_structure.protein_chain_ordered"
   ]
  },
  {
   "cell_type": "markdown",
   "metadata": {},
   "source": [
    "### Get protein chains for all atoms\n",
    "The list of chain IDs in the structure. Order of how they appear not kept."
   ]
  },
  {
   "cell_type": "code",
   "execution_count": 40,
   "metadata": {},
   "outputs": [
    {
     "data": {
      "text/plain": [
       "['1.C']"
      ]
     },
     "execution_count": 40,
     "metadata": {},
     "output_type": "execute_result"
    }
   ],
   "source": [
    "system_structure.protein_chain_ordered"
   ]
  },
  {
   "cell_type": "markdown",
   "metadata": {},
   "source": [
    "### Get protein coordinates\n",
    "This property gets the 3D positions of each of the atoms in protein molecules"
   ]
  },
  {
   "cell_type": "code",
   "execution_count": 41,
   "metadata": {},
   "outputs": [
    {
     "data": {
      "text/plain": [
       "[array([[48.761, 52.015, 58.719],\n",
       "        [48.178, 50.968, 57.827],\n",
       "        [49.186, 50.593, 56.712],\n",
       "        ...,\n",
       "        [50.066, 42.485, 54.198],\n",
       "        [47.368, 43.433, 55.544],\n",
       "        [50.022, 44.674, 54.248]], dtype=float32)]"
      ]
     },
     "execution_count": 41,
     "metadata": {},
     "output_type": "execute_result"
    }
   ],
   "source": [
    "system_structure.protein_coords"
   ]
  },
  {
   "cell_type": "markdown",
   "metadata": {},
   "source": [
    "### Get sequence from protein structure\n"
   ]
  },
  {
   "cell_type": "code",
   "execution_count": 42,
   "metadata": {},
   "outputs": [
    {
     "data": {
      "text/plain": [
       "{'1.C': 'STPGAQQVLFRTGIAAVNSTNHLRVYFQDVYGSIRESLYEGSWANGTEKNVIGNAKLGSPVAATSKELKHIRVYTLTEGNTLQEFAYDSGTGWYNGGLGGAKFQVAPYSXIAAVFLAGTDALQLRIYAQKPDNTIQEYMWNGDGWKEGTNLGGALPGTGIGATSFRYTDYNGPSIRIWFQTDDLKLVQRAYDPHKGWYPDLVTIFDRAPPRTAIAATSFGAGNSSIYMRIYFVNSDNTIWQVCWDHGKGYHDKGTITPVIQGSEVAIISWGSFANNGPDLRLYFQNGTYISAVSEWVWNRAHGSQLGRSALPPA'}"
      ]
     },
     "execution_count": 42,
     "metadata": {},
     "output_type": "execute_result"
    }
   ],
   "source": [
    "system_structure.protein_sequence_from_structure"
   ]
  },
  {
   "cell_type": "markdown",
   "metadata": {},
   "source": [
    "Note that this is different from the canonical SEQRES sequence due to unresolved terminal residues:"
   ]
  },
  {
   "cell_type": "code",
   "execution_count": 43,
   "metadata": {},
   "outputs": [
    {
     "data": {
      "text/plain": [
       "{'1.C': 'MSTPGAQQVLFRTGIAAVNSTNHLRVYFQDVYGSIRESLYEGSWANGTEKNVIGNAKLGSPVAATSKELKHIRVYTLTEGNTLQEFAYDSGTGWYNGGLGGAKFQVAPYSXIAAVFLAGTDALQLRIYAQKPDNTIQEYMWNGDGWKEGTNLGGALPGTGIGATSFRYTDYNGPSIRIWFQTDDLKLVQRAYDPHKGWYPDLVTIFDRAPPRTAIAATSFGAGNSSIYMRIYFVNSDNTIWQVCWDHGKGYHDKGTITPVIQGSEVAIISWGSFANNGPDLRLYFQNGTYISAVSEWVWNRAHGSQLGRSALPPA'}"
      ]
     },
     "execution_count": 43,
     "metadata": {},
     "output_type": "execute_result"
    }
   ],
   "source": [
    "system_structure.protein_sequence"
   ]
  },
  {
   "cell_type": "markdown",
   "metadata": {},
   "source": [
    "### More complex example - two proteins [ TO BE FIXED ]"
   ]
  },
  {
   "cell_type": "code",
   "execution_count": null,
   "metadata": {},
   "outputs": [
    {
     "name": "stderr",
     "output_type": "stream",
     "text": [
      "2024-10-22 12:12:34,047 | plinder.core.utils.cpl.download_paths:24 | INFO : runtime succeeded: 0.00s\n",
      "2024-10-22 12:12:34,049 | plinder.core.utils.cpl.download_paths:24 | INFO : runtime succeeded: 0.00s\n",
      "2024-10-22 12:12:34,165 | plinder.core.utils.cpl.download_paths:24 | INFO : runtime succeeded: 0.00s\n",
      "2024-10-22 12:12:34,166 | plinder.core.utils.cpl.download_paths:24 | INFO : runtime succeeded: 0.00s\n",
      "2024-10-22 12:12:34,168 | plinder.core.index.utils:148 | INFO : loading entries from 1 zips\n",
      "2024-10-22 12:12:34,174 | plinder.core.index.utils:163 | INFO : loaded 1 entries\n",
      "2024-10-22 12:12:34,175 | plinder.core.index.utils.load_entries:24 | INFO : runtime succeeded: 0.12s\n"
     ]
    }
   ],
   "source": [
    "# plinder_system = PlinderSystem(system_id=\"5fqd__1__1.B_1.C__1.H\")\n",
    "# system_structure = plinder_system.holo_structure"
   ]
  },
  {
   "cell_type": "code",
   "execution_count": null,
   "metadata": {},
   "outputs": [
    {
     "ename": "IndexError",
     "evalue": "boolean index did not match indexed array along dimension 0; dimension is 3068 but corresponding boolean dimension is 5491",
     "output_type": "error",
     "traceback": [
      "\u001b[0;31m---------------------------------------------------------------------------\u001b[0m",
      "\u001b[0;31mIndexError\u001b[0m                                Traceback (most recent call last)",
      "Cell \u001b[0;32mIn[156], line 1\u001b[0m\n\u001b[0;32m----> 1\u001b[0m \u001b[43msystem_structure\u001b[49m\u001b[38;5;241;43m.\u001b[39;49m\u001b[43mprotein_coords\u001b[49m\u001b[43m[\u001b[49m\u001b[38;5;241;43m0\u001b[39;49m\u001b[43m]\u001b[49m\u001b[43m[\u001b[49m\u001b[43msystem_structure\u001b[49m\u001b[38;5;241;43m.\u001b[39;49m\u001b[43mprotein_calpha_mask\u001b[49m\u001b[43m]\u001b[49m \u001b[38;5;241m==\u001b[39m system_structure\u001b[38;5;241m.\u001b[39mprotein_calpha_coords[\u001b[38;5;241m0\u001b[39m]\n",
      "\u001b[0;31mIndexError\u001b[0m: boolean index did not match indexed array along dimension 0; dimension is 3068 but corresponding boolean dimension is 5491"
     ]
    }
   ],
   "source": [
    "# system_structure.protein_coords[0][system_structure.protein_calpha_mask] == system_structure.protein_calpha_coords[0]\n",
    "# IndexError: boolean index did not match indexed array along dimension 0; dimension is 3068 but corresponding boolean dimension is 5491"
   ]
  },
  {
   "cell_type": "markdown",
   "metadata": {},
   "source": [
    "## Linked protein input structures [ TO ADD ?]\n",
    "\n",
    "\n",
    "For realistic inference scenarios we need to initialize our protein structures using a linked structure (introduced above). In most cases, these will not be a perfect match to the _holo_ structure - the number of residues, residue numbering, and sometime the sequnce can be different. It's important to be able to match these structures to ensure that we can map between them. \n",
    "\n",
    "In the example below, we will take a _holo_ structure and it's linked predicted (_pred_) form with different number of residues and  match and crop the resulting structures to figure out the correspondence between their residues. For this we use the `align_common_sequence` function of the holo `Structure` object, which aligns two structures based on their shared sequences. It has the following parameters:\n",
    "\n",
    "```\n",
    "other: Structure\n",
    "    The other structure to align to\n",
    "copy: bool\n",
    "    Whether to make a copy or edit in-place\n",
    "remove_differing_atoms: bool\n",
    "    Whether to remove differing atoms between the two structure\n",
    "renumber_residues: bool [False]\n",
    "    If True, renumber residues in the two structures to match and starting from 1.\n",
    "    If False, sets the resulting residue indices to the one from the aligned sequence\n",
    "remove_differing_annotations: bool [False]\n",
    "    Whether to remove differing annotations, like b-factor, etc\n",
    "```\n",
    "In this example, we will match, make copies and crop the structures.\n",
    "\n",
    ":::{note} To use this function the proteins to be aligned must have the same chain ids. So, we first set the chain id of the predicted structure to that of the holo structure. :::\n",
    "\n",
    "```python\n",
    "plinder_system = PlinderSystem(system_id=\"4cj6__1__1.A__1.B\")\n",
    "holo = plinder_system.holo_structure\n",
    "predicted = plinder_system.alternate_structures[\"P12271_A\"]\n",
    "predicted.set_chain(holo.protein_chain_ordered[0])\n",
    "holo_cropped, predicted_cropped = holo.align_common_sequence(predicted)\n",
    "predicted_cropped_superposed, raw_rmsd, refined_rmsd = predicted_cropped.superimpose(\n",
    "    holo_cropped\n",
    ")\n",
    "```"
   ]
  },
  {
   "cell_type": "markdown",
   "metadata": {},
   "source": []
  }
 ],
 "metadata": {
  "kernelspec": {
   "display_name": "Python 3",
   "language": "python",
   "name": "python3"
  },
  "language_info": {
   "codemirror_mode": {
    "name": "ipython",
    "version": 3
   },
   "file_extension": ".py",
   "mimetype": "text/x-python",
   "name": "python",
   "nbconvert_exporter": "python",
   "pygments_lexer": "ipython3",
   "version": "3.10.14"
  }
 },
 "nbformat": 4,
 "nbformat_minor": 2
}
