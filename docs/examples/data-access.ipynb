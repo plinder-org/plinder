{
 "cells": [
  {
   "cell_type": "markdown",
   "metadata": {},
   "source": [
    "# Loading data for training ML models\n",
    "This goal of this tutorial is to provide a simple hands-on example of how a user might load PLINDER dataset in prepparation for training machine learning models. Here, we are going to show an example of how to get the fasta sequence and smiles proteins and ligands. In the process, we will show:\n",
    "- How load use `PlinderDataset` to load data direclty from a given split dataframe\n",
    "- How one might use a diversity sampler along with the dataset loader\n",
    "- Extract specific data one might want to use for training specific ML model"
   ]
  },
  {
   "cell_type": "markdown",
   "metadata": {},
   "source": [
    "### Load dataset\n",
    "We recommend users interact with the dataset using PLINDER Python API. class {class}`PlinderDataset` is the primary method of access data.\n",
    "\n",
    "- `df`: the split to use\n",
    "- `split`: the split to sample from\n",
    "- `file_with_system_ids`: path to a file containing a list of system ids (default: full index)\n",
    "- `store_file_path`: if True, include the file path of the source structures in the dataset\n",
    "- `load_alternative_structures`: if True, include alternative structures in the dataset\n",
    "- `num_alternative_structures`: number of alternative structures (apo and pred) to include\n",
    "\n",
    "Below, we are providing a function to access class {class}`PlinderDataset` and samples from protein-ligand similarity cluster based on sampling user-defined function `sampler_func` via a warpper function `load_dataset_path`. \n",
    "\n"
   ]
  },
  {
   "cell_type": "code",
   "execution_count": 23,
   "metadata": {},
   "outputs": [],
   "source": [
    "from __future__ import annotations\n",
    "\n",
    "from typing import Callable\n",
    "import pandas as pd\n",
    "from plinder.core import get_split, PlinderDataset\n",
    "from pathlib import Path\n",
    "from plinder.core.utils.log import setup_logger\n",
    "\n",
    "LOG = setup_logger(__name__)\n",
    "\n",
    "def load_dataset_path(\n",
    "        split_df: pd.DataFrame,\n",
    "        split: str = \"train\",\n",
    "        split_parquet_path: Path | None =None,\n",
    "        store_file_path: bool = True,\n",
    "        load_alternative_structures: bool = True,\n",
    "        num_alternative_structures: int = 1,\n",
    "        max_num_sample: int | None = None,\n",
    "        sampler_func: Callable | None =None):\n",
    "    \"\"\"\n",
    "    Load dataset from splits dataframe\n",
    "\n",
    "    Parameters\n",
    "    ----------\n",
    "    split_df : pd.DataFrame | None\n",
    "        the split to use\n",
    "    split : str\n",
    "        the split to sample from\n",
    "    file_with_system_ids : str | Path\n",
    "        path to a file containing a list of system ids (default: full index)\n",
    "    store_file_path : bool, default=True\n",
    "        if True, include the file path of the source structures in the dataset\n",
    "    load_alternative_structures : bool, default=False\n",
    "        if True, include alternative structures in the dataset\n",
    "    num_alternative_structures : int, default=1\n",
    "        number of alternative structures (apo and pred) to include\n",
    "    max_num_sample: int | None, default = None\n",
    "        maximum number of sample to return\n",
    "    sampler_func: Callable | None, default=None\n",
    "        user-defined diversity sampler\n",
    "    \"\"\"\n",
    "    dataset = PlinderDataset(\n",
    "        df=split_df,\n",
    "        split=split,\n",
    "        split_parquet_path=split_parquet_path,\n",
    "        store_file_path=store_file_path,\n",
    "        load_alternative_structures=load_alternative_structures,\n",
    "        num_alternative_structures=num_alternative_structures)\n",
    "    if sampler_func is not None:\n",
    "        sampler = sampler_func(split_df, split)\n",
    "        for i in sampler:\n",
    "            if (max_num_sample is not None) & ((i+1)%max_num_sample == 0):\n",
    "                break\n",
    "            try:\n",
    "                yield dataset[i]\n",
    "            except Exception as e:\n",
    "                LOG.warn(e)\n",
    "    else:\n",
    "        for i in range(len(dataset)):\n",
    "            if (i+1)%max_num_sample == 0:\n",
    "                break\n",
    "            try:\n",
    "                yield dataset[i]\n",
    "            except Exception as e:\n",
    "                LOG.warn(e)"
   ]
  },
  {
   "cell_type": "markdown",
   "metadata": {},
   "source": [
    "#### Define diversity sampler function\n",
    "Here, we have provided an example of how one might use `torch.utils.data.WeightedRandomSampler`. However, users are free to sample diversity any how they see fit. For this example, we are going to use the sample dversity based on the `cluster` column in the splits dataframe."
   ]
  },
  {
   "cell_type": "code",
   "execution_count": 47,
   "metadata": {},
   "outputs": [],
   "source": [
    "def make_sampler(split_df, split=\"train\"):\n",
    "    from torch.utils.data import WeightedRandomSampler\n",
    "    split_df = split_df[split_df.split == split]\n",
    "    cluster_counts = (split_df[\"cluster\"].value_counts().rename(\"cluster_count\"))\n",
    "    split_df = split_df.merge(\n",
    "        cluster_counts,\n",
    "        left_on=\"cluster\",\n",
    "        right_index=True)\n",
    "    cluster_weights = 1.0 / split_df.cluster_count.values\n",
    "    return WeightedRandomSampler(\n",
    "        weights=cluster_weights,\n",
    "        num_samples=len(cluster_weights))"
   ]
  },
  {
   "cell_type": "markdown",
   "metadata": {},
   "source": [
    "### Extract specific molecular format needed for training\n",
    "The function `get_model_input` wraps it all together, allowing us to extract the sequence fasta and smiles needed for training."
   ]
  },
  {
   "cell_type": "code",
   "execution_count": 33,
   "metadata": {},
   "outputs": [],
   "source": [
    "def get_model_input(\n",
    "        split=\"train\",\n",
    "        sampler_func=None,\n",
    "        max_num_sample=10,\n",
    "        num_alternative_structures=1):\n",
    "    from rdkit import Chem\n",
    "    split_df = get_split()\n",
    "    training_set = load_dataset_path(\n",
    "            split_df,\n",
    "            split=split,\n",
    "            split_parquet_path=None,\n",
    "            store_file_path=True,\n",
    "            load_alternative_structures=True,\n",
    "            num_alternative_structures=num_alternative_structures,\n",
    "            max_num_sample=max_num_sample,\n",
    "            sampler_func=sampler_func)\n",
    "    protein_ligand_path = []\n",
    "    for data in training_set:\n",
    "        system_dir = Path(data[\"path\"]).parent\n",
    "        protein_fasta = system_dir / \"sequences.fasta\"\n",
    "        for ligand_sdf in (system_dir / \"ligand_files/\").glob(\"*sdf\"):\n",
    "            smiles = Chem.MolToSmiles(next(Chem.SDMolSupplier(ligand_sdf)))\n",
    "            protein_ligand_path.append((protein_fasta, smiles))\n",
    "    return protein_ligand_path\n"
   ]
  },
  {
   "cell_type": "markdown",
   "metadata": {},
   "source": [
    "### Sample diverse training set "
   ]
  },
  {
   "cell_type": "code",
   "execution_count": 48,
   "metadata": {},
   "outputs": [
    {
     "name": "stderr",
     "output_type": "stream",
     "text": [
      "2024-08-28 21:58:57,748 | plinder.core.split.utils.get_split:24 | INFO : runtime succeeded: 0.00s\n",
      "2024-08-28 21:58:57,749 | plinder.core.split.utils.get_split:24 | INFO : runtime succeeded: 0.00s\n"
     ]
    },
    {
     "name": "stdout",
     "output_type": "stream",
     "text": [
      "[GSPath('gs://plinder/2024-06/v2/systems/sn.zip')]\n"
     ]
    },
    {
     "name": "stderr",
     "output_type": "stream",
     "text": [
      "2024-08-28 21:59:01,081 | plinder.core.utils.cpl.download_paths:24 | INFO : runtime succeeded: 0.30s\n",
      "2024-08-28 21:59:01,223 | plinder.core.utils.cpl.download_paths:24 | INFO : runtime succeeded: 0.14s\n",
      "/var/folders/yy/8btzj3v14l5_kdkxhtt4n3rh0000gn/T/ipykernel_37572/2907757634.py:57: DeprecationWarning: The 'warn' method is deprecated, use 'warning' instead\n",
      "  LOG.warn(e)\n",
      "2024-08-28 21:59:01,228 | __main__:57 | WARNING : Opening quote in middle of word: GTP NON-POLYMER GUANOSINE-5'-TRIPHOSPHATE\n"
     ]
    },
    {
     "name": "stdout",
     "output_type": "stream",
     "text": [
      "[GSPath('gs://plinder/2024-06/v2/systems/vf.zip')]\n"
     ]
    },
    {
     "name": "stderr",
     "output_type": "stream",
     "text": [
      "2024-08-28 21:59:06,345 | plinder.core.utils.cpl.download_paths:24 | INFO : runtime succeeded: 2.46s\n",
      "2024-08-28 21:59:06,483 | plinder.core.utils.cpl.download_paths:24 | INFO : runtime succeeded: 0.14s\n",
      "2024-08-28 21:59:10,063 | plinder.core.utils.cpl.download_paths:24 | INFO : runtime succeeded: 0.14s\n",
      "2024-08-28 21:59:10,396 | plinder.core.scores.links.query_links:24 | INFO : runtime succeeded: 1.96s\n"
     ]
    },
    {
     "name": "stdout",
     "output_type": "stream",
     "text": [
      "[GSPath('gs://plinder/2024-06/v2/linked_structures/vf.zip')]\n"
     ]
    },
    {
     "name": "stderr",
     "output_type": "stream",
     "text": [
      "2024-08-28 21:59:15,371 | plinder.core.utils.cpl.download_paths:24 | INFO : runtime succeeded: 2.36s\n",
      "2024-08-28 21:59:15,507 | plinder.core.utils.cpl.download_paths:24 | INFO : runtime succeeded: 0.14s\n"
     ]
    },
    {
     "name": "stdout",
     "output_type": "stream",
     "text": [
      "[GSPath('gs://plinder/2024-06/v2/systems/hr.zip')]\n"
     ]
    },
    {
     "name": "stderr",
     "output_type": "stream",
     "text": [
      "2024-08-28 21:59:22,184 | plinder.core.utils.cpl.download_paths:24 | INFO : runtime succeeded: 3.10s\n",
      "2024-08-28 21:59:22,284 | plinder.core.utils.cpl.download_paths:24 | INFO : runtime succeeded: 0.10s\n",
      "2024-08-28 21:59:26,731 | plinder.core.utils.cpl.download_paths:24 | INFO : runtime succeeded: 0.18s\n",
      "2024-08-28 21:59:26,925 | plinder.core.scores.links.query_links:24 | INFO : runtime succeeded: 1.85s\n"
     ]
    },
    {
     "name": "stdout",
     "output_type": "stream",
     "text": [
      "[GSPath('gs://plinder/2024-06/v2/systems/c2.zip')]\n"
     ]
    },
    {
     "name": "stderr",
     "output_type": "stream",
     "text": [
      "2024-08-28 21:59:32,604 | plinder.core.utils.cpl.download_paths:24 | INFO : runtime succeeded: 3.02s\n",
      "2024-08-28 21:59:32,740 | plinder.core.utils.cpl.download_paths:24 | INFO : runtime succeeded: 0.14s\n",
      "2024-08-28 21:59:37,130 | plinder.core.utils.cpl.download_paths:24 | INFO : runtime succeeded: 0.18s\n",
      "2024-08-28 21:59:37,452 | plinder.core.scores.links.query_links:24 | INFO : runtime succeeded: 2.03s\n"
     ]
    },
    {
     "name": "stdout",
     "output_type": "stream",
     "text": [
      "[GSPath('gs://plinder/2024-06/v2/linked_structures/c2.zip')]\n"
     ]
    },
    {
     "name": "stderr",
     "output_type": "stream",
     "text": [
      "2024-08-28 21:59:42,284 | plinder.core.utils.cpl.download_paths:24 | INFO : runtime succeeded: 2.22s\n",
      "2024-08-28 21:59:42,394 | plinder.core.utils.cpl.download_paths:24 | INFO : runtime succeeded: 0.11s\n"
     ]
    },
    {
     "name": "stdout",
     "output_type": "stream",
     "text": [
      "[GSPath('gs://plinder/2024-06/v2/systems/d5.zip')]\n"
     ]
    },
    {
     "name": "stderr",
     "output_type": "stream",
     "text": [
      "2024-08-28 21:59:50,254 | plinder.core.utils.cpl.download_paths:24 | INFO : runtime succeeded: 3.52s\n",
      "2024-08-28 21:59:50,395 | plinder.core.utils.cpl.download_paths:24 | INFO : runtime succeeded: 0.14s\n",
      "2024-08-28 21:59:55,512 | plinder.core.utils.cpl.download_paths:24 | INFO : runtime succeeded: 0.18s\n",
      "2024-08-28 21:59:55,671 | plinder.core.scores.links.query_links:24 | INFO : runtime succeeded: 1.87s\n"
     ]
    },
    {
     "name": "stdout",
     "output_type": "stream",
     "text": [
      "[GSPath('gs://plinder/2024-06/v2/systems/zc.zip')]\n"
     ]
    },
    {
     "name": "stderr",
     "output_type": "stream",
     "text": [
      "2024-08-28 21:59:58,594 | plinder.core.utils.cpl.download_paths:24 | INFO : runtime succeeded: 0.25s\n",
      "2024-08-28 21:59:58,693 | plinder.core.utils.cpl.download_paths:24 | INFO : runtime succeeded: 0.10s\n",
      "2024-08-28 22:00:01,061 | plinder.core.utils.cpl.download_paths:24 | INFO : runtime succeeded: 0.18s\n",
      "2024-08-28 22:00:01,230 | plinder.core.scores.links.query_links:24 | INFO : runtime succeeded: 1.90s\n"
     ]
    }
   ],
   "source": [
    "# Get splits dataframe\n",
    "split_df = get_split()\n",
    "# Sample training set\n",
    "training_set = get_model_input(split=\"train\", sampler_func=make_sampler)"
   ]
  },
  {
   "cell_type": "code",
   "execution_count": 49,
   "metadata": {},
   "outputs": [
    {
     "name": "stdout",
     "output_type": "stream",
     "text": [
      "(PosixPath('/Users/yusuf/.local/share/plinder/2024-06/v2/systems/8vfv__1__1.M__1.ZA/sequences.fasta'), 'CC(=O)N[C@H]1CO[C@H](CO)[C@@H](O)[C@@H]1O')\n",
      "(PosixPath('/Users/yusuf/.local/share/plinder/2024-06/v2/systems/8hrp__1__1.B_1.C__1.R_1.S_1.U/sequences.fasta'), 'OCC(O)CO')\n",
      "(PosixPath('/Users/yusuf/.local/share/plinder/2024-06/v2/systems/8hrp__1__1.B_1.C__1.R_1.S_1.U/sequences.fasta'), 'O=C[C@H](O)COP(=O)(O)O')\n",
      "(PosixPath('/Users/yusuf/.local/share/plinder/2024-06/v2/systems/8hrp__1__1.B_1.C__1.R_1.S_1.U/sequences.fasta'), 'NC(=O)c1ccc[n+]([C@@H]2O[C@H](CO[P@@](=O)([O-])O[P@@](=O)(O)OC[C@H]3O[C@@H](n4cnc5c(N)ncnc54)[C@H](O)[C@@H]3O)[C@@H](O)[C@H]2O)c1')\n",
      "(PosixPath('/Users/yusuf/.local/share/plinder/2024-06/v2/systems/8c2r__1__1.C__1.NA/sequences.fasta'), 'CC(=O)N[C@H]1CO[C@H](CO)[C@@H](O)[C@@H]1O')\n",
      "(PosixPath('/Users/yusuf/.local/share/plinder/2024-06/v2/systems/8d55__1__1.A__1.KA/sequences.fasta'), 'CC(=O)N[C@H]1CO[C@H](CO)[C@@H](O)[C@@H]1O')\n",
      "(PosixPath('/Users/yusuf/.local/share/plinder/2024-06/v2/systems/8zc2__1__1.A_1.B__1.KA/sequences.fasta'), 'CC(=O)N[C@H]1CO[C@H](CO)[C@@H](O)[C@@H]1O')\n"
     ]
    }
   ],
   "source": [
    "# Inspect result\n",
    "for i in training_set:\n",
    "    print(i)"
   ]
  },
  {
   "cell_type": "markdown",
   "metadata": {},
   "source": [
    "### Get validation set without cluster sampling\n",
    "Here, we will show how to get validation set without cluster sampling."
   ]
  },
  {
   "cell_type": "code",
   "execution_count": 13,
   "metadata": {},
   "outputs": [
    {
     "name": "stderr",
     "output_type": "stream",
     "text": [
      "2024-08-28 21:29:56,522 | plinder.core.split.utils.get_split:24 | INFO : runtime succeeded: 0.00s\n"
     ]
    },
    {
     "name": "stdout",
     "output_type": "stream",
     "text": [
      "[GSPath('gs://plinder/2024-06/v2/systems/av.zip')]\n"
     ]
    },
    {
     "name": "stderr",
     "output_type": "stream",
     "text": [
      "2024-08-28 21:29:59,543 | plinder.core.utils.cpl.download_paths:24 | INFO : runtime succeeded: 0.31s\n",
      "2024-08-28 21:29:59,691 | plinder.core.utils.cpl.download_paths:24 | INFO : runtime succeeded: 0.15s\n",
      "2024-08-28 21:30:01,478 | plinder.core.utils.cpl.download_paths:24 | INFO : runtime succeeded: 0.17s\n",
      "2024-08-28 21:30:01,674 | plinder.core.scores.links.query_links:24 | INFO : runtime succeeded: 1.87s\n"
     ]
    },
    {
     "name": "stdout",
     "output_type": "stream",
     "text": [
      "[GSPath('gs://plinder/2024-06/v2/systems/av.zip')]\n"
     ]
    },
    {
     "name": "stderr",
     "output_type": "stream",
     "text": [
      "2024-08-28 21:30:04,555 | plinder.core.utils.cpl.download_paths:24 | INFO : runtime succeeded: 0.28s\n",
      "2024-08-28 21:30:04,697 | plinder.core.utils.cpl.download_paths:24 | INFO : runtime succeeded: 0.14s\n",
      "2024-08-28 21:30:06,456 | plinder.core.utils.cpl.download_paths:24 | INFO : runtime succeeded: 0.17s\n",
      "2024-08-28 21:30:06,657 | plinder.core.scores.links.query_links:24 | INFO : runtime succeeded: 1.89s\n"
     ]
    },
    {
     "name": "stdout",
     "output_type": "stream",
     "text": [
      "[GSPath('gs://plinder/2024-06/v2/linked_structures/av.zip')]\n"
     ]
    },
    {
     "name": "stderr",
     "output_type": "stream",
     "text": [
      "2024-08-28 21:30:09,549 | plinder.core.utils.cpl.download_paths:24 | INFO : runtime succeeded: 0.29s\n",
      "2024-08-28 21:30:09,686 | plinder.core.utils.cpl.download_paths:24 | INFO : runtime succeeded: 0.14s\n"
     ]
    },
    {
     "name": "stdout",
     "output_type": "stream",
     "text": [
      "[GSPath('gs://plinder/2024-06/v2/systems/av.zip')]\n"
     ]
    },
    {
     "name": "stderr",
     "output_type": "stream",
     "text": [
      "2024-08-28 21:30:13,513 | plinder.core.utils.cpl.download_paths:24 | INFO : runtime succeeded: 0.32s\n",
      "2024-08-28 21:30:13,647 | plinder.core.utils.cpl.download_paths:24 | INFO : runtime succeeded: 0.13s\n",
      "2024-08-28 21:30:15,376 | plinder.core.utils.cpl.download_paths:24 | INFO : runtime succeeded: 0.19s\n",
      "2024-08-28 21:30:15,580 | plinder.core.scores.links.query_links:24 | INFO : runtime succeeded: 1.87s\n"
     ]
    },
    {
     "name": "stdout",
     "output_type": "stream",
     "text": [
      "[GSPath('gs://plinder/2024-06/v2/linked_structures/av.zip')]\n"
     ]
    },
    {
     "name": "stderr",
     "output_type": "stream",
     "text": [
      "2024-08-28 21:30:18,517 | plinder.core.utils.cpl.download_paths:24 | INFO : runtime succeeded: 0.31s\n",
      "2024-08-28 21:30:18,666 | plinder.core.utils.cpl.download_paths:24 | INFO : runtime succeeded: 0.15s\n"
     ]
    },
    {
     "name": "stdout",
     "output_type": "stream",
     "text": [
      "[GSPath('gs://plinder/2024-06/v2/systems/b4.zip')]\n"
     ]
    },
    {
     "name": "stderr",
     "output_type": "stream",
     "text": [
      "2024-08-28 21:30:22,415 | plinder.core.utils.cpl.download_paths:24 | INFO : runtime succeeded: 0.29s\n",
      "2024-08-28 21:30:22,555 | plinder.core.utils.cpl.download_paths:24 | INFO : runtime succeeded: 0.14s\n",
      "2024-08-28 21:30:24,409 | plinder.core.utils.cpl.download_paths:24 | INFO : runtime succeeded: 0.18s\n",
      "2024-08-28 21:30:24,572 | plinder.core.scores.links.query_links:24 | INFO : runtime succeeded: 1.93s\n"
     ]
    },
    {
     "name": "stdout",
     "output_type": "stream",
     "text": [
      "[GSPath('gs://plinder/2024-06/v2/systems/b4.zip')]\n"
     ]
    },
    {
     "name": "stderr",
     "output_type": "stream",
     "text": [
      "2024-08-28 21:30:27,518 | plinder.core.utils.cpl.download_paths:24 | INFO : runtime succeeded: 0.28s\n",
      "2024-08-28 21:30:27,658 | plinder.core.utils.cpl.download_paths:24 | INFO : runtime succeeded: 0.14s\n",
      "2024-08-28 21:30:29,494 | plinder.core.utils.cpl.download_paths:24 | INFO : runtime succeeded: 0.19s\n",
      "2024-08-28 21:30:29,654 | plinder.core.scores.links.query_links:24 | INFO : runtime succeeded: 1.90s\n"
     ]
    },
    {
     "name": "stdout",
     "output_type": "stream",
     "text": [
      "[GSPath('gs://plinder/2024-06/v2/systems/b4.zip')]\n"
     ]
    },
    {
     "name": "stderr",
     "output_type": "stream",
     "text": [
      "2024-08-28 21:30:32,583 | plinder.core.utils.cpl.download_paths:24 | INFO : runtime succeeded: 0.30s\n",
      "2024-08-28 21:30:32,690 | plinder.core.utils.cpl.download_paths:24 | INFO : runtime succeeded: 0.11s\n",
      "2024-08-28 21:30:34,519 | plinder.core.utils.cpl.download_paths:24 | INFO : runtime succeeded: 0.18s\n",
      "2024-08-28 21:30:34,679 | plinder.core.scores.links.query_links:24 | INFO : runtime succeeded: 1.90s\n"
     ]
    },
    {
     "name": "stdout",
     "output_type": "stream",
     "text": [
      "[GSPath('gs://plinder/2024-06/v2/systems/bl.zip')]\n"
     ]
    },
    {
     "name": "stderr",
     "output_type": "stream",
     "text": [
      "2024-08-28 21:30:37,580 | plinder.core.utils.cpl.download_paths:24 | INFO : runtime succeeded: 0.29s\n",
      "2024-08-28 21:30:37,722 | plinder.core.utils.cpl.download_paths:24 | INFO : runtime succeeded: 0.14s\n",
      "2024-08-28 21:30:39,688 | plinder.core.utils.cpl.download_paths:24 | INFO : runtime succeeded: 0.18s\n",
      "2024-08-28 21:30:39,848 | plinder.core.scores.links.query_links:24 | INFO : runtime succeeded: 1.87s\n"
     ]
    },
    {
     "name": "stdout",
     "output_type": "stream",
     "text": [
      "[GSPath('gs://plinder/2024-06/v2/systems/bl.zip')]\n"
     ]
    },
    {
     "name": "stderr",
     "output_type": "stream",
     "text": [
      "2024-08-28 21:30:42,783 | plinder.core.utils.cpl.download_paths:24 | INFO : runtime succeeded: 0.30s\n",
      "2024-08-28 21:30:42,918 | plinder.core.utils.cpl.download_paths:24 | INFO : runtime succeeded: 0.13s\n",
      "2024-08-28 21:30:44,853 | plinder.core.utils.cpl.download_paths:24 | INFO : runtime succeeded: 0.18s\n",
      "2024-08-28 21:30:45,013 | plinder.core.scores.links.query_links:24 | INFO : runtime succeeded: 1.83s\n"
     ]
    },
    {
     "name": "stdout",
     "output_type": "stream",
     "text": [
      "[GSPath('gs://plinder/2024-06/v2/systems/by.zip')]\n"
     ]
    },
    {
     "name": "stderr",
     "output_type": "stream",
     "text": [
      "2024-08-28 21:30:48,017 | plinder.core.utils.cpl.download_paths:24 | INFO : runtime succeeded: 0.29s\n",
      "2024-08-28 21:30:48,154 | plinder.core.utils.cpl.download_paths:24 | INFO : runtime succeeded: 0.14s\n",
      "2024-08-28 21:30:50,155 | plinder.core.utils.cpl.download_paths:24 | INFO : runtime succeeded: 0.17s\n",
      "2024-08-28 21:30:50,338 | plinder.core.scores.links.query_links:24 | INFO : runtime succeeded: 1.86s\n"
     ]
    }
   ],
   "source": [
    "# Sample validation set without cluster sampling\n",
    "validation_set = get_model_input(split=\"val\", sampler_func=None)"
   ]
  },
  {
   "cell_type": "code",
   "execution_count": 14,
   "metadata": {},
   "outputs": [
    {
     "name": "stdout",
     "output_type": "stream",
     "text": [
      "(PosixPath('/Users/yusuf/.local/share/plinder/2024-06/v2/systems/1avb__1__1.A_1.B__1.C/sequences.fasta'), 'CC(=O)N[C@H]1[C@H](O[C@H]2[C@H](O)[C@@H](NC(C)=O)CO[C@@H]2CO)O[C@H](CO)[C@@H](O)[C@@H]1O')\n",
      "(PosixPath('/Users/yusuf/.local/share/plinder/2024-06/v2/systems/1avb__1__1.A__1.E/sequences.fasta'), 'CC(=O)N[C@H]1CO[C@H](CO)[C@@H](O)[C@@H]1O')\n",
      "(PosixPath('/Users/yusuf/.local/share/plinder/2024-06/v2/systems/1avb__1__1.B__1.H/sequences.fasta'), 'CC(=O)N[C@H]1CO[C@H](CO)[C@@H](O)[C@@H]1O')\n",
      "(PosixPath('/Users/yusuf/.local/share/plinder/2024-06/v2/systems/1b4k__1__1.A__1.C_1.E/sequences.fasta'), 'O=S(=O)([O-])[O-]')\n",
      "(PosixPath('/Users/yusuf/.local/share/plinder/2024-06/v2/systems/1b4k__1__1.A__1.C_1.E/sequences.fasta'), 'CCCCC(=O)O')\n",
      "(PosixPath('/Users/yusuf/.local/share/plinder/2024-06/v2/systems/1b4k__1__2.A__2.C_2.E/sequences.fasta'), 'O=S(=O)([O-])[O-]')\n",
      "(PosixPath('/Users/yusuf/.local/share/plinder/2024-06/v2/systems/1b4k__1__2.A__2.C_2.E/sequences.fasta'), 'CCCCC(=O)O')\n",
      "(PosixPath('/Users/yusuf/.local/share/plinder/2024-06/v2/systems/1b4k__1__2.B__2.F_2.G/sequences.fasta'), 'O=S(=O)([O-])[O-]')\n",
      "(PosixPath('/Users/yusuf/.local/share/plinder/2024-06/v2/systems/1b4k__1__2.B__2.F_2.G/sequences.fasta'), 'CCCCC(=O)O')\n",
      "(PosixPath('/Users/yusuf/.local/share/plinder/2024-06/v2/systems/1bl9__1__1.A_1.B__1.D/sequences.fasta'), 'Cc1c(/C=C/C(=O)O)c2n3c1C=C1N4->[Fe@SP1]35<-N3=C(C=c6c(C)c(/C=C/C(=O)O)c(n65)=C2)C(=O)[C@](C)(CC(=O)O)C3=CC=4C(=O)[C@]1(C)CC(=O)O')\n",
      "(PosixPath('/Users/yusuf/.local/share/plinder/2024-06/v2/systems/1bl9__1__1.A_1.B__1.E_1.G/sequences.fasta'), 'Cc1c(/C=C/C(=O)O)c2n3c1C=C1N4->[Fe@SP1]35<-N3=C(C=c6c(C)c(CCC(=O)O)c(n65)=C2)C(=O)[C@](C)(CC(=O)O)C3=CC=4C(=O)[C@]1(C)CC(=O)O')\n",
      "(PosixPath('/Users/yusuf/.local/share/plinder/2024-06/v2/systems/1bl9__1__1.A_1.B__1.E_1.G/sequences.fasta'), '[OH-]')\n",
      "(PosixPath('/Users/yusuf/.local/share/plinder/2024-06/v2/systems/1by5__1__1.A__1.B_1.K/sequences.fasta'), 'CC(=O)N(O)CCC[C@@H]1NC(=O)CNC(=O)CNC(=O)CNC(=O)[C@H](CCCN(O)C(C)=O)NC(=O)[C@H](CCCN(O)C(C)=O)NC1=O')\n",
      "(PosixPath('/Users/yusuf/.local/share/plinder/2024-06/v2/systems/1by5__1__1.A__1.B_1.K/sequences.fasta'), '[Fe+3]')\n"
     ]
    }
   ],
   "source": [
    "# Inspect result\n",
    "for i in validation_set:\n",
    "    print(i)"
   ]
  }
 ],
 "metadata": {
  "kernelspec": {
   "display_name": "Python 3",
   "language": "python",
   "name": "python3"
  },
  "language_info": {
   "codemirror_mode": {
    "name": "ipython",
    "version": 3
   },
   "file_extension": ".py",
   "mimetype": "text/x-python",
   "name": "python",
   "nbconvert_exporter": "python",
   "pygments_lexer": "ipython3",
   "version": "3.9.18"
  }
 },
 "nbformat": 4,
 "nbformat_minor": 2
}
