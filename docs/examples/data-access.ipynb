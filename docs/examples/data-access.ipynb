{
 "cells": [
  {
   "cell_type": "markdown",
   "metadata": {},
   "source": [
    "# Loading data for training ML models\n",
    "This goal of this tutorial is to provide a simple hands-on example of how a user might load PLINDER dataset in prepparation for training machine learning models. Here, we are going to show an example of how to get the fasta sequence and smiles proteins and ligands. In the process, we will show:\n",
    "- How load use `PlinderDataset` to load data direclty from a given split dataframe\n",
    "- How one might use a diversity sampler along with the dataset loader\n",
    "- Extract specific data one might want to use for training specific ML model"
   ]
  },
  {
   "cell_type": "markdown",
   "metadata": {},
   "source": [
    "### Load dataset\n",
    "We recommend users interact with the dataset using PLINDER Python API. class {class}`PlinderDataset` is the primary method of access data.\n",
    "\n",
    "- `df`: the split to use\n",
    "- `split`: the split to sample from\n",
    "- `file_with_system_ids`: path to a file containing a list of system ids (default: full index)\n",
    "- `store_file_path`: if True, include the file path of the source structures in the dataset\n",
    "- `load_alternative_structures`: if True, include alternative structures in the dataset\n",
    "- `num_alternative_structures`: number of alternative structures (apo and pred) to include\n",
    "\n",
    "Below, we are providing a function to access class {class}`PlinderDataset` and samples from protein-ligand similarity cluster based on sampling user-defined function `sampler_func` via a warpper function `load_dataset_path`. \n",
    "\n"
   ]
  },
  {
   "cell_type": "code",
   "execution_count": 93,
   "metadata": {},
   "outputs": [],
   "source": [
    "from __future__ import annotations\n",
    "\n",
    "from typing import Callable\n",
    "import pandas as pd\n",
    "from plinder.core import get_split, PlinderDataset\n",
    "from pathlib import Path\n",
    "from plinder.core.utils.log import setup_logger\n",
    "\n",
    "LOG = setup_logger(__name__)\n",
    "\n",
    "def load_dataset_path(\n",
    "        split_df: pd.DataFrame,\n",
    "        split: str = \"train\",\n",
    "        split_parquet_path: Path | None =None,\n",
    "        store_file_path: bool = True,\n",
    "        load_alternative_structures: bool = True,\n",
    "        num_alternative_structures: int = 1,\n",
    "        max_num_sample: int | None = None,\n",
    "        sampler_func: Callable | None =None):\n",
    "    \"\"\"\n",
    "    Load dataset from splits dataframe\n",
    "\n",
    "    Parameters\n",
    "    ----------\n",
    "    split_df : pd.DataFrame | None\n",
    "        the split to use\n",
    "    split : str\n",
    "        the split to sample from\n",
    "    file_with_system_ids : str | Path\n",
    "        path to a file containing a list of system ids (default: full index)\n",
    "    store_file_path : bool, default=True\n",
    "        if True, include the file path of the source structures in the dataset\n",
    "    load_alternative_structures : bool, default=False\n",
    "        if True, include alternative structures in the dataset\n",
    "    num_alternative_structures : int, default=1\n",
    "        number of alternative structures (apo and pred) to include\n",
    "    max_num_sample: int | None, default = None\n",
    "        maximum number of sample to return\n",
    "    sampler_func: Callable | None, default=None\n",
    "        user-defined diversity sampler\n",
    "    \"\"\"\n",
    "    dataset = PlinderDataset(\n",
    "        df=split_df,\n",
    "        split=split,\n",
    "        split_parquet_path=split_parquet_path,\n",
    "        store_file_path=store_file_path,\n",
    "        load_alternative_structures=load_alternative_structures,\n",
    "        num_alternative_structures=num_alternative_structures)\n",
    "    if sampler_func is not None:\n",
    "        sampler = sampler_func(split_df)\n",
    "        for i in sampler:\n",
    "            if (max_num_sample is not None) & ((i+1)%max_num_sample == 0):\n",
    "                break\n",
    "            try:\n",
    "                yield dataset[i]\n",
    "            except Exception as e:\n",
    "                LOG.error(e)\n",
    "    else:\n",
    "        for i in range(len(dataset)):\n",
    "            if (i+1)%max_num_sample == 0:\n",
    "                break\n",
    "            try:\n",
    "                yield dataset[i]\n",
    "            except Exception as e:\n",
    "                LOG.error(e)"
   ]
  },
  {
   "cell_type": "markdown",
   "metadata": {},
   "source": [
    "#### Define diversity sampler function\n",
    "Here, we have provided an example of how one might use `torch.utils.data.WeightedRandomSampler`. However, users are free to sample diversity any how they see fit. For this example, we are going to use the sample dversity based on the `cluster` column in the splits dataframe."
   ]
  },
  {
   "cell_type": "code",
   "execution_count": 90,
   "metadata": {},
   "outputs": [],
   "source": [
    "def make_sampler(split_df):\n",
    "    from torch.utils.data import WeightedRandomSampler\n",
    "    cluster_counts = (split_df[\"cluster\"].value_counts().rename(\"cluster_count\"))\n",
    "    split_df = split_df.merge(\n",
    "        cluster_counts,\n",
    "        left_on=\"cluster\",\n",
    "        right_index=True)\n",
    "    cluster_weights = 1.0 / split_df.cluster_count.values\n",
    "    return WeightedRandomSampler(\n",
    "        weights=cluster_weights,\n",
    "        num_samples=len(cluster_counts))"
   ]
  },
  {
   "cell_type": "markdown",
   "metadata": {},
   "source": [
    "### Extract specific molecular format needed for training\n",
    "The function `get_model_input` wraps it all together, allowing us to extract the sequence fasta and smiles needed for training."
   ]
  },
  {
   "cell_type": "code",
   "execution_count": 96,
   "metadata": {},
   "outputs": [],
   "source": [
    "def get_model_input(\n",
    "        split=\"train\",\n",
    "        sampler_func=None,\n",
    "        max_num_sample=10,\n",
    "        num_alternative_structures=1):\n",
    "    from rdkit import Chem\n",
    "    split_df = get_split()\n",
    "    training_set = load_dataset_path(\n",
    "            split_df,\n",
    "            split=split,\n",
    "            split_parquet_path=None,\n",
    "            store_file_path=True,\n",
    "            load_alternative_structures=True,\n",
    "            num_alternative_structures=num_alternative_structures,\n",
    "            max_num_sample=max_num_sample,\n",
    "            sampler_func=sampler_func)\n",
    "    protein_ligand_path = []\n",
    "    for data in training_set:\n",
    "        system_dir = Path(data[\"path\"]).parent\n",
    "        protein_fasta = system_dir / \"sequences.fasta\"\n",
    "        for ligand_sdf in (system_dir / \"ligand_files/\").glob(\"*sdf\"):\n",
    "            smiles = Chem.MolToSmiles(next(Chem.SDMolSupplier(ligand_sdf)))\n",
    "            protein_ligand_path.append((protein_fasta, smiles))\n",
    "    return protein_ligand_path\n"
   ]
  },
  {
   "cell_type": "markdown",
   "metadata": {},
   "source": [
    "### Sample diverse training set "
   ]
  },
  {
   "cell_type": "code",
   "execution_count": 94,
   "metadata": {},
   "outputs": [
    {
     "name": "stderr",
     "output_type": "stream",
     "text": [
      "2024-08-28 21:00:59,439 | plinder.core.split.utils.get_split:24 | INFO : runtime succeeded: 0.00s\n",
      "2024-08-28 21:00:59,440 | plinder.core.split.utils.get_split:24 | INFO : runtime succeeded: 0.00s\n",
      "2024-08-28 21:00:59,570 | __main__:57 | ERROR : 373800\n",
      "2024-08-28 21:00:59,571 | __main__:57 | ERROR : 340393\n",
      "2024-08-28 21:00:59,571 | __main__:57 | ERROR : 397286\n"
     ]
    },
    {
     "name": "stdout",
     "output_type": "stream",
     "text": [
      "[GSPath('gs://plinder/2024-06/v2/systems/xk.zip')]\n"
     ]
    },
    {
     "name": "stderr",
     "output_type": "stream",
     "text": [
      "2024-08-28 21:01:06,311 | plinder.core.utils.cpl.download_paths:24 | INFO : runtime succeeded: 3.19s\n",
      "2024-08-28 21:01:06,450 | plinder.core.utils.cpl.download_paths:24 | INFO : runtime succeeded: 0.14s\n",
      "2024-08-28 21:01:09,751 | plinder.core.utils.cpl.download_paths:24 | INFO : runtime succeeded: 0.15s\n",
      "2024-08-28 21:01:09,886 | plinder.core.scores.links.query_links:24 | INFO : runtime succeeded: 1.81s\n",
      "2024-08-28 21:01:09,888 | __main__:57 | ERROR : 385364\n",
      "2024-08-28 21:01:09,888 | __main__:57 | ERROR : 347662\n",
      "2024-08-28 21:01:09,889 | __main__:57 | ERROR : 407110\n",
      "2024-08-28 21:01:09,889 | __main__:57 | ERROR : 332777\n",
      "2024-08-28 21:01:09,889 | __main__:57 | ERROR : 327980\n",
      "2024-08-28 21:01:09,890 | __main__:57 | ERROR : 377411\n",
      "2024-08-28 21:01:09,890 | __main__:57 | ERROR : 349934\n",
      "2024-08-28 21:01:09,891 | __main__:57 | ERROR : 343094\n",
      "2024-08-28 21:01:09,891 | __main__:57 | ERROR : 394661\n",
      "2024-08-28 21:01:09,891 | __main__:57 | ERROR : 392186\n",
      "2024-08-28 21:01:09,892 | __main__:57 | ERROR : 359676\n",
      "2024-08-28 21:01:09,892 | __main__:57 | ERROR : 312114\n",
      "2024-08-28 21:01:09,892 | __main__:57 | ERROR : 331066\n",
      "2024-08-28 21:01:09,892 | __main__:57 | ERROR : 378038\n"
     ]
    },
    {
     "name": "stdout",
     "output_type": "stream",
     "text": [
      "[GSPath('gs://plinder/2024-06/v2/systems/uk.zip')]\n"
     ]
    },
    {
     "name": "stderr",
     "output_type": "stream",
     "text": [
      "2024-08-28 21:01:15,323 | plinder.core.utils.cpl.download_paths:24 | INFO : runtime succeeded: 2.77s\n",
      "2024-08-28 21:01:15,421 | plinder.core.utils.cpl.download_paths:24 | INFO : runtime succeeded: 0.10s\n",
      "2024-08-28 21:01:19,532 | plinder.core.utils.cpl.download_paths:24 | INFO : runtime succeeded: 0.20s\n",
      "2024-08-28 21:01:19,894 | plinder.core.scores.links.query_links:24 | INFO : runtime succeeded: 2.11s\n"
     ]
    },
    {
     "name": "stdout",
     "output_type": "stream",
     "text": [
      "[GSPath('gs://plinder/2024-06/v2/linked_structures/uk.zip')]\n"
     ]
    },
    {
     "name": "stderr",
     "output_type": "stream",
     "text": [
      "2024-08-28 21:01:24,605 | plinder.core.utils.cpl.download_paths:24 | INFO : runtime succeeded: 2.12s\n",
      "2024-08-28 21:01:24,747 | plinder.core.utils.cpl.download_paths:24 | INFO : runtime succeeded: 0.14s\n",
      "2024-08-28 21:01:26,175 | __main__:57 | ERROR : 349915\n",
      "2024-08-28 21:01:26,176 | __main__:57 | ERROR : 407318\n",
      "2024-08-28 21:01:26,176 | __main__:57 | ERROR : 375131\n",
      "2024-08-28 21:01:26,176 | __main__:57 | ERROR : 358255\n",
      "2024-08-28 21:01:26,177 | __main__:57 | ERROR : 389181\n",
      "2024-08-28 21:01:26,177 | __main__:57 | ERROR : 356046\n",
      "2024-08-28 21:01:26,177 | __main__:57 | ERROR : 395434\n"
     ]
    },
    {
     "name": "stdout",
     "output_type": "stream",
     "text": [
      "[GSPath('gs://plinder/2024-06/v2/systems/s5.zip')]\n"
     ]
    },
    {
     "name": "stderr",
     "output_type": "stream",
     "text": [
      "2024-08-28 21:01:31,816 | plinder.core.utils.cpl.download_paths:24 | INFO : runtime succeeded: 3.01s\n",
      "2024-08-28 21:01:31,960 | plinder.core.utils.cpl.download_paths:24 | INFO : runtime succeeded: 0.14s\n",
      "2024-08-28 21:01:36,062 | plinder.core.utils.cpl.download_paths:24 | INFO : runtime succeeded: 0.18s\n",
      "2024-08-28 21:01:36,429 | plinder.core.scores.links.query_links:24 | INFO : runtime succeeded: 2.08s\n"
     ]
    },
    {
     "name": "stdout",
     "output_type": "stream",
     "text": [
      "[GSPath('gs://plinder/2024-06/v2/linked_structures/s5.zip')]\n"
     ]
    },
    {
     "name": "stderr",
     "output_type": "stream",
     "text": [
      "2024-08-28 21:01:40,051 | plinder.core.utils.cpl.download_paths:24 | INFO : runtime succeeded: 1.00s\n",
      "2024-08-28 21:01:40,176 | plinder.core.utils.cpl.download_paths:24 | INFO : runtime succeeded: 0.12s\n",
      "2024-08-28 21:01:40,679 | __main__:57 | ERROR : 395508\n",
      "2024-08-28 21:01:40,679 | __main__:57 | ERROR : 390288\n"
     ]
    },
    {
     "name": "stdout",
     "output_type": "stream",
     "text": [
      "[GSPath('gs://plinder/2024-06/v2/systems/r1.zip')]\n"
     ]
    },
    {
     "name": "stderr",
     "output_type": "stream",
     "text": [
      "2024-08-28 21:01:50,471 | plinder.core.utils.cpl.download_paths:24 | INFO : runtime succeeded: 7.10s\n",
      "2024-08-28 21:01:50,612 | plinder.core.utils.cpl.download_paths:24 | INFO : runtime succeeded: 0.14s\n",
      "2024-08-28 21:01:58,112 | plinder.core.utils.cpl.download_paths:24 | INFO : runtime succeeded: 0.18s\n",
      "2024-08-28 21:01:58,285 | plinder.core.scores.links.query_links:24 | INFO : runtime succeeded: 2.01s\n",
      "2024-08-28 21:01:58,289 | __main__:57 | ERROR : 363070\n",
      "2024-08-28 21:01:58,290 | __main__:57 | ERROR : 401401\n",
      "2024-08-28 21:01:58,290 | __main__:57 | ERROR : 387767\n",
      "2024-08-28 21:01:58,290 | __main__:57 | ERROR : 402107\n",
      "2024-08-28 21:01:58,291 | __main__:57 | ERROR : 362212\n"
     ]
    }
   ],
   "source": [
    "# Get splits dataframe\n",
    "split_df = get_split()\n",
    "# Sample training set\n",
    "training_set = get_model_input(split=\"train\", sampler_func=make_sampler)"
   ]
  },
  {
   "cell_type": "markdown",
   "metadata": {},
   "source": [
    "### Get validation set without cluster sampling\n",
    "Here, we will show how to get validation set without cluster sampling."
   ]
  },
  {
   "cell_type": "code",
   "execution_count": 99,
   "metadata": {},
   "outputs": [
    {
     "name": "stderr",
     "output_type": "stream",
     "text": [
      "2024-08-28 21:15:54,151 | plinder.core.split.utils.get_split:24 | INFO : runtime succeeded: 0.00s\n"
     ]
    },
    {
     "name": "stdout",
     "output_type": "stream",
     "text": [
      "[GSPath('gs://plinder/2024-06/v2/systems/av.zip')]\n"
     ]
    },
    {
     "name": "stderr",
     "output_type": "stream",
     "text": [
      "2024-08-28 21:16:00,629 | plinder.core.utils.cpl.download_paths:24 | INFO : runtime succeeded: 3.16s\n",
      "2024-08-28 21:16:00,742 | plinder.core.utils.cpl.download_paths:24 | INFO : runtime succeeded: 0.11s\n",
      "2024-08-28 21:16:03,830 | plinder.core.utils.cpl.download_paths:24 | INFO : runtime succeeded: 0.18s\n",
      "2024-08-28 21:16:03,995 | plinder.core.scores.links.query_links:24 | INFO : runtime succeeded: 1.85s\n"
     ]
    },
    {
     "name": "stdout",
     "output_type": "stream",
     "text": [
      "[GSPath('gs://plinder/2024-06/v2/systems/av.zip')]\n"
     ]
    },
    {
     "name": "stderr",
     "output_type": "stream",
     "text": [
      "2024-08-28 21:16:06,926 | plinder.core.utils.cpl.download_paths:24 | INFO : runtime succeeded: 0.30s\n",
      "2024-08-28 21:16:07,063 | plinder.core.utils.cpl.download_paths:24 | INFO : runtime succeeded: 0.14s\n",
      "2024-08-28 21:16:08,892 | plinder.core.utils.cpl.download_paths:24 | INFO : runtime succeeded: 0.20s\n",
      "2024-08-28 21:16:09,098 | plinder.core.scores.links.query_links:24 | INFO : runtime succeeded: 1.97s\n"
     ]
    },
    {
     "name": "stdout",
     "output_type": "stream",
     "text": [
      "[GSPath('gs://plinder/2024-06/v2/linked_structures/av.zip')]\n"
     ]
    },
    {
     "name": "stderr",
     "output_type": "stream",
     "text": [
      "2024-08-28 21:16:13,370 | plinder.core.utils.cpl.download_paths:24 | INFO : runtime succeeded: 1.65s\n",
      "2024-08-28 21:16:13,503 | plinder.core.utils.cpl.download_paths:24 | INFO : runtime succeeded: 0.13s\n"
     ]
    },
    {
     "name": "stdout",
     "output_type": "stream",
     "text": [
      "[GSPath('gs://plinder/2024-06/v2/systems/av.zip')]\n"
     ]
    },
    {
     "name": "stderr",
     "output_type": "stream",
     "text": [
      "2024-08-28 21:16:17,059 | plinder.core.utils.cpl.download_paths:24 | INFO : runtime succeeded: 0.29s\n",
      "2024-08-28 21:16:17,199 | plinder.core.utils.cpl.download_paths:24 | INFO : runtime succeeded: 0.14s\n",
      "2024-08-28 21:16:19,030 | plinder.core.utils.cpl.download_paths:24 | INFO : runtime succeeded: 0.18s\n",
      "2024-08-28 21:16:19,230 | plinder.core.scores.links.query_links:24 | INFO : runtime succeeded: 1.97s\n"
     ]
    },
    {
     "name": "stdout",
     "output_type": "stream",
     "text": [
      "[GSPath('gs://plinder/2024-06/v2/linked_structures/av.zip')]\n"
     ]
    },
    {
     "name": "stderr",
     "output_type": "stream",
     "text": [
      "2024-08-28 21:16:22,519 | plinder.core.utils.cpl.download_paths:24 | INFO : runtime succeeded: 0.30s\n",
      "2024-08-28 21:16:22,662 | plinder.core.utils.cpl.download_paths:24 | INFO : runtime succeeded: 0.14s\n"
     ]
    },
    {
     "name": "stdout",
     "output_type": "stream",
     "text": [
      "[GSPath('gs://plinder/2024-06/v2/systems/b4.zip')]\n"
     ]
    },
    {
     "name": "stderr",
     "output_type": "stream",
     "text": [
      "2024-08-28 21:16:28,322 | plinder.core.utils.cpl.download_paths:24 | INFO : runtime succeeded: 2.26s\n",
      "2024-08-28 21:16:28,460 | plinder.core.utils.cpl.download_paths:24 | INFO : runtime succeeded: 0.14s\n",
      "2024-08-28 21:16:31,801 | plinder.core.utils.cpl.download_paths:24 | INFO : runtime succeeded: 0.18s\n",
      "2024-08-28 21:16:31,962 | plinder.core.scores.links.query_links:24 | INFO : runtime succeeded: 1.95s\n"
     ]
    },
    {
     "name": "stdout",
     "output_type": "stream",
     "text": [
      "[GSPath('gs://plinder/2024-06/v2/systems/b4.zip')]\n"
     ]
    },
    {
     "name": "stderr",
     "output_type": "stream",
     "text": [
      "2024-08-28 21:16:34,989 | plinder.core.utils.cpl.download_paths:24 | INFO : runtime succeeded: 0.30s\n",
      "2024-08-28 21:16:35,097 | plinder.core.utils.cpl.download_paths:24 | INFO : runtime succeeded: 0.11s\n",
      "2024-08-28 21:16:36,854 | plinder.core.utils.cpl.download_paths:24 | INFO : runtime succeeded: 0.15s\n",
      "2024-08-28 21:16:37,022 | plinder.core.scores.links.query_links:24 | INFO : runtime succeeded: 1.85s\n"
     ]
    },
    {
     "name": "stdout",
     "output_type": "stream",
     "text": [
      "[GSPath('gs://plinder/2024-06/v2/systems/b4.zip')]\n"
     ]
    },
    {
     "name": "stderr",
     "output_type": "stream",
     "text": [
      "2024-08-28 21:16:40,010 | plinder.core.utils.cpl.download_paths:24 | INFO : runtime succeeded: 0.28s\n",
      "2024-08-28 21:16:40,113 | plinder.core.utils.cpl.download_paths:24 | INFO : runtime succeeded: 0.10s\n",
      "2024-08-28 21:16:41,930 | plinder.core.utils.cpl.download_paths:24 | INFO : runtime succeeded: 0.17s\n",
      "2024-08-28 21:16:42,096 | plinder.core.scores.links.query_links:24 | INFO : runtime succeeded: 1.90s\n"
     ]
    },
    {
     "name": "stdout",
     "output_type": "stream",
     "text": [
      "[GSPath('gs://plinder/2024-06/v2/systems/bl.zip')]\n"
     ]
    },
    {
     "name": "stderr",
     "output_type": "stream",
     "text": [
      "2024-08-28 21:16:47,138 | plinder.core.utils.cpl.download_paths:24 | INFO : runtime succeeded: 2.36s\n",
      "2024-08-28 21:16:47,273 | plinder.core.utils.cpl.download_paths:24 | INFO : runtime succeeded: 0.13s\n",
      "2024-08-28 21:16:51,180 | plinder.core.utils.cpl.download_paths:24 | INFO : runtime succeeded: 0.18s\n",
      "2024-08-28 21:16:51,347 | plinder.core.scores.links.query_links:24 | INFO : runtime succeeded: 1.90s\n"
     ]
    },
    {
     "name": "stdout",
     "output_type": "stream",
     "text": [
      "[GSPath('gs://plinder/2024-06/v2/systems/bl.zip')]\n"
     ]
    },
    {
     "name": "stderr",
     "output_type": "stream",
     "text": [
      "2024-08-28 21:16:54,357 | plinder.core.utils.cpl.download_paths:24 | INFO : runtime succeeded: 0.29s\n",
      "2024-08-28 21:16:54,495 | plinder.core.utils.cpl.download_paths:24 | INFO : runtime succeeded: 0.14s\n",
      "2024-08-28 21:16:56,478 | plinder.core.utils.cpl.download_paths:24 | INFO : runtime succeeded: 0.17s\n",
      "2024-08-28 21:16:56,655 | plinder.core.scores.links.query_links:24 | INFO : runtime succeeded: 1.91s\n"
     ]
    },
    {
     "name": "stdout",
     "output_type": "stream",
     "text": [
      "[GSPath('gs://plinder/2024-06/v2/systems/by.zip')]\n"
     ]
    },
    {
     "name": "stderr",
     "output_type": "stream",
     "text": [
      "2024-08-28 21:17:01,563 | plinder.core.utils.cpl.download_paths:24 | INFO : runtime succeeded: 2.24s\n",
      "2024-08-28 21:17:01,708 | plinder.core.utils.cpl.download_paths:24 | INFO : runtime succeeded: 0.14s\n",
      "2024-08-28 21:17:05,159 | plinder.core.utils.cpl.download_paths:24 | INFO : runtime succeeded: 0.18s\n",
      "2024-08-28 21:17:05,338 | plinder.core.scores.links.query_links:24 | INFO : runtime succeeded: 1.99s\n"
     ]
    }
   ],
   "source": [
    "# Sample validation set\n",
    "validation_set = get_model_input(split=\"val\", sampler_func=None)"
   ]
  },
  {
   "cell_type": "code",
   "execution_count": 100,
   "metadata": {},
   "outputs": [
    {
     "data": {
      "text/plain": [
       "[(PosixPath('/Users/yusuf/.local/share/plinder/2024-06/v2/systems/1avb__1__1.A_1.B__1.C/sequences.fasta'),\n",
       "  'CC(=O)N[C@H]1[C@H](O[C@H]2[C@H](O)[C@@H](NC(C)=O)CO[C@@H]2CO)O[C@H](CO)[C@@H](O)[C@@H]1O'),\n",
       " (PosixPath('/Users/yusuf/.local/share/plinder/2024-06/v2/systems/1avb__1__1.A__1.E/sequences.fasta'),\n",
       "  'CC(=O)N[C@H]1CO[C@H](CO)[C@@H](O)[C@@H]1O'),\n",
       " (PosixPath('/Users/yusuf/.local/share/plinder/2024-06/v2/systems/1avb__1__1.B__1.H/sequences.fasta'),\n",
       "  'CC(=O)N[C@H]1CO[C@H](CO)[C@@H](O)[C@@H]1O'),\n",
       " (PosixPath('/Users/yusuf/.local/share/plinder/2024-06/v2/systems/1b4k__1__1.A__1.C_1.E/sequences.fasta'),\n",
       "  'O=S(=O)([O-])[O-]'),\n",
       " (PosixPath('/Users/yusuf/.local/share/plinder/2024-06/v2/systems/1b4k__1__1.A__1.C_1.E/sequences.fasta'),\n",
       "  'CCCCC(=O)O'),\n",
       " (PosixPath('/Users/yusuf/.local/share/plinder/2024-06/v2/systems/1b4k__1__2.A__2.C_2.E/sequences.fasta'),\n",
       "  'O=S(=O)([O-])[O-]'),\n",
       " (PosixPath('/Users/yusuf/.local/share/plinder/2024-06/v2/systems/1b4k__1__2.A__2.C_2.E/sequences.fasta'),\n",
       "  'CCCCC(=O)O'),\n",
       " (PosixPath('/Users/yusuf/.local/share/plinder/2024-06/v2/systems/1b4k__1__2.B__2.F_2.G/sequences.fasta'),\n",
       "  'O=S(=O)([O-])[O-]'),\n",
       " (PosixPath('/Users/yusuf/.local/share/plinder/2024-06/v2/systems/1b4k__1__2.B__2.F_2.G/sequences.fasta'),\n",
       "  'CCCCC(=O)O'),\n",
       " (PosixPath('/Users/yusuf/.local/share/plinder/2024-06/v2/systems/1bl9__1__1.A_1.B__1.D/sequences.fasta'),\n",
       "  'Cc1c(/C=C/C(=O)O)c2n3c1C=C1N4->[Fe@SP1]35<-N3=C(C=c6c(C)c(/C=C/C(=O)O)c(n65)=C2)C(=O)[C@](C)(CC(=O)O)C3=CC=4C(=O)[C@]1(C)CC(=O)O'),\n",
       " (PosixPath('/Users/yusuf/.local/share/plinder/2024-06/v2/systems/1bl9__1__1.A_1.B__1.E_1.G/sequences.fasta'),\n",
       "  'Cc1c(/C=C/C(=O)O)c2n3c1C=C1N4->[Fe@SP1]35<-N3=C(C=c6c(C)c(CCC(=O)O)c(n65)=C2)C(=O)[C@](C)(CC(=O)O)C3=CC=4C(=O)[C@]1(C)CC(=O)O'),\n",
       " (PosixPath('/Users/yusuf/.local/share/plinder/2024-06/v2/systems/1bl9__1__1.A_1.B__1.E_1.G/sequences.fasta'),\n",
       "  '[OH-]'),\n",
       " (PosixPath('/Users/yusuf/.local/share/plinder/2024-06/v2/systems/1by5__1__1.A__1.B_1.K/sequences.fasta'),\n",
       "  'CC(=O)N(O)CCC[C@@H]1NC(=O)CNC(=O)CNC(=O)CNC(=O)[C@H](CCCN(O)C(C)=O)NC(=O)[C@H](CCCN(O)C(C)=O)NC1=O'),\n",
       " (PosixPath('/Users/yusuf/.local/share/plinder/2024-06/v2/systems/1by5__1__1.A__1.B_1.K/sequences.fasta'),\n",
       "  '[Fe+3]')]"
      ]
     },
     "execution_count": 100,
     "metadata": {},
     "output_type": "execute_result"
    }
   ],
   "source": [
    "validation_set"
   ]
  }
 ],
 "metadata": {
  "kernelspec": {
   "display_name": "Python 3",
   "language": "python",
   "name": "python3"
  },
  "language_info": {
   "codemirror_mode": {
    "name": "ipython",
    "version": 3
   },
   "file_extension": ".py",
   "mimetype": "text/x-python",
   "name": "python",
   "nbconvert_exporter": "python",
   "pygments_lexer": "ipython3",
   "version": "3.9.18"
  }
 },
 "nbformat": 4,
 "nbformat_minor": 2
}
