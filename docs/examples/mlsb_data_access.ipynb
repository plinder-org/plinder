{
 "cells": [
  {
   "cell_type": "markdown",
   "metadata": {},
   "source": [
    "# MLSB/PLINDER Data Access\n",
    "(mlsb-notebook-target)=\n",
    "\n",
    "The goal of this tutorial is to provide background information for the MLSB/PLINDER challenge, as well as a simple hands-on demo for how participants can access and use the _PLINDER_ dataset. "
   ]
  },
  {
   "cell_type": "markdown",
   "metadata": {},
   "source": [
    "## Background information <a id=\"background-information\"></a>\n",
    "\n",
    "For background information on the rules of the challenge, see [MLSB/P(L)INDER challenge rules](#mlsb-rules-target) for more information."
   ]
  },
  {
   "cell_type": "markdown",
   "metadata": {},
   "source": [
    "## Accessing and loading data for training <a class=\"anchor\" id=\"load-data\"></a>"
   ]
  },
  {
   "cell_type": "markdown",
   "metadata": {},
   "source": [
    "Here, we are going to demonstrate how to get the key input data:\n",
    "- protein receptor fasta sequence\n",
    "- small molecules ligand SMILES string\n",
    "- access to linked _apo_ and _pred_ structure\n",
    "\n",
    "\n",
    "In the process, we will show:\n",
    "- How to download the _PLINDER_ data\n",
    "- How to query _PLINDER_ index and splits to select relevant data using `plinder.core` API\n",
    "- Extract task-specific data one might want to use for training a task-specific ML model, eg. one protein, one ligand\n",
    "- How to use `plinder.core` API to:\n",
    "    - supply dataset inputs for `train` or `val` splits\n",
    "    - load linked `apo` and `pred` structures\n",
    "    - use diversity subsampling based on cluster labels"
   ]
  },
  {
   "cell_type": "markdown",
   "metadata": {},
   "source": [
    "### Download _PLINDER_ <a class=\"anchor\" id=\"download-plinder\"></a>\n",
    "\n",
    "To download, run: `plinder_download --release 2024-06 --iteration v2 --yes` <br>\n",
    "This will download and unpack all neccesary files. For more information on download check out [Dataset Tutorial](https://plinder-org.github.io/plinder/tutorial/dataset.html#getting-the-data)\n",
    "\n",
    ":::{note} The dataset is hundreds of gigabytes in size; downloading and extracting should take about 40 minutes. If you want to play around with a toy example dataset, please use `--iteration tutorial`\n",
    ":::"
   ]
  },
  {
   "cell_type": "markdown",
   "metadata": {},
   "source": [
    "\n",
    "### Loading _PLINDER_  <a class=\"anchor\" id=\"loading-plinder\"></a>\n",
    "\n",
    "We recommend users interact with the dataset using _PLINDER_ Python API.\n",
    "\n",
    "To install the API run: ``pip install plinder[loader]``. If you are using `zsh` terminal, you will have to quote the package like ``\"plinder[loader]\"``\n",
    "\n",
    "NOTE: once the _PLINDER_ is downloaded locally, you can use it in offline mode to save time for data queries with: `os.environ[\"PLINDER_OFFLINE\"] = \"true\"`"
   ]
  },
  {
   "cell_type": "code",
   "execution_count": 1,
   "metadata": {},
   "outputs": [
    {
     "name": "stdout",
     "output_type": "stream",
     "text": [
      "env: PLINDER_LOG_LEVEL=0\n"
     ]
    }
   ],
   "source": [
    "%load_ext autoreload\n",
    "%autoreload 2\n",
    "%env PLINDER_LOG_LEVEL=0\n",
    "# once PLINDER is downloaded you can set this to true\n",
    "# %env PLINDER_OFFLINE=true\n",
    "\n",
    "from __future__ import annotations"
   ]
  },
  {
   "cell_type": "markdown",
   "metadata": {},
   "source": [
    "#### Load _PLINDER_ index with selected columns from annotations table\n",
    "For a full list with descriptions, please refer to [docs](https://plinder-org.github.io/plinder/dataset.html#annotation-tables-index)."
   ]
  },
  {
   "cell_type": "code",
   "execution_count": 2,
   "metadata": {},
   "outputs": [],
   "source": [
    "from plinder.core.scores import query_index"
   ]
  },
  {
   "cell_type": "code",
   "execution_count": 3,
   "metadata": {},
   "outputs": [],
   "source": [
    "# get plinder index with selected annotation columns specified\n",
    "plindex = query_index(\n",
    "    columns=[\"system_id\", \"ligand_id\",\n",
    "             \"ligand_rdkit_canonical_smiles\", \"ligand_is_ion\",\n",
    "             \"ligand_is_artifact\", \"system_num_ligand_chains\",\n",
    "             \"system_num_protein_chains\",\n",
    "             \"ligand_is_proper\",\n",
    "             \"system_proper_num_ligand_chains\",\n",
    "             ],\n",
    "    splits=[\"train\", \"val\"], # This is the default\n",
    ")"
   ]
  },
  {
   "cell_type": "code",
   "execution_count": 4,
   "metadata": {},
   "outputs": [
    {
     "data": {
      "text/html": [
       "<div>\n",
       "<style scoped>\n",
       "    .dataframe tbody tr th:only-of-type {\n",
       "        vertical-align: middle;\n",
       "    }\n",
       "\n",
       "    .dataframe tbody tr th {\n",
       "        vertical-align: top;\n",
       "    }\n",
       "\n",
       "    .dataframe thead th {\n",
       "        text-align: right;\n",
       "    }\n",
       "</style>\n",
       "<table border=\"1\" class=\"dataframe\">\n",
       "  <thead>\n",
       "    <tr style=\"text-align: right;\">\n",
       "      <th></th>\n",
       "      <th>system_id</th>\n",
       "      <th>ligand_id</th>\n",
       "      <th>ligand_rdkit_canonical_smiles</th>\n",
       "      <th>ligand_is_ion</th>\n",
       "      <th>ligand_is_artifact</th>\n",
       "      <th>system_num_ligand_chains</th>\n",
       "      <th>system_num_protein_chains</th>\n",
       "      <th>ligand_is_proper</th>\n",
       "      <th>system_proper_num_ligand_chains</th>\n",
       "      <th>split</th>\n",
       "    </tr>\n",
       "  </thead>\n",
       "  <tbody>\n",
       "    <tr>\n",
       "      <th>0</th>\n",
       "      <td>3grt__1__1.A_2.A__1.B</td>\n",
       "      <td>3grt__1__1.B</td>\n",
       "      <td>Cc1cc2nc3c(=O)[nH]c(=O)nc-3n(C[C@H](O)[C@H](O)...</td>\n",
       "      <td>False</td>\n",
       "      <td>False</td>\n",
       "      <td>1</td>\n",
       "      <td>2</td>\n",
       "      <td>True</td>\n",
       "      <td>1</td>\n",
       "      <td>train</td>\n",
       "    </tr>\n",
       "    <tr>\n",
       "      <th>1</th>\n",
       "      <td>3grt__1__1.A_2.A__1.C</td>\n",
       "      <td>3grt__1__1.C</td>\n",
       "      <td>N[C@@H](CCC(=O)N[C@H]1CSSC[C@H](NC(=O)CC[C@H](...</td>\n",
       "      <td>False</td>\n",
       "      <td>False</td>\n",
       "      <td>1</td>\n",
       "      <td>2</td>\n",
       "      <td>True</td>\n",
       "      <td>1</td>\n",
       "      <td>train</td>\n",
       "    </tr>\n",
       "    <tr>\n",
       "      <th>2</th>\n",
       "      <td>3grt__1__1.A_2.A__2.B</td>\n",
       "      <td>3grt__1__2.B</td>\n",
       "      <td>Cc1cc2nc3c(=O)[nH]c(=O)nc-3n(C[C@H](O)[C@H](O)...</td>\n",
       "      <td>False</td>\n",
       "      <td>False</td>\n",
       "      <td>1</td>\n",
       "      <td>2</td>\n",
       "      <td>True</td>\n",
       "      <td>1</td>\n",
       "      <td>train</td>\n",
       "    </tr>\n",
       "    <tr>\n",
       "      <th>3</th>\n",
       "      <td>3grt__1__1.A_2.A__2.C</td>\n",
       "      <td>3grt__1__2.C</td>\n",
       "      <td>N[C@@H](CCC(=O)N[C@H]1CSSC[C@H](NC(=O)CC[C@H](...</td>\n",
       "      <td>False</td>\n",
       "      <td>False</td>\n",
       "      <td>1</td>\n",
       "      <td>2</td>\n",
       "      <td>True</td>\n",
       "      <td>1</td>\n",
       "      <td>train</td>\n",
       "    </tr>\n",
       "    <tr>\n",
       "      <th>4</th>\n",
       "      <td>1grx__1__1.A__1.B</td>\n",
       "      <td>1grx__1__1.B</td>\n",
       "      <td>N[C@@H](CCC(=O)N[C@@H](CS)C(=O)NCC(=O)O)C(=O)O</td>\n",
       "      <td>False</td>\n",
       "      <td>False</td>\n",
       "      <td>1</td>\n",
       "      <td>1</td>\n",
       "      <td>True</td>\n",
       "      <td>1</td>\n",
       "      <td>train</td>\n",
       "    </tr>\n",
       "  </tbody>\n",
       "</table>\n",
       "</div>"
      ],
      "text/plain": [
       "               system_id     ligand_id  \\\n",
       "0  3grt__1__1.A_2.A__1.B  3grt__1__1.B   \n",
       "1  3grt__1__1.A_2.A__1.C  3grt__1__1.C   \n",
       "2  3grt__1__1.A_2.A__2.B  3grt__1__2.B   \n",
       "3  3grt__1__1.A_2.A__2.C  3grt__1__2.C   \n",
       "4      1grx__1__1.A__1.B  1grx__1__1.B   \n",
       "\n",
       "                       ligand_rdkit_canonical_smiles  ligand_is_ion  \\\n",
       "0  Cc1cc2nc3c(=O)[nH]c(=O)nc-3n(C[C@H](O)[C@H](O)...          False   \n",
       "1  N[C@@H](CCC(=O)N[C@H]1CSSC[C@H](NC(=O)CC[C@H](...          False   \n",
       "2  Cc1cc2nc3c(=O)[nH]c(=O)nc-3n(C[C@H](O)[C@H](O)...          False   \n",
       "3  N[C@@H](CCC(=O)N[C@H]1CSSC[C@H](NC(=O)CC[C@H](...          False   \n",
       "4     N[C@@H](CCC(=O)N[C@@H](CS)C(=O)NCC(=O)O)C(=O)O          False   \n",
       "\n",
       "   ligand_is_artifact  system_num_ligand_chains  system_num_protein_chains  \\\n",
       "0               False                         1                          2   \n",
       "1               False                         1                          2   \n",
       "2               False                         1                          2   \n",
       "3               False                         1                          2   \n",
       "4               False                         1                          1   \n",
       "\n",
       "   ligand_is_proper  system_proper_num_ligand_chains  split  \n",
       "0              True                                1  train  \n",
       "1              True                                1  train  \n",
       "2              True                                1  train  \n",
       "3              True                                1  train  \n",
       "4              True                                1  train  "
      ]
     },
     "execution_count": 4,
     "metadata": {},
     "output_type": "execute_result"
    }
   ],
   "source": [
    "plindex.head()"
   ]
  },
  {
   "cell_type": "code",
   "execution_count": 5,
   "metadata": {},
   "outputs": [
    {
     "data": {
      "text/plain": [
       "system_num_protein_chains\n",
       "1    260142\n",
       "2    131014\n",
       "3     23306\n",
       "4      4466\n",
       "5       610\n",
       "Name: system_id, dtype: int64"
      ]
     },
     "execution_count": 5,
     "metadata": {},
     "output_type": "execute_result"
    }
   ],
   "source": [
    "# Display number of system neighboring protein chains\n",
    "plindex.groupby(\"system_num_protein_chains\").system_id.count()"
   ]
  },
  {
   "cell_type": "markdown",
   "metadata": {},
   "source": [
    "#### Extracting specific data using _PLINDER_ annotations  <a class=\"anchor\" id=\"extracting-annotations\"></a>\n",
    "As we can see just from the data tables above - a significant fraction of _PLINDER_ systems contain complex multi protein chain systems."
   ]
  },
  {
   "cell_type": "markdown",
   "metadata": {},
   "source": [
    "##### Task specific selection\n",
    "If we would like to focus on single protein and single ligand systems for training, we can use the annotated columns to filter out systems that:\n",
    "- contain only one protein chain\n",
    "- only one ligand\n",
    "\n",
    "Remember: In _PLINDER_ artifacts and (single atom) ions are also included in the index if they are part of the pocket.\n",
    "- `ligand_is_proper` combines columns `ligand_is_ion` and `ligand_is_artifact` to only select \"proper\" ligands.\n",
    "\n",
    "Let's find out how many annotated ligands are \"proper\"."
   ]
  },
  {
   "cell_type": "code",
   "execution_count": 6,
   "metadata": {},
   "outputs": [
    {
     "data": {
      "text/plain": [
       "ligand_is_proper\n",
       "False     74608\n",
       "True     344930\n",
       "Name: system_id, dtype: int64"
      ]
     },
     "execution_count": 6,
     "metadata": {},
     "output_type": "execute_result"
    }
   ],
   "source": [
    "plindex.groupby(\"ligand_is_proper\").system_id.count()"
   ]
  },
  {
   "cell_type": "markdown",
   "metadata": {},
   "source": [
    "##### User choice\n",
    "\n",
    "The annotations table gives flexibility to choose the systems for training:\n",
    "- One could strictly choose to use only the data that contains single protein single ligand systems\n",
    "- Alternatively one could expand the number of systems to include systems containing single proper ligands, and optionally ignore the artifacts and ions in the pocket\n",
    "\n",
    "Let's compare the numbers of such systems!"
   ]
  },
  {
   "cell_type": "code",
   "execution_count": 7,
   "metadata": {},
   "outputs": [
    {
     "name": "stdout",
     "output_type": "stream",
     "text": [
      "Number of single receptor single ligand systems: 153222\n",
      "Number of single receptor single \"proper\" ligand systems: 182861\n"
     ]
    }
   ],
   "source": [
    "# create mask for single receptor single ligand systems\n",
    "systems_1p1l = (plindex[\"system_num_protein_chains\"] == 1) & (plindex[\"system_num_ligand_chains\"] == 1)\n",
    "\n",
    "# create mask only for single receptor single \"proper\" ligand systems\n",
    "systems_proper_1p1l = (plindex[\"system_num_protein_chains\"] == 1) & (plindex[\"system_proper_num_ligand_chains\"] == 1) & plindex[\"ligand_is_proper\"]\n",
    "\n",
    "print(f\"Number of single receptor single ligand systems: {sum(systems_1p1l)}\")\n",
    "print(f\"Number of single receptor single \\\"proper\\\" ligand systems: {sum(systems_proper_1p1l)}\")"
   ]
  },
  {
   "cell_type": "markdown",
   "metadata": {},
   "source": [
    "As we can see - the second choice can provide up to 20% more data for training, however, the caveat is that some of the interactions made by artifacts or ions may influence the binding pose of the \"proper\" ligand. The user could come up with further strategies to filtering using annotations table or external tools, but this is beyond the scope of this tutorial."
   ]
  },
  {
   "cell_type": "markdown",
   "metadata": {},
   "source": [
    "#### Getting links to `apo` or `pred` structures <a class=\"anchor\" id=\"getting-apo-pred\"></a>\n",
    "\n",
    ":::{currentmodule} plinder.core\n",
    ":::\n",
    "\n",
    "For users interested in including `apo` and `pred` structures in their workflow, all the information needed can be obtained from the function {func}`query_links`"
   ]
  },
  {
   "cell_type": "code",
   "execution_count": 8,
   "metadata": {},
   "outputs": [],
   "source": [
    "from plinder.core.scores import query_links"
   ]
  },
  {
   "cell_type": "code",
   "execution_count": 9,
   "metadata": {},
   "outputs": [],
   "source": [
    "links_df = query_links(\n",
    "    columns=[\"reference_system_id\", \"id\", \"sort_score\"],\n",
    ")"
   ]
  },
  {
   "cell_type": "markdown",
   "metadata": {},
   "source": [
    ":::{note} The table is sorted by `sort_score` that is resolution for `apo`s and `plddt` for `pred`s. The `apo` or `pred` is specified in the additionally added `filename` and `kind` column that specifies if the structure was sourced from PDB or AF2DB, respectively.\n",
    ":::"
   ]
  },
  {
   "cell_type": "code",
   "execution_count": 10,
   "metadata": {},
   "outputs": [
    {
     "data": {
      "text/html": [
       "<div>\n",
       "<style scoped>\n",
       "    .dataframe tbody tr th:only-of-type {\n",
       "        vertical-align: middle;\n",
       "    }\n",
       "\n",
       "    .dataframe tbody tr th {\n",
       "        vertical-align: top;\n",
       "    }\n",
       "\n",
       "    .dataframe thead th {\n",
       "        text-align: right;\n",
       "    }\n",
       "</style>\n",
       "<table border=\"1\" class=\"dataframe\">\n",
       "  <thead>\n",
       "    <tr style=\"text-align: right;\">\n",
       "      <th></th>\n",
       "      <th>reference_system_id</th>\n",
       "      <th>id</th>\n",
       "      <th>sort_score</th>\n",
       "      <th>kind</th>\n",
       "    </tr>\n",
       "  </thead>\n",
       "  <tbody>\n",
       "    <tr>\n",
       "      <th>0</th>\n",
       "      <td>6pl9__1__1.A__1.C</td>\n",
       "      <td>2vb1_A</td>\n",
       "      <td>0.65</td>\n",
       "      <td>apo</td>\n",
       "    </tr>\n",
       "    <tr>\n",
       "      <th>1</th>\n",
       "      <td>6ahh__1__1.A__1.G</td>\n",
       "      <td>2vb1_A</td>\n",
       "      <td>0.65</td>\n",
       "      <td>apo</td>\n",
       "    </tr>\n",
       "    <tr>\n",
       "      <th>2</th>\n",
       "      <td>5b59__1__1.A__1.B</td>\n",
       "      <td>2vb1_A</td>\n",
       "      <td>0.65</td>\n",
       "      <td>apo</td>\n",
       "    </tr>\n",
       "    <tr>\n",
       "      <th>3</th>\n",
       "      <td>3ato__1__1.A__1.B</td>\n",
       "      <td>2vb1_A</td>\n",
       "      <td>0.65</td>\n",
       "      <td>apo</td>\n",
       "    </tr>\n",
       "    <tr>\n",
       "      <th>4</th>\n",
       "      <td>6mx9__1__1.A__1.K</td>\n",
       "      <td>2vb1_A</td>\n",
       "      <td>0.65</td>\n",
       "      <td>apo</td>\n",
       "    </tr>\n",
       "  </tbody>\n",
       "</table>\n",
       "</div>"
      ],
      "text/plain": [
       "  reference_system_id      id  sort_score kind\n",
       "0   6pl9__1__1.A__1.C  2vb1_A        0.65  apo\n",
       "1   6ahh__1__1.A__1.G  2vb1_A        0.65  apo\n",
       "2   5b59__1__1.A__1.B  2vb1_A        0.65  apo\n",
       "3   3ato__1__1.A__1.B  2vb1_A        0.65  apo\n",
       "4   6mx9__1__1.A__1.K  2vb1_A        0.65  apo"
      ]
     },
     "execution_count": 10,
     "metadata": {},
     "output_type": "execute_result"
    }
   ],
   "source": [
    "links_df.head()"
   ]
  },
  {
   "cell_type": "markdown",
   "metadata": {},
   "source": [
    "If a user wants to consider only one linked structure per system - we can easily drop duplicates, first sorting by `sort_score`. Using this priority score, `pred` structures will not be used unless there is no `apo` available. Alternative can be achieved by sorting with `ascending=False`, or filtering by `kind==\"pred\"` column."
   ]
  },
  {
   "cell_type": "code",
   "execution_count": 11,
   "metadata": {},
   "outputs": [
    {
     "data": {
      "text/html": [
       "<div>\n",
       "<style scoped>\n",
       "    .dataframe tbody tr th:only-of-type {\n",
       "        vertical-align: middle;\n",
       "    }\n",
       "\n",
       "    .dataframe tbody tr th {\n",
       "        vertical-align: top;\n",
       "    }\n",
       "\n",
       "    .dataframe thead th {\n",
       "        text-align: right;\n",
       "    }\n",
       "</style>\n",
       "<table border=\"1\" class=\"dataframe\">\n",
       "  <thead>\n",
       "    <tr style=\"text-align: right;\">\n",
       "      <th></th>\n",
       "      <th>reference_system_id</th>\n",
       "      <th>id</th>\n",
       "      <th>sort_score</th>\n",
       "      <th>kind</th>\n",
       "    </tr>\n",
       "  </thead>\n",
       "  <tbody>\n",
       "    <tr>\n",
       "      <th>0</th>\n",
       "      <td>6pl9__1__1.A__1.C</td>\n",
       "      <td>2vb1_A</td>\n",
       "      <td>0.65</td>\n",
       "      <td>apo</td>\n",
       "    </tr>\n",
       "    <tr>\n",
       "      <th>110</th>\n",
       "      <td>6agr__1__1.A__1.G</td>\n",
       "      <td>2vb1_A</td>\n",
       "      <td>0.65</td>\n",
       "      <td>apo</td>\n",
       "    </tr>\n",
       "    <tr>\n",
       "      <th>111</th>\n",
       "      <td>4qgz__1__1.A__1.C</td>\n",
       "      <td>2vb1_A</td>\n",
       "      <td>0.65</td>\n",
       "      <td>apo</td>\n",
       "    </tr>\n",
       "    <tr>\n",
       "      <th>112</th>\n",
       "      <td>4owa__2__1.B__1.NA</td>\n",
       "      <td>2vb1_A</td>\n",
       "      <td>0.65</td>\n",
       "      <td>apo</td>\n",
       "    </tr>\n",
       "    <tr>\n",
       "      <th>113</th>\n",
       "      <td>6wgo__1__1.A__1.E</td>\n",
       "      <td>2vb1_A</td>\n",
       "      <td>0.65</td>\n",
       "      <td>apo</td>\n",
       "    </tr>\n",
       "  </tbody>\n",
       "</table>\n",
       "</div>"
      ],
      "text/plain": [
       "    reference_system_id      id  sort_score kind\n",
       "0     6pl9__1__1.A__1.C  2vb1_A        0.65  apo\n",
       "110   6agr__1__1.A__1.G  2vb1_A        0.65  apo\n",
       "111   4qgz__1__1.A__1.C  2vb1_A        0.65  apo\n",
       "112  4owa__2__1.B__1.NA  2vb1_A        0.65  apo\n",
       "113   6wgo__1__1.A__1.E  2vb1_A        0.65  apo"
      ]
     },
     "execution_count": 11,
     "metadata": {},
     "output_type": "execute_result"
    }
   ],
   "source": [
    "single_links_df = links_df.sort_values(\"sort_score\", ascending=True).drop_duplicates(\"reference_system_id\")\n",
    "single_links_df.head()"
   ]
  },
  {
   "cell_type": "markdown",
   "metadata": {},
   "source": [
    "Now that we have links to `apo` / `pred` structures, we can see how many of those are available for our single protein single ligand systems"
   ]
  },
  {
   "cell_type": "code",
   "execution_count": 12,
   "metadata": {},
   "outputs": [],
   "source": [
    "plindex_split_1p1l_links = plindex[systems_1p1l].merge(single_links_df, left_on=\"system_id\", right_on=\"reference_system_id\", how=\"left\")"
   ]
  },
  {
   "cell_type": "code",
   "execution_count": 13,
   "metadata": {},
   "outputs": [
    {
     "data": {
      "text/plain": [
       "split  system_has_linked_apo_or_pred\n",
       "train  False                             47109\n",
       "       True                             105713\n",
       "val    False                                30\n",
       "       True                                370\n",
       "Name: system_id, dtype: int64"
      ]
     },
     "execution_count": 13,
     "metadata": {},
     "output_type": "execute_result"
    }
   ],
   "source": [
    "# let's check how many systems have linked structures\n",
    "plindex_split_1p1l_links['system_has_linked_apo_or_pred'] = ~plindex_split_1p1l_links.kind.isna()\n",
    "plindex_split_1p1l_links.groupby([\"split\", \"system_has_linked_apo_or_pred\"]).system_id.count()"
   ]
  },
  {
   "cell_type": "markdown",
   "metadata": {},
   "source": [
    "##### Selecting final dataset\n",
    "Let's select only the set that has linked structures for flexible docking"
   ]
  },
  {
   "cell_type": "code",
   "execution_count": 14,
   "metadata": {},
   "outputs": [
    {
     "data": {
      "text/plain": [
       "split  system_has_linked_apo_or_pred\n",
       "train  True                             105713\n",
       "val    True                                370\n",
       "Name: system_id, dtype: int64"
      ]
     },
     "execution_count": 14,
     "metadata": {},
     "output_type": "execute_result"
    }
   ],
   "source": [
    "plindex_final_df = plindex_split_1p1l_links[\n",
    "    (plindex_split_1p1l_links.system_has_linked_apo_or_pred)\n",
    "]\n",
    "plindex_final_df.groupby([\"split\", \"system_has_linked_apo_or_pred\"]).system_id.count()"
   ]
  },
  {
   "cell_type": "markdown",
   "metadata": {},
   "source": [
    "#### Using _PLINDER_ API to load dataset by split <a class=\"anchor\" id=\"api-load-split\"></a>\n",
    "\n",
    "More to come here after revamping the data loader code in `plinder`"
   ]
  },
  {
   "cell_type": "markdown",
   "metadata": {},
   "source": [
    ":::{currentmodule} plinder.core\n",
    ":::"
   ]
  },
  {
   "cell_type": "markdown",
   "metadata": {},
   "source": [
    ":::{note} if files not already available this downloads them to `~/.local/share/plinder/{PLINDER_RELEASE}/{PLINDER_ITERATION}` directory\n",
    ":::"
   ]
  },
  {
   "cell_type": "markdown",
   "metadata": {},
   "source": [
    "#### Using _PLINDER_ clusters in sampling <a class=\"anchor\" id=\"cluster-sampling\"></a>"
   ]
  },
  {
   "cell_type": "markdown",
   "metadata": {},
   "source": [
    "##### Define diversity sampler function\n",
    ":::{currentmodule} plinder.core\n",
    ":::\n"
   ]
  },
  {
   "cell_type": "markdown",
   "metadata": {},
   "source": [
    "Here, we have provided an example of how one might use the function `get_diversity_samples` which is based on  `torch.utils.data.WeightedRandomSampler`.\n",
    "\n",
    "NOTE: This example function is provided for demonstration purposes and users are encouraged to come up with sampling strategy that suits their need. <br>\n",
    "\n",
    "In general, diversity can be sampled using cluster information described [here](https://plinder-org.github.io/plinder/dataset.html#clusters-clusters).\n",
    "All cluster information can easily be added to `plindex`. <br>\n",
    "\n",
    "See below an example, we are going to sample based on the following cluster label:\n",
    "`pli_qcov__70__community`."
   ]
  },
  {
   "cell_type": "markdown",
   "metadata": {},
   "source": [
    "The returned DataFrame could then be passed to {func}`get_model_input_files` the same way `plindex_final_df` was used above."
   ]
  },
  {
   "cell_type": "code",
   "execution_count": 17,
   "metadata": {},
   "outputs": [],
   "source": [
    "def get_diversity_samples(\n",
    "    plindex,\n",
    "    cluster_column: str = \"pli_qcov__70__community\",\n",
    "):\n",
    "    from torch.utils.data import WeightedRandomSampler\n",
    "\n",
    "    cluster_counts = plindex[cluster_column].value_counts().rename(\"cluster_count\")\n",
    "    plindex = plindex.merge(cluster_counts, left_on=cluster_column, right_index=True).reset_index()\n",
    "    cluster_weights = 1.0 / plindex.cluster_count.values\n",
    "    sampler = WeightedRandomSampler(\n",
    "        weights=cluster_weights, num_samples=len(cluster_weights)\n",
    "    )\n",
    "    sampler_index = [i for i in sampler]\n",
    "    return plindex.loc[tuple(sampler_index), (\"system_id\", \"split\")].drop_duplicates()\n",
    "\n",
    "cluster_column = \"pli_qcov__70__community\"\n",
    "plindex_clusters = query_index(columns=[\"system_id\", cluster_column]).drop(columns=[\"split\"])\n",
    "plindex_with_clusters = plindex_final_df.merge(plindex_clusters, on=\"system_id\", how=\"left\")\n",
    "sampled_df = get_diversity_samples(plindex_with_clusters, cluster_column)"
   ]
  },
  {
   "cell_type": "code",
   "execution_count": 18,
   "metadata": {},
   "outputs": [
    {
     "data": {
      "text/plain": [
       "(28509, 309972)"
      ]
     },
     "execution_count": 18,
     "metadata": {},
     "output_type": "execute_result"
    }
   ],
   "source": [
    "sampled_df.system_id.nunique(), plindex.system_id.nunique()"
   ]
  }
 ],
 "metadata": {
  "kernelspec": {
   "display_name": "Python 3 (ipykernel)",
   "language": "python",
   "name": "python3"
  },
  "language_info": {
   "codemirror_mode": {
    "name": "ipython",
    "version": 3
   },
   "file_extension": ".py",
   "mimetype": "text/x-python",
   "name": "python",
   "nbconvert_exporter": "python",
   "pygments_lexer": "ipython3",
   "version": "3.10.14"
  }
 },
 "nbformat": 4,
 "nbformat_minor": 4
}
