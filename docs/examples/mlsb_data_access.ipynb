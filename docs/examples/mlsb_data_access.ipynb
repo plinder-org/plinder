{
 "cells": [
  {
   "cell_type": "markdown",
   "metadata": {},
   "source": [
    "# MLSB/PLINDER Data Access\n",
    "(mlsb-notebook-target)=\n",
    "\n",
    "The goal of this tutorial is to provide background information for the MLSB/PLINDER challenge, as well as a simple hands-on demo for how participants can access and use the _PLINDER_ dataset. "
   ]
  },
  {
   "cell_type": "markdown",
   "metadata": {},
   "source": [
    "## Background information <a id=\"background-information\"></a>\n",
    "\n",
    "For background information on the rules of the challenge, see [MLSB/P(L)INDER challenge rules](#mlsb-rules-target) for more information."
   ]
  },
  {
   "cell_type": "markdown",
   "metadata": {},
   "source": [
    "## Accessing and loading data for training <a class=\"anchor\" id=\"load-data\"></a>"
   ]
  },
  {
   "cell_type": "markdown",
   "metadata": {},
   "source": [
    "Here, we are going to demonstrate how to get the key input data:\n",
    "- protein receptor fasta sequence\n",
    "- small molecules ligand SMILES string\n",
    "- access to linked _apo_ and _pred_ structure\n",
    "\n",
    "\n",
    "In the process, we will show:\n",
    "- How to download the _PLINDER_ data\n",
    "- How to query _PLINDER_ index and splits to select relevant data using `plinder.core` API\n",
    "- Extract task-specific data one might want to use for training a task-specific ML model, eg. one protein, one ligand\n",
    "- How to use `plinder.core` API to:\n",
    "    - supply dataset inputs for `train` or `val` splits\n",
    "    - load linked `apo` and `pred` structures\n",
    "    - use diversity subsampling based on cluster labels"
   ]
  },
  {
   "cell_type": "markdown",
   "metadata": {},
   "source": [
    "### Download _PLINDER_ <a class=\"anchor\" id=\"download-plinder\"></a>\n",
    "\n",
    "To download, run: `plinder_download --release 2024-06 --iteration v2 --yes` <br>\n",
    "This will download and unpack all neccesary files. For more information on download check out [Dataset Tutorial](https://plinder-org.github.io/plinder/tutorial/dataset.html#getting-the-data)\n",
    "\n",
    ":::{note} The dataset is hundreds of gigabytes in size; downloading and extracting should take about 40 minutes. If you want to play around with a toy example dataset, please use `--iteration tutorial`\n",
    ":::"
   ]
  },
  {
   "cell_type": "markdown",
   "metadata": {},
   "source": [
    "\n",
    "### Loading _PLINDER_  <a class=\"anchor\" id=\"loading-plinder\"></a>\n",
    "\n",
    "We recommend users interact with the dataset using _PLINDER_ Python API.\n",
    "\n",
    "To install the API run: ``pip install plinder[loader]``. If you are using `zsh` terminal, you will have to quote the package like ``\"plinder[loader]\"``\n",
    "\n",
    "NOTE: once the _PLINDER_ is downloaded locally, you can use it in offline mode to save time for data queries with: `os.environ[\"PLINDER_OFFLINE\"] = \"true\"`"
   ]
  },
  {
   "cell_type": "code",
   "execution_count": 1,
   "metadata": {},
   "outputs": [],
   "source": [
    "%load_ext autoreload\n",
    "%autoreload 2\n",
    "\n",
    "from __future__ import annotations\n",
    "import os\n",
    "import pandas as pd\n",
    "\n",
    "# once the _PLINDER_ is downloaded you can set this to true\n",
    "os.environ[\"PLINDER_OFFLINE\"] = \"false\"\n",
    "# os.environ[\"PLINDER_OFFLINE\"] = \"true\""
   ]
  },
  {
   "cell_type": "markdown",
   "metadata": {},
   "source": [
    "#### Load _PLINDER_ index with selected columns from annotations table\n",
    "For a full list with descriptions, please refer to [docs](https://plinder-org.github.io/plinder/dataset.html#annotation-tables-index)."
   ]
  },
  {
   "cell_type": "code",
   "execution_count": 2,
   "metadata": {},
   "outputs": [],
   "source": [
    "from plinder.core.scores import query_index"
   ]
  },
  {
   "cell_type": "code",
   "execution_count": 3,
   "metadata": {},
   "outputs": [],
   "source": [
    "# get plinder index with selected annotation columns specified\n",
    "plindex = query_index(\n",
    "    columns=[\"system_id\", \"ligand_id\",\n",
    "             \"ligand_rdkit_canonical_smiles\", \"ligand_is_ion\",\n",
    "             \"ligand_is_artifact\", \"system_num_ligand_chains\",\n",
    "             \"system_num_neighboring_protein_chains\",\n",
    "             \"pli_qcov__100__strong__component\"\n",
    "             ],\n",
    "    filters=[\n",
    "        (\"system_type\", \"==\", \"holo\"),\n",
    "        (\"system_num_neighboring_protein_chains\", \"<=\", 5)\n",
    "    ]\n",
    ")"
   ]
  },
  {
   "cell_type": "code",
   "execution_count": 4,
   "metadata": {},
   "outputs": [
    {
     "data": {
      "text/html": [
       "<div>\n",
       "<style scoped>\n",
       "    .dataframe tbody tr th:only-of-type {\n",
       "        vertical-align: middle;\n",
       "    }\n",
       "\n",
       "    .dataframe tbody tr th {\n",
       "        vertical-align: top;\n",
       "    }\n",
       "\n",
       "    .dataframe thead th {\n",
       "        text-align: right;\n",
       "    }\n",
       "</style>\n",
       "<table border=\"1\" class=\"dataframe\">\n",
       "  <thead>\n",
       "    <tr style=\"text-align: right;\">\n",
       "      <th></th>\n",
       "      <th>system_id</th>\n",
       "      <th>ligand_id</th>\n",
       "      <th>ligand_rdkit_canonical_smiles</th>\n",
       "      <th>ligand_is_ion</th>\n",
       "      <th>ligand_is_artifact</th>\n",
       "      <th>system_num_ligand_chains</th>\n",
       "      <th>system_num_neighboring_protein_chains</th>\n",
       "      <th>pli_qcov__100__strong__component</th>\n",
       "    </tr>\n",
       "  </thead>\n",
       "  <tbody>\n",
       "    <tr>\n",
       "      <th>0</th>\n",
       "      <td>3grt__1__1.A_2.A__1.B</td>\n",
       "      <td>3grt__1__1.B</td>\n",
       "      <td>Cc1cc2nc3c(=O)[nH]c(=O)nc-3n(C[C@H](O)[C@H](O)...</td>\n",
       "      <td>False</td>\n",
       "      <td>False</td>\n",
       "      <td>1</td>\n",
       "      <td>2</td>\n",
       "      <td>c243140</td>\n",
       "    </tr>\n",
       "    <tr>\n",
       "      <th>1</th>\n",
       "      <td>3grt__1__1.A_2.A__1.C</td>\n",
       "      <td>3grt__1__1.C</td>\n",
       "      <td>N[C@@H](CCC(=O)N[C@H]1CSSC[C@H](NC(=O)CC[C@H](...</td>\n",
       "      <td>False</td>\n",
       "      <td>False</td>\n",
       "      <td>1</td>\n",
       "      <td>2</td>\n",
       "      <td>c169758</td>\n",
       "    </tr>\n",
       "    <tr>\n",
       "      <th>2</th>\n",
       "      <td>3grt__1__1.A_2.A__2.B</td>\n",
       "      <td>3grt__1__2.B</td>\n",
       "      <td>Cc1cc2nc3c(=O)[nH]c(=O)nc-3n(C[C@H](O)[C@H](O)...</td>\n",
       "      <td>False</td>\n",
       "      <td>False</td>\n",
       "      <td>1</td>\n",
       "      <td>2</td>\n",
       "      <td>c242976</td>\n",
       "    </tr>\n",
       "    <tr>\n",
       "      <th>3</th>\n",
       "      <td>3grt__1__1.A_2.A__2.C</td>\n",
       "      <td>3grt__1__2.C</td>\n",
       "      <td>N[C@@H](CCC(=O)N[C@H]1CSSC[C@H](NC(=O)CC[C@H](...</td>\n",
       "      <td>False</td>\n",
       "      <td>False</td>\n",
       "      <td>1</td>\n",
       "      <td>2</td>\n",
       "      <td>c173553</td>\n",
       "    </tr>\n",
       "    <tr>\n",
       "      <th>4</th>\n",
       "      <td>1grx__1__1.A__1.B</td>\n",
       "      <td>1grx__1__1.B</td>\n",
       "      <td>N[C@@H](CCC(=O)N[C@@H](CS)C(=O)NCC(=O)O)C(=O)O</td>\n",
       "      <td>False</td>\n",
       "      <td>False</td>\n",
       "      <td>1</td>\n",
       "      <td>1</td>\n",
       "      <td>c186761</td>\n",
       "    </tr>\n",
       "  </tbody>\n",
       "</table>\n",
       "</div>"
      ],
      "text/plain": [
       "               system_id     ligand_id  \\\n",
       "0  3grt__1__1.A_2.A__1.B  3grt__1__1.B   \n",
       "1  3grt__1__1.A_2.A__1.C  3grt__1__1.C   \n",
       "2  3grt__1__1.A_2.A__2.B  3grt__1__2.B   \n",
       "3  3grt__1__1.A_2.A__2.C  3grt__1__2.C   \n",
       "4      1grx__1__1.A__1.B  1grx__1__1.B   \n",
       "\n",
       "                       ligand_rdkit_canonical_smiles  ligand_is_ion  \\\n",
       "0  Cc1cc2nc3c(=O)[nH]c(=O)nc-3n(C[C@H](O)[C@H](O)...          False   \n",
       "1  N[C@@H](CCC(=O)N[C@H]1CSSC[C@H](NC(=O)CC[C@H](...          False   \n",
       "2  Cc1cc2nc3c(=O)[nH]c(=O)nc-3n(C[C@H](O)[C@H](O)...          False   \n",
       "3  N[C@@H](CCC(=O)N[C@H]1CSSC[C@H](NC(=O)CC[C@H](...          False   \n",
       "4     N[C@@H](CCC(=O)N[C@@H](CS)C(=O)NCC(=O)O)C(=O)O          False   \n",
       "\n",
       "   ligand_is_artifact  system_num_ligand_chains  \\\n",
       "0               False                         1   \n",
       "1               False                         1   \n",
       "2               False                         1   \n",
       "3               False                         1   \n",
       "4               False                         1   \n",
       "\n",
       "   system_num_neighboring_protein_chains pli_qcov__100__strong__component  \n",
       "0                                      2                          c243140  \n",
       "1                                      2                          c169758  \n",
       "2                                      2                          c242976  \n",
       "3                                      2                          c173553  \n",
       "4                                      1                          c186761  "
      ]
     },
     "execution_count": 4,
     "metadata": {},
     "output_type": "execute_result"
    }
   ],
   "source": [
    "plindex.head()"
   ]
  },
  {
   "cell_type": "code",
   "execution_count": 5,
   "metadata": {},
   "outputs": [
    {
     "data": {
      "text/plain": [
       "system_num_neighboring_protein_chains\n",
       "1    406826\n",
       "2    213268\n",
       "3     43478\n",
       "4     10835\n",
       "5      1783\n",
       "Name: system_id, dtype: int64"
      ]
     },
     "execution_count": 5,
     "metadata": {},
     "output_type": "execute_result"
    }
   ],
   "source": [
    "# Display number of system neighboring protein chains\n",
    "plindex.groupby(\"system_num_neighboring_protein_chains\").system_id.count()"
   ]
  },
  {
   "cell_type": "markdown",
   "metadata": {},
   "source": [
    "#### Extracting specific data using _PLINDER_ annotations  <a class=\"anchor\" id=\"extracting-annotations\"></a>\n",
    "As we can see just from the data tables above - a significant fraction of _PLINDER_ systems contain complex multi protein chain systems."
   ]
  },
  {
   "cell_type": "markdown",
   "metadata": {},
   "source": [
    "##### Task specific selection\n",
    "If we would like to focus on single protein and single ligand systems for training, we can use the annotated columns to filter out systems that:\n",
    "- contain only one protein chain\n",
    "- only one ligand\n",
    "\n",
    "Remember: In _PLINDER_ artifacts and (single atom) ions are also included in the index if they are part of the pocket.\n",
    "- We can use columns `ligand_is_ion` and `ligand_is_artifact` to only select \"proper\" ligands.\n",
    "\n",
    "Let's find out how many annotated ligands are \"proper\"."
   ]
  },
  {
   "cell_type": "code",
   "execution_count": 6,
   "metadata": {},
   "outputs": [],
   "source": [
    "# define \"proper\" ligands that are not ions or artifacts\n",
    "plindex[\"ligand_is_proper\"] = (\n",
    "    ~plindex[\"ligand_is_ion\"] & ~plindex[\"ligand_is_artifact\"]\n",
    ")"
   ]
  },
  {
   "cell_type": "code",
   "execution_count": 7,
   "metadata": {},
   "outputs": [
    {
     "data": {
      "text/plain": [
       "ligand_is_proper\n",
       "False    128401\n",
       "True     547789\n",
       "Name: system_id, dtype: int64"
      ]
     },
     "execution_count": 7,
     "metadata": {},
     "output_type": "execute_result"
    }
   ],
   "source": [
    "plindex.groupby(\"ligand_is_proper\").system_id.count()"
   ]
  },
  {
   "cell_type": "markdown",
   "metadata": {},
   "source": [
    "##### User choice\n",
    "\n",
    "The annotations table gives flexibility to choose the systems for training:\n",
    "- One could strictly choose to use only the data that contains single protein single ligand systems\n",
    "- Alternatively one could expand the number of systems to include systems containing single proper ligands, and optionally ignore the artifacts and ions in the pocket\n",
    "\n",
    "Let's compare the numbers of such systems!"
   ]
  },
  {
   "cell_type": "code",
   "execution_count": 8,
   "metadata": {},
   "outputs": [
    {
     "name": "stdout",
     "output_type": "stream",
     "text": [
      "Number of single receptor single ligand systems: 238228\n",
      "Number of single receptor single \"proper\" ligand systems: 282433\n"
     ]
    }
   ],
   "source": [
    "# create mask for single receptor single ligand systems\n",
    "systems_1p1l = (plindex[\"system_num_neighboring_protein_chains\"] == 1) & (plindex[\"system_num_ligand_chains\"] == 1)\n",
    "\n",
    "# make count of these \"proper\" ligands per system\n",
    "plindex[\"system_proper_num_ligand_chains\"] = plindex.groupby(\"system_id\")[\"ligand_is_proper\"].transform(\"sum\")\n",
    "\n",
    "# create mask only for single receptor single \"proper\" ligand systems\n",
    "systems_proper_1p1l = (plindex[\"system_num_neighboring_protein_chains\"] == 1) & (plindex[\"system_proper_num_ligand_chains\"] == 1) & plindex[\"ligand_is_proper\"]\n",
    "\n",
    "print(f\"Number of single receptor single ligand systems: {sum(systems_1p1l)}\")\n",
    "print(f\"Number of single receptor single \\\"proper\\\" ligand systems: {sum(systems_proper_1p1l)}\")"
   ]
  },
  {
   "cell_type": "markdown",
   "metadata": {},
   "source": [
    "As we can see - the second choice can provide up to 20% more data for training, however, the caveat is that some of the interactions made by artifacts or ions may influence the binding pose of the \"proper\" ligand. The user could come up with further strategies to filtering using annotations table or external tools, but this is beyond the scope of this tutorial."
   ]
  },
  {
   "cell_type": "markdown",
   "metadata": {},
   "source": [
    "#### Loading splits\n",
    "\n",
    "Now, after curating the systems of interest, let's have a look at the splits using _PLINDER_ API.\n",
    "\n",
    "- How to use {mod}`plinder.core` API to supply dataset inputs for `train` or `val` splits"
   ]
  },
  {
   "cell_type": "code",
   "execution_count": 9,
   "metadata": {},
   "outputs": [],
   "source": [
    "from plinder.core import get_split"
   ]
  },
  {
   "cell_type": "markdown",
   "metadata": {},
   "source": [
    "##### Getting the splits\n",
    "\n",
    "The `get_split` function provided the current _PLINDER_ split, the detailed description of this DataFrame is provide in the [dataset documentation](https://plinder-org.github.io/plinder/dataset.html#splits-splits), but for our practical purposes we are mostly interested in `system_id` and `split` that assigns each of our systems to a specific split category."
   ]
  },
  {
   "cell_type": "code",
   "execution_count": 10,
   "metadata": {},
   "outputs": [
    {
     "name": "stderr",
     "output_type": "stream",
     "text": [
      "2024-09-06 13:52:28,187 | plinder.core.split.utils:42 | INFO : reading /Users/vladas/.local/share/plinder/2024-06/v2/splits/split.parquet\n"
     ]
    },
    {
     "name": "stderr",
     "output_type": "stream",
     "text": [
      "2024-09-06 13:52:28,311 | plinder.core.split.utils.get_split:24 | INFO : runtime succeeded: 0.12s\n"
     ]
    }
   ],
   "source": [
    "# get the current plinder split\n",
    "split_df = get_split()"
   ]
  },
  {
   "cell_type": "code",
   "execution_count": 11,
   "metadata": {},
   "outputs": [
    {
     "data": {
      "text/html": [
       "<div>\n",
       "<style scoped>\n",
       "    .dataframe tbody tr th:only-of-type {\n",
       "        vertical-align: middle;\n",
       "    }\n",
       "\n",
       "    .dataframe tbody tr th {\n",
       "        vertical-align: top;\n",
       "    }\n",
       "\n",
       "    .dataframe thead th {\n",
       "        text-align: right;\n",
       "    }\n",
       "</style>\n",
       "<table border=\"1\" class=\"dataframe\">\n",
       "  <thead>\n",
       "    <tr style=\"text-align: right;\">\n",
       "      <th></th>\n",
       "      <th>system_id</th>\n",
       "      <th>uniqueness</th>\n",
       "      <th>split</th>\n",
       "      <th>cluster</th>\n",
       "      <th>cluster_for_val_split</th>\n",
       "      <th>system_pass_validation_criteria</th>\n",
       "      <th>system_pass_statistics_criteria</th>\n",
       "      <th>system_proper_num_ligand_chains</th>\n",
       "      <th>system_proper_pocket_num_residues</th>\n",
       "      <th>system_proper_num_interactions</th>\n",
       "      <th>system_proper_ligand_max_molecular_weight</th>\n",
       "      <th>system_has_binding_affinity</th>\n",
       "      <th>system_has_apo_or_pred</th>\n",
       "    </tr>\n",
       "  </thead>\n",
       "  <tbody>\n",
       "    <tr>\n",
       "      <th>0</th>\n",
       "      <td>101m__1__1.A__1.C_1.D</td>\n",
       "      <td>101m__A__C_D_c188899</td>\n",
       "      <td>train</td>\n",
       "      <td>c14</td>\n",
       "      <td>c0</td>\n",
       "      <td>True</td>\n",
       "      <td>True</td>\n",
       "      <td>1</td>\n",
       "      <td>27</td>\n",
       "      <td>20</td>\n",
       "      <td>616.177293</td>\n",
       "      <td>False</td>\n",
       "      <td>False</td>\n",
       "    </tr>\n",
       "    <tr>\n",
       "      <th>1</th>\n",
       "      <td>102m__1__1.A__1.C</td>\n",
       "      <td>102m__A__C_c237197</td>\n",
       "      <td>train</td>\n",
       "      <td>c14</td>\n",
       "      <td>c0</td>\n",
       "      <td>True</td>\n",
       "      <td>True</td>\n",
       "      <td>1</td>\n",
       "      <td>26</td>\n",
       "      <td>20</td>\n",
       "      <td>616.177293</td>\n",
       "      <td>False</td>\n",
       "      <td>True</td>\n",
       "    </tr>\n",
       "    <tr>\n",
       "      <th>2</th>\n",
       "      <td>103m__1__1.A__1.C_1.D</td>\n",
       "      <td>103m__A__C_D_c252759</td>\n",
       "      <td>train</td>\n",
       "      <td>c14</td>\n",
       "      <td>c0</td>\n",
       "      <td>False</td>\n",
       "      <td>True</td>\n",
       "      <td>1</td>\n",
       "      <td>26</td>\n",
       "      <td>16</td>\n",
       "      <td>616.177293</td>\n",
       "      <td>False</td>\n",
       "      <td>False</td>\n",
       "    </tr>\n",
       "    <tr>\n",
       "      <th>3</th>\n",
       "      <td>104m__1__1.A__1.C_1.D</td>\n",
       "      <td>104m__A__C_D_c274687</td>\n",
       "      <td>train</td>\n",
       "      <td>c14</td>\n",
       "      <td>c0</td>\n",
       "      <td>False</td>\n",
       "      <td>True</td>\n",
       "      <td>1</td>\n",
       "      <td>27</td>\n",
       "      <td>21</td>\n",
       "      <td>616.177293</td>\n",
       "      <td>False</td>\n",
       "      <td>False</td>\n",
       "    </tr>\n",
       "    <tr>\n",
       "      <th>4</th>\n",
       "      <td>105m__1__1.A__1.C_1.D</td>\n",
       "      <td>105m__A__C_D_c221688</td>\n",
       "      <td>train</td>\n",
       "      <td>c14</td>\n",
       "      <td>c0</td>\n",
       "      <td>False</td>\n",
       "      <td>True</td>\n",
       "      <td>1</td>\n",
       "      <td>28</td>\n",
       "      <td>20</td>\n",
       "      <td>616.177293</td>\n",
       "      <td>False</td>\n",
       "      <td>False</td>\n",
       "    </tr>\n",
       "  </tbody>\n",
       "</table>\n",
       "</div>"
      ],
      "text/plain": [
       "               system_id            uniqueness  split cluster  \\\n",
       "0  101m__1__1.A__1.C_1.D  101m__A__C_D_c188899  train     c14   \n",
       "1      102m__1__1.A__1.C    102m__A__C_c237197  train     c14   \n",
       "2  103m__1__1.A__1.C_1.D  103m__A__C_D_c252759  train     c14   \n",
       "3  104m__1__1.A__1.C_1.D  104m__A__C_D_c274687  train     c14   \n",
       "4  105m__1__1.A__1.C_1.D  105m__A__C_D_c221688  train     c14   \n",
       "\n",
       "  cluster_for_val_split  system_pass_validation_criteria  \\\n",
       "0                    c0                             True   \n",
       "1                    c0                             True   \n",
       "2                    c0                            False   \n",
       "3                    c0                            False   \n",
       "4                    c0                            False   \n",
       "\n",
       "   system_pass_statistics_criteria  system_proper_num_ligand_chains  \\\n",
       "0                             True                                1   \n",
       "1                             True                                1   \n",
       "2                             True                                1   \n",
       "3                             True                                1   \n",
       "4                             True                                1   \n",
       "\n",
       "   system_proper_pocket_num_residues  system_proper_num_interactions  \\\n",
       "0                                 27                              20   \n",
       "1                                 26                              20   \n",
       "2                                 26                              16   \n",
       "3                                 27                              21   \n",
       "4                                 28                              20   \n",
       "\n",
       "   system_proper_ligand_max_molecular_weight  system_has_binding_affinity  \\\n",
       "0                                 616.177293                        False   \n",
       "1                                 616.177293                        False   \n",
       "2                                 616.177293                        False   \n",
       "3                                 616.177293                        False   \n",
       "4                                 616.177293                        False   \n",
       "\n",
       "   system_has_apo_or_pred  \n",
       "0                   False  \n",
       "1                    True  \n",
       "2                   False  \n",
       "3                   False  \n",
       "4                   False  "
      ]
     },
     "execution_count": 11,
     "metadata": {},
     "output_type": "execute_result"
    }
   ],
   "source": [
    "split_df.head()"
   ]
  },
  {
   "cell_type": "markdown",
   "metadata": {},
   "source": [
    "Some specific method developers working on _flexible_ docking may also find handy the annotation column `system_has_apo_or_pred` indicating if the system has available `apo` or `pred` linked structures (see later)."
   ]
  },
  {
   "cell_type": "code",
   "execution_count": 12,
   "metadata": {},
   "outputs": [
    {
     "data": {
      "text/plain": [
       "split    system_has_apo_or_pred\n",
       "removed  False                      56876\n",
       "         True                       41842\n",
       "test     False                        548\n",
       "         True                         488\n",
       "train    False                     189703\n",
       "         True                      119437\n",
       "val      False                        456\n",
       "         True                         376\n",
       "Name: system_id, dtype: int64"
      ]
     },
     "execution_count": 12,
     "metadata": {},
     "output_type": "execute_result"
    }
   ],
   "source": [
    "split_df.groupby([\"split\", \"system_has_apo_or_pred\"]).system_id.count()"
   ]
  },
  {
   "cell_type": "markdown",
   "metadata": {},
   "source": [
    "For simplicity let's merge plindex and split DataFrames into one"
   ]
  },
  {
   "cell_type": "code",
   "execution_count": 13,
   "metadata": {},
   "outputs": [],
   "source": [
    "# merge to a single DataFrame\n",
    "plindex_split = plindex.merge(split_df, on=\"system_id\", how=\"left\")"
   ]
  },
  {
   "cell_type": "markdown",
   "metadata": {},
   "source": [
    "#### Getting links to `apo` or `pred` structures <a class=\"anchor\" id=\"getting-apo-pred\"></a>\n",
    "\n",
    ":::{currentmodule} plinder.core\n",
    ":::\n",
    "\n",
    "For users interested in including `apo` and `pred` structures in their workflow, all the information needed can be obtained from the function {func}`query_links`"
   ]
  },
  {
   "cell_type": "code",
   "execution_count": 14,
   "metadata": {},
   "outputs": [],
   "source": [
    "from plinder.core.scores import query_links"
   ]
  },
  {
   "cell_type": "code",
   "execution_count": 15,
   "metadata": {},
   "outputs": [
    {
     "name": "stderr",
     "output_type": "stream",
     "text": [
      "2024-09-06 13:52:31,695 | plinder.core.scores.links.query_links:24 | INFO : runtime succeeded: 1.73s\n"
     ]
    }
   ],
   "source": [
    "links_df = query_links(\n",
    "    columns=[\"reference_system_id\", \"id\", \"sort_score\"],\n",
    ")"
   ]
  },
  {
   "cell_type": "markdown",
   "metadata": {},
   "source": [
    ":::{note} The table is sorted by `sort_score` that is resolution for `apo`s and `plddt` for `pred`s. The `apo` or `pred` is specified in the additionally added `filename` and `kind` column that specifies if the structure was sourced from PDB or AF2DB, respectively.\n",
    ":::"
   ]
  },
  {
   "cell_type": "code",
   "execution_count": 16,
   "metadata": {},
   "outputs": [
    {
     "data": {
      "text/html": [
       "<div>\n",
       "<style scoped>\n",
       "    .dataframe tbody tr th:only-of-type {\n",
       "        vertical-align: middle;\n",
       "    }\n",
       "\n",
       "    .dataframe tbody tr th {\n",
       "        vertical-align: top;\n",
       "    }\n",
       "\n",
       "    .dataframe thead th {\n",
       "        text-align: right;\n",
       "    }\n",
       "</style>\n",
       "<table border=\"1\" class=\"dataframe\">\n",
       "  <thead>\n",
       "    <tr style=\"text-align: right;\">\n",
       "      <th></th>\n",
       "      <th>reference_system_id</th>\n",
       "      <th>id</th>\n",
       "      <th>sort_score</th>\n",
       "      <th>filename</th>\n",
       "      <th>kind</th>\n",
       "    </tr>\n",
       "  </thead>\n",
       "  <tbody>\n",
       "    <tr>\n",
       "      <th>0</th>\n",
       "      <td>6pl9__1__1.A__1.C</td>\n",
       "      <td>2vb1_A</td>\n",
       "      <td>0.65</td>\n",
       "      <td>/Users/vladas/.local/share/plinder/2024-06/v2/...</td>\n",
       "      <td>apo</td>\n",
       "    </tr>\n",
       "    <tr>\n",
       "      <th>1</th>\n",
       "      <td>6ahh__1__1.A__1.G</td>\n",
       "      <td>2vb1_A</td>\n",
       "      <td>0.65</td>\n",
       "      <td>/Users/vladas/.local/share/plinder/2024-06/v2/...</td>\n",
       "      <td>apo</td>\n",
       "    </tr>\n",
       "    <tr>\n",
       "      <th>2</th>\n",
       "      <td>5b59__1__1.A__1.B</td>\n",
       "      <td>2vb1_A</td>\n",
       "      <td>0.65</td>\n",
       "      <td>/Users/vladas/.local/share/plinder/2024-06/v2/...</td>\n",
       "      <td>apo</td>\n",
       "    </tr>\n",
       "    <tr>\n",
       "      <th>3</th>\n",
       "      <td>3ato__1__1.A__1.B</td>\n",
       "      <td>2vb1_A</td>\n",
       "      <td>0.65</td>\n",
       "      <td>/Users/vladas/.local/share/plinder/2024-06/v2/...</td>\n",
       "      <td>apo</td>\n",
       "    </tr>\n",
       "    <tr>\n",
       "      <th>4</th>\n",
       "      <td>6mx9__1__1.A__1.K</td>\n",
       "      <td>2vb1_A</td>\n",
       "      <td>0.65</td>\n",
       "      <td>/Users/vladas/.local/share/plinder/2024-06/v2/...</td>\n",
       "      <td>apo</td>\n",
       "    </tr>\n",
       "  </tbody>\n",
       "</table>\n",
       "</div>"
      ],
      "text/plain": [
       "  reference_system_id      id  sort_score  \\\n",
       "0   6pl9__1__1.A__1.C  2vb1_A        0.65   \n",
       "1   6ahh__1__1.A__1.G  2vb1_A        0.65   \n",
       "2   5b59__1__1.A__1.B  2vb1_A        0.65   \n",
       "3   3ato__1__1.A__1.B  2vb1_A        0.65   \n",
       "4   6mx9__1__1.A__1.K  2vb1_A        0.65   \n",
       "\n",
       "                                            filename kind  \n",
       "0  /Users/vladas/.local/share/plinder/2024-06/v2/...  apo  \n",
       "1  /Users/vladas/.local/share/plinder/2024-06/v2/...  apo  \n",
       "2  /Users/vladas/.local/share/plinder/2024-06/v2/...  apo  \n",
       "3  /Users/vladas/.local/share/plinder/2024-06/v2/...  apo  \n",
       "4  /Users/vladas/.local/share/plinder/2024-06/v2/...  apo  "
      ]
     },
     "execution_count": 16,
     "metadata": {},
     "output_type": "execute_result"
    }
   ],
   "source": [
    "links_df.head()"
   ]
  },
  {
   "cell_type": "markdown",
   "metadata": {},
   "source": [
    "If a user wants to consider only one linked structure per system - we can easily drop duplicates, first sorting by `sort_score`. Using this priority score, `pred` structures will not be used unless there is no `apo` available. Alternative can be achieved by sorting with `ascending=False`, or filtering by `kind==\"pred\"` column."
   ]
  },
  {
   "cell_type": "code",
   "execution_count": 17,
   "metadata": {},
   "outputs": [
    {
     "data": {
      "text/html": [
       "<div>\n",
       "<style scoped>\n",
       "    .dataframe tbody tr th:only-of-type {\n",
       "        vertical-align: middle;\n",
       "    }\n",
       "\n",
       "    .dataframe tbody tr th {\n",
       "        vertical-align: top;\n",
       "    }\n",
       "\n",
       "    .dataframe thead th {\n",
       "        text-align: right;\n",
       "    }\n",
       "</style>\n",
       "<table border=\"1\" class=\"dataframe\">\n",
       "  <thead>\n",
       "    <tr style=\"text-align: right;\">\n",
       "      <th></th>\n",
       "      <th>reference_system_id</th>\n",
       "      <th>id</th>\n",
       "      <th>sort_score</th>\n",
       "      <th>filename</th>\n",
       "      <th>kind</th>\n",
       "    </tr>\n",
       "  </thead>\n",
       "  <tbody>\n",
       "    <tr>\n",
       "      <th>0</th>\n",
       "      <td>6pl9__1__1.A__1.C</td>\n",
       "      <td>2vb1_A</td>\n",
       "      <td>0.65</td>\n",
       "      <td>/Users/vladas/.local/share/plinder/2024-06/v2/...</td>\n",
       "      <td>apo</td>\n",
       "    </tr>\n",
       "    <tr>\n",
       "      <th>110</th>\n",
       "      <td>6agr__1__1.A__1.G</td>\n",
       "      <td>2vb1_A</td>\n",
       "      <td>0.65</td>\n",
       "      <td>/Users/vladas/.local/share/plinder/2024-06/v2/...</td>\n",
       "      <td>apo</td>\n",
       "    </tr>\n",
       "    <tr>\n",
       "      <th>111</th>\n",
       "      <td>4qgz__1__1.A__1.C</td>\n",
       "      <td>2vb1_A</td>\n",
       "      <td>0.65</td>\n",
       "      <td>/Users/vladas/.local/share/plinder/2024-06/v2/...</td>\n",
       "      <td>apo</td>\n",
       "    </tr>\n",
       "    <tr>\n",
       "      <th>112</th>\n",
       "      <td>4owa__2__1.B__1.NA</td>\n",
       "      <td>2vb1_A</td>\n",
       "      <td>0.65</td>\n",
       "      <td>/Users/vladas/.local/share/plinder/2024-06/v2/...</td>\n",
       "      <td>apo</td>\n",
       "    </tr>\n",
       "    <tr>\n",
       "      <th>113</th>\n",
       "      <td>6wgo__1__1.A__1.E</td>\n",
       "      <td>2vb1_A</td>\n",
       "      <td>0.65</td>\n",
       "      <td>/Users/vladas/.local/share/plinder/2024-06/v2/...</td>\n",
       "      <td>apo</td>\n",
       "    </tr>\n",
       "  </tbody>\n",
       "</table>\n",
       "</div>"
      ],
      "text/plain": [
       "    reference_system_id      id  sort_score  \\\n",
       "0     6pl9__1__1.A__1.C  2vb1_A        0.65   \n",
       "110   6agr__1__1.A__1.G  2vb1_A        0.65   \n",
       "111   4qgz__1__1.A__1.C  2vb1_A        0.65   \n",
       "112  4owa__2__1.B__1.NA  2vb1_A        0.65   \n",
       "113   6wgo__1__1.A__1.E  2vb1_A        0.65   \n",
       "\n",
       "                                              filename kind  \n",
       "0    /Users/vladas/.local/share/plinder/2024-06/v2/...  apo  \n",
       "110  /Users/vladas/.local/share/plinder/2024-06/v2/...  apo  \n",
       "111  /Users/vladas/.local/share/plinder/2024-06/v2/...  apo  \n",
       "112  /Users/vladas/.local/share/plinder/2024-06/v2/...  apo  \n",
       "113  /Users/vladas/.local/share/plinder/2024-06/v2/...  apo  "
      ]
     },
     "execution_count": 17,
     "metadata": {},
     "output_type": "execute_result"
    }
   ],
   "source": [
    "single_links_df = links_df.sort_values(\"sort_score\", ascending=True).drop_duplicates(\"reference_system_id\")\n",
    "single_links_df.head()"
   ]
  },
  {
   "cell_type": "markdown",
   "metadata": {},
   "source": [
    "Now that we have links to `apo` / `pred` structures, we can see how many of those are available for our single protein single ligand systems"
   ]
  },
  {
   "cell_type": "code",
   "execution_count": 18,
   "metadata": {},
   "outputs": [
    {
     "data": {
      "text/plain": [
       "split    system_has_apo_or_pred\n",
       "removed  False                       4720\n",
       "         True                       41685\n",
       "test     False                         59\n",
       "         True                         487\n",
       "train    False                      33897\n",
       "         True                      118925\n",
       "val      False                         26\n",
       "         True                         374\n",
       "Name: system_id, dtype: int64"
      ]
     },
     "execution_count": 18,
     "metadata": {},
     "output_type": "execute_result"
    }
   ],
   "source": [
    "plindex_split[systems_1p1l].groupby([\"split\", \"system_has_apo_or_pred\"]).system_id.count()"
   ]
  },
  {
   "cell_type": "code",
   "execution_count": 19,
   "metadata": {},
   "outputs": [],
   "source": [
    "plindex_split_1p1l_links = plindex_split[systems_1p1l].merge(single_links_df, left_on=\"system_id\", right_on=\"reference_system_id\", how=\"left\")"
   ]
  },
  {
   "cell_type": "code",
   "execution_count": 20,
   "metadata": {},
   "outputs": [
    {
     "data": {
      "text/plain": [
       "split    system_has_linked_apo_or_pred\n",
       "removed  False                              7097\n",
       "         True                              39308\n",
       "test     False                                76\n",
       "         True                                470\n",
       "train    False                             47109\n",
       "         True                             105713\n",
       "val      False                                30\n",
       "         True                                370\n",
       "Name: system_id, dtype: int64"
      ]
     },
     "execution_count": 20,
     "metadata": {},
     "output_type": "execute_result"
    }
   ],
   "source": [
    "# let's check how many systems have linked structures\n",
    "plindex_split_1p1l_links['system_has_linked_apo_or_pred'] = ~plindex_split_1p1l_links.filename.isna()\n",
    "plindex_split_1p1l_links.groupby([\"split\", \"system_has_linked_apo_or_pred\"]).system_id.count()"
   ]
  },
  {
   "cell_type": "markdown",
   "metadata": {},
   "source": [
    "##### Selecting final dataset\n",
    "Let's select only the set that has linked structures for flexible docking"
   ]
  },
  {
   "cell_type": "code",
   "execution_count": 21,
   "metadata": {},
   "outputs": [
    {
     "data": {
      "text/plain": [
       "split  system_has_linked_apo_or_pred\n",
       "test   True                                470\n",
       "train  True                             105713\n",
       "val    True                                370\n",
       "Name: system_id, dtype: int64"
      ]
     },
     "execution_count": 21,
     "metadata": {},
     "output_type": "execute_result"
    }
   ],
   "source": [
    "plindex_final_df = plindex_split_1p1l_links[\n",
    "    (plindex_split_1p1l_links.system_has_linked_apo_or_pred) & (plindex_split_1p1l_links.split != \"removed\")\n",
    "]\n",
    "plindex_final_df.groupby([\"split\", \"system_has_linked_apo_or_pred\"]).system_id.count()"
   ]
  },
  {
   "cell_type": "markdown",
   "metadata": {},
   "source": [
    "#### Using _PLINDER_ API to load dataset by split <a class=\"anchor\" id=\"api-load-split\"></a>"
   ]
  },
  {
   "cell_type": "code",
   "execution_count": 22,
   "metadata": {},
   "outputs": [],
   "source": [
    "from plinder.core.loader import get_model_input_files"
   ]
  },
  {
   "cell_type": "markdown",
   "metadata": {},
   "source": [
    ":::{currentmodule} plinder.core\n",
    ":::"
   ]
  },
  {
   "cell_type": "markdown",
   "metadata": {},
   "source": [
    ":::{note} function {func}`get_model_input_files` accepts `split =` \"train\", \"val\" or \"test\"\n",
    ":::"
   ]
  },
  {
   "cell_type": "code",
   "execution_count": 23,
   "metadata": {},
   "outputs": [
    {
     "name": "stderr",
     "output_type": "stream",
     "text": [
      "2024-09-06 13:52:38,474 | plinder.core.scores.links.query_links:24 | INFO : runtime succeeded: 2.73s\n",
      "2024-09-06 13:52:38,526 | plinder.core.utils.cpl.download_paths:24 | INFO : runtime succeeded: 0.00s\n",
      "2024-09-06 13:52:38,729 | plinder.core.utils.cpl.download_paths:24 | INFO : runtime succeeded: 0.00s\n",
      "2024-09-06 13:52:38,748 | plinder.core.utils.cpl.download_paths:24 | INFO : runtime succeeded: 0.00s\n",
      "2024-09-06 13:52:38,753 | plinder.core.utils.cpl.download_paths:24 | INFO : runtime succeeded: 0.00s\n",
      "2024-09-06 13:52:38,768 | plinder.core.utils.cpl.download_paths:24 | INFO : runtime succeeded: 0.00s\n",
      "2024-09-06 13:52:38,772 | plinder.core.utils.cpl.download_paths:24 | INFO : runtime succeeded: 0.00s\n",
      "2024-09-06 13:52:38,790 | plinder.core.utils.cpl.download_paths:24 | INFO : runtime succeeded: 0.00s\n",
      "2024-09-06 13:52:38,793 | plinder.core.utils.cpl.download_paths:24 | INFO : runtime succeeded: 0.00s\n",
      "2024-09-06 13:52:38,807 | plinder.core.utils.cpl.download_paths:24 | INFO : runtime succeeded: 0.00s\n",
      "2024-09-06 13:52:38,810 | plinder.core.utils.cpl.download_paths:24 | INFO : runtime succeeded: 0.00s\n",
      "2024-09-06 13:52:38,825 | plinder.core.utils.cpl.download_paths:24 | INFO : runtime succeeded: 0.00s\n",
      "2024-09-06 13:52:38,828 | plinder.core.utils.cpl.download_paths:24 | INFO : runtime succeeded: 0.00s\n",
      "2024-09-06 13:52:38,840 | plinder.core.utils.cpl.download_paths:24 | INFO : runtime succeeded: 0.00s\n",
      "2024-09-06 13:52:38,846 | plinder.core.utils.cpl.download_paths:24 | INFO : runtime succeeded: 0.00s\n",
      "2024-09-06 13:52:38,857 | plinder.core.utils.cpl.download_paths:24 | INFO : runtime succeeded: 0.00s\n",
      "2024-09-06 13:52:38,862 | plinder.core.utils.cpl.download_paths:24 | INFO : runtime succeeded: 0.00s\n",
      "2024-09-06 13:52:38,873 | plinder.core.utils.cpl.download_paths:24 | INFO : runtime succeeded: 0.00s\n",
      "2024-09-06 13:52:38,878 | plinder.core.utils.cpl.download_paths:24 | INFO : runtime succeeded: 0.00s\n",
      "2024-09-06 13:52:38,886 | plinder.core.utils.cpl.download_paths:24 | INFO : runtime succeeded: 0.00s\n",
      "2024-09-06 13:52:38,889 | plinder.core.utils.cpl.download_paths:24 | INFO : runtime succeeded: 0.00s\n"
     ]
    },
    {
     "name": "stdout",
     "output_type": "stream",
     "text": [
      "Loaded dataset size: 10\n"
     ]
    }
   ],
   "source": [
    "sample_dataset = get_model_input_files(\n",
    "    plindex_final_df,\n",
    "    split = \"val\",\n",
    "    max_num_sample = 10,\n",
    "    num_alternative_structures = 1,\n",
    "    )\n",
    "print(f\"Loaded dataset size: {len(sample_dataset)}\")"
   ]
  },
  {
   "cell_type": "markdown",
   "metadata": {},
   "source": [
    ":::{note} if files not already available this downloads them to `~/.local/share/plinder/{PLINDER_RELEASE}/{PLINDER_ITERATION}` directory\n",
    ":::"
   ]
  },
  {
   "cell_type": "code",
   "execution_count": 24,
   "metadata": {},
   "outputs": [
    {
     "data": {
      "text/plain": [
       "(PosixPath('/Users/vladas/.local/share/plinder/2024-06/v2/systems/4cj6__1__1.A__1.B/sequences.fasta'),\n",
       " 'CC1=C(/C=C/C(C)=C/C=C/C(C)=C/C=O)C(C)(C)CCC1',\n",
       " ['/Users/vladas/.local/share/plinder/2024-06/v2/linked_structures/pred/4cj6__1__1.A__1.B/P12271_A/superposed.cif'])"
      ]
     },
     "execution_count": 24,
     "metadata": {},
     "output_type": "execute_result"
    }
   ],
   "source": [
    "# Inspect data\n",
    "sample_dataset[0]"
   ]
  },
  {
   "cell_type": "markdown",
   "metadata": {},
   "source": [
    "#### Using _PLINDER_ clusters in sampling <a class=\"anchor\" id=\"cluster-sampling\"></a>"
   ]
  },
  {
   "cell_type": "markdown",
   "metadata": {},
   "source": [
    "##### Define diversity sampler function\n",
    ":::{currentmodule} plinder.core\n",
    ":::\n"
   ]
  },
  {
   "cell_type": "markdown",
   "metadata": {},
   "source": [
    "Here, we have provided an example of how one might use the function `get_diversity_samples` which is based on  `torch.utils.data.WeightedRandomSampler`.\n",
    "\n",
    "NOTE: This example function is provided for demonstration purposes and users are encouraged to come up with sampling strategy that suits their need. <br>\n",
    "For this example, we are going to use the sample dversity based on the following parameters:\n",
    "\n",
    "We loaded `pli_qcov__100__strong__component` to plindex to provide an example of how one could use cluster assignment for diversity sampling."
   ]
  },
  {
   "cell_type": "code",
   "execution_count": 25,
   "metadata": {},
   "outputs": [],
   "source": [
    "from plinder.core.loader import get_diversity_samples"
   ]
  },
  {
   "cell_type": "code",
   "execution_count": 28,
   "metadata": {},
   "outputs": [],
   "source": [
    "subsampled_df = get_diversity_samples(split_df=plindex_final_df,\n",
    "    cluster_tag=\"pli_qcov__100__strong__component\"\n",
    ")"
   ]
  },
  {
   "cell_type": "code",
   "execution_count": 29,
   "metadata": {},
   "outputs": [
    {
     "data": {
      "text/plain": [
       "(118318, 60114)"
      ]
     },
     "execution_count": 29,
     "metadata": {},
     "output_type": "execute_result"
    }
   ],
   "source": [
    "len(plindex_final_df), len(subsampled_df)"
   ]
  },
  {
   "cell_type": "markdown",
   "metadata": {},
   "source": [
    "## TODO: fix the functionality below"
   ]
  },
  {
   "cell_type": "markdown",
   "metadata": {},
   "source": [
    "The returned DataFrame could then be passed to {func}`get_model_input_files` the same way `plindex_final_df` was used above."
   ]
  },
  {
   "cell_type": "markdown",
   "metadata": {},
   "source": [
    "##### Using other diversity cluster labels\n",
    "\n",
    "In general, diversity can be sampled using cluster information described [here](https://plinder-org.github.io/plinder/dataset.html#clusters-clusters).\n",
    "All cluster information can easily be added to `plindex` by calling the following function {func}`get_extended_plindex`. <br>\n",
    "\n",
    "See below an example, we are going to use the sample dversity based on the following parameters:\n",
    "`metric=\"pli_qcov\"`,  `threshold=70` and `cluster=communities`."
   ]
  },
  {
   "cell_type": "code",
   "execution_count": 30,
   "metadata": {},
   "outputs": [
    {
     "data": {
      "application/vnd.jupyter.widget-view+json": {
       "model_id": "706a8a3e2eb34bcfb91dd7adb2917f9b",
       "version_major": 2,
       "version_minor": 0
      },
      "text/plain": [
       "FloatProgress(value=0.0, layout=Layout(width='auto'), style=ProgressStyle(bar_color='black'))"
      ]
     },
     "metadata": {},
     "output_type": "display_data"
    },
    {
     "name": "stderr",
     "output_type": "stream",
     "text": [
      "2024-09-06 13:54:03,559 | plinder.core.index.utils.get_plindex:24 | INFO : runtime succeeded: 42.20s\n",
      "/Users/vladas/Projects/public/plinder/src/plinder/core/split/utils.py:126: FutureWarning: Downcasting object dtype arrays on .fillna, .ffill, .bfill is deprecated and will change in a future version. Call result.infer_objects(copy=False) instead. To opt-in to the future behavior, set `pd.set_option('future.no_silent_downcasting', True)`\n",
      "  plindex[\"system_pass_validation_criteria\"] = plindex[\n",
      "2024-09-06 13:54:22,901 | plinder.core.scores.clusters.query_clusters:26 | ERROR : runtime failed: 0.00s\n"
     ]
    },
    {
     "ename": "IOException",
     "evalue": "IO Error: No files found that match the pattern \"/Users/vladas/.local/share/plinder/2024-06/v2/clusters/**/*.parquet\"",
     "output_type": "error",
     "traceback": [
      "\u001b[0;31m---------------------------------------------------------------------------\u001b[0m",
      "\u001b[0;31mIOException\u001b[0m                               Traceback (most recent call last)",
      "Cell \u001b[0;32mIn[30], line 3\u001b[0m\n\u001b[1;32m      1\u001b[0m \u001b[38;5;28;01mfrom\u001b[39;00m \u001b[38;5;21;01mplinder\u001b[39;00m\u001b[38;5;21;01m.\u001b[39;00m\u001b[38;5;21;01mcore\u001b[39;00m \u001b[38;5;28;01mimport\u001b[39;00m get_extended_plindex\n\u001b[1;32m      2\u001b[0m \u001b[38;5;66;03m# Note, this takes a couple of minutes to run\u001b[39;00m\n\u001b[0;32m----> 3\u001b[0m plindex_extended \u001b[38;5;241m=\u001b[39m \u001b[43mget_extended_plindex\u001b[49m\u001b[43m(\u001b[49m\u001b[43m)\u001b[49m\n\u001b[1;32m      4\u001b[0m cluster_columns \u001b[38;5;241m=\u001b[39m [\u001b[38;5;124m\"\u001b[39m\u001b[38;5;124msystem_id\u001b[39m\u001b[38;5;124m\"\u001b[39m] \u001b[38;5;241m+\u001b[39m [col \u001b[38;5;28;01mfor\u001b[39;00m col \u001b[38;5;129;01min\u001b[39;00m plindex_extended\u001b[38;5;241m.\u001b[39mcolumns \\\n\u001b[1;32m      5\u001b[0m                                    \u001b[38;5;28;01mif\u001b[39;00m (\u001b[38;5;124m\"\u001b[39m\u001b[38;5;124mcommunities\u001b[39m\u001b[38;5;124m\"\u001b[39m \u001b[38;5;129;01min\u001b[39;00m col) \u001b[38;5;129;01mor\u001b[39;00m (\u001b[38;5;124m\"\u001b[39m\u001b[38;5;124mcomponent\u001b[39m\u001b[38;5;124m\"\u001b[39m \u001b[38;5;129;01min\u001b[39;00m col)]\n\u001b[1;32m      6\u001b[0m plindex_with_clusters \u001b[38;5;241m=\u001b[39m plindex_final_df\u001b[38;5;241m.\u001b[39mmerge(plindex_extended[cluster_columns], on\u001b[38;5;241m=\u001b[39m\u001b[38;5;124m\"\u001b[39m\u001b[38;5;124msystem_id\u001b[39m\u001b[38;5;124m\"\u001b[39m, how\u001b[38;5;241m=\u001b[39m\u001b[38;5;124m\"\u001b[39m\u001b[38;5;124mleft\u001b[39m\u001b[38;5;124m\"\u001b[39m)\n",
      "File \u001b[0;32m~/Projects/public/plinder/src/plinder/core/split/utils.py:193\u001b[0m, in \u001b[0;36mget_extended_plindex\u001b[0;34m(cfg, plindex)\u001b[0m\n\u001b[1;32m    184\u001b[0m ccd_dict \u001b[38;5;241m=\u001b[39m (\n\u001b[1;32m    185\u001b[0m     plindex[plindex[\u001b[38;5;124m\"\u001b[39m\u001b[38;5;124mligand_is_proper\u001b[39m\u001b[38;5;124m\"\u001b[39m]]\n\u001b[1;32m    186\u001b[0m     \u001b[38;5;241m.\u001b[39mgroupby(\u001b[38;5;124m\"\u001b[39m\u001b[38;5;124msystem_id\u001b[39m\u001b[38;5;124m\"\u001b[39m)[\u001b[38;5;124m\"\u001b[39m\u001b[38;5;124mligand_unique_ccd_code\u001b[39m\u001b[38;5;124m\"\u001b[39m]\n\u001b[1;32m    187\u001b[0m     \u001b[38;5;241m.\u001b[39magg(\u001b[38;5;28;01mlambda\u001b[39;00m x: \u001b[38;5;124m\"\u001b[39m\u001b[38;5;124m-\u001b[39m\u001b[38;5;124m\"\u001b[39m\u001b[38;5;241m.\u001b[39mjoin(\u001b[38;5;28msorted\u001b[39m(\u001b[38;5;28mset\u001b[39m(x))))\n\u001b[1;32m    188\u001b[0m     \u001b[38;5;241m.\u001b[39mto_dict()\n\u001b[1;32m    189\u001b[0m )\n\u001b[1;32m    190\u001b[0m plindex[\u001b[38;5;124m\"\u001b[39m\u001b[38;5;124msystem_proper_ligand_unique_ccd_codes\u001b[39m\u001b[38;5;124m\"\u001b[39m] \u001b[38;5;241m=\u001b[39m plindex[\u001b[38;5;124m\"\u001b[39m\u001b[38;5;124msystem_id\u001b[39m\u001b[38;5;124m\"\u001b[39m]\u001b[38;5;241m.\u001b[39mmap(\n\u001b[1;32m    191\u001b[0m     ccd_dict\n\u001b[1;32m    192\u001b[0m )\n\u001b[0;32m--> 193\u001b[0m clusters \u001b[38;5;241m=\u001b[39m \u001b[43mquery_clusters\u001b[49m\u001b[43m(\u001b[49m\n\u001b[1;32m    194\u001b[0m \u001b[43m    \u001b[49m\u001b[43mcolumns\u001b[49m\u001b[38;5;241;43m=\u001b[39;49m\u001b[43m[\u001b[49m\u001b[38;5;124;43m\"\u001b[39;49m\u001b[38;5;124;43msystem_id\u001b[39;49m\u001b[38;5;124;43m\"\u001b[39;49m\u001b[43m,\u001b[49m\u001b[43m \u001b[49m\u001b[38;5;124;43m\"\u001b[39;49m\u001b[38;5;124;43mlabel\u001b[39;49m\u001b[38;5;124;43m\"\u001b[39;49m\u001b[43m,\u001b[49m\u001b[43m \u001b[49m\u001b[38;5;124;43m\"\u001b[39;49m\u001b[38;5;124;43mthreshold\u001b[39;49m\u001b[38;5;124;43m\"\u001b[39;49m\u001b[43m,\u001b[49m\u001b[43m \u001b[49m\u001b[38;5;124;43m\"\u001b[39;49m\u001b[38;5;124;43mmetric\u001b[39;49m\u001b[38;5;124;43m\"\u001b[39;49m\u001b[43m,\u001b[49m\u001b[43m \u001b[49m\u001b[38;5;124;43m\"\u001b[39;49m\u001b[38;5;124;43mcluster\u001b[39;49m\u001b[38;5;124;43m\"\u001b[39;49m\u001b[43m]\u001b[49m\u001b[43m,\u001b[49m\n\u001b[1;32m    195\u001b[0m \u001b[43m    \u001b[49m\u001b[43mfilters\u001b[49m\u001b[38;5;241;43m=\u001b[39;49m\u001b[43m[\u001b[49m\u001b[43m(\u001b[49m\u001b[38;5;124;43m\"\u001b[39;49m\u001b[38;5;124;43mdirected\u001b[39;49m\u001b[38;5;124;43m\"\u001b[39;49m\u001b[43m,\u001b[49m\u001b[43m \u001b[49m\u001b[38;5;124;43m\"\u001b[39;49m\u001b[38;5;124;43m==\u001b[39;49m\u001b[38;5;124;43m\"\u001b[39;49m\u001b[43m,\u001b[49m\u001b[43m \u001b[49m\u001b[38;5;124;43m\"\u001b[39;49m\u001b[38;5;124;43mFalse\u001b[39;49m\u001b[38;5;124;43m\"\u001b[39;49m\u001b[43m)\u001b[49m\u001b[43m]\u001b[49m\u001b[43m,\u001b[49m\n\u001b[1;32m    196\u001b[0m \u001b[43m\u001b[49m\u001b[43m)\u001b[49m\n\u001b[1;32m    197\u001b[0m \u001b[38;5;28;01mif\u001b[39;00m clusters \u001b[38;5;129;01mis\u001b[39;00m \u001b[38;5;28;01mNone\u001b[39;00m:\n\u001b[1;32m    198\u001b[0m     LOG\u001b[38;5;241m.\u001b[39merror(\u001b[38;5;124m\"\u001b[39m\u001b[38;5;124mNo clusters found\u001b[39m\u001b[38;5;124m\"\u001b[39m)\n",
      "File \u001b[0;32m~/Projects/public/plinder/src/plinder/core/utils/dec.py:23\u001b[0m, in \u001b[0;36mtimeit.<locals>.wrapped\u001b[0;34m(*args, **kwargs)\u001b[0m\n\u001b[1;32m     21\u001b[0m result \u001b[38;5;241m=\u001b[39m \u001b[38;5;28;01mNone\u001b[39;00m\n\u001b[1;32m     22\u001b[0m \u001b[38;5;28;01mtry\u001b[39;00m:\n\u001b[0;32m---> 23\u001b[0m     result \u001b[38;5;241m=\u001b[39m \u001b[43mfunc\u001b[49m\u001b[43m(\u001b[49m\u001b[38;5;241;43m*\u001b[39;49m\u001b[43margs\u001b[49m\u001b[43m,\u001b[49m\u001b[43m \u001b[49m\u001b[38;5;241;43m*\u001b[39;49m\u001b[38;5;241;43m*\u001b[39;49m\u001b[43mkwargs\u001b[49m\u001b[43m)\u001b[49m\n\u001b[1;32m     24\u001b[0m     log\u001b[38;5;241m.\u001b[39minfo(\u001b[38;5;124mf\u001b[39m\u001b[38;5;124m\"\u001b[39m\u001b[38;5;124mruntime succeeded: \u001b[39m\u001b[38;5;132;01m{\u001b[39;00mtime()\u001b[38;5;250m \u001b[39m\u001b[38;5;241m-\u001b[39m\u001b[38;5;250m \u001b[39mts\u001b[38;5;132;01m:\u001b[39;00m\u001b[38;5;124m.2f\u001b[39m\u001b[38;5;132;01m}\u001b[39;00m\u001b[38;5;124ms\u001b[39m\u001b[38;5;124m\"\u001b[39m)\n\u001b[1;32m     25\u001b[0m \u001b[38;5;28;01mexcept\u001b[39;00m \u001b[38;5;167;01mException\u001b[39;00m:\n",
      "File \u001b[0;32m~/Projects/public/plinder/src/plinder/core/scores/clusters.py:53\u001b[0m, in \u001b[0;36mquery_clusters\u001b[0;34m(columns, filters)\u001b[0m\n\u001b[1;32m     51\u001b[0m     LOG\u001b[38;5;241m.\u001b[39mwarning(\u001b[38;5;124m\"\u001b[39m\u001b[38;5;124mtry minimally passing filters=[(\u001b[39m\u001b[38;5;124m'\u001b[39m\u001b[38;5;124mmetric\u001b[39m\u001b[38;5;124m'\u001b[39m\u001b[38;5;124m, \u001b[39m\u001b[38;5;124m'\u001b[39m\u001b[38;5;124m==\u001b[39m\u001b[38;5;124m'\u001b[39m\u001b[38;5;124m, \u001b[39m\u001b[38;5;124m'\u001b[39m\u001b[38;5;124mpli_qcov\u001b[39m\u001b[38;5;124m'\u001b[39m\u001b[38;5;124m)]\u001b[39m\u001b[38;5;124m\"\u001b[39m)\n\u001b[1;32m     52\u001b[0m     \u001b[38;5;28;01mreturn\u001b[39;00m \u001b[38;5;28;01mNone\u001b[39;00m\n\u001b[0;32m---> 53\u001b[0m \u001b[38;5;28;01mreturn\u001b[39;00m \u001b[43msql\u001b[49m\u001b[43m(\u001b[49m\u001b[43mquery\u001b[49m\u001b[43m)\u001b[49m\u001b[38;5;241m.\u001b[39mto_df()\n",
      "File \u001b[0;32m/opt/homebrew/Caskroom/mambaforge/base/envs/plinder/lib/python3.9/site-packages/duckdb/__init__.py:457\u001b[0m, in \u001b[0;36msql\u001b[0;34m(query, **kwargs)\u001b[0m\n\u001b[1;32m    455\u001b[0m \u001b[38;5;28;01melse\u001b[39;00m:\n\u001b[1;32m    456\u001b[0m     conn \u001b[38;5;241m=\u001b[39m duckdb\u001b[38;5;241m.\u001b[39mconnect(\u001b[38;5;124m\"\u001b[39m\u001b[38;5;124m:default:\u001b[39m\u001b[38;5;124m\"\u001b[39m)\n\u001b[0;32m--> 457\u001b[0m \u001b[38;5;28;01mreturn\u001b[39;00m \u001b[43mconn\u001b[49m\u001b[38;5;241;43m.\u001b[39;49m\u001b[43msql\u001b[49m\u001b[43m(\u001b[49m\u001b[43mquery\u001b[49m\u001b[43m,\u001b[49m\u001b[43m \u001b[49m\u001b[38;5;241;43m*\u001b[39;49m\u001b[38;5;241;43m*\u001b[39;49m\u001b[43mkwargs\u001b[49m\u001b[43m)\u001b[49m\n",
      "\u001b[0;31mIOException\u001b[0m: IO Error: No files found that match the pattern \"/Users/vladas/.local/share/plinder/2024-06/v2/clusters/**/*.parquet\""
     ]
    }
   ],
   "source": [
    "from plinder.core import get_extended_plindex\n",
    "# Note, this takes a couple of minutes to run\n",
    "plindex_extended = get_extended_plindex()\n",
    "cluster_columns = [\"system_id\"] + [col for col in plindex_extended.columns \\\n",
    "                                   if (\"communities\" in col) or (\"component\" in col)]\n",
    "plindex_with_clusters = plindex_final_df.merge(plindex_extended[cluster_columns], on=\"system_id\", how=\"left\")\n",
    "\n",
    "sampled_df = get_diversity_samples(split_df=plindex_with_clusters,\n",
    "                                    metric=\"pli_qcov\",\n",
    "                                    threshold=70,\n",
    "                                    cluster_type=\"communities\")"
   ]
  }
 ],
 "metadata": {
  "kernelspec": {
   "display_name": "Python 3 (ipykernel)",
   "language": "python",
   "name": "python3"
  },
  "language_info": {
   "codemirror_mode": {
    "name": "ipython",
    "version": 3
   },
   "file_extension": ".py",
   "mimetype": "text/x-python",
   "name": "python",
   "nbconvert_exporter": "python",
   "pygments_lexer": "ipython3",
   "version": "3.9.7"
  }
 },
 "nbformat": 4,
 "nbformat_minor": 4
}
