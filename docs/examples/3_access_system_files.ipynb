{
 "cells": [
  {
   "cell_type": "markdown",
   "metadata": {},
   "source": [
    "# Access system files with PlinderSystem"
   ]
  },
  {
   "cell_type": "markdown",
   "metadata": {},
   "source": [
    "We provide files for all holo PLINDER systems with <6 protein and <6 ligand chains. These can be accessed with the `PlinderSystem` object which also does the work of downloading and extracting only the relevant files if they haven't been downloaded yet. All system files will be extracted into `~/.local/share/plinder/${PLINDER_RELEASE}/${PLINDER_ITERATION}/systems`. The current default is `PLINDER_RELEASE=2024-06` and `PLINDER_ITERATION=v2`."
   ]
  },
  {
   "cell_type": "code",
   "execution_count": 1,
   "metadata": {},
   "outputs": [],
   "source": [
    "from plinder.core import PlinderSystem\n",
    "\n",
    "plinder_system = PlinderSystem(system_id=\"4agi__1__1.C__1.W\")"
   ]
  },
  {
   "cell_type": "markdown",
   "metadata": {},
   "source": [
    "## Ligand\n",
    "\n",
    "The ligands are provided in SDF format in `ligand_sdfs`.\n"
   ]
  },
  {
   "cell_type": "code",
   "execution_count": 2,
   "metadata": {},
   "outputs": [
    {
     "name": "stderr",
     "output_type": "stream",
     "text": [
      "2024-11-27 10:18:44,563 | plinder.core.utils.cpl.download_paths:24 | INFO : runtime succeeded: 0.00s\n",
      "2024-11-27 10:18:44,563 | plinder.core.utils.cpl.download_paths:24 | INFO : runtime succeeded: 0.00s\n"
     ]
    },
    {
     "data": {
      "text/plain": [
       "{'1.W': '/Users/yusuf/.local/share/plinder/2024-06/v2/systems/4agi__1__1.C__1.W/ligand_files/1.W.sdf'}"
      ]
     },
     "execution_count": 2,
     "metadata": {},
     "output_type": "execute_result"
    }
   ],
   "source": [
    "plinder_system.ligand_sdfs"
   ]
  },
  {
   "cell_type": "markdown",
   "metadata": {},
   "source": [
    "And the corresponding SMILES strings in `smiles`."
   ]
  },
  {
   "cell_type": "code",
   "execution_count": 3,
   "metadata": {},
   "outputs": [
    {
     "name": "stderr",
     "output_type": "stream",
     "text": [
      "2024-11-27 10:18:44,693 | plinder.core.utils.cpl.download_paths:24 | INFO : runtime succeeded: 0.00s\n",
      "2024-11-27 10:18:44,693 | plinder.core.utils.cpl.download_paths:24 | INFO : runtime succeeded: 0.00s\n",
      "2024-11-27 10:18:44,694 | plinder.core.index.utils:148 | INFO : loading entries from 1 zips\n",
      "2024-11-27 10:18:44,700 | plinder.core.index.utils:163 | INFO : loaded 1 entries\n",
      "2024-11-27 10:18:44,700 | plinder.core.index.utils.load_entries:24 | INFO : runtime succeeded: 0.11s\n"
     ]
    },
    {
     "data": {
      "text/plain": [
       "{'1.W': 'C[Se][C@@H]1O[C@@H](C)[C@@H](O)[C@@H](O)[C@@H]1O'}"
      ]
     },
     "execution_count": 3,
     "metadata": {},
     "output_type": "execute_result"
    }
   ],
   "source": [
    "plinder_system.smiles"
   ]
  },
  {
   "cell_type": "markdown",
   "metadata": {},
   "source": [
    "## Receptor"
   ]
  },
  {
   "cell_type": "markdown",
   "metadata": {},
   "source": [
    "The CIF/PDB files of the receptor are stored in `receptor_cif` and `receptor_pdb` and only contain the protein chains of the system."
   ]
  },
  {
   "cell_type": "code",
   "execution_count": 4,
   "metadata": {},
   "outputs": [
    {
     "data": {
      "text/plain": [
       "('/Users/yusuf/.local/share/plinder/2024-06/v2/systems/4agi__1__1.C__1.W/receptor.pdb',\n",
       " '/Users/yusuf/.local/share/plinder/2024-06/v2/systems/4agi__1__1.C__1.W/receptor.cif')"
      ]
     },
     "execution_count": 4,
     "metadata": {},
     "output_type": "execute_result"
    }
   ],
   "source": [
    "plinder_system.receptor_pdb, plinder_system.receptor_cif"
   ]
  },
  {
   "cell_type": "markdown",
   "metadata": {},
   "source": [
    "We recommend using the CIF file as PDB is an obsoleted format. However, if you must use the PDB file, an additional consideration is that the chains are renamed to single letters, which you can access with the `chain_mapping` attribute.\n"
   ]
  },
  {
   "cell_type": "code",
   "execution_count": 5,
   "metadata": {},
   "outputs": [
    {
     "data": {
      "text/plain": [
       "{'1.C': 'A'}"
      ]
     },
     "execution_count": 5,
     "metadata": {},
     "output_type": "execute_result"
    }
   ],
   "source": [
    "plinder_system.chain_mapping"
   ]
  },
  {
   "cell_type": "markdown",
   "metadata": {},
   "source": [
    "The FASTA file and sequences of the receptor are stored in `sequences_fasta` and `sequences` respectively. These are the canonical sequences of all protein chains in the system.\n"
   ]
  },
  {
   "cell_type": "code",
   "execution_count": 6,
   "metadata": {},
   "outputs": [
    {
     "data": {
      "text/plain": [
       "('/Users/yusuf/.local/share/plinder/2024-06/v2/systems/4agi__1__1.C__1.W/sequences.fasta',\n",
       " {'1.C': 'MSTPGAQQVLFRTGIAAVNSTNHLRVYFQDVYGSIRESLYEGSWANGTEKNVIGNAKLGSPVAATSKELKHIRVYTLTEGNTLQEFAYDSGTGWYNGGLGGAKFQVAPYSXIAAVFLAGTDALQLRIYAQKPDNTIQEYMWNGDGWKEGTNLGGALPGTGIGATSFRYTDYNGPSIRIWFQTDDLKLVQRAYDPHKGWYPDLVTIFDRAPPRTAIAATSFGAGNSSIYMRIYFVNSDNTIWQVCWDHGKGYHDKGTITPVIQGSEVAIISWGSFANNGPDLRLYFQNGTYISAVSEWVWNRAHGSQLGRSALPPA'})"
      ]
     },
     "execution_count": 6,
     "metadata": {},
     "output_type": "execute_result"
    }
   ],
   "source": [
    "plinder_system.sequences_fasta, plinder_system.sequences"
   ]
  },
  {
   "cell_type": "markdown",
   "metadata": {},
   "source": [
    "## Linked structures\n",
    "\n",
    "Where possible, we've linked plinder systems to associated apo structures from the PDB and predicted structures from AFDB. This was done using the same kind of similarity searches used for system clustering except with strict restrictions on the sequence identity and coverage of linked structures.\n",
    "\n",
    "The `linked_structures` attribute is a pandas DataFrame with information on the links for a system which were both found and additionally scored for conformational difficulty. This additional scoring consists of superposing the found apo or predicted chain to the receptor of the system with global sequence-based alignment, transplanting the ligand to the found structure, and evaluating the resulting protein-ligand complex as though it were a predicted structure for the given system. So, the `linked_structures` DataFrame contains the similarity scores from the alignments as well as the metrics from the evaluation."
   ]
  },
  {
   "cell_type": "code",
   "execution_count": 7,
   "metadata": {},
   "outputs": [
    {
     "name": "stderr",
     "output_type": "stream",
     "text": [
      "2024-11-27 10:18:45,149 | plinder.core.utils.cpl.download_paths:24 | INFO : runtime succeeded: 0.17s\n",
      "2024-11-27 10:18:45,546 | plinder.core.scores.links.query_links:24 | INFO : runtime succeeded: 0.72s\n"
     ]
    }
   ],
   "source": [
    "link_info = plinder_system.linked_structures"
   ]
  },
  {
   "cell_type": "code",
   "execution_count": 8,
   "metadata": {},
   "outputs": [
    {
     "data": {
      "text/html": [
       "<div>\n",
       "<style scoped>\n",
       "    .dataframe tbody tr th:only-of-type {\n",
       "        vertical-align: middle;\n",
       "    }\n",
       "\n",
       "    .dataframe tbody tr th {\n",
       "        vertical-align: top;\n",
       "    }\n",
       "\n",
       "    .dataframe thead th {\n",
       "        text-align: right;\n",
       "    }\n",
       "</style>\n",
       "<table border=\"1\" class=\"dataframe\">\n",
       "  <thead>\n",
       "    <tr style=\"text-align: right;\">\n",
       "      <th></th>\n",
       "      <th>id</th>\n",
       "      <th>pocket_fident</th>\n",
       "      <th>lddt</th>\n",
       "      <th>bb_lddt</th>\n",
       "      <th>lddt_lp_ave</th>\n",
       "      <th>lddt_pli_ave</th>\n",
       "      <th>bisy_rmsd_ave</th>\n",
       "      <th>sort_score</th>\n",
       "      <th>kind</th>\n",
       "    </tr>\n",
       "  </thead>\n",
       "  <tbody>\n",
       "    <tr>\n",
       "      <th>0</th>\n",
       "      <td>4uou_B</td>\n",
       "      <td>100.0</td>\n",
       "      <td>0.972682</td>\n",
       "      <td>0.994065</td>\n",
       "      <td>0.987813</td>\n",
       "      <td>0.989777</td>\n",
       "      <td>0.159702</td>\n",
       "      <td>2.40</td>\n",
       "      <td>apo</td>\n",
       "    </tr>\n",
       "    <tr>\n",
       "      <th>1</th>\n",
       "      <td>4uou_C</td>\n",
       "      <td>100.0</td>\n",
       "      <td>0.973562</td>\n",
       "      <td>0.994687</td>\n",
       "      <td>0.967287</td>\n",
       "      <td>0.951068</td>\n",
       "      <td>0.194233</td>\n",
       "      <td>2.40</td>\n",
       "      <td>apo</td>\n",
       "    </tr>\n",
       "    <tr>\n",
       "      <th>2</th>\n",
       "      <td>4uou_D</td>\n",
       "      <td>100.0</td>\n",
       "      <td>0.973604</td>\n",
       "      <td>0.994235</td>\n",
       "      <td>0.972579</td>\n",
       "      <td>0.973048</td>\n",
       "      <td>0.101252</td>\n",
       "      <td>2.40</td>\n",
       "      <td>apo</td>\n",
       "    </tr>\n",
       "    <tr>\n",
       "      <th>3</th>\n",
       "      <td>4uou_A</td>\n",
       "      <td>100.0</td>\n",
       "      <td>0.967257</td>\n",
       "      <td>0.994800</td>\n",
       "      <td>0.976908</td>\n",
       "      <td>0.963504</td>\n",
       "      <td>0.214243</td>\n",
       "      <td>2.40</td>\n",
       "      <td>apo</td>\n",
       "    </tr>\n",
       "    <tr>\n",
       "      <th>4</th>\n",
       "      <td>Q4WW81_A</td>\n",
       "      <td>100.0</td>\n",
       "      <td>0.982275</td>\n",
       "      <td>0.998587</td>\n",
       "      <td>0.999679</td>\n",
       "      <td>0.997273</td>\n",
       "      <td>0.126228</td>\n",
       "      <td>98.57</td>\n",
       "      <td>pred</td>\n",
       "    </tr>\n",
       "  </tbody>\n",
       "</table>\n",
       "</div>"
      ],
      "text/plain": [
       "         id  pocket_fident      lddt   bb_lddt  lddt_lp_ave  lddt_pli_ave  \\\n",
       "0    4uou_B          100.0  0.972682  0.994065     0.987813      0.989777   \n",
       "1    4uou_C          100.0  0.973562  0.994687     0.967287      0.951068   \n",
       "2    4uou_D          100.0  0.973604  0.994235     0.972579      0.973048   \n",
       "3    4uou_A          100.0  0.967257  0.994800     0.976908      0.963504   \n",
       "4  Q4WW81_A          100.0  0.982275  0.998587     0.999679      0.997273   \n",
       "\n",
       "   bisy_rmsd_ave  sort_score  kind  \n",
       "0       0.159702        2.40   apo  \n",
       "1       0.194233        2.40   apo  \n",
       "2       0.101252        2.40   apo  \n",
       "3       0.214243        2.40   apo  \n",
       "4       0.126228       98.57  pred  "
      ]
     },
     "execution_count": 8,
     "metadata": {},
     "output_type": "execute_result"
    }
   ],
   "source": [
    "link_info[\n",
    "    [\n",
    "        \"id\",\n",
    "        \"pocket_fident\",\n",
    "        \"lddt\",\n",
    "        \"bb_lddt\",\n",
    "        \"lddt_lp_ave\",\n",
    "        \"lddt_pli_ave\",\n",
    "        \"bisy_rmsd_ave\",\n",
    "        \"sort_score\",\n",
    "        \"kind\",\n",
    "    ]\n",
    "]"
   ]
  },
  {
   "cell_type": "markdown",
   "metadata": {},
   "source": [
    "For example, here we can see that \"4uou_B\"\n",
    "- has 100% identical residues corresponding to the pocket of the system\n",
    "- has a very high lDDT and backbone lDDT scores, indicating that the structure is very similar to the receptor.\n",
    "- has a `sort_score` of 2.4, which is the resolution for an apo structure and the plDDT score for a predicted structure.\n",
    "\n",
    "Indeed the superposition + transplant results show the same story\n",
    "- a global superposition puts the ligand in the right place (seen by the `bisy_rmsd` of the ligand pose),\n",
    "- the distances between the pocket atoms are similar (seen by the `lddt_lp_ave` metric),\n",
    "- and the distances between the ligand and protein atoms are similar (seen by the `lddt_pli_ave` metric).\n",
    "\n",
    "`get_linked_structure` then gives the file path to the found structure\n",
    "\n",
    "```python\n",
    "plinder_system.get_linked_structure(\"apo\", \"4uou_B\")\n",
    "```\n",
    "\n"
   ]
  }
 ],
 "metadata": {
  "kernelspec": {
   "display_name": "Python 3",
   "language": "python",
   "name": "python3"
  },
  "language_info": {
   "codemirror_mode": {
    "name": "ipython",
    "version": 3
   },
   "file_extension": ".py",
   "mimetype": "text/x-python",
   "name": "python",
   "nbconvert_exporter": "python",
   "pygments_lexer": "ipython3",
   "version": "3.10.14"
  }
 },
 "nbformat": 4,
 "nbformat_minor": 2
}
