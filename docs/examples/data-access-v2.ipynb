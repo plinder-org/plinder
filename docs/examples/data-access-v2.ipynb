{
 "cells": [
  {
   "cell_type": "markdown",
   "metadata": {},
   "source": [
    "# Access _PLINDER_ data for training ML models\n",
    "\n",
    "The goal of this tutorial is to provide a simple and simple hands-on demo for a new user to access _PLINDER_ dataset in prepparation for training machine learning models.\n",
    "\n",
    "Here, we are going to demonstrate how to get the input data:\n",
    "- protein receptor fasta sequence\n",
    "- small molecules ligand SMILES string\n",
    "\n",
    "- #TODO: access to linked _apo_ structure\n",
    "\n",
    "\n",
    "In the process, we will show:\n",
    "- How to query _PLINDER_ index and splits to select relevant data using `plinder.core` API\n",
    "- Extract task-specific data one might want to use for training a task-specific ML model, eg. one protein, one ligand\n",
    "- How to use `plinder.core` API and `PlinderDataset` class to supply dataset inputs for `train` or `val` splits\n",
    "- Example how to create a simple diversity sampler based on cluster labels\n",
    "- #TODO: load linked `apo` structures"
   ]
  },
  {
   "cell_type": "markdown",
   "metadata": {},
   "source": [
    "\n",
    "### Load _PLINDER_ index\n",
    "\n",
    "We recommend users interact with the dataset using _PLINDER_ Python API.\n",
    "\n",
    "You may need to install `plinder.loader` with: `` pip install '.[loader]'``\n",
    "\n",
    "#TODO: test and replace with ``pip install plinder``"
   ]
  },
  {
   "cell_type": "code",
   "execution_count": 3,
   "metadata": {},
   "outputs": [],
   "source": [
    "from __future__ import annotations\n",
    "import pandas as pd\n",
    "from plinder.core.scores import query_index"
   ]
  },
  {
   "cell_type": "markdown",
   "metadata": {},
   "source": [
    "Load _PLINDER_ index with selected columns from annotations table. For a full list with descriptions, please refer to [docs](https://plinder-org.github.io/plinder/dataset.html)."
   ]
  },
  {
   "cell_type": "code",
   "execution_count": 4,
   "metadata": {},
   "outputs": [
    {
     "name": "stderr",
     "output_type": "stream",
     "text": [
      "2024-08-29 21:48:12,016 | plinder.core.utils.cpl.download_paths:24 | INFO : runtime succeeded: 0.78s\n"
     ]
    }
   ],
   "source": [
    "# get plinder index with selected annotation columns specified \n",
    "plindex = query_index(\n",
    "    columns=[\"system_id\", \"ligand_id\", \"ligand_rdkit_canonical_smiles\", \"ligand_is_ion\", \"ligand_is_artifact\", \"system_num_ligand_chains\", \"system_num_neighboring_protein_chains\"],\n",
    "    filters=[\n",
    "        (\"system_type\", \"==\", \"holo\"),\n",
    "        (\"system_num_neighboring_protein_chains\", \"<=\", 5)\n",
    "    ]\n",
    ")"
   ]
  },
  {
   "cell_type": "code",
   "execution_count": 5,
   "metadata": {},
   "outputs": [
    {
     "data": {
      "text/html": [
       "<div>\n",
       "<style scoped>\n",
       "    .dataframe tbody tr th:only-of-type {\n",
       "        vertical-align: middle;\n",
       "    }\n",
       "\n",
       "    .dataframe tbody tr th {\n",
       "        vertical-align: top;\n",
       "    }\n",
       "\n",
       "    .dataframe thead th {\n",
       "        text-align: right;\n",
       "    }\n",
       "</style>\n",
       "<table border=\"1\" class=\"dataframe\">\n",
       "  <thead>\n",
       "    <tr style=\"text-align: right;\">\n",
       "      <th></th>\n",
       "      <th>system_id</th>\n",
       "      <th>ligand_id</th>\n",
       "      <th>ligand_rdkit_canonical_smiles</th>\n",
       "      <th>ligand_is_ion</th>\n",
       "      <th>ligand_is_artifact</th>\n",
       "      <th>system_num_ligand_chains</th>\n",
       "      <th>system_num_neighboring_protein_chains</th>\n",
       "    </tr>\n",
       "  </thead>\n",
       "  <tbody>\n",
       "    <tr>\n",
       "      <th>0</th>\n",
       "      <td>3grt__1__1.A_2.A__1.B</td>\n",
       "      <td>3grt__1__1.B</td>\n",
       "      <td>Cc1cc2nc3c(=O)[nH]c(=O)nc-3n(C[C@H](O)[C@H](O)...</td>\n",
       "      <td>False</td>\n",
       "      <td>False</td>\n",
       "      <td>1</td>\n",
       "      <td>2</td>\n",
       "    </tr>\n",
       "    <tr>\n",
       "      <th>1</th>\n",
       "      <td>3grt__1__1.A_2.A__1.C</td>\n",
       "      <td>3grt__1__1.C</td>\n",
       "      <td>N[C@@H](CCC(=O)N[C@H]1CSSC[C@H](NC(=O)CC[C@H](...</td>\n",
       "      <td>False</td>\n",
       "      <td>False</td>\n",
       "      <td>1</td>\n",
       "      <td>2</td>\n",
       "    </tr>\n",
       "    <tr>\n",
       "      <th>2</th>\n",
       "      <td>3grt__1__1.A_2.A__2.B</td>\n",
       "      <td>3grt__1__2.B</td>\n",
       "      <td>Cc1cc2nc3c(=O)[nH]c(=O)nc-3n(C[C@H](O)[C@H](O)...</td>\n",
       "      <td>False</td>\n",
       "      <td>False</td>\n",
       "      <td>1</td>\n",
       "      <td>2</td>\n",
       "    </tr>\n",
       "    <tr>\n",
       "      <th>3</th>\n",
       "      <td>3grt__1__1.A_2.A__2.C</td>\n",
       "      <td>3grt__1__2.C</td>\n",
       "      <td>N[C@@H](CCC(=O)N[C@H]1CSSC[C@H](NC(=O)CC[C@H](...</td>\n",
       "      <td>False</td>\n",
       "      <td>False</td>\n",
       "      <td>1</td>\n",
       "      <td>2</td>\n",
       "    </tr>\n",
       "    <tr>\n",
       "      <th>4</th>\n",
       "      <td>1grx__1__1.A__1.B</td>\n",
       "      <td>1grx__1__1.B</td>\n",
       "      <td>N[C@@H](CCC(=O)N[C@@H](CS)C(=O)NCC(=O)O)C(=O)O</td>\n",
       "      <td>False</td>\n",
       "      <td>False</td>\n",
       "      <td>1</td>\n",
       "      <td>1</td>\n",
       "    </tr>\n",
       "  </tbody>\n",
       "</table>\n",
       "</div>"
      ],
      "text/plain": [
       "               system_id     ligand_id  \\\n",
       "0  3grt__1__1.A_2.A__1.B  3grt__1__1.B   \n",
       "1  3grt__1__1.A_2.A__1.C  3grt__1__1.C   \n",
       "2  3grt__1__1.A_2.A__2.B  3grt__1__2.B   \n",
       "3  3grt__1__1.A_2.A__2.C  3grt__1__2.C   \n",
       "4      1grx__1__1.A__1.B  1grx__1__1.B   \n",
       "\n",
       "                       ligand_rdkit_canonical_smiles  ligand_is_ion  \\\n",
       "0  Cc1cc2nc3c(=O)[nH]c(=O)nc-3n(C[C@H](O)[C@H](O)...          False   \n",
       "1  N[C@@H](CCC(=O)N[C@H]1CSSC[C@H](NC(=O)CC[C@H](...          False   \n",
       "2  Cc1cc2nc3c(=O)[nH]c(=O)nc-3n(C[C@H](O)[C@H](O)...          False   \n",
       "3  N[C@@H](CCC(=O)N[C@H]1CSSC[C@H](NC(=O)CC[C@H](...          False   \n",
       "4     N[C@@H](CCC(=O)N[C@@H](CS)C(=O)NCC(=O)O)C(=O)O          False   \n",
       "\n",
       "   ligand_is_artifact  system_num_ligand_chains  \\\n",
       "0               False                         1   \n",
       "1               False                         1   \n",
       "2               False                         1   \n",
       "3               False                         1   \n",
       "4               False                         1   \n",
       "\n",
       "   system_num_neighboring_protein_chains  \n",
       "0                                      2  \n",
       "1                                      2  \n",
       "2                                      2  \n",
       "3                                      2  \n",
       "4                                      1  "
      ]
     },
     "execution_count": 5,
     "metadata": {},
     "output_type": "execute_result"
    }
   ],
   "source": [
    "plindex.head()"
   ]
  },
  {
   "cell_type": "code",
   "execution_count": 6,
   "metadata": {},
   "outputs": [
    {
     "data": {
      "text/plain": [
       "system_num_neighboring_protein_chains\n",
       "1    406826\n",
       "2    213268\n",
       "3     43478\n",
       "4     10835\n",
       "5      1783\n",
       "Name: system_id, dtype: int64"
      ]
     },
     "execution_count": 6,
     "metadata": {},
     "output_type": "execute_result"
    }
   ],
   "source": [
    "plindex.groupby(\"system_num_neighboring_protein_chains\").system_id.count()"
   ]
  },
  {
   "cell_type": "markdown",
   "metadata": {},
   "source": [
    "## Extracting specific data using _PLINDER_ annotations\n",
    "As we can see just from the data tables above - a significant fraction of _PLINDER_ systems contain complex multi protein chain systems. If we would like to focus only on single protein and single ligand systems, we can use the annotated columns to filter out systems that:\n",
    "- contain only one protein chain\n",
    "- only one \"proper\" ligand\n",
    "\n",
    "In _PLINDER_ ions and artifacts are also included in the index, so, we will used columns `ligand_is_ion` and `ligand_is_artifact` to only select \"proper\" ligands."
   ]
  },
  {
   "cell_type": "code",
   "execution_count": 7,
   "metadata": {},
   "outputs": [],
   "source": [
    "# define \"proper\" ligands that are not ions or artifacts\n",
    "plindex[\"ligand_is_proper\"] = (\n",
    "    ~plindex[\"ligand_is_ion\"] & ~plindex[\"ligand_is_artifact\"]\n",
    ")\n",
    "# make count of these \"proper\" ligands per system\n",
    "plindex[\"system_proper_num_ligand_chains\"] = plindex.groupby(\"system_id\")[\"ligand_is_proper\"].transform(\"sum\")"
   ]
  },
  {
   "cell_type": "code",
   "execution_count": 8,
   "metadata": {},
   "outputs": [
    {
     "data": {
      "text/plain": [
       "ligand_is_proper\n",
       "False    128401\n",
       "True     547789\n",
       "Name: system_id, dtype: int64"
      ]
     },
     "execution_count": 8,
     "metadata": {},
     "output_type": "execute_result"
    }
   ],
   "source": [
    "plindex.groupby(\"ligand_is_proper\").system_id.count()"
   ]
  },
  {
   "cell_type": "code",
   "execution_count": 37,
   "metadata": {},
   "outputs": [
    {
     "data": {
      "text/plain": [
       "200173"
      ]
     },
     "execution_count": 37,
     "metadata": {},
     "output_type": "execute_result"
    }
   ],
   "source": [
    "sum((plindex_split[\"system_num_ligand_chains\"] == 1) & (plindex_split[\"system_num_neighboring_protein_chains\"] == 1))"
   ]
  },
  {
   "cell_type": "code",
   "execution_count": 39,
   "metadata": {},
   "outputs": [
    {
     "data": {
      "text/plain": [
       "297360"
      ]
     },
     "execution_count": 39,
     "metadata": {},
     "output_type": "execute_result"
    }
   ],
   "source": [
    "sum((plindex_split[\"system_proper_num_ligand_chains\"] == 1) & (plindex_split[\"system_num_neighboring_protein_chains\"] == 1))"
   ]
  },
  {
   "cell_type": "code",
   "execution_count": 40,
   "metadata": {},
   "outputs": [
    {
     "data": {
      "text/plain": [
       "351198"
      ]
     },
     "execution_count": 40,
     "metadata": {},
     "output_type": "execute_result"
    }
   ],
   "source": [
    "sum(plindex_split[\"system_num_neighboring_protein_chains\"] == 1)"
   ]
  },
  {
   "cell_type": "markdown",
   "metadata": {},
   "source": [
    "## Loading splits\n",
    "\n",
    "Let's have a look at the splits using _PLINDER_ API"
   ]
  },
  {
   "cell_type": "code",
   "execution_count": 9,
   "metadata": {},
   "outputs": [],
   "source": [
    "from plinder.core import PlinderDataset, get_split"
   ]
  },
  {
   "cell_type": "code",
   "execution_count": 10,
   "metadata": {},
   "outputs": [
    {
     "name": "stderr",
     "output_type": "stream",
     "text": [
      "2024-08-29 21:48:40,079 | plinder.core.utils.cpl.download_paths:24 | INFO : runtime succeeded: 0.70s\n",
      "2024-08-29 21:48:40,817 | plinder.core.split.utils:40 | INFO : reading /Users/vladas/.local/share/plinder/2024-06/v2/splits/split.parquet\n",
      "2024-08-29 21:48:40,961 | plinder.core.split.utils.get_split:24 | INFO : runtime succeeded: 3.11s\n"
     ]
    },
    {
     "data": {
      "text/html": [
       "<div>\n",
       "<style scoped>\n",
       "    .dataframe tbody tr th:only-of-type {\n",
       "        vertical-align: middle;\n",
       "    }\n",
       "\n",
       "    .dataframe tbody tr th {\n",
       "        vertical-align: top;\n",
       "    }\n",
       "\n",
       "    .dataframe thead th {\n",
       "        text-align: right;\n",
       "    }\n",
       "</style>\n",
       "<table border=\"1\" class=\"dataframe\">\n",
       "  <thead>\n",
       "    <tr style=\"text-align: right;\">\n",
       "      <th></th>\n",
       "      <th>system_id</th>\n",
       "      <th>uniqueness</th>\n",
       "      <th>split</th>\n",
       "      <th>cluster</th>\n",
       "      <th>cluster_for_val_split</th>\n",
       "      <th>system_pass_validation_criteria</th>\n",
       "      <th>system_pass_statistics_criteria</th>\n",
       "      <th>system_proper_num_ligand_chains</th>\n",
       "      <th>system_proper_pocket_num_residues</th>\n",
       "      <th>system_proper_num_interactions</th>\n",
       "      <th>system_proper_ligand_max_molecular_weight</th>\n",
       "      <th>system_has_binding_affinity</th>\n",
       "      <th>system_has_apo_or_pred</th>\n",
       "    </tr>\n",
       "  </thead>\n",
       "  <tbody>\n",
       "    <tr>\n",
       "      <th>0</th>\n",
       "      <td>101m__1__1.A__1.C_1.D</td>\n",
       "      <td>101m__A__C_D_c188899</td>\n",
       "      <td>train</td>\n",
       "      <td>c14</td>\n",
       "      <td>c0</td>\n",
       "      <td>True</td>\n",
       "      <td>True</td>\n",
       "      <td>1</td>\n",
       "      <td>27</td>\n",
       "      <td>20</td>\n",
       "      <td>616.177293</td>\n",
       "      <td>False</td>\n",
       "      <td>False</td>\n",
       "    </tr>\n",
       "    <tr>\n",
       "      <th>1</th>\n",
       "      <td>102m__1__1.A__1.C</td>\n",
       "      <td>102m__A__C_c237197</td>\n",
       "      <td>train</td>\n",
       "      <td>c14</td>\n",
       "      <td>c0</td>\n",
       "      <td>True</td>\n",
       "      <td>True</td>\n",
       "      <td>1</td>\n",
       "      <td>26</td>\n",
       "      <td>20</td>\n",
       "      <td>616.177293</td>\n",
       "      <td>False</td>\n",
       "      <td>True</td>\n",
       "    </tr>\n",
       "    <tr>\n",
       "      <th>2</th>\n",
       "      <td>103m__1__1.A__1.C_1.D</td>\n",
       "      <td>103m__A__C_D_c252759</td>\n",
       "      <td>train</td>\n",
       "      <td>c14</td>\n",
       "      <td>c0</td>\n",
       "      <td>False</td>\n",
       "      <td>True</td>\n",
       "      <td>1</td>\n",
       "      <td>26</td>\n",
       "      <td>16</td>\n",
       "      <td>616.177293</td>\n",
       "      <td>False</td>\n",
       "      <td>False</td>\n",
       "    </tr>\n",
       "    <tr>\n",
       "      <th>3</th>\n",
       "      <td>104m__1__1.A__1.C_1.D</td>\n",
       "      <td>104m__A__C_D_c274687</td>\n",
       "      <td>train</td>\n",
       "      <td>c14</td>\n",
       "      <td>c0</td>\n",
       "      <td>False</td>\n",
       "      <td>True</td>\n",
       "      <td>1</td>\n",
       "      <td>27</td>\n",
       "      <td>21</td>\n",
       "      <td>616.177293</td>\n",
       "      <td>False</td>\n",
       "      <td>False</td>\n",
       "    </tr>\n",
       "    <tr>\n",
       "      <th>4</th>\n",
       "      <td>105m__1__1.A__1.C_1.D</td>\n",
       "      <td>105m__A__C_D_c221688</td>\n",
       "      <td>train</td>\n",
       "      <td>c14</td>\n",
       "      <td>c0</td>\n",
       "      <td>False</td>\n",
       "      <td>True</td>\n",
       "      <td>1</td>\n",
       "      <td>28</td>\n",
       "      <td>20</td>\n",
       "      <td>616.177293</td>\n",
       "      <td>False</td>\n",
       "      <td>False</td>\n",
       "    </tr>\n",
       "  </tbody>\n",
       "</table>\n",
       "</div>"
      ],
      "text/plain": [
       "               system_id            uniqueness  split cluster  \\\n",
       "0  101m__1__1.A__1.C_1.D  101m__A__C_D_c188899  train     c14   \n",
       "1      102m__1__1.A__1.C    102m__A__C_c237197  train     c14   \n",
       "2  103m__1__1.A__1.C_1.D  103m__A__C_D_c252759  train     c14   \n",
       "3  104m__1__1.A__1.C_1.D  104m__A__C_D_c274687  train     c14   \n",
       "4  105m__1__1.A__1.C_1.D  105m__A__C_D_c221688  train     c14   \n",
       "\n",
       "  cluster_for_val_split  system_pass_validation_criteria  \\\n",
       "0                    c0                             True   \n",
       "1                    c0                             True   \n",
       "2                    c0                            False   \n",
       "3                    c0                            False   \n",
       "4                    c0                            False   \n",
       "\n",
       "   system_pass_statistics_criteria  system_proper_num_ligand_chains  \\\n",
       "0                             True                                1   \n",
       "1                             True                                1   \n",
       "2                             True                                1   \n",
       "3                             True                                1   \n",
       "4                             True                                1   \n",
       "\n",
       "   system_proper_pocket_num_residues  system_proper_num_interactions  \\\n",
       "0                                 27                              20   \n",
       "1                                 26                              20   \n",
       "2                                 26                              16   \n",
       "3                                 27                              21   \n",
       "4                                 28                              20   \n",
       "\n",
       "   system_proper_ligand_max_molecular_weight  system_has_binding_affinity  \\\n",
       "0                                 616.177293                        False   \n",
       "1                                 616.177293                        False   \n",
       "2                                 616.177293                        False   \n",
       "3                                 616.177293                        False   \n",
       "4                                 616.177293                        False   \n",
       "\n",
       "   system_has_apo_or_pred  \n",
       "0                   False  \n",
       "1                    True  \n",
       "2                   False  \n",
       "3                   False  \n",
       "4                   False  "
      ]
     },
     "execution_count": 10,
     "metadata": {},
     "output_type": "execute_result"
    }
   ],
   "source": [
    "# get the current plinder split\n",
    "split_df = get_split()\n",
    "split_df.head()"
   ]
  },
  {
   "cell_type": "markdown",
   "metadata": {},
   "source": [
    "For simplicity let's merge plindex and split DataFrames into one"
   ]
  },
  {
   "cell_type": "code",
   "execution_count": 49,
   "metadata": {},
   "outputs": [],
   "source": [
    "# merge to a single DataFrame\n",
    "plindex_split = plindex.merge(split_df, on=\"system_id\", how=\"inner\")"
   ]
  },
  {
   "cell_type": "code",
   "execution_count": null,
   "metadata": {},
   "outputs": [],
   "source": []
  },
  {
   "cell_type": "markdown",
   "metadata": {},
   "source": [
    "### Load dataset\n",
    "We recommend users interact with the dataset using PLINDER Python API.\n",
    "You may need to install plinder.loader: `` pip install '.[loader]'``\n",
    "\n",
    "class {class} `PlinderDataset` is the primary method of access data.\n",
    "\n",
    "- `df`: the split to use\n",
    "- `split`: the split to sample from\n",
    "- `file_with_system_ids`: path to a file containing a list of system ids (default: full index)\n",
    "- `store_file_path`: if True, include the file path of the source structures in the dataset\n",
    "- `load_alternative_structures`: if True, include alternative structures in the dataset\n",
    "- `num_alternative_structures`: number of alternative structures (apo and pred) to include\n",
    "\n",
    "Below, we are providing a function to access class {class}`PlinderDataset` and samples from protein-ligand similarity cluster based on sampling user-defined function `sampler_func` via a warpper function `load_dataset_path`. "
   ]
  },
  {
   "cell_type": "code",
   "execution_count": null,
   "metadata": {},
   "outputs": [],
   "source": []
  },
  {
   "cell_type": "code",
   "execution_count": 54,
   "metadata": {},
   "outputs": [],
   "source": [
    "val_dataset = PlinderDataset(\n",
    "    df=split_df,\n",
    "    split='val'\n",
    ")"
   ]
  },
  {
   "cell_type": "markdown",
   "metadata": {},
   "source": [
    "note, if files not already available this downloads them to `~/.local/share/plinder/{PLINDER_RELEASE}/{PLINDER_ITERATION}` directory"
   ]
  },
  {
   "cell_type": "markdown",
   "metadata": {},
   "source": [
    "#### Define diversity sampler function\n",
    "Here, we have provided an example of how one might use `torch.utils.data.WeightedRandomSampler`. However, users are free to sample diversity any how they see fit. For this example, we are going to use the sample dversity based on the `cluster` column in the splits dataframe."
   ]
  },
  {
   "cell_type": "markdown",
   "metadata": {},
   "source": [
    "### Extract specific molecular format needed for training\n",
    "The function `get_model_input` wraps it all together, allowing us to extract the sequence fasta and smiles needed for training."
   ]
  },
  {
   "cell_type": "markdown",
   "metadata": {},
   "source": [
    "### Sample diverse training set "
   ]
  },
  {
   "cell_type": "markdown",
   "metadata": {},
   "source": [
    "### Get validation set without cluster sampling\n",
    "Here, we will show how to get validation set without cluster sampling."
   ]
  }
 ],
 "metadata": {
  "kernelspec": {
   "display_name": "Python 3",
   "language": "python",
   "name": "python3"
  },
  "language_info": {
   "codemirror_mode": {
    "name": "ipython",
    "version": 3
   },
   "file_extension": ".py",
   "mimetype": "text/x-python",
   "name": "python",
   "nbconvert_exporter": "python",
   "pygments_lexer": "ipython3",
   "version": "3.9.7"
  }
 },
 "nbformat": 4,
 "nbformat_minor": 2
}
