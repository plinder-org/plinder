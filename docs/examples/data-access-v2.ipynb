{
 "cells": [
  {
   "cell_type": "markdown",
   "metadata": {},
   "source": [
    "# Access _PLINDER_ data for training ML models\n",
    "\n",
    "The goal of this tutorial is to provide a simple and simple hands-on demo for a new user to access _PLINDER_ dataset in prepparation for training machine learning models.\n",
    "\n",
    "Here, we are going to demonstrate how to get the key input data:\n",
    "- protein receptor fasta sequence\n",
    "- small molecules ligand SMILES string\n",
    "- access to linked _apo_ and _pred_ structure\n",
    "\n",
    "\n",
    "In the process, we will show:\n",
    "- How to query _PLINDER_ index and splits to select relevant data using `plinder.core` API\n",
    "- Extract task-specific data one might want to use for training a task-specific ML model, eg. one protein, one ligand\n",
    "- How to use `plinder.core` API and `PlinderDataset` class to supply dataset inputs for `train` or `val` splits\n",
    "- Load linked `apo` and `pred` structures\n",
    "- Example how to create a simple diversity sampler based on cluster labels"
   ]
  },
  {
   "cell_type": "markdown",
   "metadata": {},
   "source": [
    "\n",
    "## Loading _PLINDER_\n",
    "\n",
    "We recommend users interact with the dataset using _PLINDER_ Python API.\n",
    "\n",
    "To install the API run: ``pip install plinder.[loader]``"
   ]
  },
  {
   "cell_type": "code",
   "execution_count": 1,
   "metadata": {},
   "outputs": [],
   "source": [
    "%load_ext autoreload\n",
    "%autoreload 2\n",
    "\n",
    "from __future__ import annotations\n",
    "import pandas as pd\n",
    "from plinder.core.scores import query_index"
   ]
  },
  {
   "cell_type": "markdown",
   "metadata": {},
   "source": [
    "### Load _PLINDER_ index with selected columns from annotations table\n",
    "For a full list with descriptions, please refer to [docs](https://plinder-org.github.io/plinder/dataset.html)."
   ]
  },
  {
   "cell_type": "code",
   "execution_count": 2,
   "metadata": {},
   "outputs": [
    {
     "name": "stderr",
     "output_type": "stream",
     "text": [
      "2024-08-30 18:12:12,823 | plinder.core.utils.cpl.download_paths:24 | INFO : runtime succeeded: 0.69s\n"
     ]
    }
   ],
   "source": [
    "# get plinder index with selected annotation columns specified \n",
    "plindex = query_index(\n",
    "    columns=[\"system_id\", \"ligand_id\", \"ligand_rdkit_canonical_smiles\", \"ligand_is_ion\", \"ligand_is_artifact\", \"system_num_ligand_chains\", \"system_num_neighboring_protein_chains\"],\n",
    "    filters=[\n",
    "        (\"system_type\", \"==\", \"holo\"),\n",
    "        (\"system_num_neighboring_protein_chains\", \"<=\", 5)\n",
    "    ]\n",
    ")"
   ]
  },
  {
   "cell_type": "code",
   "execution_count": 3,
   "metadata": {},
   "outputs": [
    {
     "data": {
      "text/html": [
       "<div>\n",
       "<style scoped>\n",
       "    .dataframe tbody tr th:only-of-type {\n",
       "        vertical-align: middle;\n",
       "    }\n",
       "\n",
       "    .dataframe tbody tr th {\n",
       "        vertical-align: top;\n",
       "    }\n",
       "\n",
       "    .dataframe thead th {\n",
       "        text-align: right;\n",
       "    }\n",
       "</style>\n",
       "<table border=\"1\" class=\"dataframe\">\n",
       "  <thead>\n",
       "    <tr style=\"text-align: right;\">\n",
       "      <th></th>\n",
       "      <th>system_id</th>\n",
       "      <th>ligand_id</th>\n",
       "      <th>ligand_rdkit_canonical_smiles</th>\n",
       "      <th>ligand_is_ion</th>\n",
       "      <th>ligand_is_artifact</th>\n",
       "      <th>system_num_ligand_chains</th>\n",
       "      <th>system_num_neighboring_protein_chains</th>\n",
       "    </tr>\n",
       "  </thead>\n",
       "  <tbody>\n",
       "    <tr>\n",
       "      <th>0</th>\n",
       "      <td>3grt__1__1.A_2.A__1.B</td>\n",
       "      <td>3grt__1__1.B</td>\n",
       "      <td>Cc1cc2nc3c(=O)[nH]c(=O)nc-3n(C[C@H](O)[C@H](O)...</td>\n",
       "      <td>False</td>\n",
       "      <td>False</td>\n",
       "      <td>1</td>\n",
       "      <td>2</td>\n",
       "    </tr>\n",
       "    <tr>\n",
       "      <th>1</th>\n",
       "      <td>3grt__1__1.A_2.A__1.C</td>\n",
       "      <td>3grt__1__1.C</td>\n",
       "      <td>N[C@@H](CCC(=O)N[C@H]1CSSC[C@H](NC(=O)CC[C@H](...</td>\n",
       "      <td>False</td>\n",
       "      <td>False</td>\n",
       "      <td>1</td>\n",
       "      <td>2</td>\n",
       "    </tr>\n",
       "    <tr>\n",
       "      <th>2</th>\n",
       "      <td>3grt__1__1.A_2.A__2.B</td>\n",
       "      <td>3grt__1__2.B</td>\n",
       "      <td>Cc1cc2nc3c(=O)[nH]c(=O)nc-3n(C[C@H](O)[C@H](O)...</td>\n",
       "      <td>False</td>\n",
       "      <td>False</td>\n",
       "      <td>1</td>\n",
       "      <td>2</td>\n",
       "    </tr>\n",
       "    <tr>\n",
       "      <th>3</th>\n",
       "      <td>3grt__1__1.A_2.A__2.C</td>\n",
       "      <td>3grt__1__2.C</td>\n",
       "      <td>N[C@@H](CCC(=O)N[C@H]1CSSC[C@H](NC(=O)CC[C@H](...</td>\n",
       "      <td>False</td>\n",
       "      <td>False</td>\n",
       "      <td>1</td>\n",
       "      <td>2</td>\n",
       "    </tr>\n",
       "    <tr>\n",
       "      <th>4</th>\n",
       "      <td>1grx__1__1.A__1.B</td>\n",
       "      <td>1grx__1__1.B</td>\n",
       "      <td>N[C@@H](CCC(=O)N[C@@H](CS)C(=O)NCC(=O)O)C(=O)O</td>\n",
       "      <td>False</td>\n",
       "      <td>False</td>\n",
       "      <td>1</td>\n",
       "      <td>1</td>\n",
       "    </tr>\n",
       "  </tbody>\n",
       "</table>\n",
       "</div>"
      ],
      "text/plain": [
       "               system_id     ligand_id  \\\n",
       "0  3grt__1__1.A_2.A__1.B  3grt__1__1.B   \n",
       "1  3grt__1__1.A_2.A__1.C  3grt__1__1.C   \n",
       "2  3grt__1__1.A_2.A__2.B  3grt__1__2.B   \n",
       "3  3grt__1__1.A_2.A__2.C  3grt__1__2.C   \n",
       "4      1grx__1__1.A__1.B  1grx__1__1.B   \n",
       "\n",
       "                       ligand_rdkit_canonical_smiles  ligand_is_ion  \\\n",
       "0  Cc1cc2nc3c(=O)[nH]c(=O)nc-3n(C[C@H](O)[C@H](O)...          False   \n",
       "1  N[C@@H](CCC(=O)N[C@H]1CSSC[C@H](NC(=O)CC[C@H](...          False   \n",
       "2  Cc1cc2nc3c(=O)[nH]c(=O)nc-3n(C[C@H](O)[C@H](O)...          False   \n",
       "3  N[C@@H](CCC(=O)N[C@H]1CSSC[C@H](NC(=O)CC[C@H](...          False   \n",
       "4     N[C@@H](CCC(=O)N[C@@H](CS)C(=O)NCC(=O)O)C(=O)O          False   \n",
       "\n",
       "   ligand_is_artifact  system_num_ligand_chains  \\\n",
       "0               False                         1   \n",
       "1               False                         1   \n",
       "2               False                         1   \n",
       "3               False                         1   \n",
       "4               False                         1   \n",
       "\n",
       "   system_num_neighboring_protein_chains  \n",
       "0                                      2  \n",
       "1                                      2  \n",
       "2                                      2  \n",
       "3                                      2  \n",
       "4                                      1  "
      ]
     },
     "execution_count": 3,
     "metadata": {},
     "output_type": "execute_result"
    }
   ],
   "source": [
    "plindex.head()"
   ]
  },
  {
   "cell_type": "code",
   "execution_count": 4,
   "metadata": {},
   "outputs": [
    {
     "data": {
      "text/plain": [
       "system_num_neighboring_protein_chains\n",
       "1    406826\n",
       "2    213268\n",
       "3     43478\n",
       "4     10835\n",
       "5      1783\n",
       "Name: system_id, dtype: int64"
      ]
     },
     "execution_count": 4,
     "metadata": {},
     "output_type": "execute_result"
    }
   ],
   "source": [
    "plindex.groupby(\"system_num_neighboring_protein_chains\").system_id.count()"
   ]
  },
  {
   "cell_type": "markdown",
   "metadata": {},
   "source": [
    "### Extracting specific data using _PLINDER_ annotations\n",
    "As we can see just from the data tables above - a significant fraction of _PLINDER_ systems contain complex multi protein chain systems."
   ]
  },
  {
   "cell_type": "markdown",
   "metadata": {},
   "source": [
    "#### Task specific selection\n",
    "If we would like to focus on single protein and single ligand systems for training, we can use the annotated columns to filter out systems that:\n",
    "- contain only one protein chain\n",
    "- only one ligand\n",
    "\n",
    "Remember: In _PLINDER_ artifacts and (single atom) ions are also included in the index if they are part of the pocket.\n",
    "- We can use columns `ligand_is_ion` and `ligand_is_artifact` to only select \"proper\" ligands.\n",
    "\n",
    "Let's find out how many annotated ligands are \"proper\"."
   ]
  },
  {
   "cell_type": "code",
   "execution_count": 5,
   "metadata": {},
   "outputs": [],
   "source": [
    "# define \"proper\" ligands that are not ions or artifacts\n",
    "plindex[\"ligand_is_proper\"] = (\n",
    "    ~plindex[\"ligand_is_ion\"] & ~plindex[\"ligand_is_artifact\"]\n",
    ")"
   ]
  },
  {
   "cell_type": "code",
   "execution_count": 6,
   "metadata": {},
   "outputs": [
    {
     "data": {
      "text/plain": [
       "ligand_is_proper\n",
       "False    128401\n",
       "True     547789\n",
       "Name: system_id, dtype: int64"
      ]
     },
     "execution_count": 6,
     "metadata": {},
     "output_type": "execute_result"
    }
   ],
   "source": [
    "plindex.groupby(\"ligand_is_proper\").system_id.count()"
   ]
  },
  {
   "cell_type": "markdown",
   "metadata": {},
   "source": [
    "#### User choice\n",
    "\n",
    "The annotations table gives flexibility to choose the systems for training:\n",
    "- One could strictly choose to use only the data that contains single protein single ligand systems\n",
    "- Alternatively one could expand the number of systems to include systems containing single proper ligands, and optionally ignore the artifacts and ions in the pocket\n",
    "\n",
    "Let's compare the numbers of such systems!"
   ]
  },
  {
   "cell_type": "code",
   "execution_count": 7,
   "metadata": {},
   "outputs": [
    {
     "name": "stdout",
     "output_type": "stream",
     "text": [
      "Number of single receptor single ligand systems: 238228\n",
      "Number of single receptor single \"proper\" ligand systems: 282433\n"
     ]
    }
   ],
   "source": [
    "# create mask for single receptor single ligand systems\n",
    "systems_1P1L = (plindex[\"system_num_neighboring_protein_chains\"] == 1) & (plindex[\"system_num_ligand_chains\"] == 1)\n",
    "\n",
    "# make count of these \"proper\" ligands per system\n",
    "plindex[\"system_proper_num_ligand_chains\"] = plindex.groupby(\"system_id\")[\"ligand_is_proper\"].transform(\"sum\")\n",
    "\n",
    "# create mask only for single receptor single \"proper\" ligand systems\n",
    "systems_proper_1P1L = (plindex[\"system_num_neighboring_protein_chains\"] == 1) & (plindex[\"system_proper_num_ligand_chains\"] == 1) & plindex[\"ligand_is_proper\"]\n",
    "\n",
    "print(f\"Number of single receptor single ligand systems: {sum(systems_1P1L)}\")\n",
    "print(f\"Number of single receptor single \\\"proper\\\" ligand systems: {sum(systems_proper_1P1L)}\")"
   ]
  },
  {
   "cell_type": "markdown",
   "metadata": {},
   "source": [
    "As we can see - the second choice can provide up to 20% more data for training, however, the caveat is that some of the interactions made by artifacts or ions may influence the binding pose of the \"proper\" ligand. The user could come up with further strategies to filtering using annotations table or external tools, but this is beyond the scope of this tutorial."
   ]
  },
  {
   "cell_type": "markdown",
   "metadata": {},
   "source": [
    "### Loading splits\n",
    "\n",
    "Now, after curating the systems of interest, let's have a look at the splits using _PLINDER_ API.\n",
    "\n",
    "- How to use `plinder.core` API and `PlinderDataset` class to supply dataset inputs for `train` or `val` splits"
   ]
  },
  {
   "cell_type": "code",
   "execution_count": 8,
   "metadata": {},
   "outputs": [],
   "source": [
    "from plinder.core import get_split"
   ]
  },
  {
   "cell_type": "markdown",
   "metadata": {},
   "source": [
    "#### Getting the splits\n",
    "The `get_split` function provided the current _PLINDER_ split, the detailed description of this DataFrame is provide in the [dataset documentation](https://plinder-org.github.io/plinder/dataset.html#splits-splits), but for our practical purposes we are mostly interested in `system_id` and `split` that assigns each of our systems to a specific split category."
   ]
  },
  {
   "cell_type": "code",
   "execution_count": 9,
   "metadata": {},
   "outputs": [
    {
     "name": "stderr",
     "output_type": "stream",
     "text": [
      "2024-08-30 18:12:15,789 | plinder.core.utils.cpl.download_paths:24 | INFO : runtime succeeded: 0.67s\n",
      "2024-08-30 18:12:16,464 | plinder.core.split.utils:40 | INFO : reading /Users/vladas/.local/share/plinder/2024-06/v2/splits/split.parquet\n",
      "2024-08-30 18:12:16,609 | plinder.core.split.utils.get_split:24 | INFO : runtime succeeded: 2.38s\n"
     ]
    }
   ],
   "source": [
    "# get the current plinder split\n",
    "split_df = get_split()"
   ]
  },
  {
   "cell_type": "code",
   "execution_count": 10,
   "metadata": {},
   "outputs": [
    {
     "data": {
      "text/html": [
       "<div>\n",
       "<style scoped>\n",
       "    .dataframe tbody tr th:only-of-type {\n",
       "        vertical-align: middle;\n",
       "    }\n",
       "\n",
       "    .dataframe tbody tr th {\n",
       "        vertical-align: top;\n",
       "    }\n",
       "\n",
       "    .dataframe thead th {\n",
       "        text-align: right;\n",
       "    }\n",
       "</style>\n",
       "<table border=\"1\" class=\"dataframe\">\n",
       "  <thead>\n",
       "    <tr style=\"text-align: right;\">\n",
       "      <th></th>\n",
       "      <th>system_id</th>\n",
       "      <th>uniqueness</th>\n",
       "      <th>split</th>\n",
       "      <th>cluster</th>\n",
       "      <th>cluster_for_val_split</th>\n",
       "      <th>system_pass_validation_criteria</th>\n",
       "      <th>system_pass_statistics_criteria</th>\n",
       "      <th>system_proper_num_ligand_chains</th>\n",
       "      <th>system_proper_pocket_num_residues</th>\n",
       "      <th>system_proper_num_interactions</th>\n",
       "      <th>system_proper_ligand_max_molecular_weight</th>\n",
       "      <th>system_has_binding_affinity</th>\n",
       "      <th>system_has_apo_or_pred</th>\n",
       "    </tr>\n",
       "  </thead>\n",
       "  <tbody>\n",
       "    <tr>\n",
       "      <th>0</th>\n",
       "      <td>101m__1__1.A__1.C_1.D</td>\n",
       "      <td>101m__A__C_D_c188899</td>\n",
       "      <td>train</td>\n",
       "      <td>c14</td>\n",
       "      <td>c0</td>\n",
       "      <td>True</td>\n",
       "      <td>True</td>\n",
       "      <td>1</td>\n",
       "      <td>27</td>\n",
       "      <td>20</td>\n",
       "      <td>616.177293</td>\n",
       "      <td>False</td>\n",
       "      <td>False</td>\n",
       "    </tr>\n",
       "    <tr>\n",
       "      <th>1</th>\n",
       "      <td>102m__1__1.A__1.C</td>\n",
       "      <td>102m__A__C_c237197</td>\n",
       "      <td>train</td>\n",
       "      <td>c14</td>\n",
       "      <td>c0</td>\n",
       "      <td>True</td>\n",
       "      <td>True</td>\n",
       "      <td>1</td>\n",
       "      <td>26</td>\n",
       "      <td>20</td>\n",
       "      <td>616.177293</td>\n",
       "      <td>False</td>\n",
       "      <td>True</td>\n",
       "    </tr>\n",
       "    <tr>\n",
       "      <th>2</th>\n",
       "      <td>103m__1__1.A__1.C_1.D</td>\n",
       "      <td>103m__A__C_D_c252759</td>\n",
       "      <td>train</td>\n",
       "      <td>c14</td>\n",
       "      <td>c0</td>\n",
       "      <td>False</td>\n",
       "      <td>True</td>\n",
       "      <td>1</td>\n",
       "      <td>26</td>\n",
       "      <td>16</td>\n",
       "      <td>616.177293</td>\n",
       "      <td>False</td>\n",
       "      <td>False</td>\n",
       "    </tr>\n",
       "    <tr>\n",
       "      <th>3</th>\n",
       "      <td>104m__1__1.A__1.C_1.D</td>\n",
       "      <td>104m__A__C_D_c274687</td>\n",
       "      <td>train</td>\n",
       "      <td>c14</td>\n",
       "      <td>c0</td>\n",
       "      <td>False</td>\n",
       "      <td>True</td>\n",
       "      <td>1</td>\n",
       "      <td>27</td>\n",
       "      <td>21</td>\n",
       "      <td>616.177293</td>\n",
       "      <td>False</td>\n",
       "      <td>False</td>\n",
       "    </tr>\n",
       "    <tr>\n",
       "      <th>4</th>\n",
       "      <td>105m__1__1.A__1.C_1.D</td>\n",
       "      <td>105m__A__C_D_c221688</td>\n",
       "      <td>train</td>\n",
       "      <td>c14</td>\n",
       "      <td>c0</td>\n",
       "      <td>False</td>\n",
       "      <td>True</td>\n",
       "      <td>1</td>\n",
       "      <td>28</td>\n",
       "      <td>20</td>\n",
       "      <td>616.177293</td>\n",
       "      <td>False</td>\n",
       "      <td>False</td>\n",
       "    </tr>\n",
       "  </tbody>\n",
       "</table>\n",
       "</div>"
      ],
      "text/plain": [
       "               system_id            uniqueness  split cluster  \\\n",
       "0  101m__1__1.A__1.C_1.D  101m__A__C_D_c188899  train     c14   \n",
       "1      102m__1__1.A__1.C    102m__A__C_c237197  train     c14   \n",
       "2  103m__1__1.A__1.C_1.D  103m__A__C_D_c252759  train     c14   \n",
       "3  104m__1__1.A__1.C_1.D  104m__A__C_D_c274687  train     c14   \n",
       "4  105m__1__1.A__1.C_1.D  105m__A__C_D_c221688  train     c14   \n",
       "\n",
       "  cluster_for_val_split  system_pass_validation_criteria  \\\n",
       "0                    c0                             True   \n",
       "1                    c0                             True   \n",
       "2                    c0                            False   \n",
       "3                    c0                            False   \n",
       "4                    c0                            False   \n",
       "\n",
       "   system_pass_statistics_criteria  system_proper_num_ligand_chains  \\\n",
       "0                             True                                1   \n",
       "1                             True                                1   \n",
       "2                             True                                1   \n",
       "3                             True                                1   \n",
       "4                             True                                1   \n",
       "\n",
       "   system_proper_pocket_num_residues  system_proper_num_interactions  \\\n",
       "0                                 27                              20   \n",
       "1                                 26                              20   \n",
       "2                                 26                              16   \n",
       "3                                 27                              21   \n",
       "4                                 28                              20   \n",
       "\n",
       "   system_proper_ligand_max_molecular_weight  system_has_binding_affinity  \\\n",
       "0                                 616.177293                        False   \n",
       "1                                 616.177293                        False   \n",
       "2                                 616.177293                        False   \n",
       "3                                 616.177293                        False   \n",
       "4                                 616.177293                        False   \n",
       "\n",
       "   system_has_apo_or_pred  \n",
       "0                   False  \n",
       "1                    True  \n",
       "2                   False  \n",
       "3                   False  \n",
       "4                   False  "
      ]
     },
     "execution_count": 10,
     "metadata": {},
     "output_type": "execute_result"
    }
   ],
   "source": [
    "split_df.head()"
   ]
  },
  {
   "cell_type": "markdown",
   "metadata": {},
   "source": [
    "Some specific method developers working on _flexible_ docking may also find handy the annotation column `system_has_apo_or_pred` indicating if the system has available `apo` or `pred` linked structures (see later)."
   ]
  },
  {
   "cell_type": "code",
   "execution_count": 11,
   "metadata": {},
   "outputs": [
    {
     "data": {
      "text/plain": [
       "split    system_has_apo_or_pred\n",
       "removed  False                      56876\n",
       "         True                       41842\n",
       "test     False                        548\n",
       "         True                         488\n",
       "train    False                     189703\n",
       "         True                      119437\n",
       "val      False                        456\n",
       "         True                         376\n",
       "Name: system_id, dtype: int64"
      ]
     },
     "execution_count": 11,
     "metadata": {},
     "output_type": "execute_result"
    }
   ],
   "source": [
    "split_df.groupby([\"split\", \"system_has_apo_or_pred\"]).system_id.count()"
   ]
  },
  {
   "cell_type": "markdown",
   "metadata": {},
   "source": [
    "For simplicity let's merge plindex and split DataFrames into one"
   ]
  },
  {
   "cell_type": "code",
   "execution_count": 12,
   "metadata": {},
   "outputs": [],
   "source": [
    "# merge to a single DataFrame\n",
    "plindex_split = plindex.merge(split_df, on=\"system_id\", how=\"left\")"
   ]
  },
  {
   "cell_type": "markdown",
   "metadata": {},
   "source": [
    "### Getting links to `apo` or `pred` structures"
   ]
  },
  {
   "cell_type": "code",
   "execution_count": 13,
   "metadata": {},
   "outputs": [],
   "source": [
    "from plinder.core.scores import query_links"
   ]
  },
  {
   "cell_type": "code",
   "execution_count": 14,
   "metadata": {},
   "outputs": [
    {
     "name": "stderr",
     "output_type": "stream",
     "text": [
      "2024-08-30 18:12:19,507 | plinder.core.utils.cpl.download_paths:24 | INFO : runtime succeeded: 0.91s\n",
      "2024-08-30 18:12:22,941 | plinder.core.scores.links.query_links:24 | INFO : runtime succeeded: 5.92s\n"
     ]
    }
   ],
   "source": [
    "links_df = query_links(\n",
    "    # columns=[\"reference_system_id\", \"id\", \"sort_score\"],\n",
    ")"
   ]
  },
  {
   "cell_type": "markdown",
   "metadata": {},
   "source": [
    "Note the table is sorted by `sort_score` that is resolution for `apo`s and `plddt` for `pred`s. The `apo` or `pred` is specified in the additionally added `kind` column."
   ]
  },
  {
   "cell_type": "code",
   "execution_count": 15,
   "metadata": {},
   "outputs": [
    {
     "data": {
      "text/html": [
       "<div>\n",
       "<style scoped>\n",
       "    .dataframe tbody tr th:only-of-type {\n",
       "        vertical-align: middle;\n",
       "    }\n",
       "\n",
       "    .dataframe tbody tr th {\n",
       "        vertical-align: top;\n",
       "    }\n",
       "\n",
       "    .dataframe thead th {\n",
       "        text-align: right;\n",
       "    }\n",
       "</style>\n",
       "<table border=\"1\" class=\"dataframe\">\n",
       "  <thead>\n",
       "    <tr style=\"text-align: right;\">\n",
       "      <th></th>\n",
       "      <th>reference_system_id</th>\n",
       "      <th>id</th>\n",
       "      <th>pocket_fident</th>\n",
       "      <th>pocket_lddt</th>\n",
       "      <th>protein_fident_qcov_weighted_sum</th>\n",
       "      <th>protein_fident_weighted_sum</th>\n",
       "      <th>protein_lddt_weighted_sum</th>\n",
       "      <th>target_id</th>\n",
       "      <th>sort_score</th>\n",
       "      <th>receptor_file</th>\n",
       "      <th>...</th>\n",
       "      <th>posebusters_volume_overlap_with_inorganic_cofactors</th>\n",
       "      <th>posebusters_volume_overlap_with_waters</th>\n",
       "      <th>fraction_reference_proteins_mapped</th>\n",
       "      <th>fraction_model_proteins_mapped</th>\n",
       "      <th>lddt</th>\n",
       "      <th>bb_lddt</th>\n",
       "      <th>per_chain_lddt_ave</th>\n",
       "      <th>per_chain_bb_lddt_ave</th>\n",
       "      <th>filename</th>\n",
       "      <th>kind</th>\n",
       "    </tr>\n",
       "  </thead>\n",
       "  <tbody>\n",
       "    <tr>\n",
       "      <th>0</th>\n",
       "      <td>6pl9__1__1.A__1.C</td>\n",
       "      <td>2vb1_A</td>\n",
       "      <td>100.0</td>\n",
       "      <td>86.0</td>\n",
       "      <td>100.0</td>\n",
       "      <td>100.0</td>\n",
       "      <td>96.0</td>\n",
       "      <td>2vb1</td>\n",
       "      <td>0.65</td>\n",
       "      <td>/plinder/2024-06/assignments/apo/6pl9__1__1.A_...</td>\n",
       "      <td>...</td>\n",
       "      <td>True</td>\n",
       "      <td>True</td>\n",
       "      <td>1.0</td>\n",
       "      <td>1.0</td>\n",
       "      <td>0.903772</td>\n",
       "      <td>0.968844</td>\n",
       "      <td>0.890822</td>\n",
       "      <td>0.959674</td>\n",
       "      <td>/Users/vladas/.local/share/plinder/2024-06/v2/...</td>\n",
       "      <td>apo</td>\n",
       "    </tr>\n",
       "    <tr>\n",
       "      <th>1</th>\n",
       "      <td>6ahh__1__1.A__1.G</td>\n",
       "      <td>2vb1_A</td>\n",
       "      <td>100.0</td>\n",
       "      <td>98.0</td>\n",
       "      <td>100.0</td>\n",
       "      <td>100.0</td>\n",
       "      <td>95.0</td>\n",
       "      <td>2vb1</td>\n",
       "      <td>0.65</td>\n",
       "      <td>/plinder/2024-06/assignments/apo/6ahh__1__1.A_...</td>\n",
       "      <td>...</td>\n",
       "      <td>True</td>\n",
       "      <td>True</td>\n",
       "      <td>1.0</td>\n",
       "      <td>1.0</td>\n",
       "      <td>0.894349</td>\n",
       "      <td>0.962846</td>\n",
       "      <td>0.883217</td>\n",
       "      <td>0.954721</td>\n",
       "      <td>/Users/vladas/.local/share/plinder/2024-06/v2/...</td>\n",
       "      <td>apo</td>\n",
       "    </tr>\n",
       "    <tr>\n",
       "      <th>2</th>\n",
       "      <td>5b59__1__1.A__1.B</td>\n",
       "      <td>2vb1_A</td>\n",
       "      <td>100.0</td>\n",
       "      <td>91.0</td>\n",
       "      <td>100.0</td>\n",
       "      <td>100.0</td>\n",
       "      <td>96.0</td>\n",
       "      <td>2vb1</td>\n",
       "      <td>0.65</td>\n",
       "      <td>/plinder/2024-06/assignments/apo/5b59__1__1.A_...</td>\n",
       "      <td>...</td>\n",
       "      <td>True</td>\n",
       "      <td>True</td>\n",
       "      <td>1.0</td>\n",
       "      <td>1.0</td>\n",
       "      <td>0.903266</td>\n",
       "      <td>0.962318</td>\n",
       "      <td>0.890656</td>\n",
       "      <td>0.955258</td>\n",
       "      <td>/Users/vladas/.local/share/plinder/2024-06/v2/...</td>\n",
       "      <td>apo</td>\n",
       "    </tr>\n",
       "    <tr>\n",
       "      <th>3</th>\n",
       "      <td>3ato__1__1.A__1.B</td>\n",
       "      <td>2vb1_A</td>\n",
       "      <td>100.0</td>\n",
       "      <td>99.0</td>\n",
       "      <td>100.0</td>\n",
       "      <td>100.0</td>\n",
       "      <td>95.0</td>\n",
       "      <td>2vb1</td>\n",
       "      <td>0.65</td>\n",
       "      <td>/plinder/2024-06/assignments/apo/3ato__1__1.A_...</td>\n",
       "      <td>...</td>\n",
       "      <td>True</td>\n",
       "      <td>True</td>\n",
       "      <td>1.0</td>\n",
       "      <td>1.0</td>\n",
       "      <td>0.890530</td>\n",
       "      <td>0.954696</td>\n",
       "      <td>0.879496</td>\n",
       "      <td>0.946326</td>\n",
       "      <td>/Users/vladas/.local/share/plinder/2024-06/v2/...</td>\n",
       "      <td>apo</td>\n",
       "    </tr>\n",
       "    <tr>\n",
       "      <th>4</th>\n",
       "      <td>6mx9__1__1.A__1.K</td>\n",
       "      <td>2vb1_A</td>\n",
       "      <td>100.0</td>\n",
       "      <td>98.0</td>\n",
       "      <td>100.0</td>\n",
       "      <td>100.0</td>\n",
       "      <td>95.0</td>\n",
       "      <td>2vb1</td>\n",
       "      <td>0.65</td>\n",
       "      <td>/plinder/2024-06/assignments/apo/6mx9__1__1.A_...</td>\n",
       "      <td>...</td>\n",
       "      <td>True</td>\n",
       "      <td>True</td>\n",
       "      <td>1.0</td>\n",
       "      <td>1.0</td>\n",
       "      <td>0.904116</td>\n",
       "      <td>0.964309</td>\n",
       "      <td>0.892434</td>\n",
       "      <td>0.955853</td>\n",
       "      <td>/Users/vladas/.local/share/plinder/2024-06/v2/...</td>\n",
       "      <td>apo</td>\n",
       "    </tr>\n",
       "  </tbody>\n",
       "</table>\n",
       "<p>5 rows × 52 columns</p>\n",
       "</div>"
      ],
      "text/plain": [
       "  reference_system_id      id  pocket_fident  pocket_lddt  \\\n",
       "0   6pl9__1__1.A__1.C  2vb1_A          100.0         86.0   \n",
       "1   6ahh__1__1.A__1.G  2vb1_A          100.0         98.0   \n",
       "2   5b59__1__1.A__1.B  2vb1_A          100.0         91.0   \n",
       "3   3ato__1__1.A__1.B  2vb1_A          100.0         99.0   \n",
       "4   6mx9__1__1.A__1.K  2vb1_A          100.0         98.0   \n",
       "\n",
       "   protein_fident_qcov_weighted_sum  protein_fident_weighted_sum  \\\n",
       "0                             100.0                        100.0   \n",
       "1                             100.0                        100.0   \n",
       "2                             100.0                        100.0   \n",
       "3                             100.0                        100.0   \n",
       "4                             100.0                        100.0   \n",
       "\n",
       "   protein_lddt_weighted_sum target_id  sort_score  \\\n",
       "0                       96.0      2vb1        0.65   \n",
       "1                       95.0      2vb1        0.65   \n",
       "2                       96.0      2vb1        0.65   \n",
       "3                       95.0      2vb1        0.65   \n",
       "4                       95.0      2vb1        0.65   \n",
       "\n",
       "                                       receptor_file  ...  \\\n",
       "0  /plinder/2024-06/assignments/apo/6pl9__1__1.A_...  ...   \n",
       "1  /plinder/2024-06/assignments/apo/6ahh__1__1.A_...  ...   \n",
       "2  /plinder/2024-06/assignments/apo/5b59__1__1.A_...  ...   \n",
       "3  /plinder/2024-06/assignments/apo/3ato__1__1.A_...  ...   \n",
       "4  /plinder/2024-06/assignments/apo/6mx9__1__1.A_...  ...   \n",
       "\n",
       "  posebusters_volume_overlap_with_inorganic_cofactors  \\\n",
       "0                                               True    \n",
       "1                                               True    \n",
       "2                                               True    \n",
       "3                                               True    \n",
       "4                                               True    \n",
       "\n",
       "   posebusters_volume_overlap_with_waters  fraction_reference_proteins_mapped  \\\n",
       "0                                    True                                 1.0   \n",
       "1                                    True                                 1.0   \n",
       "2                                    True                                 1.0   \n",
       "3                                    True                                 1.0   \n",
       "4                                    True                                 1.0   \n",
       "\n",
       "   fraction_model_proteins_mapped      lddt   bb_lddt  per_chain_lddt_ave  \\\n",
       "0                             1.0  0.903772  0.968844            0.890822   \n",
       "1                             1.0  0.894349  0.962846            0.883217   \n",
       "2                             1.0  0.903266  0.962318            0.890656   \n",
       "3                             1.0  0.890530  0.954696            0.879496   \n",
       "4                             1.0  0.904116  0.964309            0.892434   \n",
       "\n",
       "   per_chain_bb_lddt_ave                                           filename  \\\n",
       "0               0.959674  /Users/vladas/.local/share/plinder/2024-06/v2/...   \n",
       "1               0.954721  /Users/vladas/.local/share/plinder/2024-06/v2/...   \n",
       "2               0.955258  /Users/vladas/.local/share/plinder/2024-06/v2/...   \n",
       "3               0.946326  /Users/vladas/.local/share/plinder/2024-06/v2/...   \n",
       "4               0.955853  /Users/vladas/.local/share/plinder/2024-06/v2/...   \n",
       "\n",
       "   kind  \n",
       "0   apo  \n",
       "1   apo  \n",
       "2   apo  \n",
       "3   apo  \n",
       "4   apo  \n",
       "\n",
       "[5 rows x 52 columns]"
      ]
     },
     "execution_count": 15,
     "metadata": {},
     "output_type": "execute_result"
    }
   ],
   "source": [
    "links_df.head()"
   ]
  },
  {
   "cell_type": "markdown",
   "metadata": {},
   "source": [
    "If a user wants to consider only one linked structure per system - we can easily drop duplicates, first sorting by `sort_score`. Using this priority score, `pred` structures will not be used unless there is no `apo` available. Alternative can be achieved by sorting with `ascending=False`, or filtering by `kind==\"pred\"` column."
   ]
  },
  {
   "cell_type": "code",
   "execution_count": 16,
   "metadata": {},
   "outputs": [
    {
     "data": {
      "text/html": [
       "<div>\n",
       "<style scoped>\n",
       "    .dataframe tbody tr th:only-of-type {\n",
       "        vertical-align: middle;\n",
       "    }\n",
       "\n",
       "    .dataframe tbody tr th {\n",
       "        vertical-align: top;\n",
       "    }\n",
       "\n",
       "    .dataframe thead th {\n",
       "        text-align: right;\n",
       "    }\n",
       "</style>\n",
       "<table border=\"1\" class=\"dataframe\">\n",
       "  <thead>\n",
       "    <tr style=\"text-align: right;\">\n",
       "      <th></th>\n",
       "      <th>reference_system_id</th>\n",
       "      <th>id</th>\n",
       "      <th>pocket_fident</th>\n",
       "      <th>pocket_lddt</th>\n",
       "      <th>protein_fident_qcov_weighted_sum</th>\n",
       "      <th>protein_fident_weighted_sum</th>\n",
       "      <th>protein_lddt_weighted_sum</th>\n",
       "      <th>target_id</th>\n",
       "      <th>sort_score</th>\n",
       "      <th>receptor_file</th>\n",
       "      <th>...</th>\n",
       "      <th>posebusters_volume_overlap_with_inorganic_cofactors</th>\n",
       "      <th>posebusters_volume_overlap_with_waters</th>\n",
       "      <th>fraction_reference_proteins_mapped</th>\n",
       "      <th>fraction_model_proteins_mapped</th>\n",
       "      <th>lddt</th>\n",
       "      <th>bb_lddt</th>\n",
       "      <th>per_chain_lddt_ave</th>\n",
       "      <th>per_chain_bb_lddt_ave</th>\n",
       "      <th>filename</th>\n",
       "      <th>kind</th>\n",
       "    </tr>\n",
       "  </thead>\n",
       "  <tbody>\n",
       "    <tr>\n",
       "      <th>0</th>\n",
       "      <td>6pl9__1__1.A__1.C</td>\n",
       "      <td>2vb1_A</td>\n",
       "      <td>100.0</td>\n",
       "      <td>86.0</td>\n",
       "      <td>100.0</td>\n",
       "      <td>100.0</td>\n",
       "      <td>96.0</td>\n",
       "      <td>2vb1</td>\n",
       "      <td>0.65</td>\n",
       "      <td>/plinder/2024-06/assignments/apo/6pl9__1__1.A_...</td>\n",
       "      <td>...</td>\n",
       "      <td>True</td>\n",
       "      <td>True</td>\n",
       "      <td>1.0</td>\n",
       "      <td>1.0</td>\n",
       "      <td>0.903772</td>\n",
       "      <td>0.968844</td>\n",
       "      <td>0.890822</td>\n",
       "      <td>0.959674</td>\n",
       "      <td>/Users/vladas/.local/share/plinder/2024-06/v2/...</td>\n",
       "      <td>apo</td>\n",
       "    </tr>\n",
       "    <tr>\n",
       "      <th>110</th>\n",
       "      <td>6agr__1__1.A__1.G</td>\n",
       "      <td>2vb1_A</td>\n",
       "      <td>100.0</td>\n",
       "      <td>94.0</td>\n",
       "      <td>100.0</td>\n",
       "      <td>100.0</td>\n",
       "      <td>95.0</td>\n",
       "      <td>2vb1</td>\n",
       "      <td>0.65</td>\n",
       "      <td>/plinder/2024-06/assignments/apo/6agr__1__1.A_...</td>\n",
       "      <td>...</td>\n",
       "      <td>True</td>\n",
       "      <td>True</td>\n",
       "      <td>1.0</td>\n",
       "      <td>1.0</td>\n",
       "      <td>0.893323</td>\n",
       "      <td>0.960976</td>\n",
       "      <td>0.882798</td>\n",
       "      <td>0.953605</td>\n",
       "      <td>/Users/vladas/.local/share/plinder/2024-06/v2/...</td>\n",
       "      <td>apo</td>\n",
       "    </tr>\n",
       "    <tr>\n",
       "      <th>111</th>\n",
       "      <td>4qgz__1__1.A__1.C</td>\n",
       "      <td>2vb1_A</td>\n",
       "      <td>100.0</td>\n",
       "      <td>80.0</td>\n",
       "      <td>100.0</td>\n",
       "      <td>100.0</td>\n",
       "      <td>95.0</td>\n",
       "      <td>2vb1</td>\n",
       "      <td>0.65</td>\n",
       "      <td>/plinder/2024-06/assignments/apo/4qgz__1__1.A_...</td>\n",
       "      <td>...</td>\n",
       "      <td>True</td>\n",
       "      <td>True</td>\n",
       "      <td>1.0</td>\n",
       "      <td>1.0</td>\n",
       "      <td>0.890561</td>\n",
       "      <td>0.954621</td>\n",
       "      <td>0.880202</td>\n",
       "      <td>0.947527</td>\n",
       "      <td>/Users/vladas/.local/share/plinder/2024-06/v2/...</td>\n",
       "      <td>apo</td>\n",
       "    </tr>\n",
       "    <tr>\n",
       "      <th>112</th>\n",
       "      <td>4owa__2__1.B__1.NA</td>\n",
       "      <td>2vb1_A</td>\n",
       "      <td>100.0</td>\n",
       "      <td>95.0</td>\n",
       "      <td>100.0</td>\n",
       "      <td>100.0</td>\n",
       "      <td>92.0</td>\n",
       "      <td>2vb1</td>\n",
       "      <td>0.65</td>\n",
       "      <td>/plinder/2024-06/assignments/apo/4owa__2__1.B_...</td>\n",
       "      <td>...</td>\n",
       "      <td>True</td>\n",
       "      <td>True</td>\n",
       "      <td>1.0</td>\n",
       "      <td>1.0</td>\n",
       "      <td>0.886402</td>\n",
       "      <td>0.945307</td>\n",
       "      <td>0.865961</td>\n",
       "      <td>0.928915</td>\n",
       "      <td>/Users/vladas/.local/share/plinder/2024-06/v2/...</td>\n",
       "      <td>apo</td>\n",
       "    </tr>\n",
       "    <tr>\n",
       "      <th>113</th>\n",
       "      <td>6wgo__1__1.A__1.E</td>\n",
       "      <td>2vb1_A</td>\n",
       "      <td>100.0</td>\n",
       "      <td>98.0</td>\n",
       "      <td>100.0</td>\n",
       "      <td>100.0</td>\n",
       "      <td>95.0</td>\n",
       "      <td>2vb1</td>\n",
       "      <td>0.65</td>\n",
       "      <td>/plinder/2024-06/assignments/apo/6wgo__1__1.A_...</td>\n",
       "      <td>...</td>\n",
       "      <td>True</td>\n",
       "      <td>True</td>\n",
       "      <td>1.0</td>\n",
       "      <td>1.0</td>\n",
       "      <td>0.899726</td>\n",
       "      <td>0.962098</td>\n",
       "      <td>0.885907</td>\n",
       "      <td>0.951752</td>\n",
       "      <td>/Users/vladas/.local/share/plinder/2024-06/v2/...</td>\n",
       "      <td>apo</td>\n",
       "    </tr>\n",
       "  </tbody>\n",
       "</table>\n",
       "<p>5 rows × 52 columns</p>\n",
       "</div>"
      ],
      "text/plain": [
       "    reference_system_id      id  pocket_fident  pocket_lddt  \\\n",
       "0     6pl9__1__1.A__1.C  2vb1_A          100.0         86.0   \n",
       "110   6agr__1__1.A__1.G  2vb1_A          100.0         94.0   \n",
       "111   4qgz__1__1.A__1.C  2vb1_A          100.0         80.0   \n",
       "112  4owa__2__1.B__1.NA  2vb1_A          100.0         95.0   \n",
       "113   6wgo__1__1.A__1.E  2vb1_A          100.0         98.0   \n",
       "\n",
       "     protein_fident_qcov_weighted_sum  protein_fident_weighted_sum  \\\n",
       "0                               100.0                        100.0   \n",
       "110                             100.0                        100.0   \n",
       "111                             100.0                        100.0   \n",
       "112                             100.0                        100.0   \n",
       "113                             100.0                        100.0   \n",
       "\n",
       "     protein_lddt_weighted_sum target_id  sort_score  \\\n",
       "0                         96.0      2vb1        0.65   \n",
       "110                       95.0      2vb1        0.65   \n",
       "111                       95.0      2vb1        0.65   \n",
       "112                       92.0      2vb1        0.65   \n",
       "113                       95.0      2vb1        0.65   \n",
       "\n",
       "                                         receptor_file  ...  \\\n",
       "0    /plinder/2024-06/assignments/apo/6pl9__1__1.A_...  ...   \n",
       "110  /plinder/2024-06/assignments/apo/6agr__1__1.A_...  ...   \n",
       "111  /plinder/2024-06/assignments/apo/4qgz__1__1.A_...  ...   \n",
       "112  /plinder/2024-06/assignments/apo/4owa__2__1.B_...  ...   \n",
       "113  /plinder/2024-06/assignments/apo/6wgo__1__1.A_...  ...   \n",
       "\n",
       "    posebusters_volume_overlap_with_inorganic_cofactors  \\\n",
       "0                                                 True    \n",
       "110                                               True    \n",
       "111                                               True    \n",
       "112                                               True    \n",
       "113                                               True    \n",
       "\n",
       "     posebusters_volume_overlap_with_waters  \\\n",
       "0                                      True   \n",
       "110                                    True   \n",
       "111                                    True   \n",
       "112                                    True   \n",
       "113                                    True   \n",
       "\n",
       "     fraction_reference_proteins_mapped  fraction_model_proteins_mapped  \\\n",
       "0                                   1.0                             1.0   \n",
       "110                                 1.0                             1.0   \n",
       "111                                 1.0                             1.0   \n",
       "112                                 1.0                             1.0   \n",
       "113                                 1.0                             1.0   \n",
       "\n",
       "         lddt   bb_lddt  per_chain_lddt_ave  per_chain_bb_lddt_ave  \\\n",
       "0    0.903772  0.968844            0.890822               0.959674   \n",
       "110  0.893323  0.960976            0.882798               0.953605   \n",
       "111  0.890561  0.954621            0.880202               0.947527   \n",
       "112  0.886402  0.945307            0.865961               0.928915   \n",
       "113  0.899726  0.962098            0.885907               0.951752   \n",
       "\n",
       "                                              filename  kind  \n",
       "0    /Users/vladas/.local/share/plinder/2024-06/v2/...   apo  \n",
       "110  /Users/vladas/.local/share/plinder/2024-06/v2/...   apo  \n",
       "111  /Users/vladas/.local/share/plinder/2024-06/v2/...   apo  \n",
       "112  /Users/vladas/.local/share/plinder/2024-06/v2/...   apo  \n",
       "113  /Users/vladas/.local/share/plinder/2024-06/v2/...   apo  \n",
       "\n",
       "[5 rows x 52 columns]"
      ]
     },
     "execution_count": 16,
     "metadata": {},
     "output_type": "execute_result"
    }
   ],
   "source": [
    "single_links_df = links_df.sort_values(\"sort_score\", ascending=True).drop_duplicates(\"reference_system_id\")\n",
    "single_links_df.head()"
   ]
  },
  {
   "cell_type": "markdown",
   "metadata": {},
   "source": [
    "Now that we have links to `apo` / `pred` structures, we can see how many of those are available for our single protein single ligand systems"
   ]
  },
  {
   "cell_type": "code",
   "execution_count": 17,
   "metadata": {},
   "outputs": [
    {
     "data": {
      "text/plain": [
       "split    system_has_apo_or_pred\n",
       "removed  False                       4720\n",
       "         True                       41685\n",
       "test     False                         59\n",
       "         True                         487\n",
       "train    False                      33897\n",
       "         True                      118925\n",
       "val      False                         26\n",
       "         True                         374\n",
       "Name: system_id, dtype: int64"
      ]
     },
     "execution_count": 17,
     "metadata": {},
     "output_type": "execute_result"
    }
   ],
   "source": [
    "plindex_split[systems_1P1L].groupby([\"split\", \"system_has_apo_or_pred\"]).system_id.count()"
   ]
  },
  {
   "cell_type": "code",
   "execution_count": 18,
   "metadata": {},
   "outputs": [],
   "source": [
    "plindex_split_1P1L_links = plindex_split[systems_1P1L].merge(single_links_df, left_on=\"system_id\", right_on=\"reference_system_id\", how=\"left\")"
   ]
  },
  {
   "cell_type": "code",
   "execution_count": 19,
   "metadata": {},
   "outputs": [
    {
     "data": {
      "text/plain": [
       "split    system_has_linked_apo_or_pred\n",
       "removed  False                              7097\n",
       "         True                              39308\n",
       "test     False                                76\n",
       "         True                                470\n",
       "train    False                             47109\n",
       "         True                             105713\n",
       "val      False                                30\n",
       "         True                                370\n",
       "Name: system_id, dtype: int64"
      ]
     },
     "execution_count": 19,
     "metadata": {},
     "output_type": "execute_result"
    }
   ],
   "source": [
    "# let's check how many systems have linked structures\n",
    "plindex_split_1P1L_links['system_has_linked_apo_or_pred'] = ~plindex_split_1P1L_links.filename.isna()\n",
    "plindex_split_1P1L_links.groupby([\"split\", \"system_has_linked_apo_or_pred\"]).system_id.count()"
   ]
  },
  {
   "cell_type": "code",
   "execution_count": 20,
   "metadata": {},
   "outputs": [
    {
     "data": {
      "text/plain": [
       "system_has_apo_or_pred  system_has_linked_apo_or_pred\n",
       "False                   False                             37600\n",
       "                        True                               1102\n",
       "True                    False                             16712\n",
       "                        True                             144759\n",
       "Name: system_id, dtype: int64"
      ]
     },
     "execution_count": 20,
     "metadata": {},
     "output_type": "execute_result"
    }
   ],
   "source": [
    "# TODO: fix inconsistency\n",
    "plindex_split_1P1L_links.groupby([\"system_has_apo_or_pred\", \"system_has_linked_apo_or_pred\"]).system_id.count()"
   ]
  },
  {
   "cell_type": "markdown",
   "metadata": {},
   "source": [
    "#### Selecting final dataset\n",
    "Let's select only the set that has linked structures for flexible docking"
   ]
  },
  {
   "cell_type": "code",
   "execution_count": 21,
   "metadata": {},
   "outputs": [
    {
     "data": {
      "text/plain": [
       "split  system_has_linked_apo_or_pred\n",
       "test   True                                470\n",
       "train  True                             105713\n",
       "val    True                                370\n",
       "Name: system_id, dtype: int64"
      ]
     },
     "execution_count": 21,
     "metadata": {},
     "output_type": "execute_result"
    }
   ],
   "source": [
    "plindex_final_df = plindex_split_1P1L_links[\n",
    "    (plindex_split_1P1L_links.system_has_linked_apo_or_pred) & (plindex_split_1P1L_links.split != \"removed\")\n",
    "]\n",
    "plindex_final_df.groupby([\"split\", \"system_has_linked_apo_or_pred\"]).system_id.count()"
   ]
  },
  {
   "cell_type": "code",
   "execution_count": 22,
   "metadata": {},
   "outputs": [
    {
     "data": {
      "text/plain": [
       "'/Users/vladas/.local/share/plinder/2024-06/v2/links/pred_links.parquet'"
      ]
     },
     "execution_count": 22,
     "metadata": {},
     "output_type": "execute_result"
    }
   ],
   "source": [
    "plindex_final_df[[\"ligand_rdkit_canonical_smiles\", \"filename\"]].iloc[0].filename"
   ]
  },
  {
   "cell_type": "code",
   "execution_count": null,
   "metadata": {},
   "outputs": [],
   "source": []
  },
  {
   "cell_type": "markdown",
   "metadata": {},
   "source": [
    "### Using _PLINDER_ API to load dataset by split"
   ]
  },
  {
   "cell_type": "code",
   "execution_count": 31,
   "metadata": {},
   "outputs": [],
   "source": [
    "from plinder.core import PlinderDataset\n",
    "from plinder.core.loader import get_model_input_files"
   ]
  },
  {
   "cell_type": "code",
   "execution_count": 24,
   "metadata": {},
   "outputs": [],
   "source": [
    "train_dataset = PlinderDataset(\n",
    "    df=plindex_final_df,\n",
    "    split=\"train\",\n",
    "    num_alternative_structures=2,\n",
    "    file_paths_only=True,\n",
    ")"
   ]
  },
  {
   "cell_type": "markdown",
   "metadata": {},
   "source": [
    "Note: function `get_model_input_files` accepts `split =` \"train\", \"val\" or \"test\""
   ]
  },
  {
   "cell_type": "code",
   "execution_count": 25,
   "metadata": {},
   "outputs": [
    {
     "name": "stderr",
     "output_type": "stream",
     "text": [
      "2024-08-30 18:12:26,737 | plinder.core.utils.cpl.download_paths:24 | INFO : runtime succeeded: 0.84s\n",
      "2024-08-30 18:12:27,402 | plinder.core.utils.cpl.download_paths:24 | INFO : runtime succeeded: 0.66s\n",
      "2024-08-30 18:12:30,058 | plinder.core.utils.cpl.download_paths:24 | INFO : runtime succeeded: 0.75s\n",
      "2024-08-30 18:12:30,794 | plinder.core.scores.links.query_links:24 | INFO : runtime succeeded: 3.39s\n",
      "2024-08-30 18:12:34,089 | plinder.core.utils.cpl.download_paths:24 | INFO : runtime succeeded: 1.01s\n",
      "2024-08-30 18:12:34,803 | plinder.core.utils.cpl.download_paths:24 | INFO : runtime succeeded: 0.71s\n",
      "2024-08-30 18:12:38,148 | plinder.core.utils.cpl.download_paths:24 | INFO : runtime succeeded: 1.01s\n",
      "2024-08-30 18:12:38,833 | plinder.core.utils.cpl.download_paths:24 | INFO : runtime succeeded: 0.68s\n",
      "2024-08-30 18:12:41,860 | plinder.core.utils.cpl.download_paths:24 | INFO : runtime succeeded: 0.73s\n",
      "2024-08-30 18:12:42,615 | plinder.core.scores.links.query_links:24 | INFO : runtime succeeded: 3.78s\n",
      "2024-08-30 18:12:45,634 | plinder.core.utils.cpl.download_paths:24 | INFO : runtime succeeded: 0.93s\n",
      "2024-08-30 18:12:46,324 | plinder.core.utils.cpl.download_paths:24 | INFO : runtime succeeded: 0.69s\n",
      "2024-08-30 18:12:49,533 | plinder.core.utils.cpl.download_paths:24 | INFO : runtime succeeded: 1.04s\n",
      "2024-08-30 18:12:50,201 | plinder.core.utils.cpl.download_paths:24 | INFO : runtime succeeded: 0.66s\n",
      "2024-08-30 18:12:52,676 | plinder.core.utils.cpl.download_paths:24 | INFO : runtime succeeded: 0.93s\n",
      "2024-08-30 18:12:53,393 | plinder.core.scores.links.query_links:24 | INFO : runtime succeeded: 3.19s\n",
      "2024-08-30 18:12:56,529 | plinder.core.utils.cpl.download_paths:24 | INFO : runtime succeeded: 0.87s\n",
      "2024-08-30 18:12:57,199 | plinder.core.utils.cpl.download_paths:24 | INFO : runtime succeeded: 0.67s\n",
      "2024-08-30 18:13:00,883 | plinder.core.utils.cpl.download_paths:24 | INFO : runtime succeeded: 1.07s\n",
      "2024-08-30 18:13:01,593 | plinder.core.utils.cpl.download_paths:24 | INFO : runtime succeeded: 0.71s\n",
      "2024-08-30 18:13:04,074 | plinder.core.utils.cpl.download_paths:24 | INFO : runtime succeeded: 0.87s\n",
      "2024-08-30 18:13:04,879 | plinder.core.scores.links.query_links:24 | INFO : runtime succeeded: 3.28s\n",
      "2024-08-30 18:13:07,973 | plinder.core.utils.cpl.download_paths:24 | INFO : runtime succeeded: 1.01s\n",
      "2024-08-30 18:13:08,640 | plinder.core.utils.cpl.download_paths:24 | INFO : runtime succeeded: 0.67s\n",
      "2024-08-30 18:13:11,683 | plinder.core.utils.cpl.download_paths:24 | INFO : runtime succeeded: 0.84s\n",
      "2024-08-30 18:13:12,349 | plinder.core.utils.cpl.download_paths:24 | INFO : runtime succeeded: 0.66s\n",
      "2024-08-30 18:13:14,736 | plinder.core.utils.cpl.download_paths:24 | INFO : runtime succeeded: 0.77s\n",
      "2024-08-30 18:13:15,466 | plinder.core.scores.links.query_links:24 | INFO : runtime succeeded: 3.12s\n",
      "2024-08-30 18:13:18,684 | plinder.core.utils.cpl.download_paths:24 | INFO : runtime succeeded: 1.58s\n",
      "2024-08-30 18:13:19,366 | plinder.core.utils.cpl.download_paths:24 | INFO : runtime succeeded: 0.68s\n",
      "2024-08-30 18:13:22,854 | plinder.core.utils.cpl.download_paths:24 | INFO : runtime succeeded: 1.00s\n",
      "2024-08-30 18:13:23,583 | plinder.core.utils.cpl.download_paths:24 | INFO : runtime succeeded: 0.73s\n",
      "2024-08-30 18:13:25,940 | plinder.core.utils.cpl.download_paths:24 | INFO : runtime succeeded: 0.74s\n",
      "2024-08-30 18:13:26,754 | plinder.core.scores.links.query_links:24 | INFO : runtime succeeded: 3.17s\n",
      "2024-08-30 18:13:29,803 | plinder.core.utils.cpl.download_paths:24 | INFO : runtime succeeded: 0.85s\n",
      "2024-08-30 18:13:30,483 | plinder.core.utils.cpl.download_paths:24 | INFO : runtime succeeded: 0.68s\n",
      "2024-08-30 18:13:33,448 | plinder.core.utils.cpl.download_paths:24 | INFO : runtime succeeded: 0.86s\n",
      "2024-08-30 18:13:34,127 | plinder.core.utils.cpl.download_paths:24 | INFO : runtime succeeded: 0.67s\n",
      "2024-08-30 18:13:36,841 | plinder.core.utils.cpl.download_paths:24 | INFO : runtime succeeded: 0.93s\n",
      "2024-08-30 18:13:37,573 | plinder.core.scores.links.query_links:24 | INFO : runtime succeeded: 3.44s\n",
      "2024-08-30 18:13:40,351 | plinder.core.utils.cpl.download_paths:24 | INFO : runtime succeeded: 0.84s\n",
      "2024-08-30 18:13:41,018 | plinder.core.utils.cpl.download_paths:24 | INFO : runtime succeeded: 0.66s\n",
      "2024-08-30 18:13:44,879 | plinder.core.utils.cpl.download_paths:24 | INFO : runtime succeeded: 1.04s\n",
      "2024-08-30 18:13:45,570 | plinder.core.utils.cpl.download_paths:24 | INFO : runtime succeeded: 0.69s\n",
      "2024-08-30 18:13:47,911 | plinder.core.utils.cpl.download_paths:24 | INFO : runtime succeeded: 0.74s\n",
      "2024-08-30 18:13:48,744 | plinder.core.scores.links.query_links:24 | INFO : runtime succeeded: 3.17s\n",
      "2024-08-30 18:13:51,591 | plinder.core.utils.cpl.download_paths:24 | INFO : runtime succeeded: 0.86s\n",
      "2024-08-30 18:13:52,262 | plinder.core.utils.cpl.download_paths:24 | INFO : runtime succeeded: 0.67s\n",
      "2024-08-30 18:13:55,928 | plinder.core.utils.cpl.download_paths:24 | INFO : runtime succeeded: 0.86s\n",
      "2024-08-30 18:13:56,679 | plinder.core.utils.cpl.download_paths:24 | INFO : runtime succeeded: 0.75s\n",
      "2024-08-30 18:13:59,426 | plinder.core.utils.cpl.download_paths:24 | INFO : runtime succeeded: 0.99s\n",
      "2024-08-30 18:14:00,164 | plinder.core.scores.links.query_links:24 | INFO : runtime succeeded: 3.48s\n",
      "2024-08-30 18:14:03,174 | plinder.core.utils.cpl.download_paths:24 | INFO : runtime succeeded: 1.01s\n",
      "2024-08-30 18:14:03,830 | plinder.core.utils.cpl.download_paths:24 | INFO : runtime succeeded: 0.65s\n",
      "2024-08-30 18:14:07,352 | plinder.core.utils.cpl.download_paths:24 | INFO : runtime succeeded: 0.84s\n",
      "2024-08-30 18:14:08,030 | plinder.core.utils.cpl.download_paths:24 | INFO : runtime succeeded: 0.68s\n",
      "2024-08-30 18:14:10,908 | plinder.core.utils.cpl.download_paths:24 | INFO : runtime succeeded: 0.75s\n",
      "2024-08-30 18:14:11,767 | plinder.core.scores.links.query_links:24 | INFO : runtime succeeded: 3.74s\n",
      "2024-08-30 18:14:14,906 | plinder.core.utils.cpl.download_paths:24 | INFO : runtime succeeded: 1.02s\n",
      "2024-08-30 18:14:15,571 | plinder.core.utils.cpl.download_paths:24 | INFO : runtime succeeded: 0.66s\n"
     ]
    }
   ],
   "source": [
    "sample_dataset = get_model_input_files(\n",
    "    plindex_final_df,\n",
    "    split = \"val\",\n",
    "    max_num_sample = 10,\n",
    "    num_alternative_structures = 1,\n",
    "    )"
   ]
  },
  {
   "cell_type": "markdown",
   "metadata": {},
   "source": [
    "note, if files not already available this downloads them to `~/.local/share/plinder/{PLINDER_RELEASE}/{PLINDER_ITERATION}` directory"
   ]
  },
  {
   "cell_type": "code",
   "execution_count": 26,
   "metadata": {},
   "outputs": [
    {
     "data": {
      "text/plain": [
       "[(PosixPath('/Users/vladas/.local/share/plinder/2024-06/v2/systems/4cj6__1__1.A__1.B/sequences.fasta'),\n",
       "  'CC1=C(/C=C/C(C)=C/C=C/C(C)=C/C=O)C(C)(C)CCC1',\n",
       "  ['/Users/vladas/.local/share/plinder/2024-06/v2/linked_structures/pred/4cj6__1__1.A__1.B/P12271_A/superposed.cif']),\n",
       " (PosixPath('/Users/vladas/.local/share/plinder/2024-06/v2/systems/3cj9__1__1.A__1.D/sequences.fasta'),\n",
       "  'Nc1ncnc2c1ncn2[C@@H]1O[C@H](COP(=O)(O)O)[C@@H](O)[C@H]1O',\n",
       "  ['/Users/vladas/.local/share/plinder/2024-06/v2/linked_structures/apo/3cj9__1__1.A__1.D/3cj1_A/superposed.cif']),\n",
       " (PosixPath('/Users/vladas/.local/share/plinder/2024-06/v2/systems/7da6__1__1.A__1.B/sequences.fasta'),\n",
       "  'NCCCC[C@@H](C=O)NC(=O)CNC(=O)[C@H](CCCN=C(N)N)NC(=O)[C@@H](N)Cc1ccccc1',\n",
       "  ['/Users/vladas/.local/share/plinder/2024-06/v2/linked_structures/apo/7da6__1__1.A__1.B/7h54_A/superposed.cif']),\n",
       " (PosixPath('/Users/vladas/.local/share/plinder/2024-06/v2/systems/5dyw__1__1.A__1.E/sequences.fasta'),\n",
       "  'CC(=O)N[C@H]1[C@@H](O[C@H]2[C@H](O)[C@@H](NC(C)=O)CO[C@@H]2CO)O[C@H](CO)[C@@H](O)[C@@H]1O',\n",
       "  ['/Users/vladas/.local/share/plinder/2024-06/v2/linked_structures/apo/5dyw__1__1.A__1.E/3o9m_B/superposed.cif']),\n",
       " (PosixPath('/Users/vladas/.local/share/plinder/2024-06/v2/systems/3bxm__1__2.A__2.C/sequences.fasta'),\n",
       "  'CC(=O)N[C@H]1[C@H](O[C@H]2[C@H](O)[C@@H](NC(C)=O)CO[C@@H]2CO)O[C@H](CO)[C@@H](O)[C@@H]1O',\n",
       "  ['/Users/vladas/.local/share/plinder/2024-06/v2/linked_structures/pred/3bxm__1__2.A__2.C/Q04609_A/superposed.cif']),\n",
       " (PosixPath('/Users/vladas/.local/share/plinder/2024-06/v2/systems/2e5a__1__1.A__1.E/sequences.fasta'),\n",
       "  'Nc1ncnc2c1ncn2[C@@H]1O[C@H](CO[P@@](=O)(O)OC(=O)CCCC[C@@H]2CCSS2)[C@@H](O)[C@H]1O',\n",
       "  ['/Users/vladas/.local/share/plinder/2024-06/v2/linked_structures/apo/2e5a__1__1.A__1.E/3a7u_A/superposed.cif']),\n",
       " (PosixPath('/Users/vladas/.local/share/plinder/2024-06/v2/systems/4gom__1__1.A__1.D/sequences.fasta'),\n",
       "  'Nc1ncnc2c1ncn2[C@@H]1O[C@H](CNCC[C@H](N)C(=O)O)[C@@H](O)[C@H]1O',\n",
       "  ['/Users/vladas/.local/share/plinder/2024-06/v2/linked_structures/pred/4gom__1__1.A__1.D/P0AEE8_A/superposed.cif']),\n",
       " (PosixPath('/Users/vladas/.local/share/plinder/2024-06/v2/systems/4gol__1__1.A__1.D/sequences.fasta'),\n",
       "  'CN(CC[C@H](N)C(=O)O)C[C@H]1O[C@@H](n2cnc3c(N)ncnc32)[C@H](O)[C@@H]1O',\n",
       "  ['/Users/vladas/.local/share/plinder/2024-06/v2/linked_structures/pred/4gol__1__1.A__1.D/P0AEE8_A/superposed.cif']),\n",
       " (PosixPath('/Users/vladas/.local/share/plinder/2024-06/v2/systems/4gol__1__1.C__1.F/sequences.fasta'),\n",
       "  'CN(CC[C@H](N)C(=O)O)C[C@H]1O[C@@H](n2cnc3c(N)ncnc32)[C@H](O)[C@@H]1O',\n",
       "  ['/Users/vladas/.local/share/plinder/2024-06/v2/linked_structures/pred/4gol__1__1.C__1.F/P0AEE8_A/superposed.cif']),\n",
       " (PosixPath('/Users/vladas/.local/share/plinder/2024-06/v2/systems/5il2__1__1.A__1.C/sequences.fasta'),\n",
       "  'Nc1ncnc2c1ncn2[C@@H]1O[C@H](CSCC[C@H](N)C(=O)O)[C@@H](O)[C@H]1O',\n",
       "  ['/Users/vladas/.local/share/plinder/2024-06/v2/linked_structures/apo/5il2__1__1.A__1.C/7rx7_A/superposed.cif'])]"
      ]
     },
     "execution_count": 26,
     "metadata": {},
     "output_type": "execute_result"
    }
   ],
   "source": [
    "sample_dataset"
   ]
  },
  {
   "cell_type": "markdown",
   "metadata": {},
   "source": [
    "### Using _PLINDER_ clusters in sampling\n",
    "- #TODO: Example how to create a simple diversity sampler based on cluster labels"
   ]
  },
  {
   "cell_type": "markdown",
   "metadata": {},
   "source": [
    "#### Define diversity sampler function\n",
    "Here, we have provided an example of how one might use `torch.utils.data.WeightedRandomSampler`. However, users are free to sample diversity any how they see fit. For this example, we are going to use the sample dversity based on the `cluster` column in the splits dataframe."
   ]
  },
  {
   "cell_type": "code",
   "execution_count": null,
   "metadata": {},
   "outputs": [],
   "source": []
  }
 ],
 "metadata": {
  "kernelspec": {
   "display_name": "Python 3",
   "language": "python",
   "name": "python3"
  },
  "language_info": {
   "codemirror_mode": {
    "name": "ipython",
    "version": 3
   },
   "file_extension": ".py",
   "mimetype": "text/x-python",
   "name": "python",
   "nbconvert_exporter": "python",
   "pygments_lexer": "ipython3",
   "version": "3.9.7"
  }
 },
 "nbformat": 4,
 "nbformat_minor": 2
}
