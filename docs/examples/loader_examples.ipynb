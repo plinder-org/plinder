{
 "cells": [
  {
   "cell_type": "markdown",
   "metadata": {},
   "source": [
    "# Structure, Systems, Dataset and Loader Tutorial"
   ]
  },
  {
   "cell_type": "markdown",
   "metadata": {},
   "source": [
    "# Topics:\n",
    "- Interacting with `Structure` class\n",
    "- Interacting `PlinderSystem`\n",
    "- Interacting `PlinderDataset`\n",
    "- Loader\n"
   ]
  },
  {
   "cell_type": "markdown",
   "metadata": {},
   "source": [
    "\n",
    "## Setup\n",
    "\n",
    "### Installation\n",
    "\n",
    "`plinder` is available on *PyPI*.\n",
    "\n",
    "```\n",
    "pip install plinder\n",
    "```\n",
    "\n",
    "### Environment variable configuration\n",
    ":::{note}\n",
    "We need to set environment variables to point to the release and iteration of choice.\n",
    "For the sake of demonstration, this will be set to point to a smaller tutorial example\n",
    "dataset, which are `PLINDER_RELEASE=2024-06` and `PLINDER_ITERATION=tutorial`.\n",
    ":::\n",
    ":::{note}"
   ]
  },
  {
   "cell_type": "markdown",
   "metadata": {},
   "source": [
    "## Getting the configuration\n",
    "\n",
    "At first we get the configuration to check that all parameters are correctly set. \n",
    "In the snippet below, we will check, if the local and remote *PLINDER* paths point to\n",
    "the expected location."
   ]
  },
  {
   "cell_type": "code",
   "execution_count": null,
   "metadata": {},
   "outputs": [],
   "source": [
    "import plinder.core.utils.config\n",
    "\n",
    "cfg = plinder.core.get_config()\n",
    "print(f\"local cache directory: {cfg.data.plinder_dir}\")\n",
    "print(f\"remote data directory: {cfg.data.plinder_remote}\")"
   ]
  },
  {
   "cell_type": "markdown",
   "metadata": {},
   "source": [
    "## Data ecosystem overview\n",
    "This tutorial assumes user have downloaded _PLINDER_ dataset before now. While the examples will run without users doing anything, we encourage users to download the data for performance sake. _PLINDER_ data hierarchy is shown below. We have organized this tutorial to follow this same hierarchy from ground up\n",
    "![image](../static/asset/data/plinder_data_hierarchy.png)"
   ]
  },
  {
   "cell_type": "markdown",
   "metadata": {},
   "source": [
    "## 0. Structure files"
   ]
  },
  {
   "cell_type": "markdown",
   "metadata": {},
   "source": [
    "After download all files will be store locally at `~/.local/share/plinder/${PLINDER_RELEASE}/${PLINDER_ITERATION}/systems`. The current default is `PLINDER_RELEASE=2024-06` and `PLINDER_ITERATION-v2`\n",
    "\n",
    "There, we have sub-folders that corresponds to each systems. In each sub-folder, we have:\n",
    "- Receptor PDB: receptor.cif and receptor.pdb\n",
    "- Ligand SDF's: `<biounit_instance_id>.<chain_id>.sdf`. For complexes with more than one ligands, all the sdfs are saved separately.\n",
    "- Sequence fasta: sequence.fasta\n",
    "For more information on the file organization, see \"<link-to-dataset-tutorial>\""
   ]
  },
  {
   "cell_type": "markdown",
   "metadata": {},
   "source": [
    "## 1. Structure Python Abstraction\n",
    "To make interacting with our data seamless, {class} class Structure, a pydantic data class that:\n",
    "- Loads all the structure files + smiles \n",
    "- Gets coordinates\n",
    "- Featurizes residues and atoms of associated protein and ligand molecules\n",
    "- Masks molecules to account for resolved vs unresolved part\n",
    "\n",
    "To interact with the example, do the following:"
   ]
  },
  {
   "cell_type": "markdown",
   "metadata": {},
   "source": [
    "### Load the structure for a given system_id\n",
    "For this purpose we will use `\"1avd__1__1.A__1.C\"` as our example system id."
   ]
  },
  {
   "cell_type": "code",
   "execution_count": 295,
   "metadata": {},
   "outputs": [
    {
     "name": "stderr",
     "output_type": "stream",
     "text": [
      "2024-09-23 10:15:26,737 | plinder.core.utils.cpl.download_paths:24 | INFO : runtime succeeded: 0.00s\n",
      "2024-09-23 10:15:26,737 | plinder.core.utils.cpl.download_paths:24 | INFO : runtime succeeded: 0.00s\n",
      "2024-09-23 10:15:26,867 | plinder.core.utils.cpl.download_paths:24 | INFO : runtime succeeded: 0.00s\n",
      "2024-09-23 10:15:26,868 | plinder.core.utils.cpl.download_paths:24 | INFO : runtime succeeded: 0.00s\n",
      "2024-09-23 10:15:26,868 | plinder.core.index.utils:148 | INFO : loading entries from 1 zips\n",
      "2024-09-23 10:15:26,871 | plinder.core.index.utils:163 | INFO : loaded 1 entries\n",
      "2024-09-23 10:15:26,872 | plinder.core.index.utils.load_entries:24 | INFO : runtime succeeded: 0.13s\n"
     ]
    }
   ],
   "source": [
    "from plinder.core.structure.structure import Structure\n",
    "from plinder.core import PlinderSystem\n",
    "from pathlib import Path\n",
    "\n",
    "from biotite.sequence.io.fasta import FastaFile\n",
    "\n",
    "input_smiles = \"CC(=O)N[C@@H]1[C@H]([C@@H]([C@H](O[C@H]1O)CO)O)O\" # Need to account for unresolved part of the ligand\n",
    "input_sdf = Path(cfg.data.plinder_dir)/\"systems/1avd__1__1.A__1.C/ligand_files/1.C.sdf\"\n",
    "system_id = \"1avd__1__1.A__1.C\"\n",
    "protein_structure_path = Path(cfg.data.plinder_dir)/\"systems/1avd__1__1.A__1.C/receptor.cif\"\n",
    "input_sequence_path = Path(cfg.data.plinder_dir)/\"systems/1avd__1__1.A__1.C/sequences.fasta\"\n",
    "list_ligand_sdf_and_input_smiles = [\n",
    "    (input_sdf,input_smiles)]\n",
    "\n",
    "input_sequences = {k: v for k, v in FastaFile.read_iter(input_sequence_path)}\n",
    "\n",
    "# Load holo structure\n",
    "holo_struc = PlinderSystem(system_id=system_id).holo_structure"
   ]
  },
  {
   "cell_type": "code",
   "execution_count": null,
   "metadata": {},
   "outputs": [],
   "source": [
    "# Show fields\n",
    "holo_struc.model_fields"
   ]
  },
  {
   "cell_type": "markdown",
   "metadata": {},
   "source": [
    "### List fields\n",
    "- We list all fields and their `FieldInfo` to show which ones are required. `id`, `protein_path` and `protein_sequence` are required. Everything else is optionally. Particularly worth mentioning is the decision to make `list_ligand_sdf_and_input_smiles` optional; this is because ligand will not be availbale in apo and predicted structures.\n",
    "- Out of these field `ligand_mols` and `protein_atom_array` is computed within the object if set to default. \n",
    "- `ligand_mols` returns a chain-mapped dictionary of of the form:\n",
    "    ```python\n",
    "    {\n",
    "        \"<instance_id>.<chain_id>\": (\n",
    "            RDKit 2D mol from template SMILES of type `Chem.Mol`,\n",
    "            RDKit mol from template SMILES with random 3D conformer of type `Chem.Mol`,\n",
    "            RDKit mol of solved (holo) ligand structure of type `Chem.Mol`,\n",
    "            paired stacked arrays (template vs holo) mapping atom order by index of type `tuple[NDArray.int_, NDArray.int_]`\n",
    "        )\n",
    "\n",
    "    }\n",
    "    ```\n",
    "- While `protein_atom_array` returns [biotite AtomArray](https://www.biotite-python.org/latest/apidoc/biotite.structure.AtomArray.html) of the receptor protein structure.\n",
    "- `add_ligand_hydrogens` specifies whether to adds hydrogens to ligand\n",
    "- `structure_type`: could be `\"holo\"`, `\"apo\"` or `\"pred\"`"
   ]
  },
  {
   "cell_type": "code",
   "execution_count": 296,
   "metadata": {},
   "outputs": [
    {
     "data": {
      "text/plain": [
       "{'1.C': (<rdkit.Chem.rdchem.Mol at 0x1bd0067a0>,\n",
       "  <rdkit.Chem.rdchem.Mol at 0x1bd005070>,\n",
       "  <rdkit.Chem.rdchem.Mol at 0x1bd006810>,\n",
       "  (array([[13,  4,  5,  7,  9, 10,  1,  0,  3,  6,  8, 12, 11,  2]]),\n",
       "   array([[ 0,  1,  2,  3,  4,  5,  6,  7,  8,  9, 10, 11, 12, 13]])))}"
      ]
     },
     "execution_count": 296,
     "metadata": {},
     "output_type": "execute_result"
    }
   ],
   "source": [
    "# Inspect ligand_mols\n",
    "holo_struc.ligand_mols"
   ]
  },
  {
   "cell_type": "code",
   "execution_count": null,
   "metadata": {},
   "outputs": [],
   "source": [
    "holo_struc.ligand_smiles"
   ]
  },
  {
   "cell_type": "code",
   "execution_count": null,
   "metadata": {},
   "outputs": [],
   "source": [
    "# Inspect protein_atom_araay"
   ]
  },
  {
   "cell_type": "code",
   "execution_count": null,
   "metadata": {},
   "outputs": [],
   "source": [
    "holo_struc.protein_atom_array[0]"
   ]
  },
  {
   "cell_type": "markdown",
   "metadata": {},
   "source": [
    "### List structure protein properties\n",
    "Show protein related properties"
   ]
  },
  {
   "cell_type": "code",
   "execution_count": null,
   "metadata": {},
   "outputs": [],
   "source": [
    "for property in holo_struc.get_properties():\n",
    "    if \"protein\" in property:\n",
    "        print(property)"
   ]
  },
  {
   "cell_type": "markdown",
   "metadata": {},
   "source": [
    "#### Protein backbone mask\n",
    "This is a boolean mask that can be used to select backbone atoms from biotite `AtomArray`. The indices of `True` corresponds to backbone indices."
   ]
  },
  {
   "cell_type": "code",
   "execution_count": null,
   "metadata": {},
   "outputs": [],
   "source": [
    "holo_struc.protein_backbone_mask"
   ]
  },
  {
   "cell_type": "markdown",
   "metadata": {},
   "source": [
    "#### Protein Calpha mask\n",
    "This shows the mask of calpha atoms"
   ]
  },
  {
   "cell_type": "code",
   "execution_count": null,
   "metadata": {},
   "outputs": [],
   "source": [
    "holo_struc.protein_calpha_mask"
   ]
  },
  {
   "cell_type": "markdown",
   "metadata": {},
   "source": [
    "### Get protein chain ordered\n",
    "This gives a list of protein chains ordered by how they are in the structure"
   ]
  },
  {
   "cell_type": "code",
   "execution_count": null,
   "metadata": {},
   "outputs": [],
   "source": [
    "holo_struc.protein_chain_ordered"
   ]
  },
  {
   "cell_type": "markdown",
   "metadata": {},
   "source": [
    "### Get protein chain ordered\n",
    "This gives a list of protein chains ordered by how they are in the structure"
   ]
  },
  {
   "cell_type": "markdown",
   "metadata": {},
   "source": [
    "### Get protein chains for all atoms\n",
    "The list of chain IDs in the structure. Order of how they appear not kept."
   ]
  },
  {
   "cell_type": "code",
   "execution_count": null,
   "metadata": {},
   "outputs": [],
   "source": [
    "holo_struc.protein_chains"
   ]
  },
  {
   "cell_type": "markdown",
   "metadata": {},
   "source": [
    "### Get protein coordinates\n",
    "This property gets the 3D positions of each of the atoms in protein molecules"
   ]
  },
  {
   "cell_type": "code",
   "execution_count": null,
   "metadata": {},
   "outputs": [],
   "source": [
    "holo_struc.protein_coords"
   ]
  },
  {
   "cell_type": "markdown",
   "metadata": {},
   "source": [
    "### Get number of atoms of protein molecule"
   ]
  },
  {
   "cell_type": "code",
   "execution_count": null,
   "metadata": {},
   "outputs": [],
   "source": [
    "holo_struc.protein_n_atoms"
   ]
  },
  {
   "cell_type": "markdown",
   "metadata": {},
   "source": [
    "### Get protein structure atom names\n",
    "Returns all atoms names the same way they appear in the structure"
   ]
  },
  {
   "cell_type": "code",
   "execution_count": null,
   "metadata": {},
   "outputs": [],
   "source": [
    "holo_struc.protein_unique_atom_names"
   ]
  },
  {
   "cell_type": "markdown",
   "metadata": {},
   "source": [
    "### Get protein b-factors\n",
    "Get protein atom occupancies. If not available in a structure, it's set to zero."
   ]
  },
  {
   "cell_type": "code",
   "execution_count": null,
   "metadata": {},
   "outputs": [],
   "source": [
    "holo_struc.protein_structure_b_factor"
   ]
  },
  {
   "cell_type": "markdown",
   "metadata": {},
   "source": [
    "### Get protein residue names"
   ]
  },
  {
   "cell_type": "code",
   "execution_count": null,
   "metadata": {},
   "outputs": [],
   "source": [
    "holo_struc.protein_unique_residue_names"
   ]
  },
  {
   "cell_type": "markdown",
   "metadata": {},
   "source": [
    "### Get protein residues number\n",
    "Residue number as they appear in structure"
   ]
  },
  {
   "cell_type": "code",
   "execution_count": null,
   "metadata": {},
   "outputs": [],
   "source": [
    "holo_struc.protein_unique_residue_ids"
   ]
  },
  {
   "cell_type": "markdown",
   "metadata": {},
   "source": [
    "### Get sequence from protein structure\n"
   ]
  },
  {
   "cell_type": "code",
   "execution_count": null,
   "metadata": {},
   "outputs": [],
   "source": [
    "holo_struc.protein_sequence_from_structure"
   ]
  },
  {
   "cell_type": "code",
   "execution_count": null,
   "metadata": {},
   "outputs": [],
   "source": [
    "holo_struc.protein_sequence"
   ]
  },
  {
   "cell_type": "markdown",
   "metadata": {},
   "source": [
    "### Get tokenized sequence\n",
    "Get tensor of sequence converted to integer-based amino acid token"
   ]
  },
  {
   "cell_type": "code",
   "execution_count": null,
   "metadata": {},
   "outputs": [],
   "source": [
    "holo_struc.protein_structure_tokenized_sequence"
   ]
  },
  {
   "cell_type": "markdown",
   "metadata": {},
   "source": [
    "#### Inspect holo sequences\n",
    "Returns a chain-mapped dictionary of sequences from seqres\n",
    "```python\n",
    "{\n",
    "    \"<instance_id>.<chain_id>\": sequence of type `str`\n",
    "\n",
    "}\n",
    "```"
   ]
  },
  {
   "cell_type": "code",
   "execution_count": null,
   "metadata": {},
   "outputs": [],
   "source": [
    "holo_struc.protein_sequence"
   ]
  },
  {
   "cell_type": "code",
   "execution_count": null,
   "metadata": {},
   "outputs": [],
   "source": [
    "holo_struc.filter(\n",
    "        property=\"atom_name\",\n",
    "        mask=\"CA\",\n",
    "\n",
    "    )"
   ]
  },
  {
   "cell_type": "markdown",
   "metadata": {},
   "source": [
    "### List ligand properties\n",
    "Show ligand related properties"
   ]
  },
  {
   "cell_type": "code",
   "execution_count": null,
   "metadata": {},
   "outputs": [],
   "source": [
    "for property in holo_struc.get_properties():\n",
    "    if \"ligand\" in property:\n",
    "        print(property)"
   ]
  },
  {
   "cell_type": "markdown",
   "metadata": {},
   "source": [
    ":::{todo}\n",
    "\n",
    "The input ligands are provided using dictionaries.\n",
    "These dictionaries contain information for each ligand:\n",
    "- input_ligand_templates: 2D RDKit mols generated from RDKit canonical SMILES (taken from annotation table)\n",
    "- input_ligand_conformers: 3D (random) conformers generated for each input mol\n",
    "- input_ligand_conformers_coords: positional coordintates for 3D conformers\n",
    "- resolved_ligand_mols: RDKit mols of solved (holo) ligand structures\n",
    "- resolved_ligand_mols_coords: positional coordintates for holo ligand structures\n",
    "- ligand_template2resolved_atom_order_stacks: paired stacked arrays (template vs holo) mapping atom order by index\n",
    "- ligand_chain_ordered: ordered list of all ligands by their keys\n",
    "\n",
    ":::"
   ]
  },
  {
   "cell_type": "markdown",
   "metadata": {},
   "source": [
    "### Ligand atom id mapping mapping\n",
    "\n",
    "Unlike the protein sequence - there is no canonical order to ligand atoms in the molecule.\n",
    "It can be further complicated by automorphisms present in the structure due to symmetry, i.e. there is more than one match that is possible between the structures.\n",
    "\n",
    "This is important when calculating ligand structure loss, as the most optimal atom order can change between the different inference results. Typically, it is accepted to take the atom ordering resulting in the best objective score and use that for the loss calculation.\n",
    "\n",
    "Occasionally futher ambiguity arises to to part of the ligand structure being unresolved in the holo structure - this can lead to multiple available matches. We use RascalMCES algorithm from RDKit to provide all the possible matches between the atom order in the input structure (from SMILES) to the resolved holo structure.\n",
    "\n",
    "This is provided as stacks of atom order arrays that reorder the template and holo indices to provide matches. Each stack is a unique order transformation and should be iterated."
   ]
  },
  {
   "cell_type": "markdown",
   "metadata": {},
   "source": [
    "### Ligand conformer to input smiles mapping\n",
    "\n",
    "Each RDKit ligand mol that is generated from SMILES matches the atom order that is in the starting SMILES.\n",
    "This order is retained when 3D conformer is generated.\n",
    "\n",
    "! NOTE: While we ensure that each PLINDER ligand can be loaded and sanitized into RDKit 2D molecule, some ligands may struggle to generate sanitizeable 3D conformers. We nonetheless are trying to provide each ligand with as sensible starting structure as possible and make it accessible via coordinate arrays."
   ]
  },
  {
   "cell_type": "code",
   "execution_count": null,
   "metadata": {},
   "outputs": [],
   "source": [
    "# sample_system_2 = PlinderSystem(\n",
    "#     system_id=\"102m__1__1.A__1.C\",\n",
    "# )\n",
    "# sample_system_2.holo_structure.ligand_mols['1.C'][1]"
   ]
  },
  {
   "cell_type": "code",
   "execution_count": null,
   "metadata": {},
   "outputs": [],
   "source": [
    "holo_struc.ligand_template2resolved_atom_order_stacks"
   ]
  },
  {
   "cell_type": "markdown",
   "metadata": {},
   "source": [
    "Below we use RDKit functionality to draw indixes for `'1.C'` ligand 2D, conformer and holo structures"
   ]
  },
  {
   "cell_type": "code",
   "execution_count": null,
   "metadata": {},
   "outputs": [],
   "source": [
    "from rdkit.Chem.Draw import IPythonConsole\n",
    "IPythonConsole.drawOptions.addAtomIndices = True"
   ]
  },
  {
   "cell_type": "code",
   "execution_count": null,
   "metadata": {},
   "outputs": [],
   "source": [
    "holo_struc.input_ligand_templates[\"1.C\"]"
   ]
  },
  {
   "cell_type": "code",
   "execution_count": null,
   "metadata": {},
   "outputs": [],
   "source": [
    "holo_struc.input_ligand_conformers[\"1.C\"]"
   ]
  },
  {
   "cell_type": "code",
   "execution_count": null,
   "metadata": {},
   "outputs": [],
   "source": [
    "holo_struc.resolved_ligand_mols[\"1.C\"]"
   ]
  },
  {
   "cell_type": "markdown",
   "metadata": {},
   "source": [
    "### Ligand conformer coordinates\n",
    "\n",
    "As you can tell, the input 2D and 3D conformer indices match, but the resolved ligand is different.\n",
    "Thus to perform a correct comparison for their coordinates one should use atom order stacks.\n"
   ]
  },
  {
   "cell_type": "code",
   "execution_count": null,
   "metadata": {},
   "outputs": [],
   "source": [
    "input_atom_order_stack, holo_atom_order_stack = holo_struc.ligand_template2resolved_atom_order_stacks[\"1.C\"]"
   ]
  },
  {
   "cell_type": "code",
   "execution_count": null,
   "metadata": {},
   "outputs": [],
   "source": [
    "holo_struc.resolved_ligand_mols_coords['1.C']"
   ]
  },
  {
   "cell_type": "code",
   "execution_count": null,
   "metadata": {},
   "outputs": [],
   "source": [
    "holo_struc.input_ligand_conformers_coords['1.C'][holo_atom_order_stack]"
   ]
  },
  {
   "cell_type": "markdown",
   "metadata": {},
   "source": [
    "## 2. Interacting with PLINDER systems\n",
    "PlinderSystem is the next layer of abstraction above `Structure`. It provides encapsulation around all structures associated with a particular `system_id`. With these, we can access the `holo` and alternate (`apo` and `pred`) structure."
   ]
  },
  {
   "cell_type": "code",
   "execution_count": null,
   "metadata": {},
   "outputs": [],
   "source": [
    "sample_system = PlinderSystem(\n",
    "    system_id=\"1avd__1__1.A__1.C\",\n",
    ")"
   ]
  },
  {
   "cell_type": "markdown",
   "metadata": {},
   "source": [
    "### Check holo structure\n",
    "Since having `holo` structure is a defining feature of _PLINDER_ system, holo structures is by definition available for all systems "
   ]
  },
  {
   "cell_type": "code",
   "execution_count": null,
   "metadata": {},
   "outputs": [],
   "source": [
    "sample_system.holo_structure"
   ]
  },
  {
   "cell_type": "markdown",
   "metadata": {},
   "source": [
    "### Get annotations \n",
    "This `system` property returns `json` data of annotations for a the system in question. To get the annotations of all other systems sharing the same PDB entry ids, use `.entry` property."
   ]
  },
  {
   "cell_type": "code",
   "execution_count": null,
   "metadata": {},
   "outputs": [],
   "source": [
    "sample_system.system"
   ]
  },
  {
   "cell_type": "markdown",
   "metadata": {},
   "source": [
    "### Get paths of the underlying structure files"
   ]
  },
  {
   "cell_type": "markdown",
   "metadata": {},
   "source": [
    "`archive` points to the subfolder where all the files (except `apo` and `pred` files) relating to a given system are stored"
   ]
  },
  {
   "cell_type": "code",
   "execution_count": null,
   "metadata": {},
   "outputs": [],
   "source": [
    "sample_system.archive"
   ]
  },
  {
   "cell_type": "markdown",
   "metadata": {},
   "source": [
    "Similarly, the  `system.cif`, `receptor.cif`, `receptor.pdb`, `sequence.fasta`, and ligand sdfs can be accessed via `.system_cif`, `.receptor_cif`, `.receptor_pdb`, `.sequence_fasta` and `.ligand_sdf` properties respectively. \n",
    "\n",
    "To get all the paths of the structures together, use `.structures`"
   ]
  },
  {
   "cell_type": "code",
   "execution_count": null,
   "metadata": {},
   "outputs": [],
   "source": [
    "sample_system.structures"
   ]
  },
  {
   "cell_type": "code",
   "execution_count": null,
   "metadata": {},
   "outputs": [],
   "source": [
    "sample_system.system_cif"
   ]
  },
  {
   "cell_type": "markdown",
   "metadata": {},
   "source": [
    "### Get binding site water (`.water_mapping`)\n",
    "This returns the information about binding site water "
   ]
  },
  {
   "cell_type": "code",
   "execution_count": null,
   "metadata": {},
   "outputs": [],
   "source": [
    "sample_system.water_mapping"
   ]
  },
  {
   "cell_type": "markdown",
   "metadata": {},
   "source": [
    "### Chain mapping \n",
    ":::{todo}\n",
    "Confirm with Jay\n",
    ":::\n",
    "\n",
    "`.chain_mapping` maps chain ids in system (`<instance_id>.<asym_id>`) to PDB author chain ids "
   ]
  },
  {
   "cell_type": "code",
   "execution_count": null,
   "metadata": {},
   "outputs": [],
   "source": [
    "sample_system.chain_mapping"
   ]
  },
  {
   "cell_type": "markdown",
   "metadata": {},
   "source": [
    "linked_structures, linked_archive, get_linked_structure \n",
    "linked_archive, linked_structures,  get_linked_structure, alt_structures"
   ]
  },
  {
   "cell_type": "markdown",
   "metadata": {},
   "source": [
    "### Linked apo and predicted structures.\n",
    "The following properties provides different kind of information about linked structures as described below:\n",
    "- `.linked_archive`: returns paths the local subfolder where the linked structures are saved; \n",
    "- `.linked_structures`: returns the dataframe of linked structures along with all their metrics while \n",
    "- `.get_linked_structure`:  gives the path to a specific linked structure.\n",
    "- `.best_linked_structures_paths`: Gives the best linked structures based on `scrmsd_wave` which is average symmetry-corrected RMSD across mapped ligands weighted by number of atoms. This selects maximum of two alternate structure with at most one `apo` and `pred` each when available\n",
    "- `.alt_structures`: returns the dictionary`Structure` object of the best `apo` and `pred` which the corresponding `holo` chain as key"
   ]
  },
  {
   "cell_type": "code",
   "execution_count": null,
   "metadata": {},
   "outputs": [],
   "source": [
    "sample_system.linked_archive"
   ]
  },
  {
   "cell_type": "code",
   "execution_count": null,
   "metadata": {},
   "outputs": [],
   "source": [
    "sample_system.linked_structures\n",
    "# TODO AttributeError: 'PlinderSystem' object has no attribute 'linked_structure'"
   ]
  },
  {
   "cell_type": "code",
   "execution_count": null,
   "metadata": {},
   "outputs": [],
   "source": [
    "sample_system.get_linked_structure(link_kind=\"apo\", link_id='1vyo_B')"
   ]
  },
  {
   "cell_type": "code",
   "execution_count": null,
   "metadata": {},
   "outputs": [],
   "source": [
    "sample_system.alternate_structures"
   ]
  },
  {
   "cell_type": "markdown",
   "metadata": {},
   "source": [
    "### Get `Openstructure` entities and views\n",
    "`.receptor_entity` returns receptor `mol.EntityHandle` object\n",
    "`.ligand_views` returns `mol.ResidueView` for all ligands\n",
    "\n",
    ":::{note}\n",
    "You must have Openstructure installed to use this property\n",
    ":::\n"
   ]
  },
  {
   "cell_type": "markdown",
   "metadata": {},
   "source": [
    "### Others properties\n",
    "This includes:\n",
    "- `num_ligands`: Number of ligand chains\n",
    "- `smiles`: Ligand smiles dictionary\n",
    "- `num_proteins`: Number of protein chains\n"
   ]
  },
  {
   "cell_type": "markdown",
   "metadata": {},
   "source": [
    "## 3. Interacting with the PLINDER dataset\n",
    "`PlinderDataset` provides an interface to interact with _PLINDER_ data as a dataset. It is a subclass of `torch.utils.data.Dataset`, as such subclassing it and extending should be familiar to most users. Flexibility and general applicability is our top concern when designing this interface and `PlinderDataset` allows users to not only define their own split but to also bring their own featurizer.\n",
    "It can be initialized with the following parameters\n",
    "```\n",
    "Parameters\n",
    "    ----------\n",
    "    df : pd.DataFrame | None\n",
    "        the split to use\n",
    "    split : str\n",
    "        the split to sample from\n",
    "    split_parquet_path : str | Path, default=None\n",
    "        split parquet file\n",
    "    input_structure_priority : str, default=\"apo\"\n",
    "        Which alternate structure to proritize\n",
    "    featurizer: Callable[\n",
    "            [Structure, int], dict[str, torch.Tensor]\n",
    "    ] = structure_featurizer,\n",
    "        Transformation to turn structure to input tensors\n",
    "    padding_value : int\n",
    "        Value for padding uneven array\n",
    "    **kwargs : Any\n",
    "        Any other keyword args\n",
    "``` "
   ]
  },
  {
   "cell_type": "code",
   "execution_count": null,
   "metadata": {},
   "outputs": [],
   "source": [
    "from plinder.core.loader import PlinderDataset"
   ]
  },
  {
   "cell_type": "markdown",
   "metadata": {},
   "source": [
    "#### Make _PLINDER_ training dataset with default parameters\n",
    "When no parameter is set, PlinderDataset automatically defaults to the training set of the most current version of the dataset. To change this behaviour, we can explicitly pass a data frame to the parameter `df` or split file to `split_parquet_path`. Either of these must have at least two columns named `system_id` and `split`. This also use our default featurizer `plinder.core.loader.featurizer.featurizer`. \n",
    "NOTE: We have provided this `plinder.core.loader.featurizer.featurizer` as an example featurizer; users are encourage to use featurizers that suit their need."
   ]
  },
  {
   "cell_type": "code",
   "execution_count": null,
   "metadata": {},
   "outputs": [],
   "source": [
    "train_dataset = PlinderDataset(split=\"train\")\n",
    "#train_dataset = PlinderDataset(df=splits_df[splits_df.system_id ==\"6pl9__1__1.A__1.C\"])"
   ]
  },
  {
   "cell_type": "code",
   "execution_count": null,
   "metadata": {},
   "outputs": [],
   "source": [
    "test_data = train_dataset[1]"
   ]
  },
  {
   "cell_type": "markdown",
   "metadata": {},
   "source": [
    "test_data[110]"
   ]
  },
  {
   "cell_type": "markdown",
   "metadata": {},
   "source": [
    "## 4. Loader"
   ]
  },
  {
   "cell_type": "code",
   "execution_count": null,
   "metadata": {},
   "outputs": [],
   "source": [
    "train_loader = get_torch_loader(\n",
    "    train_dataset\n",
    ")"
   ]
  },
  {
   "cell_type": "code",
   "execution_count": null,
   "metadata": {},
   "outputs": [],
   "source": [
    "for data in train_loader:\n",
    "\n",
    "    test_torch = data\n",
    "    break\n",
    "    #for k, v in test_torch['input_features'].items():\n",
    "    #    if v.shape[1] > 1:\n",
    "    #        break"
   ]
  },
  {
   "cell_type": "code",
   "execution_count": null,
   "metadata": {},
   "outputs": [],
   "source": [
    "test_torch.keys()"
   ]
  },
  {
   "cell_type": "code",
   "execution_count": null,
   "metadata": {},
   "outputs": [],
   "source": [
    "test_torch['system_ids']"
   ]
  },
  {
   "cell_type": "code",
   "execution_count": null,
   "metadata": {},
   "outputs": [],
   "source": [
    "for k, v in test_torch['features_and_coords'].items():\n",
    "    print(k, v.shape)"
   ]
  },
  {
   "cell_type": "code",
   "execution_count": null,
   "metadata": {},
   "outputs": [],
   "source": [
    "holo_struc.ligand_mols"
   ]
  },
  {
   "cell_type": "code",
   "execution_count": null,
   "metadata": {},
   "outputs": [],
   "source": [
    "holo_struc.input_ligand_conformer2resolved_stacks"
   ]
  },
  {
   "cell_type": "code",
   "execution_count": null,
   "metadata": {},
   "outputs": [],
   "source": [
    "holo_struc = Structure.load_structure(\n",
    "    id=system_id,\n",
    "    protein_path=protein_structure_path,\n",
    "    protein_sequence=input_sequence_path,\n",
    "    list_ligand_sdf_and_input_smiles=list_ligand_sdf_and_input_smiles\n",
    "\n",
    "    )"
   ]
  },
  {
   "cell_type": "code",
   "execution_count": null,
   "metadata": {},
   "outputs": [],
   "source": [
    "struct = Structure.load_structure(id=\"102m__1__1.A__1.C\",\n",
    "          protein_path=Path(\"/Users/yusuf/.local/share/plinder/2024-06/v2/systems/102m__1__1.A__1.C/receptor.cif\"),\n",
    "          list_ligand_sdf_and_input_smiles=[(Path(\"/Users/yusuf/.local/share/plinder/2024-06/v2/systems/102m__1__1.A__1.C/ligand_files/1.C.sdf\"),\n",
    "          \"C=CC1=C(C)C2=Cc3c(C)c(CCC(=O)O)c4n3[Fe]35<-N6=C(C=c7c(C=C)c(C)c(n73)=CC1=N->52)C(C)=C(CCC(=O)O)C6=C4\")],\n",
    "          protein_sequence=Path(\"/Users/yusuf/.local/share/plinder/2024-06/v2/systems/102m__1__1.A__1.C/sequence.fasta\")\n",
    ")"
   ]
  },
  {
   "cell_type": "code",
   "execution_count": null,
   "metadata": {},
   "outputs": [],
   "source": [
    "struct.input_ligand_conformers"
   ]
  },
  {
   "cell_type": "code",
   "execution_count": null,
   "metadata": {},
   "outputs": [],
   "source": [
    "struct.ligand_mols"
   ]
  },
  {
   "cell_type": "code",
   "execution_count": null,
   "metadata": {},
   "outputs": [],
   "source": []
  }
 ],
 "metadata": {
  "kernelspec": {
   "display_name": "Python 3",
   "language": "python",
   "name": "python3"
  },
  "language_info": {
   "codemirror_mode": {
    "name": "ipython",
    "version": 3
   },
   "file_extension": ".py",
   "mimetype": "text/x-python",
   "name": "python",
   "nbconvert_exporter": "python",
   "pygments_lexer": "ipython3",
   "version": "3.10.14"
  }
 },
 "nbformat": 4,
 "nbformat_minor": 2
}
