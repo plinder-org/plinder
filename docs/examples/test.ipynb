{
 "cells": [
  {
   "cell_type": "code",
   "execution_count": 14,
   "metadata": {},
   "outputs": [
    {
     "name": "stderr",
     "output_type": "stream",
     "text": [
      "2024-09-13 16:32:33,098 | plinder.core.utils.cpl.download_paths:24 | INFO : runtime succeeded: 0.00s\n",
      "2024-09-13 16:32:33,099 | plinder.core.utils.cpl.download_paths:24 | INFO : runtime succeeded: 0.00s\n",
      "2024-09-13 16:32:33,099 | plinder.core.index.utils:146 | INFO : loading entries from 1 zips\n",
      "2024-09-13 16:32:33,332 | plinder.core.index.utils:161 | INFO : loaded 1 entries\n",
      "2024-09-13 16:32:33,333 | plinder.core.index.utils.load_entries:24 | INFO : runtime succeeded: 0.38s\n"
     ]
    },
    {
     "data": {
      "text/plain": [
       "{('220', 'GLY'): ['type:hydrogen_bonds__protisdon:False__sidechain:False',\n",
       "  'type:hydrogen_bonds__protisdon:True__sidechain:False'],\n",
       " ('317', 'ASP'): ['type:hydrogen_bonds__protisdon:False__sidechain:True'],\n",
       " ('261', 'GLY'): ['type:hydrogen_bonds__protisdon:True__sidechain:False'],\n",
       " ('262', 'THR'): ['type:hydrogen_bonds__protisdon:True__sidechain:False'],\n",
       " ('263', 'GLY'): ['type:hydrogen_bonds__protisdon:True__sidechain:False'],\n",
       " ('264', 'LYS'): ['type:hydrogen_bonds__protisdon:True__sidechain:False',\n",
       "  'type:salt_bridges__protispos:True',\n",
       "  'type:salt_bridges__protispos:True'],\n",
       " ('265', 'THR'): ['type:hydrogen_bonds__protisdon:True__sidechain:False',\n",
       "  'type:hydrogen_bonds__protisdon:True__sidechain:True'],\n",
       " ('266', 'LEU'): ['type:hydrogen_bonds__protisdon:True__sidechain:False']}"
      ]
     },
     "execution_count": 14,
     "metadata": {},
     "output_type": "execute_result"
    }
   ],
   "source": [
    "from plinder.core.index.utils import load_entries\n",
    "\n",
    "system_id = \"8dat__1__1.A_1.B__1.L\"\n",
    "pdb_id = \"8dat\"\n",
    "\n",
    "# Load all annotations\n",
    "entry = load_entries(pdb_ids=[pdb_id])\n",
    "\n",
    "# Function to extract residue name\n",
    "def get_residue_types( system_id: str, chain_instance) ->dict[str, tuple[str]]:\n",
    "    pdb_id = system_id.split(\"__\")[0]\n",
    "    mapping = {}\n",
    "    individual_interactions = entry[pdb_id ][\"systems\"][system_id][\"ligands\"]\n",
    "    for interaction_dict in individual_interactions:\n",
    "        for residue_number, list_of_interaction_hash in interaction_dict['interactions'][chain_instance].items():\n",
    "            chain = chain_instance.split(\".\")[-1]\n",
    "            residue_name =  entry[pdb_id]['chains'][chain]['residues'][residue_number]['name']\n",
    "            mapping[(residue_number, residue_name)] = list_of_interaction_hash\n",
    "    return mapping\n",
    "\n",
    "get_residue_types( \"8dat__1__1.A_1.B__1.L\", \"1.A\")"
   ]
  },
  {
   "cell_type": "code",
   "execution_count": 16,
   "metadata": {},
   "outputs": [
    {
     "name": "stderr",
     "output_type": "stream",
     "text": [
      "2024-09-13 16:47:00,876 | plinder.core.utils.cpl.download_paths:24 | INFO : runtime succeeded: 0.00s\n",
      "2024-09-13 16:47:00,877 | plinder.core.utils.cpl.download_paths:24 | INFO : runtime succeeded: 0.00s\n",
      "2024-09-13 16:47:00,877 | plinder.core.index.utils:146 | INFO : loading entries from 1 zips\n",
      "2024-09-13 16:47:00,881 | plinder.core.index.utils:161 | INFO : loaded 1 entries\n",
      "2024-09-13 16:47:00,881 | plinder.core.index.utils.load_entries:24 | INFO : runtime succeeded: 0.18s\n"
     ]
    },
    {
     "name": "stdout",
     "output_type": "stream",
     "text": [
      "{('220', 'GLY'): ['type:hydrogen_bonds__protisdon:False__sidechain:False', 'type:hydrogen_bonds__protisdon:True__sidechain:False'], ('317', 'ASP'): ['type:hydrogen_bonds__protisdon:False__sidechain:True'], ('261', 'GLY'): ['type:hydrogen_bonds__protisdon:True__sidechain:False'], ('262', 'THR'): ['type:hydrogen_bonds__protisdon:True__sidechain:False'], ('263', 'GLY'): ['type:hydrogen_bonds__protisdon:True__sidechain:False'], ('264', 'LYS'): ['type:hydrogen_bonds__protisdon:True__sidechain:False', 'type:salt_bridges__protispos:True', 'type:salt_bridges__protispos:True'], ('265', 'THR'): ['type:hydrogen_bonds__protisdon:True__sidechain:False', 'type:hydrogen_bonds__protisdon:True__sidechain:True'], ('266', 'LEU'): ['type:hydrogen_bonds__protisdon:True__sidechain:False']}\n"
     ]
    }
   ],
   "source": [
    "from plinder.core.index.utils import load_entries\n",
    "\n",
    "system_id = \"8dat__1__1.A_1.B__1.L\"\n",
    "pdb_id = \"8dat\"\n",
    "chain = \"1.A\"\n",
    "\n",
    "# Load all annotations\n",
    "entry = load_entries(pdb_ids=[pdb_id])\n",
    "\n",
    "# Function to extract residue name\n",
    "def get_residue_types( system_id: str, chain_instance) ->dict[tuple[str], list[str]]:\n",
    "    pdb_id = system_id.split(\"__\")[0]\n",
    "    mapping = {}\n",
    "    individual_interactions = entry[pdb_id ][\"systems\"][system_id][\"ligands\"]\n",
    "    for interaction_dict in individual_interactions:\n",
    "        for residue_number, list_of_interaction_hash in interaction_dict['interactions'][chain_instance].items():\n",
    "            chain = chain_instance.split(\".\")[-1]\n",
    "            residue_name =  entry[pdb_id]['chains'][chain]['residues'][residue_number]['name']\n",
    "            mapping[(residue_number, residue_name)] = list_of_interaction_hash\n",
    "    return mapping\n",
    "\n",
    "print(get_residue_types( system_id, chain))"
   ]
  },
  {
   "cell_type": "code",
   "execution_count": 3,
   "metadata": {},
   "outputs": [
    {
     "data": {
      "text/plain": [
       "{'1.A': {'220': ['type:hydrogen_bonds__protisdon:False__sidechain:False',\n",
       "   'type:hydrogen_bonds__protisdon:True__sidechain:False'],\n",
       "  '317': ['type:hydrogen_bonds__protisdon:False__sidechain:True'],\n",
       "  '261': ['type:hydrogen_bonds__protisdon:True__sidechain:False'],\n",
       "  '262': ['type:hydrogen_bonds__protisdon:True__sidechain:False'],\n",
       "  '263': ['type:hydrogen_bonds__protisdon:True__sidechain:False'],\n",
       "  '264': ['type:hydrogen_bonds__protisdon:True__sidechain:False',\n",
       "   'type:salt_bridges__protispos:True',\n",
       "   'type:salt_bridges__protispos:True'],\n",
       "  '265': ['type:hydrogen_bonds__protisdon:True__sidechain:False',\n",
       "   'type:hydrogen_bonds__protisdon:True__sidechain:True'],\n",
       "  '266': ['type:hydrogen_bonds__protisdon:True__sidechain:False']},\n",
       " '1.B': {'372': ['type:salt_bridges__protispos:True']}}"
      ]
     },
     "execution_count": 3,
     "metadata": {},
     "output_type": "execute_result"
    }
   ],
   "source": [
    "entry[\"8dat\"][\"systems\"][\"8dat__1__1.A_1.B__1.L\"][\"ligands\"][0]['interactions']"
   ]
  },
  {
   "cell_type": "code",
   "execution_count": null,
   "metadata": {},
   "outputs": [],
   "source": []
  }
 ],
 "metadata": {
  "kernelspec": {
   "display_name": "Python 3",
   "language": "python",
   "name": "python3"
  },
  "language_info": {
   "codemirror_mode": {
    "name": "ipython",
    "version": 3
   },
   "file_extension": ".py",
   "mimetype": "text/x-python",
   "name": "python",
   "nbconvert_exporter": "python",
   "pygments_lexer": "ipython3",
   "version": "3.10.14"
  }
 },
 "nbformat": 4,
 "nbformat_minor": 2
}
